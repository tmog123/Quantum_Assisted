{
 "cells": [
  {
   "cell_type": "code",
   "execution_count": 1,
   "metadata": {},
   "outputs": [],
   "source": [
    "from qiskit import QuantumCircuit\n",
    "import numpy as np \n",
    "import scipy\n",
    "import pandas as pd\n",
    "from qiskit.circuit import Parameter\n",
    "import qiskit.quantum_info as qi\n",
    "from qiskit import Aer\n",
    "import post_processing as pp\n",
    "import qutip as qtp\n",
    "import random as random\n",
    "import hamiltonian_class_package as hcp \n",
    "from tqdm.notebook import tqdm\n",
    "import pickle\n",
    "import os\n",
    "\n",
    "identity = np.array([(1,0),(0,1)],dtype=np.complex128)\n",
    "sigma_x = np.array([(0,1),(1,0)],dtype=np.complex128)\n",
    "sigma_y = np.array([(0,-1j),(1j,0)],dtype=np.complex128)\n",
    "sigma_z = np.array([(1,0),(0,-1)],dtype=np.complex128)\n",
    "sigmas = [identity, sigma_x, sigma_y,sigma_z]"
   ]
  },
  {
   "cell_type": "code",
   "execution_count": 2,
   "metadata": {},
   "outputs": [],
   "source": [
    "def isToPs(index_string):\n",
    "    '''\n",
    "    converts an index string like \"123\" to the corresponding pauli string: sx otimes sy otimes sz\n",
    "    '''\n",
    "    first_matrix = sigmas[int(index_string[0])]\n",
    "    matrix = first_matrix\n",
    "    for j in index_string[1:]:\n",
    "        matrix = np.kron(matrix, sigmas[int(j)])\n",
    "    return matrix\n",
    "\n",
    "def total_sz_opr(numQubits):\n",
    "    op = isToPs(\"3\" + \"0\"*(numQubits-1))\n",
    "    for i in range(1,numQubits):\n",
    "        indexStr = \"0\"*i +\"3\" + \"0\"*(numQubits-i-1)\n",
    "        # print(indexStr)\n",
    "        op += isToPs(indexStr)\n",
    "    return op\n",
    "\n",
    "\n",
    "# def generate_two_qubit_N_operator(theta):\n",
    "#     hermitian_op = np.kron(sigma_x,sigma_x)\n",
    "#     hermitian_op += np.kron(sigma_y,sigma_y)\n",
    "#     hermitian_op += np.kron(sigma_z,sigma_z)\n",
    "#     hermitian_op *= 1j*theta\n",
    "#     unitary_mat = scipy.linalg.expm(hermitian_op)\n",
    "#     op = qi.Operator(unitary_mat)\n",
    "#     return op\n",
    "\n",
    "def generate_two_qubit_N_operator(theta):\n",
    "    '''\n",
    "    somehow this is diff from the commented out one above lol ohwell\n",
    "\n",
    "    this is from Abol's paper\n",
    "    '''\n",
    "    qc = QuantumCircuit(2, name = \"N({theta})\".format(theta = theta))\n",
    "    qc.rz(np.pi/2,1)\n",
    "    qc.cx(1,0)\n",
    "    qc.rz(2*theta - np.pi/2, 0)\n",
    "    qc.ry(np.pi/2 - 2*theta, 1)\n",
    "    qc.cx(0,1)\n",
    "    qc.ry(2*theta - np.pi/2, 1)\n",
    "    qc.cx(1,0)\n",
    "    qc.rz(-np.pi/2,0)\n",
    "\n",
    "    return qi.Operator(qc)\n",
    "\n",
    "def create_combined_N_circuit(numQubits,params):\n",
    "    '''\n",
    "    numQubits must be an even integer\n",
    "    '''\n",
    "    N_gates_params = params[:numQubits-1]\n",
    "    phase_gate_params = params[numQubits-1:]\n",
    "    qc = QuantumCircuit(numQubits)\n",
    "    layer1 = list(range(0,numQubits,2))\n",
    "    layer2 = list(range(1,numQubits-1,2))\n",
    "    combined = layer1.copy()\n",
    "    combined.extend(layer2)\n",
    "    counter = 0\n",
    "    for i in combined:\n",
    "        theta = N_gates_params[counter]\n",
    "        op = generate_two_qubit_N_operator(theta)\n",
    "        qc.unitary(op,[i,i+1], label=\"N({theta})\".format(theta=theta))\n",
    "        counter += 1\n",
    "    qc.barrier()\n",
    "    for j in range(numQubits):\n",
    "        phi = phase_gate_params[j]\n",
    "        qc.p(phi,j)\n",
    "    return qc \n",
    "\n",
    "def circuitToSampleFrom(numQubits, sz, params):\n",
    "    qc = QuantumCircuit(numQubits)\n",
    "    numOnes = int(0.5*(numQubits-sz))\n",
    "    # for i in range(numOnes):\n",
    "    #     qc.x(i)\n",
    "\n",
    "    #everytime this is run, choose diff starting state\n",
    "    for i in random.sample(range(numQubits), numOnes):\n",
    "        qc.x(i)\n",
    "    qc.barrier()\n",
    "    toAppend = create_combined_N_circuit(numQubits, params)\n",
    "    to_return = qc.compose(toAppend)\n",
    "    qc.draw()\n",
    "    return to_return\n",
    "\n",
    "\n",
    "def generate_n_random_states(numQubits, sz, numStates):\n",
    "    rng = np.random.default_rng(seed=100) \n",
    "    states = []\n",
    "    for i in range(numStates):\n",
    "        params = rng.uniform(0,2*np.pi,2*numQubits-1)\n",
    "        circuit = circuitToSampleFrom(numQubits, sz, params)\n",
    "        backend = Aer.get_backend(\"statevector_simulator\")\n",
    "        job = backend.run(circuit)\n",
    "        result = job.result()\n",
    "        outputstate = result.get_statevector(circuit)\n",
    "        outputstate = np.array(outputstate)\n",
    "        states.append(outputstate)\n",
    "        # total_sz = total_sz_opr(numQubits)\n",
    "        # # print(result.get_statevector(circuit, decimals =4))\n",
    "        # print(outputstate.conj().T@total_sz@outputstate)\n",
    "    return states\n",
    "\n",
    "def generate_XXZ_hamiltonian(num_qubits, delta):\n",
    "    #epsilon = 0.5\n",
    "    if num_qubits == 1:\n",
    "        raise(RuntimeError('Cannot generate Hamiltonian with 1 qubit'))\n",
    "    else:\n",
    "        hamiltonian = hcp.heisenberg_xyz_model(num_qubits, jx = 1, jy = 1, jz = delta)\n",
    "    return hamiltonian\n",
    "\n",
    "def generate_bulk_dephasing(num_qubits):\n",
    "    gammas = []\n",
    "    L_terms = []\n",
    "    if num_qubits == 1:\n",
    "        raise(RuntimeError(\"One qubit case not considered\"))\n",
    "    else:\n",
    "        for i in range(num_qubits):\n",
    "            pauli_string_deconstructed = [\"0\"]*num_qubits\n",
    "            pauli_string_deconstructed[i] = \"3\"\n",
    "            pauli_string_str = \"\".join(pauli_string_deconstructed)\n",
    "            L_i = hcp.generate_arbitary_hamiltonian(num_qubits, [1], [pauli_string_str])\n",
    "            # print(L_i.to_matrixform())\n",
    "            gammas.append(1)\n",
    "            L_terms.append(L_i)\n",
    "    return (gammas, L_terms)\n",
    "\n",
    "def generate_total_magnetisation_matform(num_qubits):\n",
    "    def make_sigma_z_string(i):\n",
    "        pauli_string_deconstructed = [\"0\"]*num_qubits\n",
    "        pauli_string_deconstructed[i] = \"3\"\n",
    "        pauli_string_str = \"\".join(pauli_string_deconstructed)\n",
    "        return pauli_string_str\n",
    "    p_strings = [make_sigma_z_string(i) for i in range(num_qubits)]\n",
    "    betas = [1 for i in range(num_qubits)]\n",
    "    M = hcp.generate_arbitary_hamiltonian(num_qubits, betas, p_strings)\n",
    "    return M.to_matrixform()\n",
    "\n",
    "def evaluate_rho_dot(rho, hamiltonian_mat, gammas, L_terms, L_dag_L_terms):\n",
    "    coherent_evo = -1j * (hamiltonian_mat @ rho - rho @ hamiltonian_mat)\n",
    "    quantum_jumps_total = 0 + 0*1j\n",
    "    for i in range(len(gammas)):\n",
    "        gamma_i = gammas[i]\n",
    "        L_i_mat = L_terms[i]\n",
    "        L_i_dag_L_i = L_dag_L_terms[i]\n",
    "        anti_commutator = L_i_dag_L_i @ rho + rho @ L_i_dag_L_i\n",
    "        jump_term = L_i_mat @ rho @ L_i_mat.conj().T\n",
    "        quantum_jumps_total += gamma_i * (jump_term - 0.5*anti_commutator)\n",
    "    return coherent_evo + quantum_jumps_total\n",
    "\n",
    "\n",
    "dir_name = \"abolCircuitPickedObjs\"\n",
    "if not os.path.exists(dir_name):\n",
    "    os.mkdir(dir_name)\n",
    "\n",
    "def save_obj(obj, name):\n",
    "    #name is a string\n",
    "    with open(dir_name +'/' + name + '.pkl', 'wb') as f:\n",
    "        pickle.dump(obj, f, pickle.HIGHEST_PROTOCOL)\n",
    "\n",
    "def load_obj(name):\n",
    "    #name is a string\n",
    "    with open(dir_name +'/' + name + '.pkl', 'rb') as f:\n",
    "        return pickle.load(f)"
   ]
  },
  {
   "cell_type": "code",
   "execution_count": 3,
   "metadata": {},
   "outputs": [],
   "source": [
    "def symmetrySubspaceDim(numQubits, sz):\n",
    "    M_matform = generate_total_magnetisation_matform(numQubits)\n",
    "    M_eigvals, M_eigvecs = scipy.linalg.eigh(M_matform)\n",
    "\n",
    "    projector_indices = np.where(M_eigvals==sz)[0]\n",
    "    projector = M_eigvecs[:,projector_indices] #fancy indexing\n",
    "\n",
    "    maximally_mixed_state = np.eye(len(projector_indices)) * 1/len(projector_indices)\n",
    "    print(\"dimension of symmetry subspace is\", len(projector_indices))\n",
    "\n",
    "    return "
   ]
  },
  {
   "cell_type": "code",
   "execution_count": 6,
   "metadata": {},
   "outputs": [
    {
     "data": {
      "application/vnd.jupyter.widget-view+json": {
       "model_id": "fd54dd8c22004e0ca311d5db7c41e0f6",
       "version_major": 2,
       "version_minor": 0
      },
      "text/plain": [
       "  0%|          | 0/1 [00:00<?, ?it/s]"
      ]
     },
     "metadata": {},
     "output_type": "display_data"
    },
    {
     "name": "stdout",
     "output_type": "stream",
     "text": [
      "16\n",
      "Feasibility SDP is set up with hard equality constraints\n",
      "dimension of symmetry subspace is 1\n",
      "tr(M*rho)= (3.9999999999999996+0j)\n",
      "fidelity to the theoretical steady state is 0.9999999999999998\n"
     ]
    },
    {
     "data": {
      "application/vnd.jupyter.widget-view+json": {
       "model_id": "97f52c574db4485eb100af26aa6b3418",
       "version_major": 2,
       "version_minor": 0
      },
      "text/plain": [
       "  0%|          | 0/1 [00:00<?, ?it/s]"
      ]
     },
     "metadata": {},
     "output_type": "display_data"
    },
    {
     "name": "stdout",
     "output_type": "stream",
     "text": [
      "16\n",
      "Feasibility SDP is set up with hard equality constraints\n",
      "dimension of symmetry subspace is 1\n",
      "tr(M*rho)= (3.9999999999999996+0j)\n",
      "fidelity to the theoretical steady state is 0.9999999999999998\n"
     ]
    },
    {
     "data": {
      "application/vnd.jupyter.widget-view+json": {
       "model_id": "eec46913c25748cf8b61929c03c17360",
       "version_major": 2,
       "version_minor": 0
      },
      "text/plain": [
       "  0%|          | 0/1 [00:00<?, ?it/s]"
      ]
     },
     "metadata": {},
     "output_type": "display_data"
    },
    {
     "name": "stdout",
     "output_type": "stream",
     "text": [
      "16\n",
      "Feasibility SDP is set up with hard equality constraints\n",
      "dimension of symmetry subspace is 1\n",
      "tr(M*rho)= (3.9999999999999996+0j)\n",
      "fidelity to the theoretical steady state is 0.9999999999999998\n"
     ]
    },
    {
     "data": {
      "application/vnd.jupyter.widget-view+json": {
       "model_id": "00150413074747dc9c2e0e4e27a48368",
       "version_major": 2,
       "version_minor": 0
      },
      "text/plain": [
       "  0%|          | 0/1 [00:00<?, ?it/s]"
      ]
     },
     "metadata": {},
     "output_type": "display_data"
    },
    {
     "name": "stdout",
     "output_type": "stream",
     "text": [
      "16\n",
      "Feasibility SDP is set up with hard equality constraints\n",
      "dimension of symmetry subspace is 1\n",
      "tr(M*rho)= (3.9999999999999996+0j)\n",
      "fidelity to the theoretical steady state is 0.9999999999999998\n"
     ]
    },
    {
     "data": {
      "application/vnd.jupyter.widget-view+json": {
       "model_id": "8669bd98399f40e5b7e5963feb10881d",
       "version_major": 2,
       "version_minor": 0
      },
      "text/plain": [
       "  0%|          | 0/1 [00:00<?, ?it/s]"
      ]
     },
     "metadata": {},
     "output_type": "display_data"
    },
    {
     "name": "stdout",
     "output_type": "stream",
     "text": [
      "16\n",
      "Feasibility SDP is set up with hard equality constraints\n",
      "dimension of symmetry subspace is 1\n",
      "tr(M*rho)= (3.9999999999999996+0j)\n",
      "fidelity to the theoretical steady state is 0.9999999999999998\n"
     ]
    },
    {
     "data": {
      "application/vnd.jupyter.widget-view+json": {
       "model_id": "7e4faa5c02b14c53b715541d7e1ea1d3",
       "version_major": 2,
       "version_minor": 0
      },
      "text/plain": [
       "  0%|          | 0/1 [00:00<?, ?it/s]"
      ]
     },
     "metadata": {},
     "output_type": "display_data"
    },
    {
     "name": "stdout",
     "output_type": "stream",
     "text": [
      "16\n",
      "Feasibility SDP is set up with hard equality constraints\n",
      "dimension of symmetry subspace is 1\n",
      "tr(M*rho)= (3.9999999999999996+0j)\n",
      "fidelity to the theoretical steady state is 0.9999999999999998\n"
     ]
    },
    {
     "data": {
      "application/vnd.jupyter.widget-view+json": {
       "model_id": "d58209de818f42b6ad3bfddfb11dc849",
       "version_major": 2,
       "version_minor": 0
      },
      "text/plain": [
       "  0%|          | 0/1 [00:00<?, ?it/s]"
      ]
     },
     "metadata": {},
     "output_type": "display_data"
    },
    {
     "name": "stdout",
     "output_type": "stream",
     "text": [
      "16\n",
      "Feasibility SDP is set up with hard equality constraints\n",
      "dimension of symmetry subspace is 1\n",
      "tr(M*rho)= (3.9999999999999996+0j)\n",
      "fidelity to the theoretical steady state is 0.9999999999999998\n"
     ]
    },
    {
     "data": {
      "application/vnd.jupyter.widget-view+json": {
       "model_id": "a7721bb507364955a63ed06cc68f82a6",
       "version_major": 2,
       "version_minor": 0
      },
      "text/plain": [
       "  0%|          | 0/1 [00:00<?, ?it/s]"
      ]
     },
     "metadata": {},
     "output_type": "display_data"
    },
    {
     "name": "stdout",
     "output_type": "stream",
     "text": [
      "16\n",
      "Feasibility SDP is set up with hard equality constraints\n",
      "dimension of symmetry subspace is 1\n",
      "tr(M*rho)= (3.9999999999999996+0j)\n",
      "fidelity to the theoretical steady state is 0.9999999999999998\n"
     ]
    },
    {
     "data": {
      "application/vnd.jupyter.widget-view+json": {
       "model_id": "233fd24b7f4f4edbafcd11bf97be5570",
       "version_major": 2,
       "version_minor": 0
      },
      "text/plain": [
       "  0%|          | 0/1 [00:00<?, ?it/s]"
      ]
     },
     "metadata": {},
     "output_type": "display_data"
    },
    {
     "name": "stdout",
     "output_type": "stream",
     "text": [
      "16\n",
      "Feasibility SDP is set up with hard equality constraints\n",
      "dimension of symmetry subspace is 1\n",
      "tr(M*rho)= (3.9999999999999996+0j)\n",
      "fidelity to the theoretical steady state is 0.9999999999999998\n"
     ]
    },
    {
     "data": {
      "application/vnd.jupyter.widget-view+json": {
       "model_id": "03a5f462a5b84e40a30a46f25c595b54",
       "version_major": 2,
       "version_minor": 0
      },
      "text/plain": [
       "  0%|          | 0/1 [00:00<?, ?it/s]"
      ]
     },
     "metadata": {},
     "output_type": "display_data"
    },
    {
     "name": "stdout",
     "output_type": "stream",
     "text": [
      "16\n",
      "Feasibility SDP is set up with hard equality constraints\n",
      "dimension of symmetry subspace is 1\n",
      "tr(M*rho)= (3.9999999999999996+0j)\n",
      "fidelity to the theoretical steady state is 0.9999999999999998\n"
     ]
    },
    {
     "data": {
      "application/vnd.jupyter.widget-view+json": {
       "model_id": "177fe69d48b2474faaf692938d2f9929",
       "version_major": 2,
       "version_minor": 0
      },
      "text/plain": [
       "  0%|          | 0/1 [00:00<?, ?it/s]"
      ]
     },
     "metadata": {},
     "output_type": "display_data"
    },
    {
     "name": "stdout",
     "output_type": "stream",
     "text": [
      "16\n",
      "Feasibility SDP is set up with hard equality constraints\n",
      "dimension of symmetry subspace is 1\n",
      "tr(M*rho)= (3.9999999999999996+0j)\n",
      "fidelity to the theoretical steady state is 0.9999999999999998\n"
     ]
    },
    {
     "data": {
      "application/vnd.jupyter.widget-view+json": {
       "model_id": "b08cd3659bc34892a344ed1dbf0ffd0b",
       "version_major": 2,
       "version_minor": 0
      },
      "text/plain": [
       "  0%|          | 0/1 [00:00<?, ?it/s]"
      ]
     },
     "metadata": {},
     "output_type": "display_data"
    },
    {
     "name": "stdout",
     "output_type": "stream",
     "text": [
      "16\n",
      "Feasibility SDP is set up with hard equality constraints\n",
      "dimension of symmetry subspace is 1\n",
      "tr(M*rho)= (3.9999999999999996+0j)\n",
      "fidelity to the theoretical steady state is 0.9999999999999998\n"
     ]
    },
    {
     "data": {
      "application/vnd.jupyter.widget-view+json": {
       "model_id": "28b6ae168c7844cd9d3d6548411d9df0",
       "version_major": 2,
       "version_minor": 0
      },
      "text/plain": [
       "  0%|          | 0/1 [00:00<?, ?it/s]"
      ]
     },
     "metadata": {},
     "output_type": "display_data"
    },
    {
     "name": "stdout",
     "output_type": "stream",
     "text": [
      "16\n",
      "Feasibility SDP is set up with hard equality constraints\n",
      "dimension of symmetry subspace is 1\n",
      "tr(M*rho)= (3.9999999999999996+0j)\n",
      "fidelity to the theoretical steady state is 0.9999999999999998\n"
     ]
    },
    {
     "data": {
      "application/vnd.jupyter.widget-view+json": {
       "model_id": "a448dcd587e045768575d2cbb8468d91",
       "version_major": 2,
       "version_minor": 0
      },
      "text/plain": [
       "  0%|          | 0/1 [00:00<?, ?it/s]"
      ]
     },
     "metadata": {},
     "output_type": "display_data"
    },
    {
     "name": "stdout",
     "output_type": "stream",
     "text": [
      "16\n",
      "Feasibility SDP is set up with hard equality constraints\n",
      "dimension of symmetry subspace is 1\n",
      "tr(M*rho)= (3.9999999999999996+0j)\n",
      "fidelity to the theoretical steady state is 0.9999999999999998\n"
     ]
    },
    {
     "data": {
      "application/vnd.jupyter.widget-view+json": {
       "model_id": "25de58cccd7b4d4dbf0d1561f2e06dae",
       "version_major": 2,
       "version_minor": 0
      },
      "text/plain": [
       "  0%|          | 0/1 [00:00<?, ?it/s]"
      ]
     },
     "metadata": {},
     "output_type": "display_data"
    },
    {
     "name": "stdout",
     "output_type": "stream",
     "text": [
      "16\n",
      "Feasibility SDP is set up with hard equality constraints\n",
      "dimension of symmetry subspace is 1\n",
      "tr(M*rho)= (3.9999999999999996+0j)\n",
      "fidelity to the theoretical steady state is 0.9999999999999998\n"
     ]
    },
    {
     "data": {
      "application/vnd.jupyter.widget-view+json": {
       "model_id": "bee2add9647d4bc6b99cfb7632bafd53",
       "version_major": 2,
       "version_minor": 0
      },
      "text/plain": [
       "  0%|          | 0/1 [00:00<?, ?it/s]"
      ]
     },
     "metadata": {},
     "output_type": "display_data"
    },
    {
     "name": "stdout",
     "output_type": "stream",
     "text": [
      "16\n",
      "Feasibility SDP is set up with hard equality constraints\n",
      "dimension of symmetry subspace is 1\n",
      "tr(M*rho)= (3.9999999999999996+0j)\n",
      "fidelity to the theoretical steady state is 0.9999999999999998\n"
     ]
    },
    {
     "data": {
      "application/vnd.jupyter.widget-view+json": {
       "model_id": "b243b53b7ae84c74b0e8eb50c239d4b4",
       "version_major": 2,
       "version_minor": 0
      },
      "text/plain": [
       "  0%|          | 0/1 [00:00<?, ?it/s]"
      ]
     },
     "metadata": {},
     "output_type": "display_data"
    },
    {
     "name": "stdout",
     "output_type": "stream",
     "text": [
      "16\n",
      "Feasibility SDP is set up with hard equality constraints\n",
      "dimension of symmetry subspace is 1\n",
      "tr(M*rho)= (3.9999999999999996+0j)\n",
      "fidelity to the theoretical steady state is 0.9999999999999998\n"
     ]
    },
    {
     "data": {
      "application/vnd.jupyter.widget-view+json": {
       "model_id": "dc5426c1c3bc4a63b894e86aea1d0ab1",
       "version_major": 2,
       "version_minor": 0
      },
      "text/plain": [
       "  0%|          | 0/1 [00:00<?, ?it/s]"
      ]
     },
     "metadata": {},
     "output_type": "display_data"
    },
    {
     "name": "stdout",
     "output_type": "stream",
     "text": [
      "16\n",
      "Feasibility SDP is set up with hard equality constraints\n",
      "dimension of symmetry subspace is 1\n",
      "tr(M*rho)= (3.9999999999999996+0j)\n",
      "fidelity to the theoretical steady state is 0.9999999999999998\n"
     ]
    },
    {
     "data": {
      "application/vnd.jupyter.widget-view+json": {
       "model_id": "2e30e03553234cc789b254537b49eb68",
       "version_major": 2,
       "version_minor": 0
      },
      "text/plain": [
       "  0%|          | 0/1 [00:00<?, ?it/s]"
      ]
     },
     "metadata": {},
     "output_type": "display_data"
    },
    {
     "name": "stdout",
     "output_type": "stream",
     "text": [
      "16\n",
      "Feasibility SDP is set up with hard equality constraints\n",
      "dimension of symmetry subspace is 1\n",
      "tr(M*rho)= (3.9999999999999996+0j)\n",
      "fidelity to the theoretical steady state is 0.9999999999999998\n"
     ]
    },
    {
     "data": {
      "application/vnd.jupyter.widget-view+json": {
       "model_id": "508e47398e3d48018773bf9ce0eba763",
       "version_major": 2,
       "version_minor": 0
      },
      "text/plain": [
       "  0%|          | 0/1 [00:00<?, ?it/s]"
      ]
     },
     "metadata": {},
     "output_type": "display_data"
    },
    {
     "name": "stdout",
     "output_type": "stream",
     "text": [
      "16\n",
      "Feasibility SDP is set up with hard equality constraints\n",
      "dimension of symmetry subspace is 1\n",
      "tr(M*rho)= (3.9999999999999996+0j)\n",
      "fidelity to the theoretical steady state is 0.9999999999999998\n"
     ]
    },
    {
     "data": {
      "application/vnd.jupyter.widget-view+json": {
       "model_id": "a519c38437674fc2b144f1494431cce2",
       "version_major": 2,
       "version_minor": 0
      },
      "text/plain": [
       "  0%|          | 0/1 [00:00<?, ?it/s]"
      ]
     },
     "metadata": {},
     "output_type": "display_data"
    },
    {
     "name": "stdout",
     "output_type": "stream",
     "text": [
      "16\n",
      "Feasibility SDP is set up with hard equality constraints\n",
      "dimension of symmetry subspace is 1\n",
      "tr(M*rho)= (3.9999999999999996+0j)\n",
      "fidelity to the theoretical steady state is 0.9999999999999998\n"
     ]
    },
    {
     "data": {
      "application/vnd.jupyter.widget-view+json": {
       "model_id": "e771b47b663241bc885588618dda50b9",
       "version_major": 2,
       "version_minor": 0
      },
      "text/plain": [
       "  0%|          | 0/1 [00:00<?, ?it/s]"
      ]
     },
     "metadata": {},
     "output_type": "display_data"
    },
    {
     "name": "stdout",
     "output_type": "stream",
     "text": [
      "16\n",
      "Feasibility SDP is set up with hard equality constraints\n",
      "dimension of symmetry subspace is 1\n",
      "tr(M*rho)= (3.9999999999999996+0j)\n",
      "fidelity to the theoretical steady state is 0.9999999999999998\n"
     ]
    },
    {
     "data": {
      "application/vnd.jupyter.widget-view+json": {
       "model_id": "0757c676d6ed409e8d0c631ecf3142a9",
       "version_major": 2,
       "version_minor": 0
      },
      "text/plain": [
       "  0%|          | 0/1 [00:00<?, ?it/s]"
      ]
     },
     "metadata": {},
     "output_type": "display_data"
    },
    {
     "name": "stdout",
     "output_type": "stream",
     "text": [
      "16\n",
      "Feasibility SDP is set up with hard equality constraints\n",
      "dimension of symmetry subspace is 1\n",
      "tr(M*rho)= (3.9999999999999996+0j)\n",
      "fidelity to the theoretical steady state is 0.9999999999999998\n"
     ]
    },
    {
     "data": {
      "application/vnd.jupyter.widget-view+json": {
       "model_id": "45991ff3ebd54024badeb924b1b2fb00",
       "version_major": 2,
       "version_minor": 0
      },
      "text/plain": [
       "  0%|          | 0/1 [00:00<?, ?it/s]"
      ]
     },
     "metadata": {},
     "output_type": "display_data"
    },
    {
     "name": "stdout",
     "output_type": "stream",
     "text": [
      "16\n",
      "Feasibility SDP is set up with hard equality constraints\n",
      "dimension of symmetry subspace is 1\n",
      "tr(M*rho)= (3.9999999999999996+0j)\n",
      "fidelity to the theoretical steady state is 0.9999999999999998\n"
     ]
    },
    {
     "data": {
      "application/vnd.jupyter.widget-view+json": {
       "model_id": "c815bf2618ff46ef822ed4874624e494",
       "version_major": 2,
       "version_minor": 0
      },
      "text/plain": [
       "  0%|          | 0/1 [00:00<?, ?it/s]"
      ]
     },
     "metadata": {},
     "output_type": "display_data"
    },
    {
     "name": "stdout",
     "output_type": "stream",
     "text": [
      "16\n",
      "Feasibility SDP is set up with hard equality constraints\n",
      "dimension of symmetry subspace is 1\n",
      "tr(M*rho)= (3.9999999999999996+0j)\n",
      "fidelity to the theoretical steady state is 0.9999999999999998\n"
     ]
    },
    {
     "data": {
      "application/vnd.jupyter.widget-view+json": {
       "model_id": "71e029b535214873841abf19732cab7a",
       "version_major": 2,
       "version_minor": 0
      },
      "text/plain": [
       "  0%|          | 0/1 [00:00<?, ?it/s]"
      ]
     },
     "metadata": {},
     "output_type": "display_data"
    },
    {
     "name": "stdout",
     "output_type": "stream",
     "text": [
      "16\n",
      "Feasibility SDP is set up with hard equality constraints\n",
      "dimension of symmetry subspace is 1\n",
      "tr(M*rho)= (3.9999999999999996+0j)\n",
      "fidelity to the theoretical steady state is 0.9999999999999998\n"
     ]
    },
    {
     "data": {
      "application/vnd.jupyter.widget-view+json": {
       "model_id": "6470388ba7a94b2b9a677e583b17d803",
       "version_major": 2,
       "version_minor": 0
      },
      "text/plain": [
       "  0%|          | 0/1 [00:00<?, ?it/s]"
      ]
     },
     "metadata": {},
     "output_type": "display_data"
    },
    {
     "name": "stdout",
     "output_type": "stream",
     "text": [
      "16\n",
      "Feasibility SDP is set up with hard equality constraints\n",
      "dimension of symmetry subspace is 1\n",
      "tr(M*rho)= (3.9999999999999996+0j)\n",
      "fidelity to the theoretical steady state is 0.9999999999999998\n"
     ]
    },
    {
     "data": {
      "application/vnd.jupyter.widget-view+json": {
       "model_id": "fdaec92174bc43b2ba90dcf4989f0d73",
       "version_major": 2,
       "version_minor": 0
      },
      "text/plain": [
       "  0%|          | 0/1 [00:00<?, ?it/s]"
      ]
     },
     "metadata": {},
     "output_type": "display_data"
    },
    {
     "name": "stdout",
     "output_type": "stream",
     "text": [
      "16\n",
      "Feasibility SDP is set up with hard equality constraints\n",
      "dimension of symmetry subspace is 1\n",
      "tr(M*rho)= (3.9999999999999996+0j)\n",
      "fidelity to the theoretical steady state is 0.9999999999999998\n"
     ]
    },
    {
     "data": {
      "application/vnd.jupyter.widget-view+json": {
       "model_id": "e121de4ba8624c18bcaaedb6e8a703c1",
       "version_major": 2,
       "version_minor": 0
      },
      "text/plain": [
       "  0%|          | 0/1 [00:00<?, ?it/s]"
      ]
     },
     "metadata": {},
     "output_type": "display_data"
    },
    {
     "name": "stdout",
     "output_type": "stream",
     "text": [
      "16\n",
      "Feasibility SDP is set up with hard equality constraints\n",
      "dimension of symmetry subspace is 1\n",
      "tr(M*rho)= (3.9999999999999996+0j)\n",
      "fidelity to the theoretical steady state is 0.9999999999999998\n"
     ]
    },
    {
     "data": {
      "application/vnd.jupyter.widget-view+json": {
       "model_id": "1870ceb1155d46a7a5ca9e95208743b9",
       "version_major": 2,
       "version_minor": 0
      },
      "text/plain": [
       "  0%|          | 0/1 [00:00<?, ?it/s]"
      ]
     },
     "metadata": {},
     "output_type": "display_data"
    },
    {
     "name": "stdout",
     "output_type": "stream",
     "text": [
      "16\n",
      "Feasibility SDP is set up with hard equality constraints\n",
      "dimension of symmetry subspace is 1\n",
      "tr(M*rho)= (3.9999999999999996+0j)\n",
      "fidelity to the theoretical steady state is 0.9999999999999998\n"
     ]
    },
    {
     "data": {
      "application/vnd.jupyter.widget-view+json": {
       "model_id": "3ebb61da5b79467a9b42735666142e4d",
       "version_major": 2,
       "version_minor": 0
      },
      "text/plain": [
       "  0%|          | 0/1 [00:00<?, ?it/s]"
      ]
     },
     "metadata": {},
     "output_type": "display_data"
    },
    {
     "name": "stdout",
     "output_type": "stream",
     "text": [
      "16\n",
      "Feasibility SDP is set up with hard equality constraints\n",
      "dimension of symmetry subspace is 1\n",
      "tr(M*rho)= (3.9999999999999996+0j)\n",
      "fidelity to the theoretical steady state is 0.9999999999999998\n"
     ]
    },
    {
     "data": {
      "application/vnd.jupyter.widget-view+json": {
       "model_id": "d8a19b64844d4e708b3b920834ead095",
       "version_major": 2,
       "version_minor": 0
      },
      "text/plain": [
       "  0%|          | 0/1 [00:00<?, ?it/s]"
      ]
     },
     "metadata": {},
     "output_type": "display_data"
    },
    {
     "name": "stdout",
     "output_type": "stream",
     "text": [
      "16\n",
      "Feasibility SDP is set up with hard equality constraints\n",
      "dimension of symmetry subspace is 1\n",
      "tr(M*rho)= (3.9999999999999996+0j)\n",
      "fidelity to the theoretical steady state is 0.9999999999999998\n"
     ]
    },
    {
     "data": {
      "application/vnd.jupyter.widget-view+json": {
       "model_id": "94350f5091d64e08ac93302356c83297",
       "version_major": 2,
       "version_minor": 0
      },
      "text/plain": [
       "  0%|          | 0/1 [00:00<?, ?it/s]"
      ]
     },
     "metadata": {},
     "output_type": "display_data"
    },
    {
     "name": "stdout",
     "output_type": "stream",
     "text": [
      "16\n",
      "Feasibility SDP is set up with hard equality constraints\n",
      "dimension of symmetry subspace is 1\n",
      "tr(M*rho)= (3.9999999999999996+0j)\n",
      "fidelity to the theoretical steady state is 0.9999999999999998\n"
     ]
    },
    {
     "data": {
      "application/vnd.jupyter.widget-view+json": {
       "model_id": "eee2678858c6402ea9571e4281f7a1b5",
       "version_major": 2,
       "version_minor": 0
      },
      "text/plain": [
       "  0%|          | 0/1 [00:00<?, ?it/s]"
      ]
     },
     "metadata": {},
     "output_type": "display_data"
    },
    {
     "name": "stdout",
     "output_type": "stream",
     "text": [
      "16\n",
      "Feasibility SDP is set up with hard equality constraints\n",
      "dimension of symmetry subspace is 1\n",
      "tr(M*rho)= (3.9999999999999996+0j)\n",
      "fidelity to the theoretical steady state is 0.9999999999999998\n"
     ]
    },
    {
     "data": {
      "application/vnd.jupyter.widget-view+json": {
       "model_id": "49813b64bd184db0a552dfd4a76d552b",
       "version_major": 2,
       "version_minor": 0
      },
      "text/plain": [
       "  0%|          | 0/1 [00:00<?, ?it/s]"
      ]
     },
     "metadata": {},
     "output_type": "display_data"
    },
    {
     "name": "stdout",
     "output_type": "stream",
     "text": [
      "16\n",
      "Feasibility SDP is set up with hard equality constraints\n",
      "dimension of symmetry subspace is 1\n",
      "tr(M*rho)= (3.9999999999999996+0j)\n",
      "fidelity to the theoretical steady state is 0.9999999999999998\n"
     ]
    },
    {
     "data": {
      "application/vnd.jupyter.widget-view+json": {
       "model_id": "7db8d9c71aa44331a03b4ad57ab43713",
       "version_major": 2,
       "version_minor": 0
      },
      "text/plain": [
       "  0%|          | 0/1 [00:00<?, ?it/s]"
      ]
     },
     "metadata": {},
     "output_type": "display_data"
    },
    {
     "name": "stdout",
     "output_type": "stream",
     "text": [
      "16\n",
      "Feasibility SDP is set up with hard equality constraints\n",
      "dimension of symmetry subspace is 1\n",
      "tr(M*rho)= (3.9999999999999996+0j)\n",
      "fidelity to the theoretical steady state is 0.9999999999999998\n"
     ]
    },
    {
     "data": {
      "application/vnd.jupyter.widget-view+json": {
       "model_id": "f89a006d674247dfba87c308379e12c9",
       "version_major": 2,
       "version_minor": 0
      },
      "text/plain": [
       "  0%|          | 0/1 [00:00<?, ?it/s]"
      ]
     },
     "metadata": {},
     "output_type": "display_data"
    },
    {
     "name": "stdout",
     "output_type": "stream",
     "text": [
      "16\n",
      "Feasibility SDP is set up with hard equality constraints\n",
      "dimension of symmetry subspace is 1\n",
      "tr(M*rho)= (3.9999999999999996+0j)\n",
      "fidelity to the theoretical steady state is 0.9999999999999998\n"
     ]
    },
    {
     "data": {
      "application/vnd.jupyter.widget-view+json": {
       "model_id": "a859d439900f47efa98a9fce089eeae1",
       "version_major": 2,
       "version_minor": 0
      },
      "text/plain": [
       "  0%|          | 0/1 [00:00<?, ?it/s]"
      ]
     },
     "metadata": {},
     "output_type": "display_data"
    },
    {
     "name": "stdout",
     "output_type": "stream",
     "text": [
      "16\n",
      "Feasibility SDP is set up with hard equality constraints\n",
      "dimension of symmetry subspace is 1\n",
      "tr(M*rho)= (3.9999999999999996+0j)\n",
      "fidelity to the theoretical steady state is 0.9999999999999998\n"
     ]
    },
    {
     "data": {
      "application/vnd.jupyter.widget-view+json": {
       "model_id": "788b9c1f88ef4a75875f9a394c09e81a",
       "version_major": 2,
       "version_minor": 0
      },
      "text/plain": [
       "  0%|          | 0/1 [00:00<?, ?it/s]"
      ]
     },
     "metadata": {},
     "output_type": "display_data"
    },
    {
     "name": "stdout",
     "output_type": "stream",
     "text": [
      "16\n",
      "Feasibility SDP is set up with hard equality constraints\n",
      "dimension of symmetry subspace is 1\n",
      "tr(M*rho)= (3.9999999999999996+0j)\n",
      "fidelity to the theoretical steady state is 0.9999999999999998\n"
     ]
    },
    {
     "data": {
      "application/vnd.jupyter.widget-view+json": {
       "model_id": "2f845bbb71804632b76767ef46737a3c",
       "version_major": 2,
       "version_minor": 0
      },
      "text/plain": [
       "  0%|          | 0/1 [00:00<?, ?it/s]"
      ]
     },
     "metadata": {},
     "output_type": "display_data"
    },
    {
     "name": "stdout",
     "output_type": "stream",
     "text": [
      "16\n",
      "Feasibility SDP is set up with hard equality constraints\n",
      "dimension of symmetry subspace is 1\n",
      "tr(M*rho)= (3.9999999999999996+0j)\n",
      "fidelity to the theoretical steady state is 0.9999999999999998\n"
     ]
    },
    {
     "data": {
      "application/vnd.jupyter.widget-view+json": {
       "model_id": "4cc809454b4644838fcc2581dc03db0a",
       "version_major": 2,
       "version_minor": 0
      },
      "text/plain": [
       "  0%|          | 0/1 [00:00<?, ?it/s]"
      ]
     },
     "metadata": {},
     "output_type": "display_data"
    },
    {
     "name": "stdout",
     "output_type": "stream",
     "text": [
      "16\n",
      "Feasibility SDP is set up with hard equality constraints\n",
      "dimension of symmetry subspace is 1\n",
      "tr(M*rho)= (3.9999999999999996+0j)\n",
      "fidelity to the theoretical steady state is 0.9999999999999998\n"
     ]
    },
    {
     "data": {
      "application/vnd.jupyter.widget-view+json": {
       "model_id": "9a2c8ada37f34f6b9f9ddf79816de765",
       "version_major": 2,
       "version_minor": 0
      },
      "text/plain": [
       "  0%|          | 0/1 [00:00<?, ?it/s]"
      ]
     },
     "metadata": {},
     "output_type": "display_data"
    },
    {
     "name": "stdout",
     "output_type": "stream",
     "text": [
      "16\n",
      "Feasibility SDP is set up with hard equality constraints\n",
      "dimension of symmetry subspace is 1\n",
      "tr(M*rho)= (3.9999999999999996+0j)\n",
      "fidelity to the theoretical steady state is 0.9999999999999998\n"
     ]
    },
    {
     "data": {
      "application/vnd.jupyter.widget-view+json": {
       "model_id": "c42a4895831c43058b7f3cb736281612",
       "version_major": 2,
       "version_minor": 0
      },
      "text/plain": [
       "  0%|          | 0/1 [00:00<?, ?it/s]"
      ]
     },
     "metadata": {},
     "output_type": "display_data"
    },
    {
     "name": "stdout",
     "output_type": "stream",
     "text": [
      "16\n",
      "Feasibility SDP is set up with hard equality constraints\n",
      "dimension of symmetry subspace is 1\n",
      "tr(M*rho)= (3.9999999999999996+0j)\n",
      "fidelity to the theoretical steady state is 0.9999999999999998\n"
     ]
    },
    {
     "data": {
      "application/vnd.jupyter.widget-view+json": {
       "model_id": "9445b9ccf85d4293bc505a4a700f79b9",
       "version_major": 2,
       "version_minor": 0
      },
      "text/plain": [
       "  0%|          | 0/1 [00:00<?, ?it/s]"
      ]
     },
     "metadata": {},
     "output_type": "display_data"
    },
    {
     "name": "stdout",
     "output_type": "stream",
     "text": [
      "16\n",
      "Feasibility SDP is set up with hard equality constraints\n",
      "dimension of symmetry subspace is 1\n",
      "tr(M*rho)= (3.9999999999999996+0j)\n",
      "fidelity to the theoretical steady state is 0.9999999999999998\n"
     ]
    },
    {
     "data": {
      "application/vnd.jupyter.widget-view+json": {
       "model_id": "9c02ae259bc5423d9962762fa5dea5de",
       "version_major": 2,
       "version_minor": 0
      },
      "text/plain": [
       "  0%|          | 0/1 [00:00<?, ?it/s]"
      ]
     },
     "metadata": {},
     "output_type": "display_data"
    },
    {
     "name": "stdout",
     "output_type": "stream",
     "text": [
      "16\n",
      "Feasibility SDP is set up with hard equality constraints\n",
      "dimension of symmetry subspace is 1\n",
      "tr(M*rho)= (3.9999999999999996+0j)\n",
      "fidelity to the theoretical steady state is 0.9999999999999998\n"
     ]
    },
    {
     "data": {
      "application/vnd.jupyter.widget-view+json": {
       "model_id": "f1b4148dc2bc47a5b0964d4894017345",
       "version_major": 2,
       "version_minor": 0
      },
      "text/plain": [
       "  0%|          | 0/1 [00:00<?, ?it/s]"
      ]
     },
     "metadata": {},
     "output_type": "display_data"
    },
    {
     "name": "stdout",
     "output_type": "stream",
     "text": [
      "16\n",
      "Feasibility SDP is set up with hard equality constraints\n",
      "dimension of symmetry subspace is 1\n",
      "tr(M*rho)= (3.9999999999999996+0j)\n",
      "fidelity to the theoretical steady state is 0.9999999999999998\n"
     ]
    },
    {
     "data": {
      "application/vnd.jupyter.widget-view+json": {
       "model_id": "8811aabe40714b4194942ff1435a0cb1",
       "version_major": 2,
       "version_minor": 0
      },
      "text/plain": [
       "  0%|          | 0/1 [00:00<?, ?it/s]"
      ]
     },
     "metadata": {},
     "output_type": "display_data"
    },
    {
     "name": "stdout",
     "output_type": "stream",
     "text": [
      "16\n",
      "Feasibility SDP is set up with hard equality constraints\n",
      "dimension of symmetry subspace is 1\n",
      "tr(M*rho)= (3.9999999999999996+0j)\n",
      "fidelity to the theoretical steady state is 0.9999999999999998\n"
     ]
    },
    {
     "data": {
      "application/vnd.jupyter.widget-view+json": {
       "model_id": "acd4e396b2f446238bfeb931d6a50287",
       "version_major": 2,
       "version_minor": 0
      },
      "text/plain": [
       "  0%|          | 0/1 [00:00<?, ?it/s]"
      ]
     },
     "metadata": {},
     "output_type": "display_data"
    },
    {
     "name": "stdout",
     "output_type": "stream",
     "text": [
      "16\n",
      "Feasibility SDP is set up with hard equality constraints\n",
      "dimension of symmetry subspace is 1\n",
      "tr(M*rho)= (3.9999999999999996+0j)\n",
      "fidelity to the theoretical steady state is 0.9999999999999998\n"
     ]
    },
    {
     "data": {
      "application/vnd.jupyter.widget-view+json": {
       "model_id": "e4d146eb7b4d43f583c5565db88832c9",
       "version_major": 2,
       "version_minor": 0
      },
      "text/plain": [
       "  0%|          | 0/1 [00:00<?, ?it/s]"
      ]
     },
     "metadata": {},
     "output_type": "display_data"
    },
    {
     "name": "stdout",
     "output_type": "stream",
     "text": [
      "16\n",
      "Feasibility SDP is set up with hard equality constraints\n",
      "dimension of symmetry subspace is 1\n",
      "tr(M*rho)= (3.9999999999999996+0j)\n",
      "fidelity to the theoretical steady state is 0.9999999999999998\n"
     ]
    },
    {
     "data": {
      "application/vnd.jupyter.widget-view+json": {
       "model_id": "d16feed7998b4f0d8e31c4f7c9b186b0",
       "version_major": 2,
       "version_minor": 0
      },
      "text/plain": [
       "  0%|          | 0/1 [00:00<?, ?it/s]"
      ]
     },
     "metadata": {},
     "output_type": "display_data"
    },
    {
     "name": "stdout",
     "output_type": "stream",
     "text": [
      "16\n",
      "Feasibility SDP is set up with hard equality constraints\n",
      "dimension of symmetry subspace is 1\n",
      "tr(M*rho)= (3.9999999999999996+0j)\n",
      "fidelity to the theoretical steady state is 0.9999999999999998\n"
     ]
    },
    {
     "data": {
      "application/vnd.jupyter.widget-view+json": {
       "model_id": "de63a3267e2c470f9f101f7d96138ee9",
       "version_major": 2,
       "version_minor": 0
      },
      "text/plain": [
       "  0%|          | 0/1 [00:00<?, ?it/s]"
      ]
     },
     "metadata": {},
     "output_type": "display_data"
    },
    {
     "name": "stdout",
     "output_type": "stream",
     "text": [
      "16\n",
      "Feasibility SDP is set up with hard equality constraints\n",
      "dimension of symmetry subspace is 1\n",
      "tr(M*rho)= (3.9999999999999996+0j)\n",
      "fidelity to the theoretical steady state is 0.9999999999999998\n"
     ]
    },
    {
     "data": {
      "application/vnd.jupyter.widget-view+json": {
       "model_id": "06d255ed5d224835b5800dfe2b5c63a9",
       "version_major": 2,
       "version_minor": 0
      },
      "text/plain": [
       "  0%|          | 0/1 [00:00<?, ?it/s]"
      ]
     },
     "metadata": {},
     "output_type": "display_data"
    },
    {
     "name": "stdout",
     "output_type": "stream",
     "text": [
      "16\n",
      "Feasibility SDP is set up with hard equality constraints\n",
      "dimension of symmetry subspace is 1\n",
      "tr(M*rho)= (3.9999999999999996+0j)\n",
      "fidelity to the theoretical steady state is 0.9999999999999998\n"
     ]
    },
    {
     "data": {
      "application/vnd.jupyter.widget-view+json": {
       "model_id": "0f270e4d80de42e99bb8089b3e7e8940",
       "version_major": 2,
       "version_minor": 0
      },
      "text/plain": [
       "  0%|          | 0/1 [00:00<?, ?it/s]"
      ]
     },
     "metadata": {},
     "output_type": "display_data"
    },
    {
     "name": "stdout",
     "output_type": "stream",
     "text": [
      "16\n",
      "Feasibility SDP is set up with hard equality constraints\n",
      "dimension of symmetry subspace is 1\n",
      "tr(M*rho)= (3.9999999999999996+0j)\n",
      "fidelity to the theoretical steady state is 0.9999999999999998\n"
     ]
    },
    {
     "data": {
      "application/vnd.jupyter.widget-view+json": {
       "model_id": "a31b41f124cc469d85678e7e3b02b117",
       "version_major": 2,
       "version_minor": 0
      },
      "text/plain": [
       "  0%|          | 0/1 [00:00<?, ?it/s]"
      ]
     },
     "metadata": {},
     "output_type": "display_data"
    },
    {
     "name": "stdout",
     "output_type": "stream",
     "text": [
      "16\n",
      "Feasibility SDP is set up with hard equality constraints\n",
      "dimension of symmetry subspace is 1\n",
      "tr(M*rho)= (3.9999999999999996+0j)\n",
      "fidelity to the theoretical steady state is 0.9999999999999998\n"
     ]
    },
    {
     "data": {
      "application/vnd.jupyter.widget-view+json": {
       "model_id": "d54b5943edfe478a8cde8a7af49e0a64",
       "version_major": 2,
       "version_minor": 0
      },
      "text/plain": [
       "  0%|          | 0/1 [00:00<?, ?it/s]"
      ]
     },
     "metadata": {},
     "output_type": "display_data"
    },
    {
     "name": "stdout",
     "output_type": "stream",
     "text": [
      "16\n",
      "Feasibility SDP is set up with hard equality constraints\n",
      "dimension of symmetry subspace is 1\n",
      "tr(M*rho)= (3.9999999999999996+0j)\n",
      "fidelity to the theoretical steady state is 0.9999999999999998\n"
     ]
    },
    {
     "data": {
      "application/vnd.jupyter.widget-view+json": {
       "model_id": "e30f903bbf9f493a875dae5ced62b103",
       "version_major": 2,
       "version_minor": 0
      },
      "text/plain": [
       "  0%|          | 0/1 [00:00<?, ?it/s]"
      ]
     },
     "metadata": {},
     "output_type": "display_data"
    },
    {
     "name": "stdout",
     "output_type": "stream",
     "text": [
      "16\n",
      "Feasibility SDP is set up with hard equality constraints\n",
      "dimension of symmetry subspace is 1\n",
      "tr(M*rho)= (3.9999999999999996+0j)\n",
      "fidelity to the theoretical steady state is 0.9999999999999998\n"
     ]
    },
    {
     "data": {
      "application/vnd.jupyter.widget-view+json": {
       "model_id": "812e95903b004c5ca78a4d6346ac50e8",
       "version_major": 2,
       "version_minor": 0
      },
      "text/plain": [
       "  0%|          | 0/1 [00:00<?, ?it/s]"
      ]
     },
     "metadata": {},
     "output_type": "display_data"
    },
    {
     "name": "stdout",
     "output_type": "stream",
     "text": [
      "16\n",
      "Feasibility SDP is set up with hard equality constraints\n",
      "dimension of symmetry subspace is 1\n",
      "tr(M*rho)= (3.9999999999999996+0j)\n",
      "fidelity to the theoretical steady state is 0.9999999999999998\n"
     ]
    },
    {
     "data": {
      "application/vnd.jupyter.widget-view+json": {
       "model_id": "f90fb3c9df0e476b8fe084cfceb14bb5",
       "version_major": 2,
       "version_minor": 0
      },
      "text/plain": [
       "  0%|          | 0/1 [00:00<?, ?it/s]"
      ]
     },
     "metadata": {},
     "output_type": "display_data"
    },
    {
     "name": "stdout",
     "output_type": "stream",
     "text": [
      "16\n",
      "Feasibility SDP is set up with hard equality constraints\n",
      "dimension of symmetry subspace is 1\n",
      "tr(M*rho)= (3.9999999999999996+0j)\n",
      "fidelity to the theoretical steady state is 0.9999999999999998\n"
     ]
    },
    {
     "data": {
      "application/vnd.jupyter.widget-view+json": {
       "model_id": "887336d158034fb4bb8f6a67d38d8367",
       "version_major": 2,
       "version_minor": 0
      },
      "text/plain": [
       "  0%|          | 0/1 [00:00<?, ?it/s]"
      ]
     },
     "metadata": {},
     "output_type": "display_data"
    },
    {
     "name": "stdout",
     "output_type": "stream",
     "text": [
      "16\n",
      "Feasibility SDP is set up with hard equality constraints\n",
      "dimension of symmetry subspace is 1\n",
      "tr(M*rho)= (3.9999999999999996+0j)\n",
      "fidelity to the theoretical steady state is 0.9999999999999998\n"
     ]
    },
    {
     "data": {
      "application/vnd.jupyter.widget-view+json": {
       "model_id": "86b2428c8d0b45be8ac771d32cdea6cf",
       "version_major": 2,
       "version_minor": 0
      },
      "text/plain": [
       "  0%|          | 0/1 [00:00<?, ?it/s]"
      ]
     },
     "metadata": {},
     "output_type": "display_data"
    },
    {
     "name": "stdout",
     "output_type": "stream",
     "text": [
      "16\n",
      "Feasibility SDP is set up with hard equality constraints\n",
      "dimension of symmetry subspace is 1\n",
      "tr(M*rho)= (3.9999999999999996+0j)\n",
      "fidelity to the theoretical steady state is 0.9999999999999998\n"
     ]
    },
    {
     "data": {
      "application/vnd.jupyter.widget-view+json": {
       "model_id": "8e7a7e7ac6494deabdef0fda42957cef",
       "version_major": 2,
       "version_minor": 0
      },
      "text/plain": [
       "  0%|          | 0/1 [00:00<?, ?it/s]"
      ]
     },
     "metadata": {},
     "output_type": "display_data"
    },
    {
     "name": "stdout",
     "output_type": "stream",
     "text": [
      "16\n",
      "Feasibility SDP is set up with hard equality constraints\n",
      "dimension of symmetry subspace is 1\n",
      "tr(M*rho)= (3.9999999999999996+0j)\n",
      "fidelity to the theoretical steady state is 0.9999999999999998\n"
     ]
    },
    {
     "data": {
      "application/vnd.jupyter.widget-view+json": {
       "model_id": "c6a0e2aefc9d49eb9c89a188004bc685",
       "version_major": 2,
       "version_minor": 0
      },
      "text/plain": [
       "  0%|          | 0/1 [00:00<?, ?it/s]"
      ]
     },
     "metadata": {},
     "output_type": "display_data"
    },
    {
     "name": "stdout",
     "output_type": "stream",
     "text": [
      "16\n",
      "Feasibility SDP is set up with hard equality constraints\n",
      "dimension of symmetry subspace is 1\n",
      "tr(M*rho)= (3.9999999999999996+0j)\n",
      "fidelity to the theoretical steady state is 0.9999999999999998\n"
     ]
    },
    {
     "data": {
      "application/vnd.jupyter.widget-view+json": {
       "model_id": "86eeb0daca294972b60cc84de13870e8",
       "version_major": 2,
       "version_minor": 0
      },
      "text/plain": [
       "  0%|          | 0/1 [00:00<?, ?it/s]"
      ]
     },
     "metadata": {},
     "output_type": "display_data"
    },
    {
     "name": "stdout",
     "output_type": "stream",
     "text": [
      "16\n",
      "Feasibility SDP is set up with hard equality constraints\n",
      "dimension of symmetry subspace is 1\n",
      "tr(M*rho)= (3.9999999999999996+0j)\n",
      "fidelity to the theoretical steady state is 0.9999999999999998\n"
     ]
    },
    {
     "data": {
      "application/vnd.jupyter.widget-view+json": {
       "model_id": "e3bdea94b95248e98a96b1f9d72769fd",
       "version_major": 2,
       "version_minor": 0
      },
      "text/plain": [
       "  0%|          | 0/1 [00:00<?, ?it/s]"
      ]
     },
     "metadata": {},
     "output_type": "display_data"
    },
    {
     "name": "stdout",
     "output_type": "stream",
     "text": [
      "16\n",
      "Feasibility SDP is set up with hard equality constraints\n",
      "dimension of symmetry subspace is 1\n",
      "tr(M*rho)= (3.9999999999999996+0j)\n",
      "fidelity to the theoretical steady state is 0.9999999999999998\n"
     ]
    },
    {
     "data": {
      "application/vnd.jupyter.widget-view+json": {
       "model_id": "5c8109db0c2046a9a94a058eaabeb8b9",
       "version_major": 2,
       "version_minor": 0
      },
      "text/plain": [
       "  0%|          | 0/1 [00:00<?, ?it/s]"
      ]
     },
     "metadata": {},
     "output_type": "display_data"
    },
    {
     "name": "stdout",
     "output_type": "stream",
     "text": [
      "16\n",
      "Feasibility SDP is set up with hard equality constraints\n",
      "dimension of symmetry subspace is 1\n",
      "tr(M*rho)= (3.9999999999999996+0j)\n",
      "fidelity to the theoretical steady state is 0.9999999999999998\n"
     ]
    },
    {
     "data": {
      "application/vnd.jupyter.widget-view+json": {
       "model_id": "4a3e58f2aff54c1eadafe3ab773e9aa6",
       "version_major": 2,
       "version_minor": 0
      },
      "text/plain": [
       "  0%|          | 0/1 [00:00<?, ?it/s]"
      ]
     },
     "metadata": {},
     "output_type": "display_data"
    },
    {
     "name": "stdout",
     "output_type": "stream",
     "text": [
      "16\n",
      "Feasibility SDP is set up with hard equality constraints\n",
      "dimension of symmetry subspace is 1\n",
      "tr(M*rho)= (3.9999999999999996+0j)\n",
      "fidelity to the theoretical steady state is 0.9999999999999998\n"
     ]
    },
    {
     "data": {
      "application/vnd.jupyter.widget-view+json": {
       "model_id": "f0c7a99505c64dd68ca528bd372e0a66",
       "version_major": 2,
       "version_minor": 0
      },
      "text/plain": [
       "  0%|          | 0/1 [00:00<?, ?it/s]"
      ]
     },
     "metadata": {},
     "output_type": "display_data"
    },
    {
     "name": "stdout",
     "output_type": "stream",
     "text": [
      "16\n",
      "Feasibility SDP is set up with hard equality constraints\n",
      "dimension of symmetry subspace is 1\n",
      "tr(M*rho)= (3.9999999999999996+0j)\n",
      "fidelity to the theoretical steady state is 0.9999999999999998\n"
     ]
    },
    {
     "data": {
      "application/vnd.jupyter.widget-view+json": {
       "model_id": "f0b3f8561e82426dac149d67e87eaf21",
       "version_major": 2,
       "version_minor": 0
      },
      "text/plain": [
       "  0%|          | 0/1 [00:00<?, ?it/s]"
      ]
     },
     "metadata": {},
     "output_type": "display_data"
    },
    {
     "name": "stdout",
     "output_type": "stream",
     "text": [
      "16\n",
      "Feasibility SDP is set up with hard equality constraints\n",
      "dimension of symmetry subspace is 1\n",
      "tr(M*rho)= (3.9999999999999996+0j)\n",
      "fidelity to the theoretical steady state is 0.9999999999999998\n"
     ]
    },
    {
     "data": {
      "application/vnd.jupyter.widget-view+json": {
       "model_id": "df1ef80b3eee48e7a4b020d4ce3e9611",
       "version_major": 2,
       "version_minor": 0
      },
      "text/plain": [
       "  0%|          | 0/1 [00:00<?, ?it/s]"
      ]
     },
     "metadata": {},
     "output_type": "display_data"
    },
    {
     "name": "stdout",
     "output_type": "stream",
     "text": [
      "16\n",
      "Feasibility SDP is set up with hard equality constraints\n",
      "dimension of symmetry subspace is 1\n",
      "tr(M*rho)= (3.9999999999999996+0j)\n",
      "fidelity to the theoretical steady state is 0.9999999999999998\n"
     ]
    },
    {
     "data": {
      "application/vnd.jupyter.widget-view+json": {
       "model_id": "74270601f4fd4aa9b6ec155dbf89f97f",
       "version_major": 2,
       "version_minor": 0
      },
      "text/plain": [
       "  0%|          | 0/1 [00:00<?, ?it/s]"
      ]
     },
     "metadata": {},
     "output_type": "display_data"
    },
    {
     "name": "stdout",
     "output_type": "stream",
     "text": [
      "16\n",
      "Feasibility SDP is set up with hard equality constraints\n",
      "dimension of symmetry subspace is 1\n",
      "tr(M*rho)= (3.9999999999999996+0j)\n",
      "fidelity to the theoretical steady state is 0.9999999999999998\n"
     ]
    },
    {
     "data": {
      "application/vnd.jupyter.widget-view+json": {
       "model_id": "2b27320a0697428e8b49ff7b6239d849",
       "version_major": 2,
       "version_minor": 0
      },
      "text/plain": [
       "  0%|          | 0/1 [00:00<?, ?it/s]"
      ]
     },
     "metadata": {},
     "output_type": "display_data"
    },
    {
     "name": "stdout",
     "output_type": "stream",
     "text": [
      "16\n",
      "Feasibility SDP is set up with hard equality constraints\n",
      "dimension of symmetry subspace is 1\n",
      "tr(M*rho)= (3.9999999999999996+0j)\n",
      "fidelity to the theoretical steady state is 0.9999999999999998\n"
     ]
    },
    {
     "data": {
      "application/vnd.jupyter.widget-view+json": {
       "model_id": "cbae7cef84cf4cb6a63b35f05dcf62cb",
       "version_major": 2,
       "version_minor": 0
      },
      "text/plain": [
       "  0%|          | 0/1 [00:00<?, ?it/s]"
      ]
     },
     "metadata": {},
     "output_type": "display_data"
    },
    {
     "name": "stdout",
     "output_type": "stream",
     "text": [
      "16\n",
      "Feasibility SDP is set up with hard equality constraints\n",
      "dimension of symmetry subspace is 1\n",
      "tr(M*rho)= (3.9999999999999996+0j)\n",
      "fidelity to the theoretical steady state is 0.9999999999999998\n"
     ]
    },
    {
     "data": {
      "application/vnd.jupyter.widget-view+json": {
       "model_id": "f79276d7ddcb43da8cde39429bd67b56",
       "version_major": 2,
       "version_minor": 0
      },
      "text/plain": [
       "  0%|          | 0/1 [00:00<?, ?it/s]"
      ]
     },
     "metadata": {},
     "output_type": "display_data"
    },
    {
     "name": "stdout",
     "output_type": "stream",
     "text": [
      "16\n",
      "Feasibility SDP is set up with hard equality constraints\n",
      "dimension of symmetry subspace is 1\n",
      "tr(M*rho)= (3.9999999999999996+0j)\n",
      "fidelity to the theoretical steady state is 0.9999999999999998\n"
     ]
    },
    {
     "data": {
      "application/vnd.jupyter.widget-view+json": {
       "model_id": "27e427d964a945b4948b2b853baf2b96",
       "version_major": 2,
       "version_minor": 0
      },
      "text/plain": [
       "  0%|          | 0/1 [00:00<?, ?it/s]"
      ]
     },
     "metadata": {},
     "output_type": "display_data"
    },
    {
     "name": "stdout",
     "output_type": "stream",
     "text": [
      "16\n",
      "Feasibility SDP is set up with hard equality constraints\n",
      "dimension of symmetry subspace is 1\n",
      "tr(M*rho)= (3.9999999999999996+0j)\n",
      "fidelity to the theoretical steady state is 0.9999999999999998\n"
     ]
    },
    {
     "data": {
      "application/vnd.jupyter.widget-view+json": {
       "model_id": "bc24e5665b6e4d228e6922629f1ff1d5",
       "version_major": 2,
       "version_minor": 0
      },
      "text/plain": [
       "  0%|          | 0/1 [00:00<?, ?it/s]"
      ]
     },
     "metadata": {},
     "output_type": "display_data"
    },
    {
     "name": "stdout",
     "output_type": "stream",
     "text": [
      "16\n",
      "Feasibility SDP is set up with hard equality constraints\n",
      "dimension of symmetry subspace is 1\n",
      "tr(M*rho)= (3.9999999999999996+0j)\n",
      "fidelity to the theoretical steady state is 0.9999999999999998\n"
     ]
    },
    {
     "data": {
      "application/vnd.jupyter.widget-view+json": {
       "model_id": "45659141510e453fb28c86997c6d28f1",
       "version_major": 2,
       "version_minor": 0
      },
      "text/plain": [
       "  0%|          | 0/1 [00:00<?, ?it/s]"
      ]
     },
     "metadata": {},
     "output_type": "display_data"
    },
    {
     "name": "stdout",
     "output_type": "stream",
     "text": [
      "16\n",
      "Feasibility SDP is set up with hard equality constraints\n",
      "dimension of symmetry subspace is 1\n",
      "tr(M*rho)= (3.9999999999999996+0j)\n",
      "fidelity to the theoretical steady state is 0.9999999999999998\n"
     ]
    },
    {
     "data": {
      "application/vnd.jupyter.widget-view+json": {
       "model_id": "9a8bd65c97744fbf842ac4252d7561e6",
       "version_major": 2,
       "version_minor": 0
      },
      "text/plain": [
       "  0%|          | 0/1 [00:00<?, ?it/s]"
      ]
     },
     "metadata": {},
     "output_type": "display_data"
    },
    {
     "name": "stdout",
     "output_type": "stream",
     "text": [
      "16\n",
      "Feasibility SDP is set up with hard equality constraints\n",
      "dimension of symmetry subspace is 1\n",
      "tr(M*rho)= (3.9999999999999996+0j)\n",
      "fidelity to the theoretical steady state is 0.9999999999999998\n"
     ]
    },
    {
     "data": {
      "application/vnd.jupyter.widget-view+json": {
       "model_id": "1a3b3d847eeb490ba277eaf100ebaaf6",
       "version_major": 2,
       "version_minor": 0
      },
      "text/plain": [
       "  0%|          | 0/1 [00:00<?, ?it/s]"
      ]
     },
     "metadata": {},
     "output_type": "display_data"
    },
    {
     "name": "stdout",
     "output_type": "stream",
     "text": [
      "16\n",
      "Feasibility SDP is set up with hard equality constraints\n",
      "dimension of symmetry subspace is 1\n",
      "tr(M*rho)= (3.9999999999999996+0j)\n",
      "fidelity to the theoretical steady state is 0.9999999999999998\n"
     ]
    },
    {
     "data": {
      "application/vnd.jupyter.widget-view+json": {
       "model_id": "de75029bb68a4134b23bafc178837c28",
       "version_major": 2,
       "version_minor": 0
      },
      "text/plain": [
       "  0%|          | 0/1 [00:00<?, ?it/s]"
      ]
     },
     "metadata": {},
     "output_type": "display_data"
    },
    {
     "name": "stdout",
     "output_type": "stream",
     "text": [
      "16\n",
      "Feasibility SDP is set up with hard equality constraints\n",
      "dimension of symmetry subspace is 1\n",
      "tr(M*rho)= (3.9999999999999996+0j)\n",
      "fidelity to the theoretical steady state is 0.9999999999999998\n"
     ]
    },
    {
     "data": {
      "application/vnd.jupyter.widget-view+json": {
       "model_id": "384c3164ae844332b1545bbfa01ccf48",
       "version_major": 2,
       "version_minor": 0
      },
      "text/plain": [
       "  0%|          | 0/1 [00:00<?, ?it/s]"
      ]
     },
     "metadata": {},
     "output_type": "display_data"
    },
    {
     "name": "stdout",
     "output_type": "stream",
     "text": [
      "16\n",
      "Feasibility SDP is set up with hard equality constraints\n",
      "dimension of symmetry subspace is 1\n",
      "tr(M*rho)= (3.9999999999999996+0j)\n",
      "fidelity to the theoretical steady state is 0.9999999999999998\n"
     ]
    },
    {
     "data": {
      "application/vnd.jupyter.widget-view+json": {
       "model_id": "2da134e9e0504b57a03f455c2aad3b28",
       "version_major": 2,
       "version_minor": 0
      },
      "text/plain": [
       "  0%|          | 0/1 [00:00<?, ?it/s]"
      ]
     },
     "metadata": {},
     "output_type": "display_data"
    },
    {
     "name": "stdout",
     "output_type": "stream",
     "text": [
      "16\n",
      "Feasibility SDP is set up with hard equality constraints\n",
      "dimension of symmetry subspace is 1\n",
      "tr(M*rho)= (3.9999999999999996+0j)\n",
      "fidelity to the theoretical steady state is 0.9999999999999998\n"
     ]
    },
    {
     "data": {
      "application/vnd.jupyter.widget-view+json": {
       "model_id": "0082f63fab454eeaa18f0d6dd4c35b6e",
       "version_major": 2,
       "version_minor": 0
      },
      "text/plain": [
       "  0%|          | 0/1 [00:00<?, ?it/s]"
      ]
     },
     "metadata": {},
     "output_type": "display_data"
    },
    {
     "name": "stdout",
     "output_type": "stream",
     "text": [
      "16\n",
      "Feasibility SDP is set up with hard equality constraints\n",
      "dimension of symmetry subspace is 1\n",
      "tr(M*rho)= (3.9999999999999996+0j)\n",
      "fidelity to the theoretical steady state is 0.9999999999999998\n"
     ]
    },
    {
     "data": {
      "application/vnd.jupyter.widget-view+json": {
       "model_id": "ef473c5ec6fd4fa4b32f0ff5b14dceb1",
       "version_major": 2,
       "version_minor": 0
      },
      "text/plain": [
       "  0%|          | 0/1 [00:00<?, ?it/s]"
      ]
     },
     "metadata": {},
     "output_type": "display_data"
    },
    {
     "name": "stdout",
     "output_type": "stream",
     "text": [
      "16\n",
      "Feasibility SDP is set up with hard equality constraints\n",
      "dimension of symmetry subspace is 1\n",
      "tr(M*rho)= (3.9999999999999996+0j)\n",
      "fidelity to the theoretical steady state is 0.9999999999999998\n"
     ]
    },
    {
     "data": {
      "application/vnd.jupyter.widget-view+json": {
       "model_id": "295890e0e5cd4c6ebd4cc0655a203955",
       "version_major": 2,
       "version_minor": 0
      },
      "text/plain": [
       "  0%|          | 0/1 [00:00<?, ?it/s]"
      ]
     },
     "metadata": {},
     "output_type": "display_data"
    },
    {
     "name": "stdout",
     "output_type": "stream",
     "text": [
      "16\n",
      "Feasibility SDP is set up with hard equality constraints\n",
      "dimension of symmetry subspace is 1\n",
      "tr(M*rho)= (3.9999999999999996+0j)\n",
      "fidelity to the theoretical steady state is 0.9999999999999998\n"
     ]
    },
    {
     "data": {
      "application/vnd.jupyter.widget-view+json": {
       "model_id": "0ef88ef1976248d99f3ce83b81277b11",
       "version_major": 2,
       "version_minor": 0
      },
      "text/plain": [
       "  0%|          | 0/1 [00:00<?, ?it/s]"
      ]
     },
     "metadata": {},
     "output_type": "display_data"
    },
    {
     "name": "stdout",
     "output_type": "stream",
     "text": [
      "16\n",
      "Feasibility SDP is set up with hard equality constraints\n",
      "dimension of symmetry subspace is 1\n",
      "tr(M*rho)= (3.9999999999999996+0j)\n",
      "fidelity to the theoretical steady state is 0.9999999999999998\n"
     ]
    },
    {
     "data": {
      "application/vnd.jupyter.widget-view+json": {
       "model_id": "c32c318299c54ae599bcbda6cf113dce",
       "version_major": 2,
       "version_minor": 0
      },
      "text/plain": [
       "  0%|          | 0/1 [00:00<?, ?it/s]"
      ]
     },
     "metadata": {},
     "output_type": "display_data"
    },
    {
     "name": "stdout",
     "output_type": "stream",
     "text": [
      "16\n",
      "Feasibility SDP is set up with hard equality constraints\n",
      "dimension of symmetry subspace is 1\n",
      "tr(M*rho)= (3.9999999999999996+0j)\n",
      "fidelity to the theoretical steady state is 0.9999999999999998\n"
     ]
    },
    {
     "data": {
      "application/vnd.jupyter.widget-view+json": {
       "model_id": "d5af302d4edd4852ac67c9ea7b87c161",
       "version_major": 2,
       "version_minor": 0
      },
      "text/plain": [
       "  0%|          | 0/1 [00:00<?, ?it/s]"
      ]
     },
     "metadata": {},
     "output_type": "display_data"
    },
    {
     "name": "stdout",
     "output_type": "stream",
     "text": [
      "16\n",
      "Feasibility SDP is set up with hard equality constraints\n",
      "dimension of symmetry subspace is 1\n",
      "tr(M*rho)= (3.9999999999999996+0j)\n",
      "fidelity to the theoretical steady state is 0.9999999999999998\n"
     ]
    },
    {
     "data": {
      "application/vnd.jupyter.widget-view+json": {
       "model_id": "91e0e457c11f4da89c4273eed6af3d52",
       "version_major": 2,
       "version_minor": 0
      },
      "text/plain": [
       "  0%|          | 0/1 [00:00<?, ?it/s]"
      ]
     },
     "metadata": {},
     "output_type": "display_data"
    },
    {
     "name": "stdout",
     "output_type": "stream",
     "text": [
      "16\n",
      "Feasibility SDP is set up with hard equality constraints\n",
      "dimension of symmetry subspace is 1\n",
      "tr(M*rho)= (3.9999999999999996+0j)\n",
      "fidelity to the theoretical steady state is 0.9999999999999998\n"
     ]
    },
    {
     "data": {
      "application/vnd.jupyter.widget-view+json": {
       "model_id": "17e19d94f6594ed882ca0e37ce9e10f5",
       "version_major": 2,
       "version_minor": 0
      },
      "text/plain": [
       "  0%|          | 0/1 [00:00<?, ?it/s]"
      ]
     },
     "metadata": {},
     "output_type": "display_data"
    },
    {
     "name": "stdout",
     "output_type": "stream",
     "text": [
      "16\n",
      "Feasibility SDP is set up with hard equality constraints\n",
      "dimension of symmetry subspace is 1\n",
      "tr(M*rho)= (3.9999999999999996+0j)\n",
      "fidelity to the theoretical steady state is 0.9999999999999998\n"
     ]
    },
    {
     "data": {
      "application/vnd.jupyter.widget-view+json": {
       "model_id": "6097bd20f09a48f6882d10acb019a28a",
       "version_major": 2,
       "version_minor": 0
      },
      "text/plain": [
       "  0%|          | 0/1 [00:00<?, ?it/s]"
      ]
     },
     "metadata": {},
     "output_type": "display_data"
    },
    {
     "name": "stdout",
     "output_type": "stream",
     "text": [
      "16\n",
      "Feasibility SDP is set up with hard equality constraints\n",
      "dimension of symmetry subspace is 1\n",
      "tr(M*rho)= (3.9999999999999996+0j)\n",
      "fidelity to the theoretical steady state is 0.9999999999999998\n"
     ]
    },
    {
     "data": {
      "application/vnd.jupyter.widget-view+json": {
       "model_id": "6b0bfe4678b249ab8c4e46648411096c",
       "version_major": 2,
       "version_minor": 0
      },
      "text/plain": [
       "  0%|          | 0/1 [00:00<?, ?it/s]"
      ]
     },
     "metadata": {},
     "output_type": "display_data"
    },
    {
     "name": "stdout",
     "output_type": "stream",
     "text": [
      "16\n",
      "Feasibility SDP is set up with hard equality constraints\n",
      "dimension of symmetry subspace is 1\n",
      "tr(M*rho)= (3.9999999999999996+0j)\n",
      "fidelity to the theoretical steady state is 0.9999999999999998\n"
     ]
    },
    {
     "data": {
      "application/vnd.jupyter.widget-view+json": {
       "model_id": "c03e6e04074c4974af175fd8330759d9",
       "version_major": 2,
       "version_minor": 0
      },
      "text/plain": [
       "  0%|          | 0/1 [00:00<?, ?it/s]"
      ]
     },
     "metadata": {},
     "output_type": "display_data"
    },
    {
     "name": "stdout",
     "output_type": "stream",
     "text": [
      "16\n",
      "Feasibility SDP is set up with hard equality constraints\n",
      "dimension of symmetry subspace is 1\n",
      "tr(M*rho)= (3.9999999999999996+0j)\n",
      "fidelity to the theoretical steady state is 0.9999999999999998\n"
     ]
    },
    {
     "data": {
      "application/vnd.jupyter.widget-view+json": {
       "model_id": "16540d97ba044db08b7e941efb5a4982",
       "version_major": 2,
       "version_minor": 0
      },
      "text/plain": [
       "  0%|          | 0/1 [00:00<?, ?it/s]"
      ]
     },
     "metadata": {},
     "output_type": "display_data"
    },
    {
     "name": "stdout",
     "output_type": "stream",
     "text": [
      "16\n",
      "Feasibility SDP is set up with hard equality constraints\n",
      "dimension of symmetry subspace is 1\n",
      "tr(M*rho)= (3.9999999999999996+0j)\n",
      "fidelity to the theoretical steady state is 0.9999999999999998\n"
     ]
    },
    {
     "data": {
      "application/vnd.jupyter.widget-view+json": {
       "model_id": "1215b99a299c44c48127ae3276fb3184",
       "version_major": 2,
       "version_minor": 0
      },
      "text/plain": [
       "  0%|          | 0/1 [00:00<?, ?it/s]"
      ]
     },
     "metadata": {},
     "output_type": "display_data"
    },
    {
     "name": "stdout",
     "output_type": "stream",
     "text": [
      "16\n",
      "Feasibility SDP is set up with hard equality constraints\n",
      "dimension of symmetry subspace is 1\n",
      "tr(M*rho)= (3.9999999999999996+0j)\n",
      "fidelity to the theoretical steady state is 0.9999999999999998\n"
     ]
    },
    {
     "data": {
      "application/vnd.jupyter.widget-view+json": {
       "model_id": "502fc113374e4c198af108eadc8248f4",
       "version_major": 2,
       "version_minor": 0
      },
      "text/plain": [
       "  0%|          | 0/1 [00:00<?, ?it/s]"
      ]
     },
     "metadata": {},
     "output_type": "display_data"
    },
    {
     "name": "stdout",
     "output_type": "stream",
     "text": [
      "16\n",
      "Feasibility SDP is set up with hard equality constraints\n",
      "dimension of symmetry subspace is 1\n",
      "tr(M*rho)= (3.9999999999999996+0j)\n",
      "fidelity to the theoretical steady state is 0.9999999999999998\n"
     ]
    },
    {
     "data": {
      "application/vnd.jupyter.widget-view+json": {
       "model_id": "ca0fa62dde294353b1fb0f4c67e3c45c",
       "version_major": 2,
       "version_minor": 0
      },
      "text/plain": [
       "  0%|          | 0/1 [00:00<?, ?it/s]"
      ]
     },
     "metadata": {},
     "output_type": "display_data"
    },
    {
     "name": "stdout",
     "output_type": "stream",
     "text": [
      "16\n",
      "Feasibility SDP is set up with hard equality constraints\n",
      "dimension of symmetry subspace is 1\n",
      "tr(M*rho)= (3.9999999999999996+0j)\n",
      "fidelity to the theoretical steady state is 0.9999999999999998\n"
     ]
    },
    {
     "data": {
      "application/vnd.jupyter.widget-view+json": {
       "model_id": "30c62cae9544435ca7a1aa00c0b71524",
       "version_major": 2,
       "version_minor": 0
      },
      "text/plain": [
       "  0%|          | 0/1 [00:00<?, ?it/s]"
      ]
     },
     "metadata": {},
     "output_type": "display_data"
    },
    {
     "name": "stdout",
     "output_type": "stream",
     "text": [
      "16\n",
      "Feasibility SDP is set up with hard equality constraints\n",
      "dimension of symmetry subspace is 1\n",
      "tr(M*rho)= (3.9999999999999996+0j)\n",
      "fidelity to the theoretical steady state is 0.9999999999999998\n"
     ]
    },
    {
     "data": {
      "application/vnd.jupyter.widget-view+json": {
       "model_id": "56a92c12cb03431bbf867d22773f6076",
       "version_major": 2,
       "version_minor": 0
      },
      "text/plain": [
       "  0%|          | 0/1 [00:00<?, ?it/s]"
      ]
     },
     "metadata": {},
     "output_type": "display_data"
    },
    {
     "name": "stdout",
     "output_type": "stream",
     "text": [
      "16\n",
      "Feasibility SDP is set up with hard equality constraints\n",
      "dimension of symmetry subspace is 1\n",
      "tr(M*rho)= (3.9999999999999996+0j)\n",
      "fidelity to the theoretical steady state is 0.9999999999999998\n"
     ]
    },
    {
     "data": {
      "application/vnd.jupyter.widget-view+json": {
       "model_id": "80a11339eb20463ca67c5ff835bffc04",
       "version_major": 2,
       "version_minor": 0
      },
      "text/plain": [
       "  0%|          | 0/1 [00:00<?, ?it/s]"
      ]
     },
     "metadata": {},
     "output_type": "display_data"
    },
    {
     "name": "stdout",
     "output_type": "stream",
     "text": [
      "16\n",
      "Feasibility SDP is set up with hard equality constraints\n",
      "dimension of symmetry subspace is 1\n",
      "tr(M*rho)= (3.9999999999999996+0j)\n",
      "fidelity to the theoretical steady state is 0.9999999999999998\n"
     ]
    },
    {
     "data": {
      "application/vnd.jupyter.widget-view+json": {
       "model_id": "3739e1fa459d4d2cbfc3d03dd15362fd",
       "version_major": 2,
       "version_minor": 0
      },
      "text/plain": [
       "  0%|          | 0/1 [00:00<?, ?it/s]"
      ]
     },
     "metadata": {},
     "output_type": "display_data"
    },
    {
     "name": "stdout",
     "output_type": "stream",
     "text": [
      "16\n",
      "Feasibility SDP is set up with hard equality constraints\n",
      "dimension of symmetry subspace is 1\n",
      "tr(M*rho)= (3.9999999999999996+0j)\n",
      "fidelity to the theoretical steady state is 0.9999999999999998\n",
      "\n"
     ]
    },
    {
     "data": {
      "application/vnd.jupyter.widget-view+json": {
       "model_id": "6d462d66d55f4f5797e13569c5c608eb",
       "version_major": 2,
       "version_minor": 0
      },
      "text/plain": [
       "  0%|          | 0/6 [00:00<?, ?it/s]"
      ]
     },
     "metadata": {},
     "output_type": "display_data"
    },
    {
     "name": "stdout",
     "output_type": "stream",
     "text": [
      "64\n",
      "Feasibility SDP is set up with hard equality constraints\n",
      "dimension of symmetry subspace is 6\n",
      "tr(M*rho)= (3.9999999999999982-5.261633143072153e-16j)\n",
      "fidelity to the theoretical steady state is 0.9999999999999996\n"
     ]
    },
    {
     "data": {
      "application/vnd.jupyter.widget-view+json": {
       "model_id": "932d479edc944b8887b5ac578aa44ac9",
       "version_major": 2,
       "version_minor": 0
      },
      "text/plain": [
       "  0%|          | 0/6 [00:00<?, ?it/s]"
      ]
     },
     "metadata": {},
     "output_type": "display_data"
    },
    {
     "name": "stdout",
     "output_type": "stream",
     "text": [
      "64\n",
      "Feasibility SDP is set up with hard equality constraints\n",
      "dimension of symmetry subspace is 6\n",
      "tr(M*rho)= (4.000000000000027-4.990409127603179e-14j)\n",
      "fidelity to the theoretical steady state is 1.000000000000003\n"
     ]
    },
    {
     "data": {
      "application/vnd.jupyter.widget-view+json": {
       "model_id": "4304cac9454942df858a83b166ce87b4",
       "version_major": 2,
       "version_minor": 0
      },
      "text/plain": [
       "  0%|          | 0/6 [00:00<?, ?it/s]"
      ]
     },
     "metadata": {},
     "output_type": "display_data"
    },
    {
     "name": "stdout",
     "output_type": "stream",
     "text": [
      "64\n",
      "Feasibility SDP is set up with hard equality constraints\n",
      "dimension of symmetry subspace is 6\n",
      "tr(M*rho)= (3.999999999999999+2.2854981795994433e-16j)\n",
      "fidelity to the theoretical steady state is 1.0\n"
     ]
    },
    {
     "data": {
      "application/vnd.jupyter.widget-view+json": {
       "model_id": "ebdf3b08e40549828c9ade0f25238b2a",
       "version_major": 2,
       "version_minor": 0
      },
      "text/plain": [
       "  0%|          | 0/6 [00:00<?, ?it/s]"
      ]
     },
     "metadata": {},
     "output_type": "display_data"
    },
    {
     "name": "stdout",
     "output_type": "stream",
     "text": [
      "64\n",
      "Feasibility SDP is set up with hard equality constraints\n",
      "dimension of symmetry subspace is 6\n",
      "tr(M*rho)= (4-1.3471211993132393e-16j)\n",
      "fidelity to the theoretical steady state is 0.9999999999999997\n"
     ]
    },
    {
     "data": {
      "application/vnd.jupyter.widget-view+json": {
       "model_id": "c5d03aa0649d4d169e127cddbbb9d06a",
       "version_major": 2,
       "version_minor": 0
      },
      "text/plain": [
       "  0%|          | 0/6 [00:00<?, ?it/s]"
      ]
     },
     "metadata": {},
     "output_type": "display_data"
    },
    {
     "name": "stdout",
     "output_type": "stream",
     "text": [
      "64\n",
      "Feasibility SDP is set up with hard equality constraints\n",
      "dimension of symmetry subspace is 6\n",
      "tr(M*rho)= (4.000158037892896-4.9774370402065615e-05j)\n",
      "fidelity to the theoretical steady state is 0.8955038870654825\n"
     ]
    },
    {
     "data": {
      "application/vnd.jupyter.widget-view+json": {
       "model_id": "3d146bd218f1470a9cfedfef97b6e9e7",
       "version_major": 2,
       "version_minor": 0
      },
      "text/plain": [
       "  0%|          | 0/6 [00:00<?, ?it/s]"
      ]
     },
     "metadata": {},
     "output_type": "display_data"
    },
    {
     "name": "stdout",
     "output_type": "stream",
     "text": [
      "64\n",
      "Feasibility SDP is set up with hard equality constraints\n",
      "dimension of symmetry subspace is 6\n",
      "tr(M*rho)= (4.0000000000000036-1.8214596497756474e-16j)\n",
      "fidelity to the theoretical steady state is 1.0000000000000007\n"
     ]
    },
    {
     "data": {
      "application/vnd.jupyter.widget-view+json": {
       "model_id": "8a386a8cb549454e805662dec67cb263",
       "version_major": 2,
       "version_minor": 0
      },
      "text/plain": [
       "  0%|          | 0/6 [00:00<?, ?it/s]"
      ]
     },
     "metadata": {},
     "output_type": "display_data"
    },
    {
     "name": "stdout",
     "output_type": "stream",
     "text": [
      "64\n",
      "Feasibility SDP is set up with hard equality constraints\n",
      "dimension of symmetry subspace is 6\n",
      "tr(M*rho)= (4.000000000000011+1.377804120794579e-15j)\n",
      "fidelity to the theoretical steady state is 0.9128709291752786\n"
     ]
    },
    {
     "data": {
      "application/vnd.jupyter.widget-view+json": {
       "model_id": "1d2df2a92be74d199f2d73b9316c67ed",
       "version_major": 2,
       "version_minor": 0
      },
      "text/plain": [
       "  0%|          | 0/6 [00:00<?, ?it/s]"
      ]
     },
     "metadata": {},
     "output_type": "display_data"
    },
    {
     "name": "stdout",
     "output_type": "stream",
     "text": [
      "64\n",
      "Feasibility SDP is set up with hard equality constraints\n",
      "dimension of symmetry subspace is 6\n",
      "tr(M*rho)= (4-4.336808689942018e-18j)\n",
      "fidelity to the theoretical steady state is 1.0\n"
     ]
    },
    {
     "data": {
      "application/vnd.jupyter.widget-view+json": {
       "model_id": "5b018b9fe3b44b3eaf8bea17b25d04ca",
       "version_major": 2,
       "version_minor": 0
      },
      "text/plain": [
       "  0%|          | 0/6 [00:00<?, ?it/s]"
      ]
     },
     "metadata": {},
     "output_type": "display_data"
    },
    {
     "name": "stdout",
     "output_type": "stream",
     "text": [
      "64\n",
      "Feasibility SDP is set up with hard equality constraints\n",
      "dimension of symmetry subspace is 6\n",
      "tr(M*rho)= (4.000000000000009+1.859189885378143e-15j)\n",
      "fidelity to the theoretical steady state is 0.912870929175278\n"
     ]
    },
    {
     "data": {
      "application/vnd.jupyter.widget-view+json": {
       "model_id": "8495ea05b0d24925accfd8a197a53ca2",
       "version_major": 2,
       "version_minor": 0
      },
      "text/plain": [
       "  0%|          | 0/6 [00:00<?, ?it/s]"
      ]
     },
     "metadata": {},
     "output_type": "display_data"
    },
    {
     "name": "stdout",
     "output_type": "stream",
     "text": [
      "64\n",
      "Feasibility SDP is set up with hard equality constraints\n",
      "dimension of symmetry subspace is 6\n",
      "tr(M*rho)= (4.000000000000006+4.557985933129061e-15j)\n",
      "fidelity to the theoretical steady state is 1.0000000000000002\n"
     ]
    },
    {
     "data": {
      "application/vnd.jupyter.widget-view+json": {
       "model_id": "8e4724b441394af4a29ecf5e7063a1ab",
       "version_major": 2,
       "version_minor": 0
      },
      "text/plain": [
       "  0%|          | 0/6 [00:00<?, ?it/s]"
      ]
     },
     "metadata": {},
     "output_type": "display_data"
    },
    {
     "name": "stdout",
     "output_type": "stream",
     "text": [
      "64\n",
      "Feasibility SDP is set up with hard equality constraints\n",
      "dimension of symmetry subspace is 6\n",
      "tr(M*rho)= (3.9999999999999982-3.164135620181696e-15j)\n",
      "fidelity to the theoretical steady state is 0.9999999999999998\n"
     ]
    },
    {
     "data": {
      "application/vnd.jupyter.widget-view+json": {
       "model_id": "9b152383b2e44ef99d82e7444a9f9cd2",
       "version_major": 2,
       "version_minor": 0
      },
      "text/plain": [
       "  0%|          | 0/6 [00:00<?, ?it/s]"
      ]
     },
     "metadata": {},
     "output_type": "display_data"
    },
    {
     "name": "stdout",
     "output_type": "stream",
     "text": [
      "64\n",
      "Feasibility SDP is set up with hard equality constraints\n",
      "dimension of symmetry subspace is 6\n",
      "tr(M*rho)= (4-4.544975507059235e-16j)\n",
      "fidelity to the theoretical steady state is 1.0000000000000004\n"
     ]
    },
    {
     "data": {
      "application/vnd.jupyter.widget-view+json": {
       "model_id": "625a62da4ae9408b89c928404505420e",
       "version_major": 2,
       "version_minor": 0
      },
      "text/plain": [
       "  0%|          | 0/6 [00:00<?, ?it/s]"
      ]
     },
     "metadata": {},
     "output_type": "display_data"
    },
    {
     "name": "stdout",
     "output_type": "stream",
     "text": [
      "64\n",
      "Feasibility SDP is set up with hard equality constraints\n",
      "dimension of symmetry subspace is 6\n",
      "tr(M*rho)= (4.000000115969324-1.2887501685301104e-08j)\n",
      "fidelity to the theoretical steady state is 0.9059831141045711\n"
     ]
    },
    {
     "data": {
      "application/vnd.jupyter.widget-view+json": {
       "model_id": "20ebf7ff73a04190852361eb97374e34",
       "version_major": 2,
       "version_minor": 0
      },
      "text/plain": [
       "  0%|          | 0/6 [00:00<?, ?it/s]"
      ]
     },
     "metadata": {},
     "output_type": "display_data"
    },
    {
     "name": "stdout",
     "output_type": "stream",
     "text": [
      "64\n",
      "Feasibility SDP is set up with hard equality constraints\n",
      "dimension of symmetry subspace is 6\n",
      "tr(M*rho)= (3.9999999999999942-1.2696007439805257e-15j)\n",
      "fidelity to the theoretical steady state is 0.9999999999988975\n"
     ]
    },
    {
     "data": {
      "application/vnd.jupyter.widget-view+json": {
       "model_id": "944591130ac6439a9391f4cc2f9f250b",
       "version_major": 2,
       "version_minor": 0
      },
      "text/plain": [
       "  0%|          | 0/6 [00:00<?, ?it/s]"
      ]
     },
     "metadata": {},
     "output_type": "display_data"
    },
    {
     "name": "stdout",
     "output_type": "stream",
     "text": [
      "64\n",
      "Feasibility SDP is set up with hard equality constraints\n",
      "dimension of symmetry subspace is 6\n",
      "tr(M*rho)= (3.999999999999803+1.2131962101591398e-13j)\n",
      "fidelity to the theoretical steady state is 0.9999999999999754\n"
     ]
    },
    {
     "data": {
      "application/vnd.jupyter.widget-view+json": {
       "model_id": "921a672488264aa99d9ead90dfa59f7b",
       "version_major": 2,
       "version_minor": 0
      },
      "text/plain": [
       "  0%|          | 0/6 [00:00<?, ?it/s]"
      ]
     },
     "metadata": {},
     "output_type": "display_data"
    },
    {
     "name": "stdout",
     "output_type": "stream",
     "text": [
      "64\n",
      "Feasibility SDP is set up with hard equality constraints\n",
      "dimension of symmetry subspace is 6\n",
      "tr(M*rho)= (4.000000000000002+7.443047914112988e-17j)\n",
      "fidelity to the theoretical steady state is 1.0000000000000004\n"
     ]
    },
    {
     "data": {
      "application/vnd.jupyter.widget-view+json": {
       "model_id": "31b8c8ebdfe24a2387b98abc611c1053",
       "version_major": 2,
       "version_minor": 0
      },
      "text/plain": [
       "  0%|          | 0/6 [00:00<?, ?it/s]"
      ]
     },
     "metadata": {},
     "output_type": "display_data"
    },
    {
     "name": "stdout",
     "output_type": "stream",
     "text": [
      "64\n",
      "Feasibility SDP is set up with hard equality constraints\n",
      "dimension of symmetry subspace is 6\n",
      "tr(M*rho)= (4.000000000000009-3.375077994860476e-14j)\n",
      "fidelity to the theoretical steady state is 0.9128709303652578\n"
     ]
    },
    {
     "data": {
      "application/vnd.jupyter.widget-view+json": {
       "model_id": "2b16ad2d87f44cb0bc50ec531bbf9b37",
       "version_major": 2,
       "version_minor": 0
      },
      "text/plain": [
       "  0%|          | 0/6 [00:00<?, ?it/s]"
      ]
     },
     "metadata": {},
     "output_type": "display_data"
    },
    {
     "name": "stdout",
     "output_type": "stream",
     "text": [
      "64\n",
      "Feasibility SDP is set up with hard equality constraints\n",
      "dimension of symmetry subspace is 6\n",
      "tr(M*rho)= (4.000002614852148+1.9985865828113394e-06j)\n",
      "fidelity to the theoretical steady state is 0.8516310726163803\n"
     ]
    },
    {
     "data": {
      "application/vnd.jupyter.widget-view+json": {
       "model_id": "3b1035a26b8c41fe97207bb8c559b835",
       "version_major": 2,
       "version_minor": 0
      },
      "text/plain": [
       "  0%|          | 0/6 [00:00<?, ?it/s]"
      ]
     },
     "metadata": {},
     "output_type": "display_data"
    },
    {
     "name": "stdout",
     "output_type": "stream",
     "text": [
      "64\n",
      "Feasibility SDP is set up with hard equality constraints\n",
      "dimension of symmetry subspace is 6\n",
      "tr(M*rho)= (4.000000000000659-4.5640574652949795e-14j)\n",
      "fidelity to the theoretical steady state is 1.0000000000000822\n"
     ]
    },
    {
     "data": {
      "application/vnd.jupyter.widget-view+json": {
       "model_id": "611aeef6b27b418dafc6f9359c3070b2",
       "version_major": 2,
       "version_minor": 0
      },
      "text/plain": [
       "  0%|          | 0/6 [00:00<?, ?it/s]"
      ]
     },
     "metadata": {},
     "output_type": "display_data"
    },
    {
     "name": "stdout",
     "output_type": "stream",
     "text": [
      "64\n",
      "Feasibility SDP is set up with hard equality constraints\n",
      "dimension of symmetry subspace is 6\n",
      "tr(M*rho)= (3.999999999999999+1.0980799602933189e-15j)\n",
      "fidelity to the theoretical steady state is 0.9128709291752768\n"
     ]
    },
    {
     "data": {
      "application/vnd.jupyter.widget-view+json": {
       "model_id": "0c2ebe7542404c5e93a542aa0e5c3c18",
       "version_major": 2,
       "version_minor": 0
      },
      "text/plain": [
       "  0%|          | 0/6 [00:00<?, ?it/s]"
      ]
     },
     "metadata": {},
     "output_type": "display_data"
    },
    {
     "name": "stdout",
     "output_type": "stream",
     "text": [
      "64\n",
      "Feasibility SDP is set up with hard equality constraints\n",
      "dimension of symmetry subspace is 6\n",
      "tr(M*rho)= (3.9999999999999947-4.85722573273506e-17j)\n",
      "fidelity to the theoretical steady state is 0.9999999999999993\n"
     ]
    },
    {
     "data": {
      "application/vnd.jupyter.widget-view+json": {
       "model_id": "e528f4ba754a41858f1c16e3535d3bcb",
       "version_major": 2,
       "version_minor": 0
      },
      "text/plain": [
       "  0%|          | 0/6 [00:00<?, ?it/s]"
      ]
     },
     "metadata": {},
     "output_type": "display_data"
    },
    {
     "name": "stdout",
     "output_type": "stream",
     "text": [
      "64\n",
      "Feasibility SDP is set up with hard equality constraints\n",
      "dimension of symmetry subspace is 6\n",
      "tr(M*rho)= (4+3.885780586188048e-16j)\n",
      "fidelity to the theoretical steady state is 1.0000000000000002\n"
     ]
    },
    {
     "data": {
      "application/vnd.jupyter.widget-view+json": {
       "model_id": "19234eb6f3264b4795cdcbe21fd7c93c",
       "version_major": 2,
       "version_minor": 0
      },
      "text/plain": [
       "  0%|          | 0/6 [00:00<?, ?it/s]"
      ]
     },
     "metadata": {},
     "output_type": "display_data"
    },
    {
     "name": "stdout",
     "output_type": "stream",
     "text": [
      "64\n",
      "Feasibility SDP is set up with hard equality constraints\n",
      "dimension of symmetry subspace is 6\n",
      "tr(M*rho)= (3.9999999977942187+2.207043301588607e-09j)\n",
      "fidelity to the theoretical steady state is 0.8856500287504699\n"
     ]
    },
    {
     "data": {
      "application/vnd.jupyter.widget-view+json": {
       "model_id": "05a76f63c7bd4f0db27796a111d84e5b",
       "version_major": 2,
       "version_minor": 0
      },
      "text/plain": [
       "  0%|          | 0/6 [00:00<?, ?it/s]"
      ]
     },
     "metadata": {},
     "output_type": "display_data"
    },
    {
     "name": "stdout",
     "output_type": "stream",
     "text": [
      "64\n",
      "Feasibility SDP is set up with hard equality constraints\n",
      "dimension of symmetry subspace is 6\n",
      "tr(M*rho)= (3.999893286561984-8.829702245181925e-05j)\n",
      "fidelity to the theoretical steady state is 0.8938458054379137\n"
     ]
    },
    {
     "data": {
      "application/vnd.jupyter.widget-view+json": {
       "model_id": "715b84e058294e6e8b53dc78cffc4585",
       "version_major": 2,
       "version_minor": 0
      },
      "text/plain": [
       "  0%|          | 0/6 [00:00<?, ?it/s]"
      ]
     },
     "metadata": {},
     "output_type": "display_data"
    },
    {
     "name": "stdout",
     "output_type": "stream",
     "text": [
      "64\n",
      "Feasibility SDP is set up with hard equality constraints\n",
      "dimension of symmetry subspace is 6\n",
      "tr(M*rho)= (4.000000000000001+2.8471149049469346e-16j)\n",
      "fidelity to the theoretical steady state is 1.0000000000000004\n"
     ]
    },
    {
     "data": {
      "application/vnd.jupyter.widget-view+json": {
       "model_id": "b2135e44c91a4951a791cccee0c0ac95",
       "version_major": 2,
       "version_minor": 0
      },
      "text/plain": [
       "  0%|          | 0/6 [00:00<?, ?it/s]"
      ]
     },
     "metadata": {},
     "output_type": "display_data"
    },
    {
     "name": "stdout",
     "output_type": "stream",
     "text": [
      "64\n",
      "Feasibility SDP is set up with hard equality constraints\n",
      "dimension of symmetry subspace is 6\n",
      "tr(M*rho)= (4.0000000000417275+3.652952940136345e-12j)\n",
      "fidelity to the theoretical steady state is 1.0000000000049087\n"
     ]
    },
    {
     "data": {
      "application/vnd.jupyter.widget-view+json": {
       "model_id": "0f3ae881a67a41a19466a4613ce1b86e",
       "version_major": 2,
       "version_minor": 0
      },
      "text/plain": [
       "  0%|          | 0/6 [00:00<?, ?it/s]"
      ]
     },
     "metadata": {},
     "output_type": "display_data"
    },
    {
     "name": "stdout",
     "output_type": "stream",
     "text": [
      "64\n",
      "Feasibility SDP is set up with hard equality constraints\n",
      "dimension of symmetry subspace is 6\n",
      "tr(M*rho)= (4.000000000000003+5.603156827405087e-16j)\n",
      "fidelity to the theoretical steady state is 1.0000000000000007\n"
     ]
    },
    {
     "data": {
      "application/vnd.jupyter.widget-view+json": {
       "model_id": "3484cabee59a41f38731e90d616f4427",
       "version_major": 2,
       "version_minor": 0
      },
      "text/plain": [
       "  0%|          | 0/6 [00:00<?, ?it/s]"
      ]
     },
     "metadata": {},
     "output_type": "display_data"
    },
    {
     "name": "stdout",
     "output_type": "stream",
     "text": [
      "64\n",
      "Feasibility SDP is set up with hard equality constraints\n",
      "dimension of symmetry subspace is 6\n",
      "tr(M*rho)= (3.9999736338682434+6.338637912240222e-05j)\n",
      "fidelity to the theoretical steady state is 0.8915870379144365\n"
     ]
    },
    {
     "data": {
      "application/vnd.jupyter.widget-view+json": {
       "model_id": "30074a3405ef49a2aa85520d5c49e385",
       "version_major": 2,
       "version_minor": 0
      },
      "text/plain": [
       "  0%|          | 0/6 [00:00<?, ?it/s]"
      ]
     },
     "metadata": {},
     "output_type": "display_data"
    },
    {
     "name": "stdout",
     "output_type": "stream",
     "text": [
      "64\n",
      "Feasibility SDP is set up with hard equality constraints\n",
      "dimension of symmetry subspace is 6\n",
      "tr(M*rho)= (4.000137278494526+9.885370108633643e-05j)\n",
      "fidelity to the theoretical steady state is 0.8970952092186119\n"
     ]
    },
    {
     "data": {
      "application/vnd.jupyter.widget-view+json": {
       "model_id": "2448dd679bcc46dea1af7c385530058b",
       "version_major": 2,
       "version_minor": 0
      },
      "text/plain": [
       "  0%|          | 0/6 [00:00<?, ?it/s]"
      ]
     },
     "metadata": {},
     "output_type": "display_data"
    },
    {
     "name": "stdout",
     "output_type": "stream",
     "text": [
      "64\n",
      "Feasibility SDP is set up with hard equality constraints\n",
      "dimension of symmetry subspace is 6\n",
      "tr(M*rho)= (3.9999999999999996-2.688821387764051e-16j)\n",
      "fidelity to the theoretical steady state is 0.9128709291752768\n"
     ]
    },
    {
     "data": {
      "application/vnd.jupyter.widget-view+json": {
       "model_id": "97ad48c5b7884c9eb07a72f5dd8a44b5",
       "version_major": 2,
       "version_minor": 0
      },
      "text/plain": [
       "  0%|          | 0/6 [00:00<?, ?it/s]"
      ]
     },
     "metadata": {},
     "output_type": "display_data"
    },
    {
     "name": "stdout",
     "output_type": "stream",
     "text": [
      "64\n",
      "Feasibility SDP is set up with hard equality constraints\n",
      "dimension of symmetry subspace is 6\n",
      "tr(M*rho)= (4.000007222769291+9.411790890165826e-07j)\n",
      "fidelity to the theoretical steady state is 0.882149129758593\n"
     ]
    },
    {
     "data": {
      "application/vnd.jupyter.widget-view+json": {
       "model_id": "f8643eeaabaf4ac18a038246e6935f37",
       "version_major": 2,
       "version_minor": 0
      },
      "text/plain": [
       "  0%|          | 0/6 [00:00<?, ?it/s]"
      ]
     },
     "metadata": {},
     "output_type": "display_data"
    },
    {
     "name": "stdout",
     "output_type": "stream",
     "text": [
      "64\n",
      "Feasibility SDP is set up with hard equality constraints\n",
      "dimension of symmetry subspace is 6\n",
      "tr(M*rho)= (4.000000000032744-7.806533197651788e-12j)\n",
      "fidelity to the theoretical steady state is 0.9087352011393586\n"
     ]
    },
    {
     "data": {
      "application/vnd.jupyter.widget-view+json": {
       "model_id": "c18c6b5cf6984abe82f7d6dc208385a7",
       "version_major": 2,
       "version_minor": 0
      },
      "text/plain": [
       "  0%|          | 0/6 [00:00<?, ?it/s]"
      ]
     },
     "metadata": {},
     "output_type": "display_data"
    },
    {
     "name": "stdout",
     "output_type": "stream",
     "text": [
      "64\n",
      "Feasibility SDP is set up with hard equality constraints\n",
      "dimension of symmetry subspace is 6\n",
      "tr(M*rho)= (3.999999999999958+8.180262023316232e-14j)\n",
      "fidelity to the theoretical steady state is 0.9999999999999951\n"
     ]
    },
    {
     "data": {
      "application/vnd.jupyter.widget-view+json": {
       "model_id": "2832577437d7408d9125411db9e9c73a",
       "version_major": 2,
       "version_minor": 0
      },
      "text/plain": [
       "  0%|          | 0/6 [00:00<?, ?it/s]"
      ]
     },
     "metadata": {},
     "output_type": "display_data"
    },
    {
     "name": "stdout",
     "output_type": "stream",
     "text": [
      "64\n",
      "Feasibility SDP is set up with hard equality constraints\n",
      "dimension of symmetry subspace is 6\n",
      "tr(M*rho)= (4.000000052657722-7.0476502862792945e-09j)\n",
      "fidelity to the theoretical steady state is 0.8897579338322483\n"
     ]
    },
    {
     "data": {
      "application/vnd.jupyter.widget-view+json": {
       "model_id": "a86e739d240d40b4a0f429d0c0c1b975",
       "version_major": 2,
       "version_minor": 0
      },
      "text/plain": [
       "  0%|          | 0/6 [00:00<?, ?it/s]"
      ]
     },
     "metadata": {},
     "output_type": "display_data"
    },
    {
     "name": "stdout",
     "output_type": "stream",
     "text": [
      "64\n",
      "Feasibility SDP is set up with hard equality constraints\n",
      "dimension of symmetry subspace is 6\n",
      "tr(M*rho)= (4.000000000000009-2.0018708912772354e-15j)\n",
      "fidelity to the theoretical steady state is 1.0000000000000009\n"
     ]
    },
    {
     "data": {
      "application/vnd.jupyter.widget-view+json": {
       "model_id": "f65f943ec93c46fcae127092bf8227e5",
       "version_major": 2,
       "version_minor": 0
      },
      "text/plain": [
       "  0%|          | 0/6 [00:00<?, ?it/s]"
      ]
     },
     "metadata": {},
     "output_type": "display_data"
    },
    {
     "name": "stdout",
     "output_type": "stream",
     "text": [
      "64\n",
      "Feasibility SDP is set up with hard equality constraints\n",
      "dimension of symmetry subspace is 6\n",
      "tr(M*rho)= (4.001223534728377+0.00022460351088049967j)\n",
      "fidelity to the theoretical steady state is 0.8937745981338042\n"
     ]
    },
    {
     "data": {
      "application/vnd.jupyter.widget-view+json": {
       "model_id": "da32a5b85d5b4101ab2cabfdd31cdb98",
       "version_major": 2,
       "version_minor": 0
      },
      "text/plain": [
       "  0%|          | 0/6 [00:00<?, ?it/s]"
      ]
     },
     "metadata": {},
     "output_type": "display_data"
    },
    {
     "name": "stdout",
     "output_type": "stream",
     "text": [
      "64\n",
      "Feasibility SDP is set up with hard equality constraints\n",
      "dimension of symmetry subspace is 6\n",
      "tr(M*rho)= (3.999999999999996-5.48172618408671e-16j)\n",
      "fidelity to the theoretical steady state is 0.9128709291752763\n"
     ]
    },
    {
     "data": {
      "application/vnd.jupyter.widget-view+json": {
       "model_id": "8958e843b8144507b46b5a81a4c83a47",
       "version_major": 2,
       "version_minor": 0
      },
      "text/plain": [
       "  0%|          | 0/6 [00:00<?, ?it/s]"
      ]
     },
     "metadata": {},
     "output_type": "display_data"
    },
    {
     "name": "stdout",
     "output_type": "stream",
     "text": [
      "64\n",
      "Feasibility SDP is set up with hard equality constraints\n",
      "dimension of symmetry subspace is 6\n",
      "tr(M*rho)= (4.000000000000475-7.235496923829743e-13j)\n",
      "fidelity to the theoretical steady state is 1.0000000000000595\n"
     ]
    },
    {
     "data": {
      "application/vnd.jupyter.widget-view+json": {
       "model_id": "af5d5062bdb64eaa8c82206ccde395ba",
       "version_major": 2,
       "version_minor": 0
      },
      "text/plain": [
       "  0%|          | 0/6 [00:00<?, ?it/s]"
      ]
     },
     "metadata": {},
     "output_type": "display_data"
    },
    {
     "name": "stdout",
     "output_type": "stream",
     "text": [
      "64\n",
      "Feasibility SDP is set up with hard equality constraints\n",
      "dimension of symmetry subspace is 6\n",
      "tr(M*rho)= (3.999999999999777+1.2455314557513475e-13j)\n",
      "fidelity to the theoretical steady state is 0.9999999999999583\n"
     ]
    },
    {
     "data": {
      "application/vnd.jupyter.widget-view+json": {
       "model_id": "5c2e60b86e854462b335ef317a59a3d4",
       "version_major": 2,
       "version_minor": 0
      },
      "text/plain": [
       "  0%|          | 0/6 [00:00<?, ?it/s]"
      ]
     },
     "metadata": {},
     "output_type": "display_data"
    },
    {
     "name": "stdout",
     "output_type": "stream",
     "text": [
      "64\n",
      "Feasibility SDP is set up with hard equality constraints\n",
      "dimension of symmetry subspace is 6\n",
      "tr(M*rho)= (3.9999999999996936+1.6402851299446297e-13j)\n",
      "fidelity to the theoretical steady state is 0.9999999989263788\n"
     ]
    },
    {
     "data": {
      "application/vnd.jupyter.widget-view+json": {
       "model_id": "7decd197419c4086bb953512fed22e54",
       "version_major": 2,
       "version_minor": 0
      },
      "text/plain": [
       "  0%|          | 0/6 [00:00<?, ?it/s]"
      ]
     },
     "metadata": {},
     "output_type": "display_data"
    },
    {
     "name": "stdout",
     "output_type": "stream",
     "text": [
      "64\n",
      "Feasibility SDP is set up with hard equality constraints\n",
      "dimension of symmetry subspace is 6\n",
      "tr(M*rho)= (3.999999999999999-2.741405193129598e-16j)\n",
      "fidelity to the theoretical steady state is 1.0\n"
     ]
    },
    {
     "data": {
      "application/vnd.jupyter.widget-view+json": {
       "model_id": "880132f0ee8646058ed729002b6d1a51",
       "version_major": 2,
       "version_minor": 0
      },
      "text/plain": [
       "  0%|          | 0/6 [00:00<?, ?it/s]"
      ]
     },
     "metadata": {},
     "output_type": "display_data"
    },
    {
     "name": "stdout",
     "output_type": "stream",
     "text": [
      "64\n",
      "Feasibility SDP is set up with hard equality constraints\n",
      "dimension of symmetry subspace is 6\n",
      "tr(M*rho)= (3.9999999999999987+4.718447854656915e-16j)\n",
      "fidelity to the theoretical steady state is 0.912870929175277\n"
     ]
    },
    {
     "data": {
      "application/vnd.jupyter.widget-view+json": {
       "model_id": "3e94a703b64c4794af099d7c6790dd51",
       "version_major": 2,
       "version_minor": 0
      },
      "text/plain": [
       "  0%|          | 0/6 [00:00<?, ?it/s]"
      ]
     },
     "metadata": {},
     "output_type": "display_data"
    },
    {
     "name": "stdout",
     "output_type": "stream",
     "text": [
      "64\n",
      "Feasibility SDP is set up with hard equality constraints\n",
      "dimension of symmetry subspace is 6\n",
      "tr(M*rho)= (4.000000000000005+4.625206467823162e-16j)\n",
      "fidelity to the theoretical steady state is 1.0000000000000004\n"
     ]
    },
    {
     "data": {
      "application/vnd.jupyter.widget-view+json": {
       "model_id": "7bf1d01f877642038edbb200285c5105",
       "version_major": 2,
       "version_minor": 0
      },
      "text/plain": [
       "  0%|          | 0/6 [00:00<?, ?it/s]"
      ]
     },
     "metadata": {},
     "output_type": "display_data"
    },
    {
     "name": "stdout",
     "output_type": "stream",
     "text": [
      "64\n",
      "Feasibility SDP is set up with hard equality constraints\n",
      "dimension of symmetry subspace is 6\n",
      "tr(M*rho)= (3.999980668958628-3.784254389859181e-05j)\n",
      "fidelity to the theoretical steady state is 0.8390499464380912\n"
     ]
    },
    {
     "data": {
      "application/vnd.jupyter.widget-view+json": {
       "model_id": "0ef22e86e4694949b1df5f0540976d93",
       "version_major": 2,
       "version_minor": 0
      },
      "text/plain": [
       "  0%|          | 0/6 [00:00<?, ?it/s]"
      ]
     },
     "metadata": {},
     "output_type": "display_data"
    },
    {
     "name": "stdout",
     "output_type": "stream",
     "text": [
      "64\n",
      "Feasibility SDP is set up with hard equality constraints\n",
      "dimension of symmetry subspace is 6\n",
      "tr(M*rho)= (3.9999999999999947-2.225324959026498e-16j)\n",
      "fidelity to the theoretical steady state is 0.9999999999999991\n"
     ]
    },
    {
     "data": {
      "application/vnd.jupyter.widget-view+json": {
       "model_id": "10219c04ebc44e0c84c165954983dcac",
       "version_major": 2,
       "version_minor": 0
      },
      "text/plain": [
       "  0%|          | 0/6 [00:00<?, ?it/s]"
      ]
     },
     "metadata": {},
     "output_type": "display_data"
    },
    {
     "name": "stdout",
     "output_type": "stream",
     "text": [
      "64\n",
      "Feasibility SDP is set up with hard equality constraints\n",
      "dimension of symmetry subspace is 6\n",
      "tr(M*rho)= (4.000000000000021-5.186823193170653e-15j)\n",
      "fidelity to the theoretical steady state is 0.912870929175279\n"
     ]
    },
    {
     "data": {
      "application/vnd.jupyter.widget-view+json": {
       "model_id": "dc5d02b42de44baebfeb1bccd1cd3978",
       "version_major": 2,
       "version_minor": 0
      },
      "text/plain": [
       "  0%|          | 0/6 [00:00<?, ?it/s]"
      ]
     },
     "metadata": {},
     "output_type": "display_data"
    },
    {
     "name": "stdout",
     "output_type": "stream",
     "text": [
      "64\n",
      "Feasibility SDP is set up with hard equality constraints\n",
      "dimension of symmetry subspace is 6\n",
      "tr(M*rho)= (3.9999999999999982-1.5681900222830336e-15j)\n",
      "fidelity to the theoretical steady state is 0.9999999999999997\n"
     ]
    },
    {
     "data": {
      "application/vnd.jupyter.widget-view+json": {
       "model_id": "f0c06734463d4720b767fce591addce7",
       "version_major": 2,
       "version_minor": 0
      },
      "text/plain": [
       "  0%|          | 0/6 [00:00<?, ?it/s]"
      ]
     },
     "metadata": {},
     "output_type": "display_data"
    },
    {
     "name": "stdout",
     "output_type": "stream",
     "text": [
      "64\n",
      "Feasibility SDP is set up with hard equality constraints\n",
      "dimension of symmetry subspace is 6\n",
      "tr(M*rho)= (3.999999999999985+2.7755575615628914e-15j)\n",
      "fidelity to the theoretical steady state is 0.9999999999999982\n"
     ]
    },
    {
     "data": {
      "application/vnd.jupyter.widget-view+json": {
       "model_id": "c3b5ee30789647cb8a0b439638f1e5ab",
       "version_major": 2,
       "version_minor": 0
      },
      "text/plain": [
       "  0%|          | 0/6 [00:00<?, ?it/s]"
      ]
     },
     "metadata": {},
     "output_type": "display_data"
    },
    {
     "name": "stdout",
     "output_type": "stream",
     "text": [
      "64\n",
      "Feasibility SDP is set up with hard equality constraints\n",
      "dimension of symmetry subspace is 6\n",
      "tr(M*rho)= (4-1.4497951450476165e-15j)\n",
      "fidelity to the theoretical steady state is 1.0000000000000004\n"
     ]
    },
    {
     "data": {
      "application/vnd.jupyter.widget-view+json": {
       "model_id": "cd297221a92b41909d506228bfdb4f62",
       "version_major": 2,
       "version_minor": 0
      },
      "text/plain": [
       "  0%|          | 0/6 [00:00<?, ?it/s]"
      ]
     },
     "metadata": {},
     "output_type": "display_data"
    },
    {
     "name": "stdout",
     "output_type": "stream",
     "text": [
      "64\n",
      "Feasibility SDP is set up with hard equality constraints\n",
      "dimension of symmetry subspace is 6\n",
      "tr(M*rho)= (3.999999999999992-6.130512764102036e-15j)\n",
      "fidelity to the theoretical steady state is 0.9999999999999987\n"
     ]
    },
    {
     "data": {
      "application/vnd.jupyter.widget-view+json": {
       "model_id": "d562594652dc4a1fbe2c1c29253c22a6",
       "version_major": 2,
       "version_minor": 0
      },
      "text/plain": [
       "  0%|          | 0/6 [00:00<?, ?it/s]"
      ]
     },
     "metadata": {},
     "output_type": "display_data"
    },
    {
     "name": "stdout",
     "output_type": "stream",
     "text": [
      "64\n",
      "Feasibility SDP is set up with hard equality constraints\n",
      "dimension of symmetry subspace is 6\n",
      "tr(M*rho)= (3.999999999999993-1.4965459427251915e-14j)\n",
      "fidelity to the theoretical steady state is 0.9999999999999989\n"
     ]
    },
    {
     "data": {
      "application/vnd.jupyter.widget-view+json": {
       "model_id": "1d339fbb26b6490289dd1255b7e24dc2",
       "version_major": 2,
       "version_minor": 0
      },
      "text/plain": [
       "  0%|          | 0/6 [00:00<?, ?it/s]"
      ]
     },
     "metadata": {},
     "output_type": "display_data"
    },
    {
     "name": "stdout",
     "output_type": "stream",
     "text": [
      "64\n",
      "Feasibility SDP is set up with hard equality constraints\n",
      "dimension of symmetry subspace is 6\n",
      "tr(M*rho)= (4.000000000000002+8.153200337090993e-17j)\n",
      "fidelity to the theoretical steady state is 0.9128709291752771\n"
     ]
    },
    {
     "data": {
      "application/vnd.jupyter.widget-view+json": {
       "model_id": "f6cc82243a554065bbd3397ae2e2a5ae",
       "version_major": 2,
       "version_minor": 0
      },
      "text/plain": [
       "  0%|          | 0/6 [00:00<?, ?it/s]"
      ]
     },
     "metadata": {},
     "output_type": "display_data"
    },
    {
     "name": "stdout",
     "output_type": "stream",
     "text": [
      "64\n",
      "Feasibility SDP is set up with hard equality constraints\n",
      "dimension of symmetry subspace is 6\n",
      "tr(M*rho)= (3.9999999999999987+1.2793585635328952e-16j)\n",
      "fidelity to the theoretical steady state is 0.9999999999999997\n"
     ]
    },
    {
     "data": {
      "application/vnd.jupyter.widget-view+json": {
       "model_id": "b7a05f5c02cb4be3a9d9bf5d9db990c3",
       "version_major": 2,
       "version_minor": 0
      },
      "text/plain": [
       "  0%|          | 0/6 [00:00<?, ?it/s]"
      ]
     },
     "metadata": {},
     "output_type": "display_data"
    },
    {
     "name": "stdout",
     "output_type": "stream",
     "text": [
      "64\n",
      "Feasibility SDP is set up with hard equality constraints\n",
      "dimension of symmetry subspace is 6\n",
      "tr(M*rho)= (4.000013925002369+3.947807611026817e-05j)\n",
      "fidelity to the theoretical steady state is 0.9014812241707233\n"
     ]
    },
    {
     "data": {
      "application/vnd.jupyter.widget-view+json": {
       "model_id": "4291e41b4d3847268f6aaa14d8fe32b6",
       "version_major": 2,
       "version_minor": 0
      },
      "text/plain": [
       "  0%|          | 0/6 [00:00<?, ?it/s]"
      ]
     },
     "metadata": {},
     "output_type": "display_data"
    },
    {
     "name": "stdout",
     "output_type": "stream",
     "text": [
      "64\n",
      "Feasibility SDP is set up with hard equality constraints\n",
      "dimension of symmetry subspace is 6\n",
      "tr(M*rho)= (4.000000000000002+1.960237527853792e-16j)\n",
      "fidelity to the theoretical steady state is 1.0000000000000004\n"
     ]
    },
    {
     "data": {
      "application/vnd.jupyter.widget-view+json": {
       "model_id": "8fbc9a6ea0bc42e48b80f8049e7839c6",
       "version_major": 2,
       "version_minor": 0
      },
      "text/plain": [
       "  0%|          | 0/6 [00:00<?, ?it/s]"
      ]
     },
     "metadata": {},
     "output_type": "display_data"
    },
    {
     "name": "stdout",
     "output_type": "stream",
     "text": [
      "64\n",
      "Feasibility SDP is set up with hard equality constraints\n",
      "dimension of symmetry subspace is 6\n",
      "tr(M*rho)= (4.000000000000005-1.4094628242311558e-15j)\n",
      "fidelity to the theoretical steady state is 1.0000000000000007\n"
     ]
    },
    {
     "data": {
      "application/vnd.jupyter.widget-view+json": {
       "model_id": "157f7880c5ab4407b2931cda1007b778",
       "version_major": 2,
       "version_minor": 0
      },
      "text/plain": [
       "  0%|          | 0/6 [00:00<?, ?it/s]"
      ]
     },
     "metadata": {},
     "output_type": "display_data"
    },
    {
     "name": "stdout",
     "output_type": "stream",
     "text": [
      "64\n",
      "Feasibility SDP is set up with hard equality constraints\n",
      "dimension of symmetry subspace is 6\n",
      "tr(M*rho)= (4.000000140748116-4.820855499933045e-08j)\n",
      "fidelity to the theoretical steady state is 0.7557060224726329\n"
     ]
    },
    {
     "data": {
      "application/vnd.jupyter.widget-view+json": {
       "model_id": "e66a416505944cb5b86f8e41fd15be24",
       "version_major": 2,
       "version_minor": 0
      },
      "text/plain": [
       "  0%|          | 0/6 [00:00<?, ?it/s]"
      ]
     },
     "metadata": {},
     "output_type": "display_data"
    },
    {
     "name": "stdout",
     "output_type": "stream",
     "text": [
      "64\n",
      "Feasibility SDP is set up with hard equality constraints\n",
      "dimension of symmetry subspace is 6\n",
      "tr(M*rho)= (4.000000000000004-1.2028138901554186e-15j)\n",
      "fidelity to the theoretical steady state is 1.0000000000000004\n"
     ]
    },
    {
     "data": {
      "application/vnd.jupyter.widget-view+json": {
       "model_id": "8de30804749c4da3b893474af6d65221",
       "version_major": 2,
       "version_minor": 0
      },
      "text/plain": [
       "  0%|          | 0/6 [00:00<?, ?it/s]"
      ]
     },
     "metadata": {},
     "output_type": "display_data"
    },
    {
     "name": "stdout",
     "output_type": "stream",
     "text": [
      "64\n",
      "Feasibility SDP is set up with hard equality constraints\n",
      "dimension of symmetry subspace is 6\n",
      "tr(M*rho)= (4.000000000000002+7.029424785309768e-16j)\n",
      "fidelity to the theoretical steady state is 0.9999999999999997\n"
     ]
    },
    {
     "data": {
      "application/vnd.jupyter.widget-view+json": {
       "model_id": "7f043d7247374fd6bbf9441666a5e5a4",
       "version_major": 2,
       "version_minor": 0
      },
      "text/plain": [
       "  0%|          | 0/6 [00:00<?, ?it/s]"
      ]
     },
     "metadata": {},
     "output_type": "display_data"
    },
    {
     "name": "stdout",
     "output_type": "stream",
     "text": [
      "64\n",
      "Feasibility SDP is set up with hard equality constraints\n",
      "dimension of symmetry subspace is 6\n",
      "tr(M*rho)= (4.000000000000208-7.577272143066693e-15j)\n",
      "fidelity to the theoretical steady state is 0.91287093105557\n"
     ]
    },
    {
     "data": {
      "application/vnd.jupyter.widget-view+json": {
       "model_id": "ad6de8a2421d460ca4b6789b0cc86eec",
       "version_major": 2,
       "version_minor": 0
      },
      "text/plain": [
       "  0%|          | 0/6 [00:00<?, ?it/s]"
      ]
     },
     "metadata": {},
     "output_type": "display_data"
    },
    {
     "name": "stdout",
     "output_type": "stream",
     "text": [
      "64\n",
      "Feasibility SDP is set up with hard equality constraints\n",
      "dimension of symmetry subspace is 6\n",
      "tr(M*rho)= (3.9999999999999996-7.24247051220317e-17j)\n",
      "fidelity to the theoretical steady state is 0.9999999999999991\n"
     ]
    },
    {
     "data": {
      "application/vnd.jupyter.widget-view+json": {
       "model_id": "f4cfffde53164864980b93ba293ac61c",
       "version_major": 2,
       "version_minor": 0
      },
      "text/plain": [
       "  0%|          | 0/6 [00:00<?, ?it/s]"
      ]
     },
     "metadata": {},
     "output_type": "display_data"
    },
    {
     "name": "stdout",
     "output_type": "stream",
     "text": [
      "64\n",
      "Feasibility SDP is set up with hard equality constraints\n",
      "dimension of symmetry subspace is 6\n",
      "tr(M*rho)= (3.999622421056836-0.00025996650038062966j)\n",
      "fidelity to the theoretical steady state is 0.8845534336979383\n"
     ]
    },
    {
     "data": {
      "application/vnd.jupyter.widget-view+json": {
       "model_id": "accceca9f6ef49d2a7658b2b79219f74",
       "version_major": 2,
       "version_minor": 0
      },
      "text/plain": [
       "  0%|          | 0/6 [00:00<?, ?it/s]"
      ]
     },
     "metadata": {},
     "output_type": "display_data"
    },
    {
     "name": "stdout",
     "output_type": "stream",
     "text": [
      "64\n",
      "Feasibility SDP is set up with hard equality constraints\n",
      "dimension of symmetry subspace is 6\n",
      "tr(M*rho)= (4+1.0408340855860843e-17j)\n",
      "fidelity to the theoretical steady state is 1.0000000000000004\n"
     ]
    },
    {
     "data": {
      "application/vnd.jupyter.widget-view+json": {
       "model_id": "c7eabe290db243f18844343b06f18d4f",
       "version_major": 2,
       "version_minor": 0
      },
      "text/plain": [
       "  0%|          | 0/6 [00:00<?, ?it/s]"
      ]
     },
     "metadata": {},
     "output_type": "display_data"
    },
    {
     "name": "stdout",
     "output_type": "stream",
     "text": [
      "64\n",
      "Feasibility SDP is set up with hard equality constraints\n",
      "dimension of symmetry subspace is 6\n",
      "tr(M*rho)= (4.000000000008718-7.991281247843318e-13j)\n",
      "fidelity to the theoretical steady state is 0.8897186123197741\n"
     ]
    },
    {
     "data": {
      "application/vnd.jupyter.widget-view+json": {
       "model_id": "ef5df0c070d647428ebcad39265ec4f5",
       "version_major": 2,
       "version_minor": 0
      },
      "text/plain": [
       "  0%|          | 0/6 [00:00<?, ?it/s]"
      ]
     },
     "metadata": {},
     "output_type": "display_data"
    },
    {
     "name": "stdout",
     "output_type": "stream",
     "text": [
      "64\n",
      "Feasibility SDP is set up with hard equality constraints\n",
      "dimension of symmetry subspace is 6\n",
      "tr(M*rho)= (4+2.123301534595612e-15j)\n",
      "fidelity to the theoretical steady state is 0.9999999999999998\n"
     ]
    },
    {
     "data": {
      "application/vnd.jupyter.widget-view+json": {
       "model_id": "a19dac02eb224c4d9b3be6e0b133d0e6",
       "version_major": 2,
       "version_minor": 0
      },
      "text/plain": [
       "  0%|          | 0/6 [00:00<?, ?it/s]"
      ]
     },
     "metadata": {},
     "output_type": "display_data"
    },
    {
     "name": "stdout",
     "output_type": "stream",
     "text": [
      "64\n",
      "Feasibility SDP is set up with hard equality constraints\n",
      "dimension of symmetry subspace is 6\n",
      "tr(M*rho)= (4.000000000000013+7.563394355258879e-16j)\n",
      "fidelity to the theoretical steady state is 0.9128709291752787\n"
     ]
    },
    {
     "data": {
      "application/vnd.jupyter.widget-view+json": {
       "model_id": "c1972dc3a8494627b436e69839d8c59e",
       "version_major": 2,
       "version_minor": 0
      },
      "text/plain": [
       "  0%|          | 0/6 [00:00<?, ?it/s]"
      ]
     },
     "metadata": {},
     "output_type": "display_data"
    },
    {
     "name": "stdout",
     "output_type": "stream",
     "text": [
      "64\n",
      "Feasibility SDP is set up with hard equality constraints\n",
      "dimension of symmetry subspace is 6\n",
      "tr(M*rho)= (3.9999999999999996-8.222589276130066e-16j)\n",
      "fidelity to the theoretical steady state is 1.0\n"
     ]
    },
    {
     "data": {
      "application/vnd.jupyter.widget-view+json": {
       "model_id": "c3721288af6e4886b6b9225fdd138de5",
       "version_major": 2,
       "version_minor": 0
      },
      "text/plain": [
       "  0%|          | 0/6 [00:00<?, ?it/s]"
      ]
     },
     "metadata": {},
     "output_type": "display_data"
    },
    {
     "name": "stdout",
     "output_type": "stream",
     "text": [
      "64\n",
      "Feasibility SDP is set up with hard equality constraints\n",
      "dimension of symmetry subspace is 6\n",
      "tr(M*rho)= (4.000000000000001-2.1510571102112408e-16j)\n",
      "fidelity to the theoretical steady state is 0.912870929175277\n"
     ]
    },
    {
     "data": {
      "application/vnd.jupyter.widget-view+json": {
       "model_id": "01046c7cbd2640faaa27ceca290ea737",
       "version_major": 2,
       "version_minor": 0
      },
      "text/plain": [
       "  0%|          | 0/6 [00:00<?, ?it/s]"
      ]
     },
     "metadata": {},
     "output_type": "display_data"
    },
    {
     "name": "stdout",
     "output_type": "stream",
     "text": [
      "64\n",
      "Feasibility SDP is set up with hard equality constraints\n",
      "dimension of symmetry subspace is 6\n",
      "tr(M*rho)= (3.9999999999999987+1.9244588561617704e-17j)\n",
      "fidelity to the theoretical steady state is 0.9128709291752767\n"
     ]
    },
    {
     "data": {
      "application/vnd.jupyter.widget-view+json": {
       "model_id": "0f196176a1a2495d801c71e7527df6b0",
       "version_major": 2,
       "version_minor": 0
      },
      "text/plain": [
       "  0%|          | 0/6 [00:00<?, ?it/s]"
      ]
     },
     "metadata": {},
     "output_type": "display_data"
    },
    {
     "name": "stdout",
     "output_type": "stream",
     "text": [
      "64\n",
      "Feasibility SDP is set up with hard equality constraints\n",
      "dimension of symmetry subspace is 6\n",
      "tr(M*rho)= (4+1.0581813203458523e-16j)\n",
      "fidelity to the theoretical steady state is 1.0\n"
     ]
    },
    {
     "data": {
      "application/vnd.jupyter.widget-view+json": {
       "model_id": "4e31392a56dd49f88e6cf225910dc03a",
       "version_major": 2,
       "version_minor": 0
      },
      "text/plain": [
       "  0%|          | 0/6 [00:00<?, ?it/s]"
      ]
     },
     "metadata": {},
     "output_type": "display_data"
    },
    {
     "name": "stdout",
     "output_type": "stream",
     "text": [
      "64\n",
      "Feasibility SDP is set up with hard equality constraints\n",
      "dimension of symmetry subspace is 6\n",
      "tr(M*rho)= (4.000000000000002-5.145623510616204e-16j)\n",
      "fidelity to the theoretical steady state is 0.9128709318094551\n"
     ]
    },
    {
     "data": {
      "application/vnd.jupyter.widget-view+json": {
       "model_id": "7439cb989eed427f985a214638c74139",
       "version_major": 2,
       "version_minor": 0
      },
      "text/plain": [
       "  0%|          | 0/6 [00:00<?, ?it/s]"
      ]
     },
     "metadata": {},
     "output_type": "display_data"
    },
    {
     "name": "stdout",
     "output_type": "stream",
     "text": [
      "64\n",
      "Feasibility SDP is set up with hard equality constraints\n",
      "dimension of symmetry subspace is 6\n",
      "tr(M*rho)= (3.9999999178777053+3.492881406738299e-07j)\n",
      "fidelity to the theoretical steady state is 0.9114289312985835\n"
     ]
    },
    {
     "data": {
      "application/vnd.jupyter.widget-view+json": {
       "model_id": "3761eba903a94f09aa2e0b1374911cd5",
       "version_major": 2,
       "version_minor": 0
      },
      "text/plain": [
       "  0%|          | 0/6 [00:00<?, ?it/s]"
      ]
     },
     "metadata": {},
     "output_type": "display_data"
    },
    {
     "name": "stdout",
     "output_type": "stream",
     "text": [
      "64\n",
      "Feasibility SDP is set up with hard equality constraints\n",
      "dimension of symmetry subspace is 6\n",
      "tr(M*rho)= (4.000000000000018-4.163336342344337e-17j)\n",
      "fidelity to the theoretical steady state is 1.000000000000002\n"
     ]
    },
    {
     "data": {
      "application/vnd.jupyter.widget-view+json": {
       "model_id": "aa767035094645aa9614fff1f65d308c",
       "version_major": 2,
       "version_minor": 0
      },
      "text/plain": [
       "  0%|          | 0/6 [00:00<?, ?it/s]"
      ]
     },
     "metadata": {},
     "output_type": "display_data"
    },
    {
     "name": "stdout",
     "output_type": "stream",
     "text": [
      "64\n",
      "Feasibility SDP is set up with hard equality constraints\n",
      "dimension of symmetry subspace is 6\n",
      "tr(M*rho)= (3.9999970001993073+1.6840727172636946e-07j)\n",
      "fidelity to the theoretical steady state is 0.7905286274820273\n"
     ]
    },
    {
     "data": {
      "application/vnd.jupyter.widget-view+json": {
       "model_id": "4b0e6ee5895a4603af6f98a5afde95a5",
       "version_major": 2,
       "version_minor": 0
      },
      "text/plain": [
       "  0%|          | 0/6 [00:00<?, ?it/s]"
      ]
     },
     "metadata": {},
     "output_type": "display_data"
    },
    {
     "name": "stdout",
     "output_type": "stream",
     "text": [
      "64\n",
      "Feasibility SDP is set up with hard equality constraints\n",
      "dimension of symmetry subspace is 6\n",
      "tr(M*rho)= (4.0000000000000036-2.7651492207070305e-15j)\n",
      "fidelity to the theoretical steady state is 1.0\n"
     ]
    },
    {
     "data": {
      "application/vnd.jupyter.widget-view+json": {
       "model_id": "b911eed9ad4748f7a0f839936cba6f8b",
       "version_major": 2,
       "version_minor": 0
      },
      "text/plain": [
       "  0%|          | 0/6 [00:00<?, ?it/s]"
      ]
     },
     "metadata": {},
     "output_type": "display_data"
    },
    {
     "name": "stdout",
     "output_type": "stream",
     "text": [
      "64\n",
      "Feasibility SDP is set up with hard equality constraints\n",
      "dimension of symmetry subspace is 6\n",
      "tr(M*rho)= (4.000000000001665+1.880397096712394e-12j)\n",
      "fidelity to the theoretical steady state is 0.9446453517689868\n"
     ]
    },
    {
     "data": {
      "application/vnd.jupyter.widget-view+json": {
       "model_id": "189f4e3f19944475be4a604c1c6b9aa9",
       "version_major": 2,
       "version_minor": 0
      },
      "text/plain": [
       "  0%|          | 0/6 [00:00<?, ?it/s]"
      ]
     },
     "metadata": {},
     "output_type": "display_data"
    },
    {
     "name": "stdout",
     "output_type": "stream",
     "text": [
      "64\n",
      "Feasibility SDP is set up with hard equality constraints\n",
      "dimension of symmetry subspace is 6\n",
      "tr(M*rho)= (4.000000000000002+4.579669976578771e-16j)\n",
      "fidelity to the theoretical steady state is 0.912870929175277\n"
     ]
    },
    {
     "data": {
      "application/vnd.jupyter.widget-view+json": {
       "model_id": "77e5266c6ed1467ab7e071599330e9fd",
       "version_major": 2,
       "version_minor": 0
      },
      "text/plain": [
       "  0%|          | 0/6 [00:00<?, ?it/s]"
      ]
     },
     "metadata": {},
     "output_type": "display_data"
    },
    {
     "name": "stdout",
     "output_type": "stream",
     "text": [
      "64\n",
      "Feasibility SDP is set up with hard equality constraints\n",
      "dimension of symmetry subspace is 6\n",
      "tr(M*rho)= (4.000000000000015-6.38378239159465e-16j)\n",
      "fidelity to the theoretical steady state is 1.000000000000002\n"
     ]
    },
    {
     "data": {
      "application/vnd.jupyter.widget-view+json": {
       "model_id": "1bfe88a6bc574c51b4eb102f0598853b",
       "version_major": 2,
       "version_minor": 0
      },
      "text/plain": [
       "  0%|          | 0/6 [00:00<?, ?it/s]"
      ]
     },
     "metadata": {},
     "output_type": "display_data"
    },
    {
     "name": "stdout",
     "output_type": "stream",
     "text": [
      "64\n",
      "Feasibility SDP is set up with hard equality constraints\n",
      "dimension of symmetry subspace is 6\n",
      "tr(M*rho)= (3.9999999999999987+7.28583859910259e-17j)\n",
      "fidelity to the theoretical steady state is 1.0\n"
     ]
    },
    {
     "data": {
      "application/vnd.jupyter.widget-view+json": {
       "model_id": "2ccbe0631df249c096239103073bfbc9",
       "version_major": 2,
       "version_minor": 0
      },
      "text/plain": [
       "  0%|          | 0/6 [00:00<?, ?it/s]"
      ]
     },
     "metadata": {},
     "output_type": "display_data"
    },
    {
     "name": "stdout",
     "output_type": "stream",
     "text": [
      "64\n",
      "Feasibility SDP is set up with hard equality constraints\n",
      "dimension of symmetry subspace is 6\n",
      "tr(M*rho)= (3.9999992472937365+2.873789816792288e-07j)\n",
      "fidelity to the theoretical steady state is 0.7895266623701946\n"
     ]
    },
    {
     "data": {
      "application/vnd.jupyter.widget-view+json": {
       "model_id": "d64cc994d717456fbf724af300538e3c",
       "version_major": 2,
       "version_minor": 0
      },
      "text/plain": [
       "  0%|          | 0/6 [00:00<?, ?it/s]"
      ]
     },
     "metadata": {},
     "output_type": "display_data"
    },
    {
     "name": "stdout",
     "output_type": "stream",
     "text": [
      "64\n",
      "Feasibility SDP is set up with hard equality constraints\n",
      "dimension of symmetry subspace is 6\n",
      "tr(M*rho)= (4.000000000000008+4.3619621803436814e-15j)\n",
      "fidelity to the theoretical steady state is 0.9999999999999973\n"
     ]
    },
    {
     "data": {
      "application/vnd.jupyter.widget-view+json": {
       "model_id": "81d692f0f8d04ed19a3e12ed0803c429",
       "version_major": 2,
       "version_minor": 0
      },
      "text/plain": [
       "  0%|          | 0/6 [00:00<?, ?it/s]"
      ]
     },
     "metadata": {},
     "output_type": "display_data"
    },
    {
     "name": "stdout",
     "output_type": "stream",
     "text": [
      "64\n",
      "Feasibility SDP is set up with hard equality constraints\n",
      "dimension of symmetry subspace is 6\n",
      "tr(M*rho)= (3.999999999999982-8.382183835919932e-15j)\n",
      "fidelity to the theoretical steady state is 0.9128709291752748\n"
     ]
    },
    {
     "data": {
      "application/vnd.jupyter.widget-view+json": {
       "model_id": "077a288e37df483cabf7291575baa998",
       "version_major": 2,
       "version_minor": 0
      },
      "text/plain": [
       "  0%|          | 0/6 [00:00<?, ?it/s]"
      ]
     },
     "metadata": {},
     "output_type": "display_data"
    },
    {
     "name": "stdout",
     "output_type": "stream",
     "text": [
      "64\n",
      "Feasibility SDP is set up with hard equality constraints\n",
      "dimension of symmetry subspace is 6\n",
      "tr(M*rho)= (4.000000000000002+8.023096076392733e-17j)\n",
      "fidelity to the theoretical steady state is 1.0000000000000002\n"
     ]
    },
    {
     "data": {
      "application/vnd.jupyter.widget-view+json": {
       "model_id": "678f712cd426490b941f041c93b38bd9",
       "version_major": 2,
       "version_minor": 0
      },
      "text/plain": [
       "  0%|          | 0/6 [00:00<?, ?it/s]"
      ]
     },
     "metadata": {},
     "output_type": "display_data"
    },
    {
     "name": "stdout",
     "output_type": "stream",
     "text": [
      "64\n",
      "Feasibility SDP is set up with hard equality constraints\n",
      "dimension of symmetry subspace is 6\n",
      "tr(M*rho)= (4-1.6306400674181987e-16j)\n",
      "fidelity to the theoretical steady state is 0.9999999999999996\n"
     ]
    },
    {
     "data": {
      "application/vnd.jupyter.widget-view+json": {
       "model_id": "8606be6edb6a4b5ba9500277508f1b71",
       "version_major": 2,
       "version_minor": 0
      },
      "text/plain": [
       "  0%|          | 0/6 [00:00<?, ?it/s]"
      ]
     },
     "metadata": {},
     "output_type": "display_data"
    },
    {
     "name": "stdout",
     "output_type": "stream",
     "text": [
      "64\n",
      "Feasibility SDP is set up with hard equality constraints\n",
      "dimension of symmetry subspace is 6\n",
      "tr(M*rho)= (4-3.7730235602495554e-17j)\n",
      "fidelity to the theoretical steady state is 1.0000000000000004\n"
     ]
    },
    {
     "data": {
      "application/vnd.jupyter.widget-view+json": {
       "model_id": "c922559e3d72496bba65d7a358bd936b",
       "version_major": 2,
       "version_minor": 0
      },
      "text/plain": [
       "  0%|          | 0/6 [00:00<?, ?it/s]"
      ]
     },
     "metadata": {},
     "output_type": "display_data"
    },
    {
     "name": "stdout",
     "output_type": "stream",
     "text": [
      "64\n",
      "Feasibility SDP is set up with hard equality constraints\n",
      "dimension of symmetry subspace is 6\n",
      "tr(M*rho)= (3.999999895940758-4.323180667319408e-08j)\n",
      "fidelity to the theoretical steady state is 0.7365137136381188\n"
     ]
    },
    {
     "data": {
      "application/vnd.jupyter.widget-view+json": {
       "model_id": "d20895924c73464daaaaa1d4bc46c979",
       "version_major": 2,
       "version_minor": 0
      },
      "text/plain": [
       "  0%|          | 0/6 [00:00<?, ?it/s]"
      ]
     },
     "metadata": {},
     "output_type": "display_data"
    },
    {
     "name": "stdout",
     "output_type": "stream",
     "text": [
      "64\n",
      "Feasibility SDP is set up with hard equality constraints\n",
      "dimension of symmetry subspace is 6\n",
      "tr(M*rho)= (3.9999999999999996+6.819631664933823e-16j)\n",
      "fidelity to the theoretical steady state is 1.0\n"
     ]
    },
    {
     "data": {
      "application/vnd.jupyter.widget-view+json": {
       "model_id": "8eedf563fb2349299cd859aac14fabc7",
       "version_major": 2,
       "version_minor": 0
      },
      "text/plain": [
       "  0%|          | 0/6 [00:00<?, ?it/s]"
      ]
     },
     "metadata": {},
     "output_type": "display_data"
    },
    {
     "name": "stdout",
     "output_type": "stream",
     "text": [
      "64\n",
      "Feasibility SDP is set up with hard equality constraints\n",
      "dimension of symmetry subspace is 6\n",
      "tr(M*rho)= (4.000000000000002+6.522560269672795e-16j)\n",
      "fidelity to the theoretical steady state is 1.0\n"
     ]
    },
    {
     "data": {
      "application/vnd.jupyter.widget-view+json": {
       "model_id": "ca2b03987f834d01b1f562a2b4ff8124",
       "version_major": 2,
       "version_minor": 0
      },
      "text/plain": [
       "  0%|          | 0/6 [00:00<?, ?it/s]"
      ]
     },
     "metadata": {},
     "output_type": "display_data"
    },
    {
     "name": "stdout",
     "output_type": "stream",
     "text": [
      "64\n",
      "Feasibility SDP is set up with hard equality constraints\n",
      "dimension of symmetry subspace is 6\n",
      "tr(M*rho)= (4.000000000000016-8.963316200372162e-15j)\n",
      "fidelity to the theoretical steady state is 1.0000000000000022\n"
     ]
    },
    {
     "data": {
      "application/vnd.jupyter.widget-view+json": {
       "model_id": "6ecd95bf19cb45b4bffdcac150784473",
       "version_major": 2,
       "version_minor": 0
      },
      "text/plain": [
       "  0%|          | 0/6 [00:00<?, ?it/s]"
      ]
     },
     "metadata": {},
     "output_type": "display_data"
    },
    {
     "name": "stdout",
     "output_type": "stream",
     "text": [
      "64\n",
      "Feasibility SDP is set up with hard equality constraints\n",
      "dimension of symmetry subspace is 6\n",
      "tr(M*rho)= (4.000000000000001+1.6306400674181987e-16j)\n",
      "fidelity to the theoretical steady state is 0.912870929175277\n"
     ]
    },
    {
     "data": {
      "application/vnd.jupyter.widget-view+json": {
       "model_id": "a7844bc76a2f48868710eeab342378e6",
       "version_major": 2,
       "version_minor": 0
      },
      "text/plain": [
       "  0%|          | 0/6 [00:00<?, ?it/s]"
      ]
     },
     "metadata": {},
     "output_type": "display_data"
    },
    {
     "name": "stdout",
     "output_type": "stream",
     "text": [
      "64\n",
      "Feasibility SDP is set up with hard equality constraints\n",
      "dimension of symmetry subspace is 6\n",
      "tr(M*rho)= (4.000000000000002-2.1684043449710089e-16j)\n",
      "fidelity to the theoretical steady state is 1.0\n"
     ]
    },
    {
     "data": {
      "application/vnd.jupyter.widget-view+json": {
       "model_id": "cc3ab37372024066ac011994707c673f",
       "version_major": 2,
       "version_minor": 0
      },
      "text/plain": [
       "  0%|          | 0/6 [00:00<?, ?it/s]"
      ]
     },
     "metadata": {},
     "output_type": "display_data"
    },
    {
     "name": "stdout",
     "output_type": "stream",
     "text": [
      "64\n",
      "Feasibility SDP is set up with hard equality constraints\n",
      "dimension of symmetry subspace is 6\n",
      "tr(M*rho)= (4-1.1609094761888539e-16j)\n",
      "fidelity to the theoretical steady state is 0.9128709291752767\n"
     ]
    },
    {
     "data": {
      "application/vnd.jupyter.widget-view+json": {
       "model_id": "adc4e56bf8ce44f49da6244f9568fe09",
       "version_major": 2,
       "version_minor": 0
      },
      "text/plain": [
       "  0%|          | 0/6 [00:00<?, ?it/s]"
      ]
     },
     "metadata": {},
     "output_type": "display_data"
    },
    {
     "name": "stdout",
     "output_type": "stream",
     "text": [
      "64\n",
      "Feasibility SDP is set up with hard equality constraints\n",
      "dimension of symmetry subspace is 6\n",
      "tr(M*rho)= (3.9999999999999285+3.147482274812319e-14j)\n",
      "fidelity to the theoretical steady state is 0.9999999999941053\n"
     ]
    },
    {
     "data": {
      "application/vnd.jupyter.widget-view+json": {
       "model_id": "c76b96b71abc41d183baa5b38c869938",
       "version_major": 2,
       "version_minor": 0
      },
      "text/plain": [
       "  0%|          | 0/6 [00:00<?, ?it/s]"
      ]
     },
     "metadata": {},
     "output_type": "display_data"
    },
    {
     "name": "stdout",
     "output_type": "stream",
     "text": [
      "64\n",
      "Feasibility SDP is set up with hard equality constraints\n",
      "dimension of symmetry subspace is 6\n",
      "tr(M*rho)= (3.9999999999999987-5.93275428784068e-16j)\n",
      "fidelity to the theoretical steady state is 0.9128709291752767\n"
     ]
    },
    {
     "data": {
      "application/vnd.jupyter.widget-view+json": {
       "model_id": "ae9bf9f20d694c818d8018ad9a674da7",
       "version_major": 2,
       "version_minor": 0
      },
      "text/plain": [
       "  0%|          | 0/6 [00:00<?, ?it/s]"
      ]
     },
     "metadata": {},
     "output_type": "display_data"
    },
    {
     "name": "stdout",
     "output_type": "stream",
     "text": [
      "64\n",
      "Feasibility SDP is set up with hard equality constraints\n",
      "dimension of symmetry subspace is 6\n",
      "tr(M*rho)= (4+1.0202342443088597e-16j)\n",
      "fidelity to the theoretical steady state is 1.0\n"
     ]
    },
    {
     "data": {
      "application/vnd.jupyter.widget-view+json": {
       "model_id": "2db6a182e2644bc8a9ddb2f8272471f3",
       "version_major": 2,
       "version_minor": 0
      },
      "text/plain": [
       "  0%|          | 0/6 [00:00<?, ?it/s]"
      ]
     },
     "metadata": {},
     "output_type": "display_data"
    },
    {
     "name": "stdout",
     "output_type": "stream",
     "text": [
      "64\n",
      "Feasibility SDP is set up with hard equality constraints\n",
      "dimension of symmetry subspace is 6\n",
      "tr(M*rho)= (3.9999999797884866+9.133898723825973e-08j)\n",
      "fidelity to the theoretical steady state is 0.8692241804691636\n"
     ]
    },
    {
     "data": {
      "application/vnd.jupyter.widget-view+json": {
       "model_id": "025a16cd4eb04bda99562ffd5c9b8661",
       "version_major": 2,
       "version_minor": 0
      },
      "text/plain": [
       "  0%|          | 0/6 [00:00<?, ?it/s]"
      ]
     },
     "metadata": {},
     "output_type": "display_data"
    },
    {
     "name": "stdout",
     "output_type": "stream",
     "text": [
      "64\n",
      "Feasibility SDP is set up with hard equality constraints\n",
      "dimension of symmetry subspace is 6\n",
      "tr(M*rho)= (4.0000000000000036+1.6792123247455493e-15j)\n",
      "fidelity to the theoretical steady state is 1.0000000000000002\n"
     ]
    },
    {
     "data": {
      "application/vnd.jupyter.widget-view+json": {
       "model_id": "88563cb1513946baa17ec4640f47ca7c",
       "version_major": 2,
       "version_minor": 0
      },
      "text/plain": [
       "  0%|          | 0/6 [00:00<?, ?it/s]"
      ]
     },
     "metadata": {},
     "output_type": "display_data"
    },
    {
     "name": "stdout",
     "output_type": "stream",
     "text": [
      "64\n",
      "Feasibility SDP is set up with hard equality constraints\n",
      "dimension of symmetry subspace is 6\n",
      "tr(M*rho)= (4.000000000000002+4.40619762898109e-16j)\n",
      "fidelity to the theoretical steady state is 1.0\n"
     ]
    },
    {
     "data": {
      "application/vnd.jupyter.widget-view+json": {
       "model_id": "ec5294ac4d904a1b9d49511ddcdc95b3",
       "version_major": 2,
       "version_minor": 0
      },
      "text/plain": [
       "  0%|          | 0/6 [00:00<?, ?it/s]"
      ]
     },
     "metadata": {},
     "output_type": "display_data"
    },
    {
     "name": "stdout",
     "output_type": "stream",
     "text": [
      "64\n",
      "Feasibility SDP is set up with hard equality constraints\n",
      "dimension of symmetry subspace is 6\n",
      "tr(M*rho)= (3.999999999999991+1.5765166949677223e-14j)\n",
      "fidelity to the theoretical steady state is 0.9999999999999987\n"
     ]
    },
    {
     "data": {
      "application/vnd.jupyter.widget-view+json": {
       "model_id": "00d6360360a84340bb554eb642872ead",
       "version_major": 2,
       "version_minor": 0
      },
      "text/plain": [
       "  0%|          | 0/6 [00:00<?, ?it/s]"
      ]
     },
     "metadata": {},
     "output_type": "display_data"
    },
    {
     "name": "stdout",
     "output_type": "stream",
     "text": [
      "64\n",
      "Feasibility SDP is set up with hard equality constraints\n",
      "dimension of symmetry subspace is 6\n",
      "tr(M*rho)= (4+3.0292608699244994e-16j)\n",
      "fidelity to the theoretical steady state is 0.9999999999999998\n",
      "\n"
     ]
    },
    {
     "data": {
      "application/vnd.jupyter.widget-view+json": {
       "model_id": "91606ae5ed9c4492964a3060f4ee960c",
       "version_major": 2,
       "version_minor": 0
      },
      "text/plain": [
       "  0%|          | 0/28 [00:00<?, ?it/s]"
      ]
     },
     "metadata": {},
     "output_type": "display_data"
    },
    {
     "name": "stdout",
     "output_type": "stream",
     "text": [
      "256\n",
      "Feasibility SDP is set up with hard equality constraints\n",
      "dimension of symmetry subspace is 28\n",
      "tr(M*rho)= (4.000000000000002+2.051224013720281e-15j)\n",
      "fidelity to the theoretical steady state is 0.9449111833567558\n"
     ]
    },
    {
     "data": {
      "application/vnd.jupyter.widget-view+json": {
       "model_id": "8b0a5e71f9964d92892ec965c1728d70",
       "version_major": 2,
       "version_minor": 0
      },
      "text/plain": [
       "  0%|          | 0/28 [00:00<?, ?it/s]"
      ]
     },
     "metadata": {},
     "output_type": "display_data"
    },
    {
     "name": "stdout",
     "output_type": "stream",
     "text": [
      "256\n",
      "Feasibility SDP is set up with hard equality constraints\n",
      "dimension of symmetry subspace is 28\n",
      "tr(M*rho)= (3.9999999999998885+9.716964781631213e-14j)\n",
      "fidelity to the theoretical steady state is 0.9999999999997304\n"
     ]
    },
    {
     "data": {
      "application/vnd.jupyter.widget-view+json": {
       "model_id": "564e82d412cf45d6ac3c4802495b0947",
       "version_major": 2,
       "version_minor": 0
      },
      "text/plain": [
       "  0%|          | 0/28 [00:00<?, ?it/s]"
      ]
     },
     "metadata": {},
     "output_type": "display_data"
    },
    {
     "name": "stdout",
     "output_type": "stream",
     "text": [
      "256\n",
      "Feasibility SDP is set up with hard equality constraints\n",
      "dimension of symmetry subspace is 28\n",
      "tr(M*rho)= (3.999999999999811+5.697761174954267e-14j)\n",
      "fidelity to the theoretical steady state is 0.9805638837310952\n"
     ]
    },
    {
     "data": {
      "application/vnd.jupyter.widget-view+json": {
       "model_id": "7c3be67bd05d49a9ab13506eb5ab13d6",
       "version_major": 2,
       "version_minor": 0
      },
      "text/plain": [
       "  0%|          | 0/28 [00:00<?, ?it/s]"
      ]
     },
     "metadata": {},
     "output_type": "display_data"
    },
    {
     "name": "stdout",
     "output_type": "stream",
     "text": [
      "256\n",
      "Feasibility SDP is set up with hard equality constraints\n",
      "dimension of symmetry subspace is 28\n",
      "tr(M*rho)= (4.00000000000297+5.079729447728711e-12j)\n",
      "fidelity to the theoretical steady state is 0.9029258624370018\n"
     ]
    },
    {
     "data": {
      "application/vnd.jupyter.widget-view+json": {
       "model_id": "47c56ccf9d444cfea7eba8e1700d724b",
       "version_major": 2,
       "version_minor": 0
      },
      "text/plain": [
       "  0%|          | 0/28 [00:00<?, ?it/s]"
      ]
     },
     "metadata": {},
     "output_type": "display_data"
    },
    {
     "name": "stdout",
     "output_type": "stream",
     "text": [
      "256\n",
      "Feasibility SDP is set up with hard equality constraints\n",
      "dimension of symmetry subspace is 28\n",
      "tr(M*rho)= (3.9999999999999947-5.941311967585909e-16j)\n",
      "fidelity to the theoretical steady state is 0.9999999999999929\n"
     ]
    },
    {
     "data": {
      "application/vnd.jupyter.widget-view+json": {
       "model_id": "105acf3c2479462fb918c11cf7006aaf",
       "version_major": 2,
       "version_minor": 0
      },
      "text/plain": [
       "  0%|          | 0/28 [00:00<?, ?it/s]"
      ]
     },
     "metadata": {},
     "output_type": "display_data"
    },
    {
     "name": "stdout",
     "output_type": "stream",
     "text": [
      "256\n",
      "Feasibility SDP is set up with hard equality constraints\n",
      "dimension of symmetry subspace is 28\n",
      "tr(M*rho)= (3.9999999999999636-1.34767007666306e-14j)\n",
      "fidelity to the theoretical steady state is 0.979172991349271\n"
     ]
    },
    {
     "data": {
      "application/vnd.jupyter.widget-view+json": {
       "model_id": "c184da797ac54240a5eca2693912d5fe",
       "version_major": 2,
       "version_minor": 0
      },
      "text/plain": [
       "  0%|          | 0/28 [00:00<?, ?it/s]"
      ]
     },
     "metadata": {},
     "output_type": "display_data"
    },
    {
     "name": "stdout",
     "output_type": "stream",
     "text": [
      "256\n",
      "Feasibility SDP is set up with hard equality constraints\n",
      "dimension of symmetry subspace is 28\n",
      "tr(M*rho)= (3.999999999999929+1.543987309424004e-13j)\n",
      "fidelity to the theoretical steady state is 0.9753367717920152\n"
     ]
    },
    {
     "data": {
      "application/vnd.jupyter.widget-view+json": {
       "model_id": "18b93859271249ed92e6e9f22f8e37cc",
       "version_major": 2,
       "version_minor": 0
      },
      "text/plain": [
       "  0%|          | 0/28 [00:00<?, ?it/s]"
      ]
     },
     "metadata": {},
     "output_type": "display_data"
    },
    {
     "name": "stdout",
     "output_type": "stream",
     "text": [
      "256\n",
      "Feasibility SDP is set up with hard equality constraints\n",
      "dimension of symmetry subspace is 28\n",
      "tr(M*rho)= (3.9999994878335325+5.4983316155255996e-08j)\n",
      "fidelity to the theoretical steady state is 0.9742603875905868\n"
     ]
    },
    {
     "data": {
      "application/vnd.jupyter.widget-view+json": {
       "model_id": "5c4658d45b1d4266a352b345725b0327",
       "version_major": 2,
       "version_minor": 0
      },
      "text/plain": [
       "  0%|          | 0/28 [00:00<?, ?it/s]"
      ]
     },
     "metadata": {},
     "output_type": "display_data"
    },
    {
     "name": "stdout",
     "output_type": "stream",
     "text": [
      "256\n",
      "Feasibility SDP is set up with hard equality constraints\n",
      "dimension of symmetry subspace is 28\n",
      "tr(M*rho)= (3.999999999999989-4.468422151594049e-15j)\n",
      "fidelity to the theoretical steady state is 0.9999999999999972\n"
     ]
    },
    {
     "data": {
      "application/vnd.jupyter.widget-view+json": {
       "model_id": "1d43c390470b4312989656ed1c9967fd",
       "version_major": 2,
       "version_minor": 0
      },
      "text/plain": [
       "  0%|          | 0/28 [00:00<?, ?it/s]"
      ]
     },
     "metadata": {},
     "output_type": "display_data"
    },
    {
     "name": "stdout",
     "output_type": "stream",
     "text": [
      "256\n",
      "Feasibility SDP is set up with hard equality constraints\n",
      "dimension of symmetry subspace is 28\n",
      "tr(M*rho)= (3.99999999999563+7.933810536710564e-13j)\n",
      "fidelity to the theoretical steady state is 0.9550531612225897\n"
     ]
    },
    {
     "data": {
      "application/vnd.jupyter.widget-view+json": {
       "model_id": "937690c8e45b48b29e37169aa5b1560e",
       "version_major": 2,
       "version_minor": 0
      },
      "text/plain": [
       "  0%|          | 0/28 [00:00<?, ?it/s]"
      ]
     },
     "metadata": {},
     "output_type": "display_data"
    },
    {
     "name": "stdout",
     "output_type": "stream",
     "text": [
      "256\n",
      "Feasibility SDP is set up with hard equality constraints\n",
      "dimension of symmetry subspace is 28\n",
      "tr(M*rho)= (4.000000000000023+7.891530683860459e-16j)\n",
      "fidelity to the theoretical steady state is 1.000000000000003\n"
     ]
    },
    {
     "data": {
      "application/vnd.jupyter.widget-view+json": {
       "model_id": "aac3e122839047939b903df24210fa2a",
       "version_major": 2,
       "version_minor": 0
      },
      "text/plain": [
       "  0%|          | 0/28 [00:00<?, ?it/s]"
      ]
     },
     "metadata": {},
     "output_type": "display_data"
    },
    {
     "name": "stdout",
     "output_type": "stream",
     "text": [
      "256\n",
      "Feasibility SDP is set up with hard equality constraints\n",
      "dimension of symmetry subspace is 28\n",
      "tr(M*rho)= (3.9999999999998876-1.1893445839864175e-15j)\n",
      "fidelity to the theoretical steady state is 0.9999999999999862\n"
     ]
    },
    {
     "data": {
      "application/vnd.jupyter.widget-view+json": {
       "model_id": "5667113f5460472fa2a02501f1b1351d",
       "version_major": 2,
       "version_minor": 0
      },
      "text/plain": [
       "  0%|          | 0/28 [00:00<?, ?it/s]"
      ]
     },
     "metadata": {},
     "output_type": "display_data"
    },
    {
     "name": "stdout",
     "output_type": "stream",
     "text": [
      "256\n",
      "Feasibility SDP is set up with hard equality constraints\n",
      "dimension of symmetry subspace is 28\n",
      "tr(M*rho)= (3.9999999999999103+2.937359556975938e-13j)\n",
      "fidelity to the theoretical steady state is 0.9992305712864514\n"
     ]
    },
    {
     "data": {
      "application/vnd.jupyter.widget-view+json": {
       "model_id": "071c006aa3d04e2a8ce36691f0ba4f18",
       "version_major": 2,
       "version_minor": 0
      },
      "text/plain": [
       "  0%|          | 0/28 [00:00<?, ?it/s]"
      ]
     },
     "metadata": {},
     "output_type": "display_data"
    },
    {
     "name": "stdout",
     "output_type": "stream",
     "text": [
      "256\n",
      "Feasibility SDP is set up with hard equality constraints\n",
      "dimension of symmetry subspace is 28\n",
      "tr(M*rho)= (3.9999999999998597+1.7853454852738773e-13j)\n",
      "fidelity to the theoretical steady state is 0.9326337643109663\n"
     ]
    },
    {
     "data": {
      "application/vnd.jupyter.widget-view+json": {
       "model_id": "3a3744b33e2c4545a833cd7dddf041a2",
       "version_major": 2,
       "version_minor": 0
      },
      "text/plain": [
       "  0%|          | 0/28 [00:00<?, ?it/s]"
      ]
     },
     "metadata": {},
     "output_type": "display_data"
    },
    {
     "name": "stdout",
     "output_type": "stream",
     "text": [
      "256\n",
      "Feasibility SDP is set up with hard equality constraints\n",
      "dimension of symmetry subspace is 28\n",
      "tr(M*rho)= (3.999999999998853-1.5242210502108312e-12j)\n",
      "fidelity to the theoretical steady state is 0.9789951176758972\n"
     ]
    },
    {
     "data": {
      "application/vnd.jupyter.widget-view+json": {
       "model_id": "6179b7be0f96489b93b36f097dad66f5",
       "version_major": 2,
       "version_minor": 0
      },
      "text/plain": [
       "  0%|          | 0/28 [00:00<?, ?it/s]"
      ]
     },
     "metadata": {},
     "output_type": "display_data"
    },
    {
     "name": "stdout",
     "output_type": "stream",
     "text": [
      "256\n",
      "Feasibility SDP is set up with hard equality constraints\n",
      "dimension of symmetry subspace is 28\n",
      "tr(M*rho)= (4.000000000000176-7.673598085081168e-14j)\n",
      "fidelity to the theoretical steady state is 0.9591546508354402\n"
     ]
    },
    {
     "data": {
      "application/vnd.jupyter.widget-view+json": {
       "model_id": "eef559139832430a8f3c279fe608ff22",
       "version_major": 2,
       "version_minor": 0
      },
      "text/plain": [
       "  0%|          | 0/28 [00:00<?, ?it/s]"
      ]
     },
     "metadata": {},
     "output_type": "display_data"
    },
    {
     "name": "stdout",
     "output_type": "stream",
     "text": [
      "256\n",
      "Feasibility SDP is set up with hard equality constraints\n",
      "dimension of symmetry subspace is 28\n",
      "tr(M*rho)= (4.000000000000121+9.764411162765073e-15j)\n",
      "fidelity to the theoretical steady state is 0.9287041766481171\n"
     ]
    },
    {
     "data": {
      "application/vnd.jupyter.widget-view+json": {
       "model_id": "a0079eaf15ff49f9af8615a496ad35f9",
       "version_major": 2,
       "version_minor": 0
      },
      "text/plain": [
       "  0%|          | 0/28 [00:00<?, ?it/s]"
      ]
     },
     "metadata": {},
     "output_type": "display_data"
    },
    {
     "name": "stdout",
     "output_type": "stream",
     "text": [
      "256\n",
      "Feasibility SDP is set up with hard equality constraints\n",
      "dimension of symmetry subspace is 28\n",
      "tr(M*rho)= (3.999999999999951+1.6608398413064246e-13j)\n",
      "fidelity to the theoretical steady state is 0.9767385001393849\n"
     ]
    },
    {
     "data": {
      "application/vnd.jupyter.widget-view+json": {
       "model_id": "8bef239a03174f6e9b8350e27e23c15b",
       "version_major": 2,
       "version_minor": 0
      },
      "text/plain": [
       "  0%|          | 0/28 [00:00<?, ?it/s]"
      ]
     },
     "metadata": {},
     "output_type": "display_data"
    },
    {
     "name": "stdout",
     "output_type": "stream",
     "text": [
      "256\n",
      "Feasibility SDP is set up with hard equality constraints\n",
      "dimension of symmetry subspace is 28\n",
      "tr(M*rho)= (3.9999999999992175+5.781633403303499e-14j)\n",
      "fidelity to the theoretical steady state is 0.9795217585378678\n"
     ]
    },
    {
     "data": {
      "application/vnd.jupyter.widget-view+json": {
       "model_id": "bb1e5dcf418d409180ec6326d72e9035",
       "version_major": 2,
       "version_minor": 0
      },
      "text/plain": [
       "  0%|          | 0/28 [00:00<?, ?it/s]"
      ]
     },
     "metadata": {},
     "output_type": "display_data"
    },
    {
     "name": "stdout",
     "output_type": "stream",
     "text": [
      "256\n",
      "Feasibility SDP is set up with hard equality constraints\n",
      "dimension of symmetry subspace is 28\n",
      "tr(M*rho)= (4.000000000001115+1.151697274603524e-12j)\n",
      "fidelity to the theoretical steady state is 0.9800437553605255\n"
     ]
    },
    {
     "data": {
      "application/vnd.jupyter.widget-view+json": {
       "model_id": "0cd780e83a87465495d3959b20a74515",
       "version_major": 2,
       "version_minor": 0
      },
      "text/plain": [
       "  0%|          | 0/28 [00:00<?, ?it/s]"
      ]
     },
     "metadata": {},
     "output_type": "display_data"
    },
    {
     "name": "stdout",
     "output_type": "stream",
     "text": [
      "256\n",
      "Feasibility SDP is set up with hard equality constraints\n",
      "dimension of symmetry subspace is 28\n",
      "tr(M*rho)= (4.000000000009642+6.353478740973905e-12j)\n",
      "fidelity to the theoretical steady state is 0.97905513323611\n"
     ]
    },
    {
     "data": {
      "application/vnd.jupyter.widget-view+json": {
       "model_id": "2e38a9ee128548e98ddc1ccc40960436",
       "version_major": 2,
       "version_minor": 0
      },
      "text/plain": [
       "  0%|          | 0/28 [00:00<?, ?it/s]"
      ]
     },
     "metadata": {},
     "output_type": "display_data"
    },
    {
     "name": "stdout",
     "output_type": "stream",
     "text": [
      "256\n",
      "Feasibility SDP is set up with hard equality constraints\n",
      "dimension of symmetry subspace is 28\n",
      "tr(M*rho)= (3.9999999999987867-2.7431380637210026e-14j)\n",
      "fidelity to the theoretical steady state is 0.9650794934548311\n"
     ]
    },
    {
     "data": {
      "application/vnd.jupyter.widget-view+json": {
       "model_id": "03d5dc9c8305499aabff4d74b0fdb900",
       "version_major": 2,
       "version_minor": 0
      },
      "text/plain": [
       "  0%|          | 0/28 [00:00<?, ?it/s]"
      ]
     },
     "metadata": {},
     "output_type": "display_data"
    },
    {
     "name": "stdout",
     "output_type": "stream",
     "text": [
      "256\n",
      "Feasibility SDP is set up with hard equality constraints\n",
      "dimension of symmetry subspace is 28\n",
      "tr(M*rho)= (3.9999999999999987-3.021739217352881e-16j)\n",
      "fidelity to the theoretical steady state is 1.0\n"
     ]
    },
    {
     "data": {
      "application/vnd.jupyter.widget-view+json": {
       "model_id": "169649ad34f644198ff2f4402b1afc43",
       "version_major": 2,
       "version_minor": 0
      },
      "text/plain": [
       "  0%|          | 0/28 [00:00<?, ?it/s]"
      ]
     },
     "metadata": {},
     "output_type": "display_data"
    },
    {
     "name": "stdout",
     "output_type": "stream",
     "text": [
      "256\n",
      "Feasibility SDP is set up with hard equality constraints\n",
      "dimension of symmetry subspace is 28\n",
      "tr(M*rho)= (4.000000000000008-2.0223361390191413e-14j)\n",
      "fidelity to the theoretical steady state is 0.9818307465186047\n"
     ]
    },
    {
     "data": {
      "application/vnd.jupyter.widget-view+json": {
       "model_id": "201a981a8d87493f9c3f691ba3a59c15",
       "version_major": 2,
       "version_minor": 0
      },
      "text/plain": [
       "  0%|          | 0/28 [00:00<?, ?it/s]"
      ]
     },
     "metadata": {},
     "output_type": "display_data"
    },
    {
     "name": "stdout",
     "output_type": "stream",
     "text": [
      "256\n",
      "Feasibility SDP is set up with hard equality constraints\n",
      "dimension of symmetry subspace is 28\n",
      "tr(M*rho)= (4.000000102034214+2.3748155422097126e-08j)\n",
      "fidelity to the theoretical steady state is 0.8975989556992465\n"
     ]
    },
    {
     "data": {
      "application/vnd.jupyter.widget-view+json": {
       "model_id": "ba0faf647d8b4e1f9b4f1419dbc22661",
       "version_major": 2,
       "version_minor": 0
      },
      "text/plain": [
       "  0%|          | 0/28 [00:00<?, ?it/s]"
      ]
     },
     "metadata": {},
     "output_type": "display_data"
    },
    {
     "name": "stdout",
     "output_type": "stream",
     "text": [
      "256\n",
      "Feasibility SDP is set up with hard equality constraints\n",
      "dimension of symmetry subspace is 28\n",
      "tr(M*rho)= (3.999999999999961+2.7443447362697493e-14j)\n",
      "fidelity to the theoretical steady state is 0.9999999999999951\n"
     ]
    },
    {
     "data": {
      "application/vnd.jupyter.widget-view+json": {
       "model_id": "21f3a24155d24e3b9d57ef1b257353f1",
       "version_major": 2,
       "version_minor": 0
      },
      "text/plain": [
       "  0%|          | 0/28 [00:00<?, ?it/s]"
      ]
     },
     "metadata": {},
     "output_type": "display_data"
    },
    {
     "name": "stdout",
     "output_type": "stream",
     "text": [
      "256\n",
      "Feasibility SDP is set up with hard equality constraints\n",
      "dimension of symmetry subspace is 28\n",
      "tr(M*rho)= (3.9999999999998557+1.0311725567391586e-13j)\n",
      "fidelity to the theoretical steady state is 0.988730109128241\n"
     ]
    },
    {
     "data": {
      "application/vnd.jupyter.widget-view+json": {
       "model_id": "411ba0c284e44453acc4d7cb8dca0a34",
       "version_major": 2,
       "version_minor": 0
      },
      "text/plain": [
       "  0%|          | 0/28 [00:00<?, ?it/s]"
      ]
     },
     "metadata": {},
     "output_type": "display_data"
    },
    {
     "name": "stdout",
     "output_type": "stream",
     "text": [
      "256\n",
      "Feasibility SDP is set up with hard equality constraints\n",
      "dimension of symmetry subspace is 28\n",
      "tr(M*rho)= (4.000000000000323+8.269021572478814e-13j)\n",
      "fidelity to the theoretical steady state is 0.9637481422059608\n"
     ]
    },
    {
     "data": {
      "application/vnd.jupyter.widget-view+json": {
       "model_id": "722eb9cc8bfa4f7c836c3ae339a5abfb",
       "version_major": 2,
       "version_minor": 0
      },
      "text/plain": [
       "  0%|          | 0/28 [00:00<?, ?it/s]"
      ]
     },
     "metadata": {},
     "output_type": "display_data"
    },
    {
     "name": "stdout",
     "output_type": "stream",
     "text": [
      "256\n",
      "Feasibility SDP is set up with hard equality constraints\n",
      "dimension of symmetry subspace is 28\n",
      "tr(M*rho)= (3.9999999999999707-1.0744497739439973e-14j)\n",
      "fidelity to the theoretical steady state is 0.9999999999977908\n"
     ]
    },
    {
     "data": {
      "application/vnd.jupyter.widget-view+json": {
       "model_id": "d1af580e85f2487c94e66fc96cd78617",
       "version_major": 2,
       "version_minor": 0
      },
      "text/plain": [
       "  0%|          | 0/28 [00:00<?, ?it/s]"
      ]
     },
     "metadata": {},
     "output_type": "display_data"
    },
    {
     "name": "stdout",
     "output_type": "stream",
     "text": [
      "256\n",
      "Feasibility SDP is set up with hard equality constraints\n",
      "dimension of symmetry subspace is 28\n",
      "tr(M*rho)= (3.9999999999964992+2.3988883796066673e-13j)\n",
      "fidelity to the theoretical steady state is 0.980893448999959\n"
     ]
    },
    {
     "data": {
      "application/vnd.jupyter.widget-view+json": {
       "model_id": "b44ad26c1e4f46a2b059eb743fed7878",
       "version_major": 2,
       "version_minor": 0
      },
      "text/plain": [
       "  0%|          | 0/28 [00:00<?, ?it/s]"
      ]
     },
     "metadata": {},
     "output_type": "display_data"
    },
    {
     "name": "stdout",
     "output_type": "stream",
     "text": [
      "256\n",
      "Feasibility SDP is set up with hard equality constraints\n",
      "dimension of symmetry subspace is 28\n",
      "tr(M*rho)= (3.999999999998037-9.757688088620961e-13j)\n",
      "fidelity to the theoretical steady state is 0.9791742404713318\n"
     ]
    },
    {
     "data": {
      "application/vnd.jupyter.widget-view+json": {
       "model_id": "eedb56dbc7ea457da57e0ad6fb7b3456",
       "version_major": 2,
       "version_minor": 0
      },
      "text/plain": [
       "  0%|          | 0/28 [00:00<?, ?it/s]"
      ]
     },
     "metadata": {},
     "output_type": "display_data"
    },
    {
     "name": "stdout",
     "output_type": "stream",
     "text": [
      "256\n",
      "Feasibility SDP is set up with hard equality constraints\n",
      "dimension of symmetry subspace is 28\n",
      "tr(M*rho)= (4.000000000000718-3.4726730632804806e-13j)\n",
      "fidelity to the theoretical steady state is 0.9666209580804328\n"
     ]
    },
    {
     "data": {
      "application/vnd.jupyter.widget-view+json": {
       "model_id": "454ead1aae244456880f40415f101872",
       "version_major": 2,
       "version_minor": 0
      },
      "text/plain": [
       "  0%|          | 0/28 [00:00<?, ?it/s]"
      ]
     },
     "metadata": {},
     "output_type": "display_data"
    },
    {
     "name": "stdout",
     "output_type": "stream",
     "text": [
      "256\n",
      "Feasibility SDP is set up with hard equality constraints\n",
      "dimension of symmetry subspace is 28\n",
      "tr(M*rho)= (4.000000000000046-6.808491487611534e-14j)\n",
      "fidelity to the theoretical steady state is 0.9740018712732985\n"
     ]
    },
    {
     "data": {
      "application/vnd.jupyter.widget-view+json": {
       "model_id": "9ad2da6bb59a476d9f659ae7f5b0dbfb",
       "version_major": 2,
       "version_minor": 0
      },
      "text/plain": [
       "  0%|          | 0/28 [00:00<?, ?it/s]"
      ]
     },
     "metadata": {},
     "output_type": "display_data"
    },
    {
     "name": "stdout",
     "output_type": "stream",
     "text": [
      "256\n",
      "Feasibility SDP is set up with hard equality constraints\n",
      "dimension of symmetry subspace is 28\n",
      "tr(M*rho)= (4.000000000003349+3.0174796420005726e-12j)\n",
      "fidelity to the theoretical steady state is 0.9650282434757054\n"
     ]
    },
    {
     "data": {
      "application/vnd.jupyter.widget-view+json": {
       "model_id": "a96dd64dd91c4f2c98ac6eb041573766",
       "version_major": 2,
       "version_minor": 0
      },
      "text/plain": [
       "  0%|          | 0/28 [00:00<?, ?it/s]"
      ]
     },
     "metadata": {},
     "output_type": "display_data"
    },
    {
     "name": "stdout",
     "output_type": "stream",
     "text": [
      "256\n",
      "Feasibility SDP is set up with hard equality constraints\n",
      "dimension of symmetry subspace is 28\n",
      "tr(M*rho)= (3.9999999999996114+1.4785200651680833e-14j)\n",
      "fidelity to the theoretical steady state is 0.9514976711062454\n"
     ]
    },
    {
     "data": {
      "application/vnd.jupyter.widget-view+json": {
       "model_id": "77ec3fcd24534d9b82cd4ced3c76a69e",
       "version_major": 2,
       "version_minor": 0
      },
      "text/plain": [
       "  0%|          | 0/28 [00:00<?, ?it/s]"
      ]
     },
     "metadata": {},
     "output_type": "display_data"
    },
    {
     "name": "stdout",
     "output_type": "stream",
     "text": [
      "256\n",
      "Feasibility SDP is set up with hard equality constraints\n",
      "dimension of symmetry subspace is 28\n",
      "tr(M*rho)= (3.9999999999999933-3.3168997062849037e-15j)\n",
      "fidelity to the theoretical steady state is 0.9999999999999988\n"
     ]
    },
    {
     "data": {
      "application/vnd.jupyter.widget-view+json": {
       "model_id": "cc7962b3596b41a0ad62ad8fd2fcaa01",
       "version_major": 2,
       "version_minor": 0
      },
      "text/plain": [
       "  0%|          | 0/28 [00:00<?, ?it/s]"
      ]
     },
     "metadata": {},
     "output_type": "display_data"
    },
    {
     "name": "stdout",
     "output_type": "stream",
     "text": [
      "256\n",
      "Feasibility SDP is set up with hard equality constraints\n",
      "dimension of symmetry subspace is 28\n",
      "tr(M*rho)= (4.0000000000150235-9.171189476103926e-13j)\n",
      "fidelity to the theoretical steady state is 0.9500807778432028\n"
     ]
    },
    {
     "data": {
      "application/vnd.jupyter.widget-view+json": {
       "model_id": "5cd5b5eb683a48e79691de4d0da64c73",
       "version_major": 2,
       "version_minor": 0
      },
      "text/plain": [
       "  0%|          | 0/28 [00:00<?, ?it/s]"
      ]
     },
     "metadata": {},
     "output_type": "display_data"
    },
    {
     "name": "stdout",
     "output_type": "stream",
     "text": [
      "256\n",
      "Feasibility SDP is set up with hard equality constraints\n",
      "dimension of symmetry subspace is 28\n",
      "tr(M*rho)= (3.9999999999999796+1.6212955999440892e-15j)\n",
      "fidelity to the theoretical steady state is 0.9565315215604535\n"
     ]
    },
    {
     "data": {
      "application/vnd.jupyter.widget-view+json": {
       "model_id": "1534ddaa4eb845bdbc789b1b05ae9568",
       "version_major": 2,
       "version_minor": 0
      },
      "text/plain": [
       "  0%|          | 0/28 [00:00<?, ?it/s]"
      ]
     },
     "metadata": {},
     "output_type": "display_data"
    },
    {
     "name": "stdout",
     "output_type": "stream",
     "text": [
      "256\n",
      "Feasibility SDP is set up with hard equality constraints\n",
      "dimension of symmetry subspace is 28\n",
      "tr(M*rho)= (4.000000000000386+8.69117535644108e-14j)\n",
      "fidelity to the theoretical steady state is 0.9961451617744994\n"
     ]
    },
    {
     "data": {
      "application/vnd.jupyter.widget-view+json": {
       "model_id": "0c1deca6288c4fab82fbc4f51517aac3",
       "version_major": 2,
       "version_minor": 0
      },
      "text/plain": [
       "  0%|          | 0/28 [00:00<?, ?it/s]"
      ]
     },
     "metadata": {},
     "output_type": "display_data"
    },
    {
     "name": "stdout",
     "output_type": "stream",
     "text": [
      "256\n",
      "Feasibility SDP is set up with hard equality constraints\n",
      "dimension of symmetry subspace is 28\n",
      "tr(M*rho)= (3.999999999999998-8.992443757604106e-16j)\n",
      "fidelity to the theoretical steady state is 0.9999999999999999\n"
     ]
    },
    {
     "data": {
      "application/vnd.jupyter.widget-view+json": {
       "model_id": "7cf8e5c532184baf8f3f5122561378e1",
       "version_major": 2,
       "version_minor": 0
      },
      "text/plain": [
       "  0%|          | 0/28 [00:00<?, ?it/s]"
      ]
     },
     "metadata": {},
     "output_type": "display_data"
    },
    {
     "name": "stdout",
     "output_type": "stream",
     "text": [
      "256\n",
      "Feasibility SDP is set up with hard equality constraints\n",
      "dimension of symmetry subspace is 28\n",
      "tr(M*rho)= (3.9999999999995515+1.417183427901425e-13j)\n",
      "fidelity to the theoretical steady state is 0.9816702437869961\n"
     ]
    },
    {
     "data": {
      "application/vnd.jupyter.widget-view+json": {
       "model_id": "eceb884d0e364507a4d2edb333c05bc9",
       "version_major": 2,
       "version_minor": 0
      },
      "text/plain": [
       "  0%|          | 0/28 [00:00<?, ?it/s]"
      ]
     },
     "metadata": {},
     "output_type": "display_data"
    },
    {
     "name": "stdout",
     "output_type": "stream",
     "text": [
      "256\n",
      "Feasibility SDP is set up with hard equality constraints\n",
      "dimension of symmetry subspace is 28\n",
      "tr(M*rho)= (4.000000000000011-5.926225514054944e-14j)\n",
      "fidelity to the theoretical steady state is 0.9819730116392402\n"
     ]
    },
    {
     "data": {
      "application/vnd.jupyter.widget-view+json": {
       "model_id": "64e1f6be79c94b8faf7b8646f1eb8bb8",
       "version_major": 2,
       "version_minor": 0
      },
      "text/plain": [
       "  0%|          | 0/28 [00:00<?, ?it/s]"
      ]
     },
     "metadata": {},
     "output_type": "display_data"
    },
    {
     "name": "stdout",
     "output_type": "stream",
     "text": [
      "256\n",
      "Feasibility SDP is set up with hard equality constraints\n",
      "dimension of symmetry subspace is 28\n",
      "tr(M*rho)= (4.000000000000089-3.9018205102970237e-14j)\n",
      "fidelity to the theoretical steady state is 0.999999998563353\n"
     ]
    },
    {
     "data": {
      "application/vnd.jupyter.widget-view+json": {
       "model_id": "c13f611a5bf74c19979a2a376642daa3",
       "version_major": 2,
       "version_minor": 0
      },
      "text/plain": [
       "  0%|          | 0/28 [00:00<?, ?it/s]"
      ]
     },
     "metadata": {},
     "output_type": "display_data"
    },
    {
     "name": "stdout",
     "output_type": "stream",
     "text": [
      "256\n",
      "Feasibility SDP is set up with hard equality constraints\n",
      "dimension of symmetry subspace is 28\n",
      "tr(M*rho)= (4.000000000001198+4.499216793743281e-15j)\n",
      "fidelity to the theoretical steady state is 0.9999999999992388\n"
     ]
    },
    {
     "data": {
      "application/vnd.jupyter.widget-view+json": {
       "model_id": "53b4582f83c9484cb499dd8537e9ba48",
       "version_major": 2,
       "version_minor": 0
      },
      "text/plain": [
       "  0%|          | 0/28 [00:00<?, ?it/s]"
      ]
     },
     "metadata": {},
     "output_type": "display_data"
    },
    {
     "name": "stdout",
     "output_type": "stream",
     "text": [
      "256\n",
      "Feasibility SDP is set up with hard equality constraints\n",
      "dimension of symmetry subspace is 28\n",
      "tr(M*rho)= (3.999999999997353+6.6766955881916756e-12j)\n",
      "fidelity to the theoretical steady state is 0.9751163090706777\n"
     ]
    },
    {
     "data": {
      "application/vnd.jupyter.widget-view+json": {
       "model_id": "a0fcaf3944e74a80995fc9f4b01b4696",
       "version_major": 2,
       "version_minor": 0
      },
      "text/plain": [
       "  0%|          | 0/28 [00:00<?, ?it/s]"
      ]
     },
     "metadata": {},
     "output_type": "display_data"
    },
    {
     "name": "stdout",
     "output_type": "stream",
     "text": [
      "256\n",
      "Feasibility SDP is set up with hard equality constraints\n",
      "dimension of symmetry subspace is 28\n",
      "tr(M*rho)= (3.9999999999991376-8.121843041858368e-13j)\n",
      "fidelity to the theoretical steady state is 0.9927891958690154\n"
     ]
    },
    {
     "data": {
      "application/vnd.jupyter.widget-view+json": {
       "model_id": "47cfbd6627cf4b9fbee455dfbe8dcbe9",
       "version_major": 2,
       "version_minor": 0
      },
      "text/plain": [
       "  0%|          | 0/28 [00:00<?, ?it/s]"
      ]
     },
     "metadata": {},
     "output_type": "display_data"
    },
    {
     "name": "stdout",
     "output_type": "stream",
     "text": [
      "256\n",
      "Feasibility SDP is set up with hard equality constraints\n",
      "dimension of symmetry subspace is 28\n",
      "tr(M*rho)= (4.000000000000065+2.7501330206181063e-15j)\n",
      "fidelity to the theoretical steady state is 0.9634399053009134\n"
     ]
    },
    {
     "data": {
      "application/vnd.jupyter.widget-view+json": {
       "model_id": "e263c84f0a184a85aa9caedbc71e801f",
       "version_major": 2,
       "version_minor": 0
      },
      "text/plain": [
       "  0%|          | 0/28 [00:00<?, ?it/s]"
      ]
     },
     "metadata": {},
     "output_type": "display_data"
    },
    {
     "name": "stdout",
     "output_type": "stream",
     "text": [
      "256\n",
      "Feasibility SDP is set up with hard equality constraints\n",
      "dimension of symmetry subspace is 28\n",
      "tr(M*rho)= (4.000000000001277+3.9799602229471454e-13j)\n",
      "fidelity to the theoretical steady state is 0.996403185223839\n"
     ]
    },
    {
     "data": {
      "application/vnd.jupyter.widget-view+json": {
       "model_id": "f632d2128cc64e15848523160ecdff5d",
       "version_major": 2,
       "version_minor": 0
      },
      "text/plain": [
       "  0%|          | 0/28 [00:00<?, ?it/s]"
      ]
     },
     "metadata": {},
     "output_type": "display_data"
    },
    {
     "name": "stdout",
     "output_type": "stream",
     "text": [
      "256\n",
      "Feasibility SDP is set up with hard equality constraints\n",
      "dimension of symmetry subspace is 28\n",
      "tr(M*rho)= (3.999999999999946+7.91554322088217e-15j)\n",
      "fidelity to the theoretical steady state is 0.9999999999999925\n"
     ]
    },
    {
     "data": {
      "application/vnd.jupyter.widget-view+json": {
       "model_id": "6ba2aa364cad49aa8ff6cf684ef21654",
       "version_major": 2,
       "version_minor": 0
      },
      "text/plain": [
       "  0%|          | 0/28 [00:00<?, ?it/s]"
      ]
     },
     "metadata": {},
     "output_type": "display_data"
    },
    {
     "name": "stdout",
     "output_type": "stream",
     "text": [
      "256\n",
      "Feasibility SDP is set up with hard equality constraints\n",
      "dimension of symmetry subspace is 28\n",
      "tr(M*rho)= (4.000000000000323-4.4135183653376195e-14j)\n",
      "fidelity to the theoretical steady state is 0.980639653144291\n"
     ]
    },
    {
     "data": {
      "application/vnd.jupyter.widget-view+json": {
       "model_id": "b850a01390b5445cb46d4c258d510404",
       "version_major": 2,
       "version_minor": 0
      },
      "text/plain": [
       "  0%|          | 0/28 [00:00<?, ?it/s]"
      ]
     },
     "metadata": {},
     "output_type": "display_data"
    },
    {
     "name": "stdout",
     "output_type": "stream",
     "text": [
      "256\n",
      "Feasibility SDP is set up with hard equality constraints\n",
      "dimension of symmetry subspace is 28\n",
      "tr(M*rho)= (4.000000000001725-4.1519667461482846e-13j)\n",
      "fidelity to the theoretical steady state is 0.9867641104616516\n"
     ]
    },
    {
     "data": {
      "application/vnd.jupyter.widget-view+json": {
       "model_id": "92b6d48d315946a99b305cf687cb4576",
       "version_major": 2,
       "version_minor": 0
      },
      "text/plain": [
       "  0%|          | 0/28 [00:00<?, ?it/s]"
      ]
     },
     "metadata": {},
     "output_type": "display_data"
    },
    {
     "name": "stdout",
     "output_type": "stream",
     "text": [
      "256\n",
      "Feasibility SDP is set up with hard equality constraints\n",
      "dimension of symmetry subspace is 28\n",
      "tr(M*rho)= (4.0000000000000595+5.529488212048365e-14j)\n",
      "fidelity to the theoretical steady state is 0.9521940882305807\n"
     ]
    },
    {
     "data": {
      "application/vnd.jupyter.widget-view+json": {
       "model_id": "a3f407262a2043fcaa6f8fcc8db9f3d5",
       "version_major": 2,
       "version_minor": 0
      },
      "text/plain": [
       "  0%|          | 0/28 [00:00<?, ?it/s]"
      ]
     },
     "metadata": {},
     "output_type": "display_data"
    },
    {
     "name": "stdout",
     "output_type": "stream",
     "text": [
      "256\n",
      "Feasibility SDP is set up with hard equality constraints\n",
      "dimension of symmetry subspace is 28\n",
      "tr(M*rho)= (3.999999999999857+5.586113338660204e-14j)\n",
      "fidelity to the theoretical steady state is 0.9999999999972198\n"
     ]
    },
    {
     "data": {
      "application/vnd.jupyter.widget-view+json": {
       "model_id": "154eddf83a8445389105461761be42d5",
       "version_major": 2,
       "version_minor": 0
      },
      "text/plain": [
       "  0%|          | 0/28 [00:00<?, ?it/s]"
      ]
     },
     "metadata": {},
     "output_type": "display_data"
    },
    {
     "name": "stdout",
     "output_type": "stream",
     "text": [
      "256\n",
      "Feasibility SDP is set up with hard equality constraints\n",
      "dimension of symmetry subspace is 28\n",
      "tr(M*rho)= (4.000000000037106-1.2074170180657266e-10j)\n",
      "fidelity to the theoretical steady state is 0.9756283215007855\n"
     ]
    },
    {
     "data": {
      "application/vnd.jupyter.widget-view+json": {
       "model_id": "19f4939a2c0d45f2bacb1de1b53a70cd",
       "version_major": 2,
       "version_minor": 0
      },
      "text/plain": [
       "  0%|          | 0/28 [00:00<?, ?it/s]"
      ]
     },
     "metadata": {},
     "output_type": "display_data"
    },
    {
     "name": "stdout",
     "output_type": "stream",
     "text": [
      "256\n",
      "Feasibility SDP is set up with hard equality constraints\n",
      "dimension of symmetry subspace is 28\n",
      "tr(M*rho)= (4.000000000000333+6.15213283962357e-13j)\n",
      "fidelity to the theoretical steady state is 0.9999999989737434\n"
     ]
    },
    {
     "data": {
      "application/vnd.jupyter.widget-view+json": {
       "model_id": "e43f277468154fa9b0074befcb6b45a7",
       "version_major": 2,
       "version_minor": 0
      },
      "text/plain": [
       "  0%|          | 0/28 [00:00<?, ?it/s]"
      ]
     },
     "metadata": {},
     "output_type": "display_data"
    },
    {
     "name": "stdout",
     "output_type": "stream",
     "text": [
      "256\n",
      "Feasibility SDP is set up with hard equality constraints\n",
      "dimension of symmetry subspace is 28\n",
      "tr(M*rho)= (4.000000000000035-3.3097051672496033e-15j)\n",
      "fidelity to the theoretical steady state is 1.000000000000004\n"
     ]
    },
    {
     "data": {
      "application/vnd.jupyter.widget-view+json": {
       "model_id": "c3c7013a6dcd4a6c877b874ab4371e63",
       "version_major": 2,
       "version_minor": 0
      },
      "text/plain": [
       "  0%|          | 0/28 [00:00<?, ?it/s]"
      ]
     },
     "metadata": {},
     "output_type": "display_data"
    },
    {
     "name": "stdout",
     "output_type": "stream",
     "text": [
      "256\n",
      "Feasibility SDP is set up with hard equality constraints\n",
      "dimension of symmetry subspace is 28\n",
      "tr(M*rho)= (3.9999999999993667+4.629319913924913e-14j)\n",
      "fidelity to the theoretical steady state is 0.9751099943657013\n"
     ]
    },
    {
     "data": {
      "application/vnd.jupyter.widget-view+json": {
       "model_id": "50ff84b6c78145cdb877a6a0d5fe7598",
       "version_major": 2,
       "version_minor": 0
      },
      "text/plain": [
       "  0%|          | 0/28 [00:00<?, ?it/s]"
      ]
     },
     "metadata": {},
     "output_type": "display_data"
    },
    {
     "name": "stdout",
     "output_type": "stream",
     "text": [
      "256\n",
      "Feasibility SDP is set up with hard equality constraints\n",
      "dimension of symmetry subspace is 28\n",
      "tr(M*rho)= (4.000000000000012+4.96437506174955e-14j)\n",
      "fidelity to the theoretical steady state is 0.9999954853435173\n"
     ]
    },
    {
     "data": {
      "application/vnd.jupyter.widget-view+json": {
       "model_id": "05a30735c31b47f692790cb9e46f021a",
       "version_major": 2,
       "version_minor": 0
      },
      "text/plain": [
       "  0%|          | 0/28 [00:00<?, ?it/s]"
      ]
     },
     "metadata": {},
     "output_type": "display_data"
    },
    {
     "name": "stdout",
     "output_type": "stream",
     "text": [
      "256\n",
      "Feasibility SDP is set up with hard equality constraints\n",
      "dimension of symmetry subspace is 28\n",
      "tr(M*rho)= (3.999999999999666+1.178026089288073e-13j)\n",
      "fidelity to the theoretical steady state is 0.9999870279482219\n"
     ]
    },
    {
     "data": {
      "application/vnd.jupyter.widget-view+json": {
       "model_id": "585e101e02a34a0aa13c5df2c8604a55",
       "version_major": 2,
       "version_minor": 0
      },
      "text/plain": [
       "  0%|          | 0/28 [00:00<?, ?it/s]"
      ]
     },
     "metadata": {},
     "output_type": "display_data"
    },
    {
     "name": "stdout",
     "output_type": "stream",
     "text": [
      "256\n",
      "Feasibility SDP is set up with hard equality constraints\n",
      "dimension of symmetry subspace is 28\n",
      "tr(M*rho)= (4.00000000000008-5.430239184743904e-13j)\n",
      "fidelity to the theoretical steady state is 0.9883502158702335\n"
     ]
    },
    {
     "data": {
      "application/vnd.jupyter.widget-view+json": {
       "model_id": "8a14adaeeaa640f19f203f0a4a14b30c",
       "version_major": 2,
       "version_minor": 0
      },
      "text/plain": [
       "  0%|          | 0/28 [00:00<?, ?it/s]"
      ]
     },
     "metadata": {},
     "output_type": "display_data"
    },
    {
     "name": "stdout",
     "output_type": "stream",
     "text": [
      "256\n",
      "Feasibility SDP is set up with hard equality constraints\n",
      "dimension of symmetry subspace is 28\n",
      "tr(M*rho)= (4.000000000000162+6.25679995552679e-14j)\n",
      "fidelity to the theoretical steady state is 0.9819204803428916\n"
     ]
    },
    {
     "data": {
      "application/vnd.jupyter.widget-view+json": {
       "model_id": "2e20094def5c497da80fda703203f994",
       "version_major": 2,
       "version_minor": 0
      },
      "text/plain": [
       "  0%|          | 0/28 [00:00<?, ?it/s]"
      ]
     },
     "metadata": {},
     "output_type": "display_data"
    },
    {
     "name": "stdout",
     "output_type": "stream",
     "text": [
      "256\n",
      "Feasibility SDP is set up with hard equality constraints\n",
      "dimension of symmetry subspace is 28\n",
      "tr(M*rho)= (4.00000000000239-1.313964106451431e-12j)\n",
      "fidelity to the theoretical steady state is 0.9778618570922459\n"
     ]
    },
    {
     "data": {
      "application/vnd.jupyter.widget-view+json": {
       "model_id": "9197f336c1744a72943d945ce35c672a",
       "version_major": 2,
       "version_minor": 0
      },
      "text/plain": [
       "  0%|          | 0/28 [00:00<?, ?it/s]"
      ]
     },
     "metadata": {},
     "output_type": "display_data"
    },
    {
     "name": "stdout",
     "output_type": "stream",
     "text": [
      "256\n",
      "Feasibility SDP is set up with hard equality constraints\n",
      "dimension of symmetry subspace is 28\n",
      "tr(M*rho)= (4.000000000000098+1.935344466202091e-13j)\n",
      "fidelity to the theoretical steady state is 0.9567899967750705\n"
     ]
    },
    {
     "data": {
      "application/vnd.jupyter.widget-view+json": {
       "model_id": "7b3875de86054e82919e7007722e1782",
       "version_major": 2,
       "version_minor": 0
      },
      "text/plain": [
       "  0%|          | 0/28 [00:00<?, ?it/s]"
      ]
     },
     "metadata": {},
     "output_type": "display_data"
    },
    {
     "name": "stdout",
     "output_type": "stream",
     "text": [
      "256\n",
      "Feasibility SDP is set up with hard equality constraints\n",
      "dimension of symmetry subspace is 28\n",
      "tr(M*rho)= (4.000000000000135-4.455665708353457e-13j)\n",
      "fidelity to the theoretical steady state is 0.9603319929040511\n"
     ]
    },
    {
     "data": {
      "application/vnd.jupyter.widget-view+json": {
       "model_id": "84d4a4a528794a3b83fcfcc4aad10693",
       "version_major": 2,
       "version_minor": 0
      },
      "text/plain": [
       "  0%|          | 0/28 [00:00<?, ?it/s]"
      ]
     },
     "metadata": {},
     "output_type": "display_data"
    },
    {
     "name": "stdout",
     "output_type": "stream",
     "text": [
      "256\n",
      "Feasibility SDP is set up with hard equality constraints\n",
      "dimension of symmetry subspace is 28\n",
      "tr(M*rho)= (3.999999999999931+5.989476696186512e-15j)\n",
      "fidelity to the theoretical steady state is 0.9999999999999789\n"
     ]
    },
    {
     "data": {
      "application/vnd.jupyter.widget-view+json": {
       "model_id": "3bc3635de8f74b9d8149dc7f43416c7d",
       "version_major": 2,
       "version_minor": 0
      },
      "text/plain": [
       "  0%|          | 0/28 [00:00<?, ?it/s]"
      ]
     },
     "metadata": {},
     "output_type": "display_data"
    },
    {
     "name": "stdout",
     "output_type": "stream",
     "text": [
      "256\n",
      "Feasibility SDP is set up with hard equality constraints\n",
      "dimension of symmetry subspace is 28\n",
      "tr(M*rho)= (4.000000000000467+1.0531046580226368e-13j)\n",
      "fidelity to the theoretical steady state is 0.9477820336007391\n"
     ]
    },
    {
     "data": {
      "application/vnd.jupyter.widget-view+json": {
       "model_id": "e40c2ba3d69d4b429538533146c969f2",
       "version_major": 2,
       "version_minor": 0
      },
      "text/plain": [
       "  0%|          | 0/28 [00:00<?, ?it/s]"
      ]
     },
     "metadata": {},
     "output_type": "display_data"
    },
    {
     "name": "stdout",
     "output_type": "stream",
     "text": [
      "256\n",
      "Feasibility SDP is set up with hard equality constraints\n",
      "dimension of symmetry subspace is 28\n",
      "tr(M*rho)= (4.000000000006228-6.425723323269153e-13j)\n",
      "fidelity to the theoretical steady state is 0.9386952610171668\n"
     ]
    },
    {
     "data": {
      "application/vnd.jupyter.widget-view+json": {
       "model_id": "8bc49608cfd549df959281b0f74566fc",
       "version_major": 2,
       "version_minor": 0
      },
      "text/plain": [
       "  0%|          | 0/28 [00:00<?, ?it/s]"
      ]
     },
     "metadata": {},
     "output_type": "display_data"
    },
    {
     "name": "stdout",
     "output_type": "stream",
     "text": [
      "256\n",
      "Feasibility SDP is set up with hard equality constraints\n",
      "dimension of symmetry subspace is 28\n",
      "tr(M*rho)= (3.999999999998553+4.294716641236977e-13j)\n",
      "fidelity to the theoretical steady state is 0.9786017388262791\n"
     ]
    },
    {
     "data": {
      "application/vnd.jupyter.widget-view+json": {
       "model_id": "7da0b867c7204e1791eb90ffa849576b",
       "version_major": 2,
       "version_minor": 0
      },
      "text/plain": [
       "  0%|          | 0/28 [00:00<?, ?it/s]"
      ]
     },
     "metadata": {},
     "output_type": "display_data"
    },
    {
     "name": "stdout",
     "output_type": "stream",
     "text": [
      "256\n",
      "Feasibility SDP is set up with hard equality constraints\n",
      "dimension of symmetry subspace is 28\n",
      "tr(M*rho)= (3.999999997015607+1.3545596055761633e-09j)\n",
      "fidelity to the theoretical steady state is 0.9560499468547077\n"
     ]
    },
    {
     "data": {
      "application/vnd.jupyter.widget-view+json": {
       "model_id": "d8a7a480b1b54f6fb607a490a2753e3b",
       "version_major": 2,
       "version_minor": 0
      },
      "text/plain": [
       "  0%|          | 0/28 [00:00<?, ?it/s]"
      ]
     },
     "metadata": {},
     "output_type": "display_data"
    },
    {
     "name": "stdout",
     "output_type": "stream",
     "text": [
      "256\n",
      "Feasibility SDP is set up with hard equality constraints\n",
      "dimension of symmetry subspace is 28\n",
      "tr(M*rho)= (3.9999999999936926+8.413799984421239e-13j)\n",
      "fidelity to the theoretical steady state is 0.9371241781230448\n"
     ]
    },
    {
     "data": {
      "application/vnd.jupyter.widget-view+json": {
       "model_id": "dba9ea81f0704bb0a62690da3fb309e6",
       "version_major": 2,
       "version_minor": 0
      },
      "text/plain": [
       "  0%|          | 0/28 [00:00<?, ?it/s]"
      ]
     },
     "metadata": {},
     "output_type": "display_data"
    },
    {
     "name": "stdout",
     "output_type": "stream",
     "text": [
      "256\n",
      "Feasibility SDP is set up with hard equality constraints\n",
      "dimension of symmetry subspace is 28\n",
      "tr(M*rho)= (3.999999999999778+1.0748409168183804e-13j)\n",
      "fidelity to the theoretical steady state is 0.9976018917658652\n"
     ]
    },
    {
     "data": {
      "application/vnd.jupyter.widget-view+json": {
       "model_id": "b01584c42aff43628f3c5c3d8e61dc98",
       "version_major": 2,
       "version_minor": 0
      },
      "text/plain": [
       "  0%|          | 0/28 [00:00<?, ?it/s]"
      ]
     },
     "metadata": {},
     "output_type": "display_data"
    },
    {
     "name": "stdout",
     "output_type": "stream",
     "text": [
      "256\n",
      "Feasibility SDP is set up with hard equality constraints\n",
      "dimension of symmetry subspace is 28\n",
      "tr(M*rho)= (3.9999999999998703+2.4646590310642945e-14j)\n",
      "fidelity to the theoretical steady state is 0.999999999999984\n"
     ]
    },
    {
     "data": {
      "application/vnd.jupyter.widget-view+json": {
       "model_id": "9e1b4c2fc6a147b997a75dcdd249072a",
       "version_major": 2,
       "version_minor": 0
      },
      "text/plain": [
       "  0%|          | 0/28 [00:00<?, ?it/s]"
      ]
     },
     "metadata": {},
     "output_type": "display_data"
    },
    {
     "name": "stdout",
     "output_type": "stream",
     "text": [
      "256\n",
      "Feasibility SDP is set up with hard equality constraints\n",
      "dimension of symmetry subspace is 28\n",
      "tr(M*rho)= (4.000000000000467-9.945971997382674e-14j)\n",
      "fidelity to the theoretical steady state is 0.9902869449047118\n"
     ]
    },
    {
     "data": {
      "application/vnd.jupyter.widget-view+json": {
       "model_id": "57810382e9b044fca76aea3030e02401",
       "version_major": 2,
       "version_minor": 0
      },
      "text/plain": [
       "  0%|          | 0/28 [00:00<?, ?it/s]"
      ]
     },
     "metadata": {},
     "output_type": "display_data"
    },
    {
     "name": "stdout",
     "output_type": "stream",
     "text": [
      "256\n",
      "Feasibility SDP is set up with hard equality constraints\n",
      "dimension of symmetry subspace is 28\n",
      "tr(M*rho)= (4.000000000000143-6.59056007467837e-14j)\n",
      "fidelity to the theoretical steady state is 1.0000000000000102\n"
     ]
    },
    {
     "data": {
      "application/vnd.jupyter.widget-view+json": {
       "model_id": "15cf47e4570942498bac197fd91c07c3",
       "version_major": 2,
       "version_minor": 0
      },
      "text/plain": [
       "  0%|          | 0/28 [00:00<?, ?it/s]"
      ]
     },
     "metadata": {},
     "output_type": "display_data"
    },
    {
     "name": "stdout",
     "output_type": "stream",
     "text": [
      "256\n",
      "Feasibility SDP is set up with hard equality constraints\n",
      "dimension of symmetry subspace is 28\n",
      "tr(M*rho)= (4.000000000000004-4.612018164834412e-16j)\n",
      "fidelity to the theoretical steady state is 0.9999999999936006\n"
     ]
    },
    {
     "data": {
      "application/vnd.jupyter.widget-view+json": {
       "model_id": "1c9313f7c9aa4b48a4dd13f98b3d9bb6",
       "version_major": 2,
       "version_minor": 0
      },
      "text/plain": [
       "  0%|          | 0/28 [00:00<?, ?it/s]"
      ]
     },
     "metadata": {},
     "output_type": "display_data"
    },
    {
     "name": "stdout",
     "output_type": "stream",
     "text": [
      "256\n",
      "Feasibility SDP is set up with hard equality constraints\n",
      "dimension of symmetry subspace is 28\n",
      "tr(M*rho)= (3.9999999999999876+6.2975883188820525e-15j)\n",
      "fidelity to the theoretical steady state is 0.9815312014606914\n"
     ]
    },
    {
     "data": {
      "application/vnd.jupyter.widget-view+json": {
       "model_id": "bf4132aea1de4ba1890d94e40ce998ea",
       "version_major": 2,
       "version_minor": 0
      },
      "text/plain": [
       "  0%|          | 0/28 [00:00<?, ?it/s]"
      ]
     },
     "metadata": {},
     "output_type": "display_data"
    },
    {
     "name": "stdout",
     "output_type": "stream",
     "text": [
      "256\n",
      "Feasibility SDP is set up with hard equality constraints\n",
      "dimension of symmetry subspace is 28\n",
      "tr(M*rho)= (4.000000000000439+6.729920711424225e-14j)\n",
      "fidelity to the theoretical steady state is 0.9557584956165579\n"
     ]
    },
    {
     "data": {
      "application/vnd.jupyter.widget-view+json": {
       "model_id": "300e16f43a0148ecacaf41f0d6a53e03",
       "version_major": 2,
       "version_minor": 0
      },
      "text/plain": [
       "  0%|          | 0/28 [00:00<?, ?it/s]"
      ]
     },
     "metadata": {},
     "output_type": "display_data"
    },
    {
     "name": "stdout",
     "output_type": "stream",
     "text": [
      "256\n",
      "Feasibility SDP is set up with hard equality constraints\n",
      "dimension of symmetry subspace is 28\n",
      "tr(M*rho)= (3.999999999999991-1.217474336406496e-15j)\n",
      "fidelity to the theoretical steady state is 0.9636134616323696\n"
     ]
    },
    {
     "data": {
      "application/vnd.jupyter.widget-view+json": {
       "model_id": "bcc08d0a5ead44998ecf015df8bc441a",
       "version_major": 2,
       "version_minor": 0
      },
      "text/plain": [
       "  0%|          | 0/28 [00:00<?, ?it/s]"
      ]
     },
     "metadata": {},
     "output_type": "display_data"
    },
    {
     "name": "stdout",
     "output_type": "stream",
     "text": [
      "256\n",
      "Feasibility SDP is set up with hard equality constraints\n",
      "dimension of symmetry subspace is 28\n",
      "tr(M*rho)= (3.9999999999999316+1.2471577590100758e-15j)\n",
      "fidelity to the theoretical steady state is 0.999999918605838\n"
     ]
    },
    {
     "data": {
      "application/vnd.jupyter.widget-view+json": {
       "model_id": "409a2712a6df486baa6c05ae5979e804",
       "version_major": 2,
       "version_minor": 0
      },
      "text/plain": [
       "  0%|          | 0/28 [00:00<?, ?it/s]"
      ]
     },
     "metadata": {},
     "output_type": "display_data"
    },
    {
     "name": "stdout",
     "output_type": "stream",
     "text": [
      "256\n",
      "Feasibility SDP is set up with hard equality constraints\n",
      "dimension of symmetry subspace is 28\n",
      "tr(M*rho)= (3.9999999999949516-1.956665738675382e-12j)\n",
      "fidelity to the theoretical steady state is 0.9720221440082545\n"
     ]
    },
    {
     "data": {
      "application/vnd.jupyter.widget-view+json": {
       "model_id": "ee7133c23fa14bcab538b81d83e2f1da",
       "version_major": 2,
       "version_minor": 0
      },
      "text/plain": [
       "  0%|          | 0/28 [00:00<?, ?it/s]"
      ]
     },
     "metadata": {},
     "output_type": "display_data"
    },
    {
     "name": "stdout",
     "output_type": "stream",
     "text": [
      "256\n",
      "Feasibility SDP is set up with hard equality constraints\n",
      "dimension of symmetry subspace is 28\n",
      "tr(M*rho)= (3.999999999999987+1.1212784986527197e-15j)\n",
      "fidelity to the theoretical steady state is 0.9447804990121861\n"
     ]
    },
    {
     "data": {
      "application/vnd.jupyter.widget-view+json": {
       "model_id": "b39102d58d624f66980871be54866650",
       "version_major": 2,
       "version_minor": 0
      },
      "text/plain": [
       "  0%|          | 0/28 [00:00<?, ?it/s]"
      ]
     },
     "metadata": {},
     "output_type": "display_data"
    },
    {
     "name": "stdout",
     "output_type": "stream",
     "text": [
      "256\n",
      "Feasibility SDP is set up with hard equality constraints\n",
      "dimension of symmetry subspace is 28\n",
      "tr(M*rho)= (4.000000000000064+1.0427185729574651e-13j)\n",
      "fidelity to the theoretical steady state is 0.9419884415388009\n"
     ]
    },
    {
     "data": {
      "application/vnd.jupyter.widget-view+json": {
       "model_id": "eabec2a52a5f4ea1801c4345ed4899e5",
       "version_major": 2,
       "version_minor": 0
      },
      "text/plain": [
       "  0%|          | 0/28 [00:00<?, ?it/s]"
      ]
     },
     "metadata": {},
     "output_type": "display_data"
    },
    {
     "name": "stdout",
     "output_type": "stream",
     "text": [
      "256\n",
      "Feasibility SDP is set up with hard equality constraints\n",
      "dimension of symmetry subspace is 28\n",
      "tr(M*rho)= (3.999999999999844-1.5768617423091158e-13j)\n",
      "fidelity to the theoretical steady state is 0.9999999999999808\n"
     ]
    },
    {
     "data": {
      "application/vnd.jupyter.widget-view+json": {
       "model_id": "990e61029c4d481d926f1b9cc6aaae1e",
       "version_major": 2,
       "version_minor": 0
      },
      "text/plain": [
       "  0%|          | 0/28 [00:00<?, ?it/s]"
      ]
     },
     "metadata": {},
     "output_type": "display_data"
    },
    {
     "name": "stdout",
     "output_type": "stream",
     "text": [
      "256\n",
      "Feasibility SDP is set up with hard equality constraints\n",
      "dimension of symmetry subspace is 28\n",
      "tr(M*rho)= (3.9999999999999654-1.7410173542913802e-14j)\n",
      "fidelity to the theoretical steady state is 0.9999999999700784\n"
     ]
    },
    {
     "data": {
      "application/vnd.jupyter.widget-view+json": {
       "model_id": "b64d4137c8124b0bbdc391408c6aa455",
       "version_major": 2,
       "version_minor": 0
      },
      "text/plain": [
       "  0%|          | 0/28 [00:00<?, ?it/s]"
      ]
     },
     "metadata": {},
     "output_type": "display_data"
    },
    {
     "name": "stdout",
     "output_type": "stream",
     "text": [
      "256\n",
      "Feasibility SDP is set up with hard equality constraints\n",
      "dimension of symmetry subspace is 28\n",
      "tr(M*rho)= (4.000000000000021-2.293340444729509e-14j)\n",
      "fidelity to the theoretical steady state is 1.0000000000000027\n"
     ]
    },
    {
     "data": {
      "application/vnd.jupyter.widget-view+json": {
       "model_id": "ef500e3718f94578943151f8e43808e9",
       "version_major": 2,
       "version_minor": 0
      },
      "text/plain": [
       "  0%|          | 0/28 [00:00<?, ?it/s]"
      ]
     },
     "metadata": {},
     "output_type": "display_data"
    },
    {
     "name": "stdout",
     "output_type": "stream",
     "text": [
      "256\n",
      "Feasibility SDP is set up with hard equality constraints\n",
      "dimension of symmetry subspace is 28\n",
      "tr(M*rho)= (3.999999999999913+6.937530180862149e-15j)\n",
      "fidelity to the theoretical steady state is 0.9600431965707104\n"
     ]
    },
    {
     "data": {
      "application/vnd.jupyter.widget-view+json": {
       "model_id": "172d67f058804a21bba79a65f5f963c3",
       "version_major": 2,
       "version_minor": 0
      },
      "text/plain": [
       "  0%|          | 0/28 [00:00<?, ?it/s]"
      ]
     },
     "metadata": {},
     "output_type": "display_data"
    },
    {
     "name": "stdout",
     "output_type": "stream",
     "text": [
      "256\n",
      "Feasibility SDP is set up with hard equality constraints\n",
      "dimension of symmetry subspace is 28\n",
      "tr(M*rho)= (4.000000011805092-4.718205147438118e-08j)\n",
      "fidelity to the theoretical steady state is 0.9769989032181752\n"
     ]
    },
    {
     "data": {
      "application/vnd.jupyter.widget-view+json": {
       "model_id": "43d2fa8e5c49487cb0aba9afbd0deccb",
       "version_major": 2,
       "version_minor": 0
      },
      "text/plain": [
       "  0%|          | 0/28 [00:00<?, ?it/s]"
      ]
     },
     "metadata": {},
     "output_type": "display_data"
    },
    {
     "name": "stdout",
     "output_type": "stream",
     "text": [
      "256\n",
      "Feasibility SDP is set up with hard equality constraints\n",
      "dimension of symmetry subspace is 28\n",
      "tr(M*rho)= (4.000000000000167-1.018349967689864e-12j)\n",
      "fidelity to the theoretical steady state is 0.9805747837165978\n"
     ]
    },
    {
     "data": {
      "application/vnd.jupyter.widget-view+json": {
       "model_id": "46fa7ff6050b4c51aba98e1cae7f25b7",
       "version_major": 2,
       "version_minor": 0
      },
      "text/plain": [
       "  0%|          | 0/28 [00:00<?, ?it/s]"
      ]
     },
     "metadata": {},
     "output_type": "display_data"
    },
    {
     "name": "stdout",
     "output_type": "stream",
     "text": [
      "256\n",
      "Feasibility SDP is set up with hard equality constraints\n",
      "dimension of symmetry subspace is 28\n",
      "tr(M*rho)= (4.000000000000975+2.0564496625214736e-13j)\n",
      "fidelity to the theoretical steady state is 0.9859987225172838\n"
     ]
    },
    {
     "data": {
      "application/vnd.jupyter.widget-view+json": {
       "model_id": "0d42800e62224394a3bc2b11a62c959f",
       "version_major": 2,
       "version_minor": 0
      },
      "text/plain": [
       "  0%|          | 0/28 [00:00<?, ?it/s]"
      ]
     },
     "metadata": {},
     "output_type": "display_data"
    },
    {
     "name": "stdout",
     "output_type": "stream",
     "text": [
      "256\n",
      "Feasibility SDP is set up with hard equality constraints\n",
      "dimension of symmetry subspace is 28\n",
      "tr(M*rho)= (4.000000000001013-2.389312676373122e-13j)\n",
      "fidelity to the theoretical steady state is 0.974846256386849\n"
     ]
    },
    {
     "data": {
      "application/vnd.jupyter.widget-view+json": {
       "model_id": "50c020456c2c4673900fec166fee2a3d",
       "version_major": 2,
       "version_minor": 0
      },
      "text/plain": [
       "  0%|          | 0/28 [00:00<?, ?it/s]"
      ]
     },
     "metadata": {},
     "output_type": "display_data"
    },
    {
     "name": "stdout",
     "output_type": "stream",
     "text": [
      "256\n",
      "Feasibility SDP is set up with hard equality constraints\n",
      "dimension of symmetry subspace is 28\n",
      "tr(M*rho)= (3.9999999999989178+2.391848654900719e-13j)\n",
      "fidelity to the theoretical steady state is 0.9724281692759722\n"
     ]
    },
    {
     "data": {
      "application/vnd.jupyter.widget-view+json": {
       "model_id": "c2fca82f2ed14bbd8de66b8c378a2156",
       "version_major": 2,
       "version_minor": 0
      },
      "text/plain": [
       "  0%|          | 0/28 [00:00<?, ?it/s]"
      ]
     },
     "metadata": {},
     "output_type": "display_data"
    },
    {
     "name": "stdout",
     "output_type": "stream",
     "text": [
      "256\n",
      "Feasibility SDP is set up with hard equality constraints\n",
      "dimension of symmetry subspace is 28\n",
      "tr(M*rho)= (3.999999999999069-1.1202197277974425e-12j)\n",
      "fidelity to the theoretical steady state is 0.9791868028437593\n"
     ]
    },
    {
     "data": {
      "application/vnd.jupyter.widget-view+json": {
       "model_id": "fbf4b34ec5244b0f9e15edaf9c192342",
       "version_major": 2,
       "version_minor": 0
      },
      "text/plain": [
       "  0%|          | 0/28 [00:00<?, ?it/s]"
      ]
     },
     "metadata": {},
     "output_type": "display_data"
    },
    {
     "name": "stdout",
     "output_type": "stream",
     "text": [
      "256\n",
      "Feasibility SDP is set up with hard equality constraints\n",
      "dimension of symmetry subspace is 28\n",
      "tr(M*rho)= (3.999999999999932-4.707667632455892e-13j)\n",
      "fidelity to the theoretical steady state is 0.9782411077766662\n"
     ]
    },
    {
     "data": {
      "application/vnd.jupyter.widget-view+json": {
       "model_id": "b7987e41235241fdba64869e8d25a60a",
       "version_major": 2,
       "version_minor": 0
      },
      "text/plain": [
       "  0%|          | 0/28 [00:00<?, ?it/s]"
      ]
     },
     "metadata": {},
     "output_type": "display_data"
    },
    {
     "name": "stdout",
     "output_type": "stream",
     "text": [
      "256\n",
      "Feasibility SDP is set up with hard equality constraints\n",
      "dimension of symmetry subspace is 28\n",
      "tr(M*rho)= (3.999999999999983+5.056854457743953e-16j)\n",
      "fidelity to the theoretical steady state is 0.9819805060612778\n"
     ]
    },
    {
     "data": {
      "application/vnd.jupyter.widget-view+json": {
       "model_id": "922a188574a14e049a6adff00529e170",
       "version_major": 2,
       "version_minor": 0
      },
      "text/plain": [
       "  0%|          | 0/28 [00:00<?, ?it/s]"
      ]
     },
     "metadata": {},
     "output_type": "display_data"
    },
    {
     "name": "stdout",
     "output_type": "stream",
     "text": [
      "256\n",
      "Feasibility SDP is set up with hard equality constraints\n",
      "dimension of symmetry subspace is 28\n",
      "tr(M*rho)= (4.000000000000309+4.73878545453367e-14j)\n",
      "fidelity to the theoretical steady state is 0.9560472949360488\n"
     ]
    },
    {
     "data": {
      "application/vnd.jupyter.widget-view+json": {
       "model_id": "140c281a665a450788afdd7826574119",
       "version_major": 2,
       "version_minor": 0
      },
      "text/plain": [
       "  0%|          | 0/28 [00:00<?, ?it/s]"
      ]
     },
     "metadata": {},
     "output_type": "display_data"
    },
    {
     "name": "stdout",
     "output_type": "stream",
     "text": [
      "256\n",
      "Feasibility SDP is set up with hard equality constraints\n",
      "dimension of symmetry subspace is 28\n",
      "tr(M*rho)= (3.999999999998625+2.8323522590885733e-12j)\n",
      "fidelity to the theoretical steady state is 0.9795691066312732\n"
     ]
    },
    {
     "data": {
      "application/vnd.jupyter.widget-view+json": {
       "model_id": "34f6c8cdc0f94c148aca051e9cabbe5b",
       "version_major": 2,
       "version_minor": 0
      },
      "text/plain": [
       "  0%|          | 0/28 [00:00<?, ?it/s]"
      ]
     },
     "metadata": {},
     "output_type": "display_data"
    },
    {
     "name": "stdout",
     "output_type": "stream",
     "text": [
      "256\n",
      "Feasibility SDP is set up with hard equality constraints\n",
      "dimension of symmetry subspace is 28\n",
      "tr(M*rho)= (3.9999999999910183-5.049138868508732e-13j)\n",
      "fidelity to the theoretical steady state is 0.9796490284566081\n"
     ]
    },
    {
     "data": {
      "application/vnd.jupyter.widget-view+json": {
       "model_id": "4035ed1bcf4e430eabbc3f94bec36e37",
       "version_major": 2,
       "version_minor": 0
      },
      "text/plain": [
       "  0%|          | 0/28 [00:00<?, ?it/s]"
      ]
     },
     "metadata": {},
     "output_type": "display_data"
    },
    {
     "name": "stdout",
     "output_type": "stream",
     "text": [
      "256\n",
      "Feasibility SDP is set up with hard equality constraints\n",
      "dimension of symmetry subspace is 28\n",
      "tr(M*rho)= (4.000000000000001-2.3229404239998724e-15j)\n",
      "fidelity to the theoretical steady state is 0.9999999999999999\n"
     ]
    },
    {
     "data": {
      "application/vnd.jupyter.widget-view+json": {
       "model_id": "41b747ee93914edd8d3c48848b37c890",
       "version_major": 2,
       "version_minor": 0
      },
      "text/plain": [
       "  0%|          | 0/28 [00:00<?, ?it/s]"
      ]
     },
     "metadata": {},
     "output_type": "display_data"
    },
    {
     "name": "stdout",
     "output_type": "stream",
     "text": [
      "256\n",
      "Feasibility SDP is set up with hard equality constraints\n",
      "dimension of symmetry subspace is 28\n",
      "tr(M*rho)= (3.9999999999999165+1.3450116425822787e-14j)\n",
      "fidelity to the theoretical steady state is 0.9818785694412447\n"
     ]
    },
    {
     "data": {
      "application/vnd.jupyter.widget-view+json": {
       "model_id": "b71ce2bad80f4ed09057b5daa5ff4f0d",
       "version_major": 2,
       "version_minor": 0
      },
      "text/plain": [
       "  0%|          | 0/28 [00:00<?, ?it/s]"
      ]
     },
     "metadata": {},
     "output_type": "display_data"
    },
    {
     "name": "stdout",
     "output_type": "stream",
     "text": [
      "256\n",
      "Feasibility SDP is set up with hard equality constraints\n",
      "dimension of symmetry subspace is 28\n",
      "tr(M*rho)= (3.9999999999760583-3.2860314441876514e-12j)\n",
      "fidelity to the theoretical steady state is 0.9434547900347087\n",
      "\n"
     ]
    }
   ],
   "source": [
    "\n",
    "def calcFidelity(numQubits, numAnsatzStates, sz, verbose = False, precompMatrices=False):\n",
    "    ansatz = generate_n_random_states(numQubits, sz, numAnsatzStates)\n",
    "\n",
    "    H = generate_XXZ_hamiltonian(numQubits, 0.3).to_matrixform() #xxx hamiltonian\n",
    "    gammas,L_terms_uneval = generate_bulk_dephasing(numQubits)\n",
    "    L_terms = [L.to_matrixform() for L in L_terms_uneval]\n",
    "    L_dag_L_terms = []\n",
    "    for Li in L_terms:\n",
    "        L_dag_L = Li.conj().T @ Li\n",
    "        L_dag_L_terms.append(L_dag_L)\n",
    "\n",
    "    E_matrix = np.zeros(shape=[numAnsatzStates,\n",
    "    numAnsatzStates],dtype=np.complex128)\n",
    "\n",
    "    D_matrix = np.zeros(shape=[numAnsatzStates,\n",
    "    numAnsatzStates],dtype=np.complex128)\n",
    "\n",
    "    R_mats = [np.zeros(shape=[numAnsatzStates,\n",
    "    numAnsatzStates],dtype=np.complex128) for i in L_terms]\n",
    "\n",
    "    F_mats = [np.zeros(shape=[numAnsatzStates,\n",
    "    numAnsatzStates],dtype=np.complex128) for i in L_dag_L_terms]\n",
    "\n",
    "    if precompMatrices == False:\n",
    "        if verbose:\n",
    "            print(\"Generating matrices...\")\n",
    "        for i in tqdm(range(len(ansatz))):\n",
    "            for j in range(len(ansatz)):\n",
    "                bra = ansatz[i].conj().T\n",
    "                ket = ansatz[j]\n",
    "                E_matrix[(i,j)] = bra@ket\n",
    "                D_matrix[(i,j)] = bra @ H @ ket \n",
    "                for k in range(len(R_mats)):\n",
    "                    R_k_mat = R_mats[k]\n",
    "                    F_k_mat = F_mats[k]\n",
    "\n",
    "                    R_k_mat[(i,j)] = bra@L_terms[k]@ket\n",
    "                    F_k_mat[(i,j)] = bra @ L_dag_L_terms[k] @ ket\n",
    "        to_save = (D_matrix,E_matrix,R_mats,F_mats,gammas)\n",
    "        save_obj(to_save, \"precomputedMatrices{}qubits\".format(str(numQubits)))\n",
    "    else:\n",
    "        to_load = load_obj(\"precomputedMatrices{}qubits\".format(str(numQubits)))\n",
    "        D_matrix,E_matrix,R_mats,F_mats,gammas = to_load\n",
    "\n",
    "    ######################################\n",
    "    # Start of classical post-processing #\n",
    "    ######################################\n",
    "    ness_problem_instance = pp.IQAE_Lindblad(numQubits, D_matrix, E_matrix, R_matrices=R_mats, F_matrices=F_mats, gammas = gammas)\n",
    "\n",
    "    M_matform = generate_total_magnetisation_matform(numQubits)\n",
    "    print(len(M_matform))\n",
    "\n",
    "    M_eigvals, M_eigvecs = scipy.linalg.eigh(M_matform)\n",
    "\n",
    "    # M_eigvals, M_eigvecs = load_obj(\"{}qubitsM_eigh\".format(str(numQubits)))\n",
    "\n",
    "    projector_indices = np.where(M_eigvals==sz)[0]\n",
    "    projector = M_eigvecs[:,projector_indices] #fancy indexing\n",
    "    eigh_inv_cond = 10**(-6)\n",
    "    eig_inv_cond = 10**(-6)\n",
    "    use_qiskit = False\n",
    "    degeneracy_tol = 5\n",
    "    sdp_tolerance_bound = 0\n",
    "\n",
    "    ness_problem_instance.define_optimizer('feasibility_sdp',eigh_invcond=eigh_inv_cond,eig_invcond=eig_inv_cond,degeneracy_tol=degeneracy_tol,sdp_tolerance_bound=sdp_tolerance_bound)\n",
    "\n",
    "    if verbose:\n",
    "        print(\"starting SDP\")\n",
    "    ness_problem_instance.evaluate()\n",
    "    if verbose:\n",
    "        print(\"SDP finished\")\n",
    "\n",
    "    beta_mat = ness_problem_instance.get_density_matrix_results()[0]\n",
    "\n",
    "    rho = np.zeros(shape=(2**numQubits, 2**numQubits),dtype=np.complex128) \n",
    "    for i in range(len(ansatz)):\n",
    "        for j in range(len(ansatz)):\n",
    "            ket_i = ansatz[i].reshape(len(ansatz[i]),1)\n",
    "            bra_j = (ansatz[j].reshape(len(ansatz[i]),1)).conj().T\n",
    "            rho += beta_mat[(i,j)] * ket_i @ bra_j\n",
    "\n",
    "    rho_reduced = projector.conj().T @ rho @ projector \n",
    "    maximally_mixed_state = np.eye(len(projector_indices)) * 1/len(projector_indices)\n",
    "    print(\"dimension of symmetry subspace is\", len(projector_indices))\n",
    "\n",
    "    # print(\"eigvals of M are\", M_matform)\n",
    "    # print(\"eigvals of rho are\", scipy.linalg.eigvalsh(rho))\n",
    "    # print(\"trace of rho is\", np.trace(rho))\n",
    "\n",
    "    print(\"tr(M*rho)=\", np.trace(M_matform@rho))\n",
    "    # rho_dot = evaluate_rho_dot(rho, H, gammas, L_terms, L_dag_L_terms)\n",
    "\n",
    "    # print(\"Max value of rho_dot is\", np.max(np.max(rho_dot)))\n",
    "    #fidelity computation\n",
    "\n",
    "    qtp_rho_reduced = qtp.Qobj(rho_reduced)\n",
    "    qtp_maximally_mixed_state = qtp.Qobj(maximally_mixed_state)\n",
    "    fidelity = qtp.metrics.fidelity(qtp_rho_reduced, qtp_maximally_mixed_state)\n",
    "    print(\"fidelity to the theoretical steady state is\", fidelity)\n",
    "    return fidelity\n",
    "\n",
    "\n",
    "numQubitsStatesDict = {4:1, 6:6, 8:28} #use the same number of states as size of symmetry subspace\n",
    "# numQubitsStatesDict = {4:4, 6:15, 8:56, 10:120}\n",
    "target_sz = 4\n",
    "\n",
    "def main():\n",
    "    # main(numQubits, 30, target_sz)\n",
    "    fidelity_dict = dict()\n",
    "\n",
    "    for numQubits in range(4,9,2):\n",
    "        numStates = numQubitsStatesDict[numQubits]\n",
    "        fidelity_dict[numStates] = []\n",
    "        for rep in range(100):\n",
    "            fidelity = calcFidelity(numQubits, numStates, target_sz)\n",
    "            fidelity_dict[numStates].append(fidelity)\n",
    "        print(\"\")\n",
    "    return fidelity_dict\n",
    "        # print(i)\n",
    "        # symmetrySubspaceDim(i, target_sz)\n",
    "\n",
    "fidelity_dict = main()\n",
    "save_obj(fidelity_dict, \"sz=2XXZSteadyStateFidelities\")\n"
   ]
  },
  {
   "cell_type": "code",
   "execution_count": 4,
   "metadata": {},
   "outputs": [
    {
     "name": "stdout",
     "output_type": "stream",
     "text": [
      "here1\n",
      "here bitch\n",
      "here again bitch\n",
      "1024\n",
      "here2\n",
      "here3\n"
     ]
    }
   ],
   "source": [
    "# numQubits = 10\n",
    "# numAnsatzStates = 28\n",
    "# sz = 4\n",
    "# verbose = True \n",
    "# precompMatrices = True\n",
    "\n",
    "# ansatz = generate_n_random_states(numQubits, sz, numAnsatzStates)\n",
    "\n",
    "# H = generate_XXZ_hamiltonian(numQubits, 0.3).to_matrixform() #xxx hamiltonian\n",
    "# gammas,L_terms_uneval = generate_bulk_dephasing(numQubits)\n",
    "# L_terms = [L.to_matrixform() for L in L_terms_uneval]\n",
    "# L_dag_L_terms = []\n",
    "# for Li in L_terms:\n",
    "#     L_dag_L = Li.conj().T @ Li\n",
    "#     L_dag_L_terms.append(L_dag_L)\n",
    "\n",
    "# E_matrix = np.zeros(shape=[numAnsatzStates,\n",
    "# numAnsatzStates],dtype=np.complex128)\n",
    "\n",
    "# D_matrix = np.zeros(shape=[numAnsatzStates,\n",
    "# numAnsatzStates],dtype=np.complex128)\n",
    "\n",
    "# R_mats = [np.zeros(shape=[numAnsatzStates,\n",
    "# numAnsatzStates],dtype=np.complex128) for i in L_terms]\n",
    "\n",
    "# F_mats = [np.zeros(shape=[numAnsatzStates,\n",
    "# numAnsatzStates],dtype=np.complex128) for i in L_dag_L_terms]\n",
    "\n",
    "# if precompMatrices == False:\n",
    "#     if verbose:\n",
    "#         print(\"Generating matrices...\")\n",
    "#     for i in tqdm(range(len(ansatz))):\n",
    "#         for j in range(len(ansatz)):\n",
    "#             bra = ansatz[i].conj().T\n",
    "#             ket = ansatz[j]\n",
    "#             E_matrix[(i,j)] = bra@ket\n",
    "#             D_matrix[(i,j)] = bra @ H @ ket \n",
    "#             for k in range(len(R_mats)):\n",
    "#                 R_k_mat = R_mats[k]\n",
    "#                 F_k_mat = F_mats[k]\n",
    "\n",
    "#                 R_k_mat[(i,j)] = bra@L_terms[k]@ket\n",
    "#                 F_k_mat[(i,j)] = bra @ L_dag_L_terms[k] @ ket\n",
    "#     to_save = (D_matrix,E_matrix,R_mats,F_mats,gammas)\n",
    "#     save_obj(to_save, \"precomputedMatrices{}qubits\".format(str(numQubits)))\n",
    "# else:\n",
    "#     to_load = load_obj(\"precomputedMatrices{}qubits\".format(str(numQubits)))\n",
    "#     D_matrix,E_matrix,R_mats,F_mats,gammas = to_load\n",
    "\n",
    "# ######################################\n",
    "# # Start of classical post-processing #\n",
    "# ######################################\n",
    "# print(\"here1\")\n",
    "# ness_problem_instance = pp.IQAE_Lindblad(numQubits, D_matrix, E_matrix, R_matrices=R_mats, F_matrices=F_mats, gammas = gammas)\n",
    "\n",
    "# print(\"here bitch\")\n",
    "# M_matform = generate_total_magnetisation_matform(numQubits)\n",
    "# print(\"here again bitch\")\n",
    "# print(len(M_matform))\n",
    "\n",
    "# # M_eigvals, M_eigvecs = scipy.linalg.eigh(M_matform)\n",
    "# M_eigvals, M_eigvecs = load_obj(\"{}qubitsM_eigh\".format(str(numQubits)))\n",
    "\n",
    "# print(\"here2\")\n",
    "# projector_indices = np.where(M_eigvals==sz)[0]\n",
    "# projector = M_eigvecs[:,projector_indices] #fancy indexing\n",
    "# # return 0 \n",
    "# use_qiskit = False\n",
    "# sdp_tolerance_bound = 0\n",
    "\n",
    "# print(\"here3\")\n",
    "# ness_problem_instance.define_optimizer('feasibility_sdp',sdp_tolerance_bound=sdp_tolerance_bound)\n",
    "# ness_problem_instance.evaluate()\n",
    "# if verbose:\n",
    "#     print(\"starting SDP\")\n",
    "# ness_problem_instance.evaluate()\n",
    "# if verbose:\n",
    "#     print(\"SDP finished\")\n",
    "\n",
    "\n",
    "# beta_mat = ness_problem_instance.get_density_matrix_results()[0]\n",
    "\n",
    "# rho = np.zeros(shape=(2**numQubits, 2**numQubits),dtype=np.complex128) \n",
    "# for i in range(len(ansatz)):\n",
    "#     for j in range(len(ansatz)):\n",
    "#         ket_i = ansatz[i].reshape(len(ansatz[i]),1)\n",
    "#         bra_j = (ansatz[j].reshape(len(ansatz[i]),1)).conj().T\n",
    "#         rho += beta_mat[(i,j)] * ket_i @ bra_j\n",
    "\n",
    "# rho_reduced = projector.conj().T @ rho @ projector \n",
    "# maximally_mixed_state = np.eye(len(projector_indices)) * 1/len(projector_indices)\n",
    "# print(\"dimension of symmetry subspace is\", len(projector_indices))\n",
    "\n",
    "# # print(\"eigvals of M are\", M_matform)\n",
    "# # print(\"eigvals of rho are\", scipy.linalg.eigvalsh(rho))\n",
    "# # print(\"trace of rho is\", np.trace(rho))\n",
    "\n",
    "# print(\"tr(M*rho)=\", np.trace(M_matform@rho))\n",
    "# # rho_dot = evaluate_rho_dot(rho, H, gammas, L_terms, L_dag_L_terms)\n",
    "\n",
    "# # print(\"Max value of rho_dot is\", np.max(np.max(rho_dot)))\n",
    "# #fidelity computation\n",
    "\n",
    "# qtp_rho_reduced = qtp.Qobj(rho_reduced)\n",
    "# qtp_maximally_mixed_state = qtp.Qobj(maximally_mixed_state)\n",
    "# fidelity = qtp.metrics.fidelity(qtp_rho_reduced, qtp_maximally_mixed_state)\n",
    "# print(\"fidelity to the theoretical steady state is\", fidelity)\n",
    "# # calcFidelity(10,numQubitsStatesDict[10],target_sz, verbose=True, precompMatrices=True)\n",
    "# numQubits = 10\n",
    "# sz = 4\n",
    "# M_matform = generate_total_magnetisation_matform(numQubits)\n",
    "# print(len(M_matform))\n",
    "# M_eigvals, M_eigvecs = scipy.linalg.eigh(M_matform)\n",
    "\n",
    "# projector_indices = np.where(M_eigvals==sz)[0]\n",
    "# projector = M_eigvecs[:,projector_indices] #fancy indexing\n",
    "\n",
    "# save_obj(scipy.linalg.eigh(M_matform),\"{}qubitsM_eigh\".format(str(numQubits)))\n"
   ]
  },
  {
   "cell_type": "code",
   "execution_count": 8,
   "metadata": {},
   "outputs": [
    {
     "data": {
      "text/plain": [
       "dict_keys([1, 6, 28])"
      ]
     },
     "execution_count": 8,
     "metadata": {},
     "output_type": "execute_result"
    }
   ],
   "source": [
    "fidelity_dict.keys()"
   ]
  },
  {
   "cell_type": "code",
   "execution_count": 41,
   "metadata": {},
   "outputs": [
    {
     "data": {
      "image/png": "[encoded data removed]",
      "text/plain": [
       "<Figure size 432x288 with 1 Axes>"
      ]
     },
     "metadata": {
      "needs_background": "light"
     },
     "output_type": "display_data"
    }
   ],
   "source": [
    "import matplotlib.pyplot as plt \n",
    "\n",
    "data = list(fidelity_dict.values())\n",
    "# means = [np.mean(x) for x in data]\n",
    "# std_devs = [np.std(x) for x in data]\n",
    "fig,ax = plt.subplots() \n",
    "# ax.scatter(range(len(means)),means)\n",
    "# ax.errorbar(range(len(means)),means, yerr = std_devs, fmt = \"o\")\n",
    "ax.boxplot(data, whis = 0, showfliers=0, meanline = True, labels = [4,6,8])\n",
    "ax.set_ylabel(\"Fidelity\")\n",
    "ax.set_xlabel(\"Number of qubits\")\n",
    "plt.savefig(\"FidelityAgainstNumberOfQubits.pdf\")"
   ]
  },
  {
   "cell_type": "code",
   "execution_count": null,
   "metadata": {},
   "outputs": [],
   "source": []
  }
 ],
 "metadata": {
  "interpreter": {
   "hash": "31f2aee4e71d21fbe5cf8b01ff0e069b9275f58929596ceb00d14d90e3e16cd6"
  },
  "kernelspec": {
   "display_name": "Python 3.8.10 64-bit",
   "language": "python",
   "name": "python3"
  },
  "language_info": {
   "codemirror_mode": {
    "name": "ipython",
    "version": 3
   },
   "file_extension": ".py",
   "mimetype": "text/x-python",
   "name": "python",
   "nbconvert_exporter": "python",
   "pygments_lexer": "ipython3",
   "version": "3.8.6"
  },
  "orig_nbformat": 4
 },
 "nbformat": 4,
 "nbformat_minor": 2
}
