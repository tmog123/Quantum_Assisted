{
 "cells": [
  {
   "cell_type": "markdown",
   "id": "conventional-testing",
   "metadata": {},
   "source": [
    "# Basic tutorial on how to use the quantum simulators\n",
    "\n",
    "### This tutorial shows the basic idea of how to use the quantum assisted package to carry out Quantum Assisted Simulator (QAS) and Truncated Taylor Quantum Simulator (TTQS)\n",
    "\n",
    "Quantum Assisted Simulator: https://arxiv.org/abs/2011.06911, https://arxiv.org/abs/2011.14737, https://arxiv.org/abs/2101.07677\n",
    "\n",
    "Truncated Taylor Quantum Simulator: https://arxiv.org/abs/2103.05500"
   ]
  },
  {
   "cell_type": "markdown",
   "id": "documented-joint",
   "metadata": {},
   "source": [
    "### Import Packages"
   ]
  },
  {
   "cell_type": "code",
   "execution_count": null,
   "id": "boxed-poster",
   "metadata": {},
   "outputs": [],
   "source": [
    "import numpy as np \n",
    "import ansatz_class_package as acp \n",
    "import pauli_class_package as pcp \n",
    "import hamiltonian_class_package as hcp \n",
    "import matrix_class_package as mcp \n",
    "import post_processing as pp\n",
    "import plotting_package as plotp\n",
    "import warnings\n",
    "warnings.filterwarnings(\"ignore\", category=DeprecationWarning) "
   ]
  },
  {
   "cell_type": "markdown",
   "id": "atomic-waters",
   "metadata": {},
   "source": [
    "### Set parameters for the evaluation"
   ]
  },
  {
   "cell_type": "code",
   "execution_count": 1,
   "id": "parliamentary-assurance",
   "metadata": {},
   "outputs": [],
   "source": [
    "uptowhatK = 5\n",
    "num_qubits = 3\n",
    "endtime = 8\n",
    "num_steps = 1001"
   ]
  },
  {
   "cell_type": "markdown",
   "id": "speaking-florida",
   "metadata": {},
   "source": [
    "### Create the initial state (starting quantum state that will be used in QAS and TTQS). Also define Hamiltonian here.\n",
    "\n",
    "This initial state is basically $|\\psi>$ in Definition 1 in https://arxiv.org/abs/2011.06911"
   ]
  },
  {
   "cell_type": "code",
   "execution_count": null,
   "id": "spiritual-literature",
   "metadata": {},
   "outputs": [],
   "source": [
    "#create initial state\n",
    "initial_state = acp.Initialstate(num_qubits, \"efficient_SU2\", 123, 5)\n",
    "#define Hamiltonian\n",
    "hamiltonian = hcp.transverse_ising_model_1d(num_qubits)"
   ]
  },
  {
   "cell_type": "markdown",
   "id": "subtle-cholesterol",
   "metadata": {},
   "source": [
    "### How to run TTQS\n",
    "\n",
    "This following segment shows how the code is meant to work.\n",
    "1) Create initial Ansatz for K = 0\n",
    "2) We need to iterate up to whatever K we want to go up to\n",
    "3) At the start of each iteration, we use the Ansatz for the previous round to generate the new Ansatz. Typically done by the method described in QAS, by generating the new moments and adding them to the existing Ansatz (cumulative K-moment states)\n",
    "4) Use the Ansatz to generate the E and D matrices, and set the initial alphas (the actual starting state we wish to perform time evolution on)\n",
    "5) Specify parameters for the TTQS instance and evaluate\n",
    "6) Update the Ansatz with the new alphas (basically the results of the evaluation)"
   ]
  },
  {
   "cell_type": "code",
   "execution_count": null,
   "id": "assumed-incident",
   "metadata": {
    "jupyter": {
     "source_hidden": true
    },
    "tags": []
   },
   "outputs": [],
   "source": [
    "#Run TTQS\n",
    "\n",
    "#Some extra parameters for TTQS\n",
    "optimizer = 'eigh'\n",
    "inv_cond = 10**(-6)\n",
    "\n",
    "#create Initial Ansatz for K = 0\n",
    "ansatz = acp.initial_ansatz(num_qubits)\n",
    "#finalresults\n",
    "finalresults = []\n",
    "finalresults.append(ansatz)\n",
    "\n",
    "for k in range(1,uptowhatK+1):\n",
    "    print('Currently at K = ' + str(k))\n",
    "    #Generate Ansatz for this round\n",
    "    ansatz = acp.gen_next_ansatz(ansatz, hamiltonian, num_qubits) #By default, there is no processing when generating next Ansatz\n",
    "    \n",
    "    #Set initial alphas for Ansatz\n",
    "    #Only 'start_with_initial_state' has been implemented thus far. \n",
    "    #This basically sets the state we want to evolve as the random, initial state we are using to generate the E and D matrices, for convenience\n",
    "    acp.set_initial_alphas(num_qubits,ansatz,'start_with_initial_state')\n",
    "    E_mat_uneval = mcp.unevaluatedmatrix(num_qubits, ansatz, hamiltonian, \"E\")\n",
    "    D_mat_uneval = mcp.unevaluatedmatrix(num_qubits, ansatz, hamiltonian, \"D\")\n",
    "    \n",
    "    #Here is where we should be able to specify how to evaluate the matrices. However only the exact method (classical matrix multiplication) has been implemented so far\n",
    "    E_mat_evaluated =  E_mat_uneval.evaluate_matrix_by_matrix_multiplicaton(initial_state)\n",
    "    D_mat_evaluated = D_mat_uneval.evaluate_matrix_by_matrix_multiplicaton(initial_state)\n",
    "    \n",
    "    #Get starting alphas\n",
    "    startingstrings,startingalphas = ansatz.get_alphas()\n",
    "    \n",
    "    #Initialize TTQS instance and specify parameters\n",
    "    TTQS_instance = pp.TTQS(num_qubits,D_mat_evaluated,E_mat_evaluated,startingalphas)\n",
    "    TTQS_instance.numberstep(num_steps)\n",
    "    TTQS_instance.define_endtime(endtime)\n",
    "    TTQS_instance.define_optimizer(optimizer)\n",
    "    TTQS_instance.define_invcond(inv_cond)\n",
    "    \n",
    "    #Run TTQS instance\n",
    "    TTQS_instance.evaluate()\n",
    "\n",
    "    #Get results\n",
    "    result = TTQS_instance.get_results()\n",
    "\n",
    "    #Update ansatz with the new alphas\n",
    "    ansatz.update_alphas(result)\n",
    "\n",
    "    #Update final results with this\n",
    "    finalresults.append(ansatz)"
   ]
  },
  {
   "cell_type": "markdown",
   "id": "peripheral-pearl",
   "metadata": {},
   "source": [
    "Now, finalresults is a list of Ansatzes, each Ansatz basically stores the results for that run.\n",
    "\n",
    "Example, Final results might look like this [Ansatz_0,Ansatz_1,Ansatz_2,Ansatz_3].\n",
    "\n",
    "Where Ansatz_1 is an Ansatz class, which was used for the K=1 run, and contains the final results for that run"
   ]
  },
  {
   "cell_type": "markdown",
   "id": "advance-insider",
   "metadata": {},
   "source": [
    "### Plotting observable"
   ]
  },
  {
   "cell_type": "code",
   "execution_count": null,
   "id": "viral-capability",
   "metadata": {},
   "outputs": [],
   "source": [
    "#Observable we want to plot\n",
    "times = TTQS_instance.get_times()\n",
    "observable = hcp.generate_arbitary_observable(num_qubits, [1], [\"300\"]) \n",
    "\n",
    "#What Ks we want to plot\n",
    "whatK = [4,5]\n",
    "\n",
    "#Plotting results\n",
    "plotp.QS_plotter_forobservable(num_qubits,finalresults,times,whatK,'TTQS',observable,initial_state)"
   ]
  },
  {
   "cell_type": "markdown",
   "id": "happy-carolina",
   "metadata": {},
   "source": [
    "### How to run QAS\n",
    "\n",
    "This following segment shows how the code is meant to work. Very similar to TTQS\n",
    "1) Create initial Ansatz for K = 0\n",
    "2) We need to iterate up to whatever K we want to go up to\n",
    "3) At the start of each iteration, we use the Ansatz for the previous round to generate the new Ansatz. Typically done by the method described in QAS, by generating the new moments and adding them to the existing Ansatz (cumulative K-moment states)\n",
    "4) Use the Ansatz to generate the E and D matrices, and set the initial alphas (the actual starting state we wish to perform time evolution on)\n",
    "5) Specify parameters for the QAS instance and evaluate\n",
    "6) Update the Ansatz with the new alphas (basically the results of the evaluation)"
   ]
  },
  {
   "cell_type": "code",
   "execution_count": null,
   "id": "increased-rotation",
   "metadata": {},
   "outputs": [],
   "source": [
    "#Run QAS\n",
    "\n",
    "#Some extra parameters for QAS\n",
    "p_invcond = 10**(-6)\n",
    "optimizer = 'zvode'\n",
    "\n",
    "\n",
    "#create Initial Ansatz for K = 0\n",
    "ansatz = acp.initial_ansatz(num_qubits)\n",
    "#finalresults\n",
    "finalresults = []\n",
    "finalresults.append(ansatz)\n",
    "\n",
    "for k in range(1,uptowhatK+1):\n",
    "    print(k)\n",
    "\n",
    "    #Generate Ansatz for this round\n",
    "    ansatz = acp.gen_next_ansatz(ansatz, hamiltonian, num_qubits)\n",
    "\n",
    "    #Set initial alphas for Ansatz\n",
    "    acp.set_initial_alphas(num_qubits,ansatz,'start_with_initial_state')\n",
    "\n",
    "    E_mat_uneval = mcp.unevaluatedmatrix(num_qubits, ansatz, hamiltonian, \"E\")\n",
    "    D_mat_uneval = mcp.unevaluatedmatrix(num_qubits, ansatz, hamiltonian, \"D\")\n",
    "\n",
    "    #Here is where we should be able to specify how to evaluate the matrices. However only the exact method (classical matrix multiplication) has been implemented so far\n",
    "    E_mat_evaluated =  E_mat_uneval.evaluate_matrix_by_matrix_multiplicaton(initial_state)\n",
    "    D_mat_evaluated = D_mat_uneval.evaluate_matrix_by_matrix_multiplicaton(initial_state)\n",
    "\n",
    "    #Get starting alphas\n",
    "    startingstrings,startingalphas = ansatz.get_alphas()\n",
    "\n",
    "    #initialize QAS instance\n",
    "    QAS_instance = pp.QAS(num_qubits, D_mat_evaluated, E_mat_evaluated, startingalphas)\n",
    "    QAS_instance.numberstep(num_steps)\n",
    "    QAS_instance.define_endtime(endtime)\n",
    "    QAS_instance.define_optimizer(optimizer)\n",
    "    QAS_instance.define_p_invcond(p_invcond)\n",
    "\n",
    "    #Run QAS instance\n",
    "    QAS_instance.evaluate()\n",
    "\n",
    "    #Get results\n",
    "    result = QAS_instance.get_results()\n",
    "\n",
    "    #Update ansatz with the new alphas\n",
    "    ansatz.update_alphas(result)\n",
    "\n",
    "    #Update final results with this\n",
    "    finalresults.append(ansatz)"
   ]
  },
  {
   "cell_type": "markdown",
   "id": "olympic-miller",
   "metadata": {},
   "source": [
    "### Plotting observable for QAS"
   ]
  },
  {
   "cell_type": "code",
   "execution_count": null,
   "id": "mechanical-folks",
   "metadata": {},
   "outputs": [],
   "source": [
    "#Plotting results\n",
    "plotp.QS_plotter_forobservable(num_qubits,finalresults,times,whatK,'QAS',observable,initial_state)"
   ]
  },
  {
   "cell_type": "markdown",
   "id": "average-snake",
   "metadata": {},
   "source": [
    "### Classical results for the Observable (to compare)\n",
    "\n",
    "Need to run classical calculations using matrix multiplication"
   ]
  },
  {
   "cell_type": "code",
   "execution_count": null,
   "id": "continuing-tower",
   "metadata": {},
   "outputs": [],
   "source": [
    "#Run Classical Calculations\n",
    "\n",
    "#Initialize classicalSimulator\n",
    "cS_instance = pp.classicalSimulator(num_qubits,initial_state,hamiltonian)\n",
    "cS_instance.define_endtime(endtime)\n",
    "cS_instance.numberstep(num_steps)\n",
    "\n",
    "#Run classicalSimulator\n",
    "cS_instance.evaluate()\n",
    "\n",
    "#Plotting classical result\n",
    "observablematrix = observable.to_matrixform()\n",
    "classicalresult = cS_instance.get_expectations_observables(observablematrix)\n",
    "plotp.CS_plotter_forobservable(times,classicalresult)\n"
   ]
  },
  {
   "cell_type": "markdown",
   "id": "lightweight-roulette",
   "metadata": {},
   "source": [
    "### Show Results"
   ]
  },
  {
   "cell_type": "code",
   "execution_count": null,
   "id": "billion-madness",
   "metadata": {},
   "outputs": [],
   "source": [
    "#Show plot\n",
    "plotp.show_plot()"
   ]
  }
 ],
 "metadata": {
  "kernelspec": {
   "display_name": "Python 3",
   "language": "python",
   "name": "python3"
  },
  "language_info": {
   "codemirror_mode": {
    "name": "ipython",
    "version": 3
   },
   "file_extension": ".py",
   "mimetype": "text/x-python",
   "name": "python",
   "nbconvert_exporter": "python",
   "pygments_lexer": "ipython3",
   "version": "3.7.9"
  }
 },
 "nbformat": 4,
 "nbformat_minor": 5
}
