{
 "cells": [
  {
   "cell_type": "markdown",
   "id": "conventional-testing",
   "metadata": {},
   "source": [
    "# Basic tutorial on how to use the quantum simulators\n",
    "\n",
    "### This tutorial shows the basic idea of how to use the quantum assisted package to carry out Quantum Assisted Simulator (QAS), Truncated Taylor Quantum Simulator (TTQS) and the Classical Quantum Fast-Forwarding (CQFF)\n",
    "\n",
    "Quantum Assisted Simulator: https://arxiv.org/abs/2011.06911, https://arxiv.org/abs/2011.14737, https://arxiv.org/abs/2101.07677\n",
    "\n",
    "Truncated Taylor Quantum Simulator: https://arxiv.org/abs/2103.05500\n",
    "\n",
    "Classical Quantum Fast-Forwarding: https://arxiv.org/abs/2104.01931\n",
    "\n",
    "First, we describe how to use the quantum simulators without Qiskit, then we describe how we can use Qiskit to do the quantum simulation directly on the IBMQ computer."
   ]
  },
  {
   "cell_type": "markdown",
   "id": "documented-joint",
   "metadata": {},
   "source": [
    "### Import Packages"
   ]
  },
  {
   "cell_type": "code",
   "execution_count": 1,
   "id": "boxed-poster",
   "metadata": {},
   "outputs": [
    {
     "output_type": "stream",
     "name": "stderr",
     "text": [
      "C:\\Users\\Kian Hwee\\AppData\\Local\\Programs\\Python\\Python38\\lib\\site-packages\\qiskit\\providers\\ibmq\\ibmqfactory.py:192: UserWarning: Timestamps in IBMQ backend properties, jobs, and job results are all now in local time instead of UTC.\n  warnings.warn('Timestamps in IBMQ backend properties, jobs, and job results '\n"
     ]
    }
   ],
   "source": [
    "import numpy as np \n",
    "import ansatz_class_package as acp \n",
    "import pauli_class_package as pcp \n",
    "import hamiltonian_class_package as hcp \n",
    "import matrix_class_package as mcp \n",
    "import post_processing as pp\n",
    "import plotting_package as plotp\n",
    "import warnings\n",
    "warnings.filterwarnings(\"ignore\", category=DeprecationWarning) "
   ]
  },
  {
   "cell_type": "markdown",
   "id": "atomic-waters",
   "metadata": {},
   "source": [
    "### Set parameters for the evaluation"
   ]
  },
  {
   "cell_type": "code",
   "execution_count": 2,
   "id": "parliamentary-assurance",
   "metadata": {},
   "outputs": [],
   "source": [
    "uptowhatK = 4\n",
    "num_qubits = 3\n",
    "endtime = 8\n",
    "num_steps = 1001"
   ]
  },
  {
   "cell_type": "markdown",
   "id": "speaking-florida",
   "metadata": {},
   "source": [
    "### Create the initial state (starting quantum state that will be used in QAS, TTQS and CQFF). Also define Hamiltonian here.\n",
    "\n",
    "This initial state is basically $|\\psi>$ in Definition 1 in https://arxiv.org/abs/2011.06911"
   ]
  },
  {
   "cell_type": "code",
   "execution_count": 3,
   "id": "spiritual-literature",
   "metadata": {},
   "outputs": [],
   "source": [
    "#create initial state\n",
    "initial_state = acp.Initialstate(num_qubits, \"efficient_SU2\", 123, 5)\n",
    "#define Hamiltonian\n",
    "hamiltonian = hcp.transverse_ising_model_1d(num_qubits)\n",
    "# hamiltonian = hcp.heisenberg_xyz_model(num_qubits)\n",
    "\n",
    "#We can define arbitrary Hamiltonians\n",
    "#EXAMPLE: If we have a 4 qubit system and I want to implement the hamiltonian H = 0.6*(XXII) + 0.4*(XZIY), the hamiltonian will be generated with this:   \n",
    "#hcp.generate_arbitrary_hamiltonian(4,[0.6,0.4],[\"1100\",\"1302\"])"
   ]
  },
  {
   "source": [
    "### Define the variables needed for computation on the quantum computer\n",
    "\n",
    "Note that when importing Qiskit_helperfunctions, one's IBMQ account is automatically loaded. If an error is raised, you need to load your IMBQ account first."
   ],
   "cell_type": "markdown",
   "metadata": {}
  },
  {
   "cell_type": "code",
   "execution_count": 4,
   "metadata": {},
   "outputs": [
    {
     "output_type": "stream",
     "name": "stdout",
     "text": [
      "Calibrating POVM Matrix\n",
      "Provider backend:  qasm_simulator\n"
     ]
    }
   ],
   "source": [
    "import Qiskit_helperfunctions as qhf #IBMQ account is loaded here in this import\n",
    "hub, group, project = \"ibm-q-nus\", \"default\", \"reservations\"\n",
    "quantum_com = \"ibmq_rome\" \n",
    "\n",
    "#Other parameters for running on the quantum computer. Choose 1 to uncomment.\n",
    "# sim = \"noiseless_qasm\"\n",
    "# num_shots = 30000 #max is 1000000\n",
    "\n",
    "sim = \"noisy_qasm\"\n",
    "num_shots = 8192 #max is 8192\n",
    "\n",
    "# sim = \"real\"\n",
    "# num_shots = 8192 #max is 8192\n",
    "\n",
    "quantum_computer_choice_results = qhf.choose_quantum_computer(hub, group, project, quantum_com)\n",
    "\n",
    "#Example on how to create artificial noise model\n",
    "#couplingmap = [[0,1],[1,2],[2,3],[3,4]]\n",
    "#quantum_computer_choice_results = qhf.create_quantum_computer_simulation(couplingmap,depolarizingnoise=True,depolarizingnoiseparameter=0.03,bitfliperror=True,bitfliperrorparameter=0.03,measerror=True,measerrorparameter=0.03)\n",
    "\n",
    "mitigate_meas_error = True \n",
    "meas_filter = qhf.measurement_error_mitigator(num_qubits, sim, quantum_computer_choice_results, shots = num_shots)\n",
    "\n",
    "# mitigate_meas_error = False\n",
    "# meas_filter = None\n",
    "\n",
    "#expectation calculator here is an object that has a method that takes in a paulistring object P, and returns a <psi|P|psi>.\n",
    "#This expectation calculator also stores previously calculated expectation values, so one doesn't need to compute the same expectation value twice.\n",
    "expectation_calculator = qhf.expectation_calculator(initial_state, sim, quantum_computer_choice_results, meas_error_mitigate = mitigate_meas_error, meas_filter = meas_filter)"
   ]
  },
  {
   "cell_type": "markdown",
   "id": "subtle-cholesterol",
   "metadata": {},
   "source": [
    "### How to run TTQS\n",
    "\n",
    "This following segment shows how the code is meant to work.\n",
    "\n",
    "1. Create initial Ansatz for K = 0\n",
    "2. We need to iterate up to whatever K we want to go up to\n",
    "3. At the start of each iteration, we use the Ansatz for the previous round to generate the new Ansatz. Typically done by the method described in QAS, by generating the new moments and adding them to the existing Ansatz (cumulative K-moment states)\n",
    "4. Use the Ansatz to generate the E and D matrices, and set the initial alphas (the actual starting state we wish to perform time evolution on)\n",
    "5. Specify parameters for the TTQS instance and evaluate\n",
    "6. Update the Ansatz with the new alphas (basically the results of the evaluation)"
   ]
  },
  {
   "cell_type": "code",
   "execution_count": 5,
   "id": "assumed-incident",
   "metadata": {
    "jupyter": {
     "source_hidden": true
    },
    "tags": []
   },
   "outputs": [
    {
     "output_type": "stream",
     "name": "stdout",
     "text": [
      "Currently at K = 1\n",
      "there are 6 states in CSk\n",
      "Setting initial alphas\n",
      "Evaluating matrix with Qiskit Circuits\n",
      "Finished shots\n",
      "Finished shots\n",
      "Finished shots\n",
      "Finished shots\n",
      "Finished shots\n",
      "Finished shots\n",
      "Finished shots\n",
      "Finished shots\n",
      "Finished shots\n",
      "Finished shots\n",
      "Finished shots\n",
      "Finished shots\n",
      "Finished shots\n",
      "Finished shots\n",
      "Finished shots\n",
      "Finished shots\n",
      "Evaluating matrix with Qiskit Circuits\n",
      "Finished shots\n",
      "Finished shots\n",
      "Finished shots\n",
      "Finished shots\n",
      "Finished shots\n",
      "Finished shots\n",
      "Finished shots\n",
      "Finished shots\n",
      "Finished shots\n",
      "Finished shots\n",
      "Ensuring E and D matrices are Hermitian by adding cc\n",
      "Currently at K = 2\n",
      "there are 16 states in CSk\n",
      "Setting initial alphas\n",
      "Evaluating matrix with Qiskit Circuits\n",
      "Finished shots\n",
      "Finished shots\n",
      "Finished shots\n",
      "Finished shots\n",
      "Finished shots\n",
      "Evaluating matrix with Qiskit Circuits\n",
      "Finished shots\n",
      "Ensuring E and D matrices are Hermitian by adding cc\n",
      "Currently at K = 3\n",
      "there are 26 states in CSk\n",
      "Setting initial alphas\n",
      "Evaluating matrix with Qiskit Circuits\n",
      "Evaluating matrix with Qiskit Circuits\n",
      "Ensuring E and D matrices are Hermitian by adding cc\n",
      "Currently at K = 4\n",
      "there are 31 states in CSk\n",
      "Setting initial alphas\n",
      "Evaluating matrix with Qiskit Circuits\n",
      "Evaluating matrix with Qiskit Circuits\n",
      "Ensuring E and D matrices are Hermitian by adding cc\n"
     ]
    }
   ],
   "source": [
    "#Run TTQS\n",
    "\n",
    "#Some extra parameters for TTQS\n",
    "optimizer = 'eigh'\n",
    "inv_cond = 10**(-6)\n",
    "\n",
    "#create Initial Ansatz for K = 0\n",
    "ansatz = acp.initial_ansatz(num_qubits)\n",
    "#finalresults\n",
    "finalresults = []\n",
    "finalresults.append(ansatz)\n",
    "\n",
    "for k in range(1,uptowhatK+1):\n",
    "    print('Currently at K = ' + str(k))\n",
    "    #Generate Ansatz for this round\n",
    "    ansatz = acp.gen_next_ansatz(ansatz, hamiltonian, num_qubits) #By default, there is no processing when generating next Ansatz\n",
    "    \n",
    "    #Set initial alphas for Ansatz\n",
    "    #Only 'start_with_initial_state' has been implemented thus far. \n",
    "    #This basically sets the state we want to evolve as the random, initial state we are using to generate the E and D matrices, for convenience\n",
    "    acp.set_initial_alphas(num_qubits,ansatz,'start_with_initial_state')\n",
    "    E_mat_uneval = mcp.unevaluatedmatrix(num_qubits, ansatz, hamiltonian, \"E\")\n",
    "    D_mat_uneval = mcp.unevaluatedmatrix(num_qubits, ansatz, hamiltonian, \"D\")\n",
    "    \n",
    "    #Here, we can specify how to evaluate the matrices. We can either evaluate the matrices by matrix multiplication,\n",
    "    # or by using the quantum computer specified above\n",
    "\n",
    "    # E_mat_evaluated =  E_mat_uneval.evaluate_matrix_by_matrix_multiplicaton(initial_state)\n",
    "    # D_mat_evaluated = D_mat_uneval.evaluate_matrix_by_matrix_multiplicaton(initial_state)\n",
    "\n",
    "    E_mat_evaluated =  E_mat_uneval.evaluate_matrix_with_qiskit_circuits(expectation_calculator)\n",
    "    D_mat_evaluated = D_mat_uneval.evaluate_matrix_with_qiskit_circuits(expectation_calculator)\n",
    "    \n",
    "    #Get starting alphas\n",
    "    startingstrings,startingalphas = ansatz.get_alphas()\n",
    "    \n",
    "    #Initialize TTQS instance and specify parameters\n",
    "    TTQS_instance = pp.TTQS(num_qubits,D_mat_evaluated,E_mat_evaluated,startingalphas)\n",
    "    TTQS_instance.numberstep(num_steps)\n",
    "    TTQS_instance.define_endtime(endtime)\n",
    "    TTQS_instance.define_optimizer(optimizer)\n",
    "    TTQS_instance.define_invcond(inv_cond)\n",
    "    \n",
    "    #Run TTQS instance\n",
    "    TTQS_instance.evaluate()\n",
    "\n",
    "    #Get results\n",
    "    result = TTQS_instance.get_results()\n",
    "\n",
    "    #Update ansatz with the new alphas\n",
    "    ansatz.update_alphas(result)\n",
    "\n",
    "    #Update final results with this\n",
    "    finalresults.append(ansatz)\n",
    "finalresultsTTQS = finalresults"
   ]
  },
  {
   "cell_type": "markdown",
   "id": "peripheral-pearl",
   "metadata": {},
   "source": [
    "Now, finalresultsTTQS is a list of Ansatzes, each Ansatz basically stores the results for that run.\n",
    "\n",
    "Example, Final results might look like this [Ansatz_0,Ansatz_1,Ansatz_2,Ansatz_3].\n",
    "\n",
    "Where Ansatz_1 is an Ansatz class, which was used for the K=1 run, and contains the final results for that run"
   ]
  },
  {
   "cell_type": "markdown",
   "id": "happy-carolina",
   "metadata": {},
   "source": [
    "### How to run QAS\n",
    "\n",
    "This following segment shows how the code is meant to work. Very similar to TTQS\n",
    "\n",
    "1. Create initial Ansatz for K = 0\n",
    "2. We need to iterate up to whatever K we want to go up to\n",
    "3. At the start of each iteration, we use the Ansatz for the previous round to generate the new Ansatz. Typically done by the method described in QAS, by generating the new moments and adding them to the existing Ansatz (cumulative K-moment states)\n",
    "4. Use the Ansatz to generate the E and D matrices, and set the initial alphas (the actual starting state we wish to perform time evolution on)\n",
    "5. Specify parameters for the QAS instance and evaluate\n",
    "6. Update the Ansatz with the new alphas (basically the results of the evaluation)"
   ]
  },
  {
   "cell_type": "code",
   "execution_count": 6,
   "id": "increased-rotation",
   "metadata": {},
   "outputs": [
    {
     "output_type": "stream",
     "name": "stdout",
     "text": [
      "1\n",
      "there are 6 states in CSk\n",
      "Setting initial alphas\n",
      "Evaluating matrix with Qiskit Circuits\n",
      "Evaluating matrix with Qiskit Circuits\n",
      "Ensuring E and D matrices are Hermitian by adding cc\n",
      "2\n",
      "there are 16 states in CSk\n",
      "Setting initial alphas\n",
      "Evaluating matrix with Qiskit Circuits\n",
      "Evaluating matrix with Qiskit Circuits\n",
      "Ensuring E and D matrices are Hermitian by adding cc\n",
      "3\n",
      "there are 26 states in CSk\n",
      "Setting initial alphas\n",
      "Evaluating matrix with Qiskit Circuits\n",
      "Evaluating matrix with Qiskit Circuits\n",
      "Ensuring E and D matrices are Hermitian by adding cc\n",
      "4\n",
      "there are 31 states in CSk\n",
      "Setting initial alphas\n",
      "Evaluating matrix with Qiskit Circuits\n",
      "Evaluating matrix with Qiskit Circuits\n",
      "Ensuring E and D matrices are Hermitian by adding cc\n"
     ]
    }
   ],
   "source": [
    "#Run QAS\n",
    "\n",
    "#Some extra parameters for QAS\n",
    "p_invcond = 10**(-6)\n",
    "optimizer = 'zvode'\n",
    "\n",
    "#create Initial Ansatz for K = 0\n",
    "ansatz = acp.initial_ansatz(num_qubits)\n",
    "#finalresults\n",
    "finalresults = []\n",
    "finalresults.append(ansatz)\n",
    "\n",
    "for k in range(1,uptowhatK+1):\n",
    "    print(k)\n",
    "\n",
    "    #Generate Ansatz for this round\n",
    "    ansatz = acp.gen_next_ansatz(ansatz, hamiltonian, num_qubits)\n",
    "\n",
    "    #Set initial alphas for Ansatz\n",
    "    acp.set_initial_alphas(num_qubits,ansatz,'start_with_initial_state')\n",
    "\n",
    "    E_mat_uneval = mcp.unevaluatedmatrix(num_qubits, ansatz, hamiltonian, \"E\")\n",
    "    D_mat_uneval = mcp.unevaluatedmatrix(num_qubits, ansatz, hamiltonian, \"D\")\n",
    "\n",
    "    #Here, we can specify how to evaluate the matrices. We can either evaluate the matrices by matrix multiplication,\n",
    "    # or by using the quantum computer specified above\n",
    "    \n",
    "    # E_mat_evaluated =  E_mat_uneval.evaluate_matrix_by_matrix_multiplicaton(initial_state)\n",
    "    # D_mat_evaluated = D_mat_uneval.evaluate_matrix_by_matrix_multiplicaton(initial_state)\n",
    "\n",
    "    E_mat_evaluated =  E_mat_uneval.evaluate_matrix_with_qiskit_circuits(expectation_calculator)\n",
    "    D_mat_evaluated = D_mat_uneval.evaluate_matrix_with_qiskit_circuits(expectation_calculator)\n",
    "\n",
    "    #Get starting alphas\n",
    "    startingstrings,startingalphas = ansatz.get_alphas()\n",
    "\n",
    "    #initialize QAS instance\n",
    "    QAS_instance = pp.QAS(num_qubits, D_mat_evaluated, E_mat_evaluated, startingalphas)\n",
    "    QAS_instance.numberstep(num_steps)\n",
    "    QAS_instance.define_endtime(endtime)\n",
    "    QAS_instance.define_optimizer(optimizer)\n",
    "    QAS_instance.define_p_invcond(p_invcond)\n",
    "\n",
    "    #Run QAS instance\n",
    "    QAS_instance.evaluate()\n",
    "\n",
    "    #Get results\n",
    "    result = QAS_instance.get_results()\n",
    "\n",
    "    #Update ansatz with the new alphas\n",
    "    ansatz.update_alphas(result)\n",
    "\n",
    "    #Update final results with this\n",
    "    finalresults.append(ansatz)\n",
    "finalresultsQAS = finalresults"
   ]
  },
  {
   "source": [
    "### How to run CQFF\n",
    "\n",
    "This following segment shows how the code is meant to work. Very similar to TTQS\n",
    "\n",
    "1. Create initial Ansatz for K = 0\n",
    "2. We need to iterate up to whatever K we want to go up to\n",
    "3. At the start of each iteration, we use the Ansatz for the previous round to generate the new Ansatz. Typically done by the method described in QAS, by generating the new moments and adding them to the existing Ansatz (cumulative K-moment states)\n",
    "4. Use the Ansatz to generate the E and D matrices, and set the initial alphas (the actual starting state we wish to perform time evolution on)\n",
    "5. Specify parameters for the QAS instance and evaluate\n",
    "6. Update the Ansatz with the new alphas (basically the results of the evaluation)"
   ],
   "cell_type": "markdown",
   "metadata": {}
  },
  {
   "cell_type": "code",
   "execution_count": 7,
   "metadata": {},
   "outputs": [
    {
     "output_type": "stream",
     "name": "stdout",
     "text": [
      "1\n",
      "there are 6 states in CSk\n",
      "Setting initial alphas\n",
      "Evaluating matrix with Qiskit Circuits\n",
      "Evaluating matrix with Qiskit Circuits\n",
      "Ensuring E and D matrices are Hermitian by adding cc\n",
      "2\n",
      "there are 16 states in CSk\n",
      "Setting initial alphas\n",
      "Evaluating matrix with Qiskit Circuits\n",
      "Evaluating matrix with Qiskit Circuits\n",
      "Ensuring E and D matrices are Hermitian by adding cc\n",
      "3\n",
      "there are 26 states in CSk\n",
      "Setting initial alphas\n",
      "Evaluating matrix with Qiskit Circuits\n",
      "Evaluating matrix with Qiskit Circuits\n",
      "Ensuring E and D matrices are Hermitian by adding cc\n",
      "4\n",
      "there are 31 states in CSk\n",
      "Setting initial alphas\n",
      "Evaluating matrix with Qiskit Circuits\n",
      "Evaluating matrix with Qiskit Circuits\n",
      "Ensuring E and D matrices are Hermitian by adding cc\n"
     ]
    }
   ],
   "source": [
    "#Some extra parameters for CQFF\n",
    "optimizer = 'eigh'\n",
    "eigh_inv_cond = 10**(-12)\n",
    "\n",
    "#create Initial Ansatz for K = 0\n",
    "ansatz = acp.initial_ansatz(num_qubits)\n",
    "#finalresults\n",
    "finalresults = []\n",
    "finalresults.append(ansatz)\n",
    "\n",
    "#Run CQFF\n",
    "for k in range(1,uptowhatK+1):\n",
    "    print(k)\n",
    "\n",
    "    #Generate Ansatz for this round\n",
    "    ansatz = acp.gen_next_ansatz(ansatz, hamiltonian, num_qubits)\n",
    "\n",
    "    #Set initial alphas for Ansatz\n",
    "    acp.set_initial_alphas(num_qubits,ansatz,'start_with_initial_state')\n",
    "\n",
    "    E_mat_uneval = mcp.unevaluatedmatrix(num_qubits, ansatz, hamiltonian, \"E\")\n",
    "    D_mat_uneval = mcp.unevaluatedmatrix(num_qubits, ansatz, hamiltonian, \"D\")\n",
    "\n",
    "    #Here, we can specify how to evaluate the matrices. We can either evaluate the matrices by matrix multiplication,\n",
    "    # or by using the quantum computer specified above\n",
    "    \n",
    "    # E_mat_evaluated =  E_mat_uneval.evaluate_matrix_by_matrix_multiplicaton(initial_state)\n",
    "    # D_mat_evaluated = D_mat_uneval.evaluate_matrix_by_matrix_multiplicaton(initial_state)\n",
    "\n",
    "    E_mat_evaluated =  E_mat_uneval.evaluate_matrix_with_qiskit_circuits(expectation_calculator)\n",
    "    D_mat_evaluated = D_mat_uneval.evaluate_matrix_with_qiskit_circuits(expectation_calculator)\n",
    "\n",
    "    #Get starting alphas\n",
    "    startingstrings,startingalphas = ansatz.get_alphas()\n",
    "\n",
    "    #initialize CQFF instance\n",
    "    CQFF_instance = pp.CQFF(num_qubits, D_mat_evaluated, E_mat_evaluated, startingalphas)\n",
    "    CQFF_instance.numberstep(num_steps)\n",
    "    CQFF_instance.define_endtime(endtime)\n",
    "    CQFF_instance.define_optimizer(optimizer)\n",
    "    CQFF_instance.define_eigh_invcond(eigh_inv_cond)\n",
    "\n",
    "    #Run CQFF instance\n",
    "    CQFF_instance.evaluate()\n",
    "\n",
    "    #Get results\n",
    "    result = CQFF_instance.get_results()\n",
    "\n",
    "    #Update ansatz with the new alphas\n",
    "    ansatz.update_alphas(result)\n",
    "\n",
    "    #Update final results with this\n",
    "    finalresults.append(ansatz)\n",
    "finalresultsCQFF = finalresults"
   ]
  },
  {
   "cell_type": "markdown",
   "id": "average-snake",
   "metadata": {},
   "source": [
    "### Classical results (to compare)\n",
    "\n",
    "Need to run classical calculations using matrix multiplication"
   ]
  },
  {
   "cell_type": "code",
   "execution_count": 8,
   "id": "continuing-tower",
   "metadata": {},
   "outputs": [],
   "source": [
    "#Run Classical Calculations\n",
    "\n",
    "#Initialize classicalSimulator\n",
    "cS_instance = pp.classicalSimulator(num_qubits,initial_state,hamiltonian)\n",
    "cS_instance.define_endtime(endtime)\n",
    "cS_instance.numberstep(num_steps)\n",
    "\n",
    "#Run classicalSimulator\n",
    "cS_instance.evaluate()\n",
    "\n"
   ]
  },
  {
   "source": [
    "### Set Observable to plot"
   ],
   "cell_type": "markdown",
   "metadata": {}
  },
  {
   "cell_type": "code",
   "execution_count": 9,
   "metadata": {},
   "outputs": [],
   "source": [
    "#Observable we want to plot\n",
    "times = QAS_instance.get_times()\n",
    "observable = hcp.generate_arbitary_observable(num_qubits, [1], [\"3\" + (num_qubits - 1) * \"0\"]) "
   ]
  },
  {
   "cell_type": "markdown",
   "id": "lightweight-roulette",
   "metadata": {},
   "source": [
    "### Show Results"
   ]
  },
  {
   "cell_type": "code",
   "execution_count": 10,
   "id": "billion-madness",
   "metadata": {},
   "outputs": [
    {
     "output_type": "stream",
     "name": "stdout",
     "text": [
      "Preparing observable for plotting for K = 3\n",
      "Evaluating Observable Matrix with Qiskit circuits\n",
      "Evaluating matrix with Qiskit Circuits\n",
      "Finished shots\n",
      "Finished shots\n",
      "Finished shots\n",
      "Finished shots\n",
      "Finished shots\n",
      "Finished shots\n",
      "Finished shots\n",
      "Finished shots\n",
      "Finished shots\n",
      "Finished shots\n",
      "Finished shots\n",
      "Finished shots\n",
      "Finished shots\n",
      "Finished shots\n",
      "Finished shots\n",
      "Finished shots\n",
      "Finished shots\n",
      "Finished shots\n",
      "Finished shots\n",
      "Finished shots\n",
      "Finished shots\n",
      "Finished shots\n",
      "Finished shots\n",
      "Finished shots\n",
      "Finished shots\n",
      "Finished shots\n",
      "Finished shots\n",
      "Finished shots\n",
      "Finished shots\n",
      "Finished shots\n",
      "Finished shots\n",
      "Finished shots\n",
      "Preparing observable for plotting for K = 4\n",
      "Evaluating Observable Matrix with Qiskit circuits\n",
      "Evaluating matrix with Qiskit Circuits\n",
      "Preparing observable for plotting for K = 3\n",
      "Evaluating Observable Matrix with Qiskit circuits\n",
      "Evaluating matrix with Qiskit Circuits\n",
      "Preparing observable for plotting for K = 4\n",
      "Evaluating Observable Matrix with Qiskit circuits\n",
      "Evaluating matrix with Qiskit Circuits\n",
      "Preparing observable for plotting for K = 3\n",
      "Evaluating Observable Matrix with Qiskit circuits\n",
      "Evaluating matrix with Qiskit Circuits\n",
      "Preparing observable for plotting for K = 4\n",
      "Evaluating Observable Matrix with Qiskit circuits\n",
      "Evaluating matrix with Qiskit Circuits\n",
      "C:\\Users\\Kian Hwee\\AppData\\Local\\Programs\\Python\\Python38\\lib\\site-packages\\numpy\\core\\_asarray.py:83: ComplexWarning: Casting complex values to real discards the imaginary part\n",
      "  return array(a, dtype, copy=False, order=order)\n"
     ]
    },
    {
     "output_type": "display_data",
     "data": {
      "text/plain": "<Figure size 432x288 with 1 Axes>",
      "image/svg+xml": "<?xml version=\"1.0\" encoding=\"utf-8\" standalone=\"no\"?>\r\n<!DOCTYPE svg PUBLIC \"-//W3C//DTD SVG 1.1//EN\"\r\n  \"http://www.w3.org/Graphics/SVG/1.1/DTD/svg11.dtd\">\r\n<!-- Created with matplotlib (https://matplotlib.org/) -->\r\n<svg height=\"248.518125pt\" version=\"1.1\" viewBox=\"0 0 380.482813 248.518125\" width=\"380.482813pt\" xmlns=\"http://www.w3.org/2000/svg\" xmlns:xlink=\"http://www.w3.org/1999/xlink\">\r\n <metadata>\r\n  <rdf:RDF xmlns:cc=\"http://creativecommons.org/ns#\" xmlns:dc=\"http://purl.org/dc/elements/1.1/\" xmlns:rdf=\"http://www.w3.org/1999/02/22-rdf-syntax-ns#\">\r\n   <cc:Work>\r\n    <dc:type rdf:resource=\"http://purl.org/dc/dcmitype/StillImage\"/>\r\n    <dc:date>2021-04-27T21:33:54.338618</dc:date>\r\n    <dc:format>image/svg+xml</dc:format>\r\n    <dc:creator>\r\n     <cc:Agent>\r\n      <dc:title>Matplotlib v3.3.4, https://matplotlib.org/</dc:title>\r\n     </cc:Agent>\r\n    </dc:creator>\r\n   </cc:Work>\r\n  </rdf:RDF>\r\n </metadata>\r\n <defs>\r\n  <style type=\"text/css\">*{stroke-linecap:butt;stroke-linejoin:round;}</style>\r\n </defs>\r\n <g id=\"figure_1\">\r\n  <g id=\"patch_1\">\r\n   <path d=\"M -0 248.518125 \r\nL 380.482813 248.518125 \r\nL 380.482813 0 \r\nL -0 0 \r\nz\r\n\" style=\"fill:none;\"/>\r\n  </g>\r\n  <g id=\"axes_1\">\r\n   <g id=\"patch_2\">\r\n    <path d=\"M 38.482813 224.64 \r\nL 373.282813 224.64 \r\nL 373.282813 7.2 \r\nL 38.482813 7.2 \r\nz\r\n\" style=\"fill:#ffffff;\"/>\r\n   </g>\r\n   <g id=\"matplotlib.axis_1\">\r\n    <g id=\"xtick_1\">\r\n     <g id=\"line2d_1\">\r\n      <defs>\r\n       <path d=\"M 0 0 \r\nL 0 3.5 \r\n\" id=\"mee33636331\" style=\"stroke:#000000;stroke-width:0.8;\"/>\r\n      </defs>\r\n      <g>\r\n       <use style=\"stroke:#000000;stroke-width:0.8;\" x=\"53.700994\" xlink:href=\"#mee33636331\" y=\"224.64\"/>\r\n      </g>\r\n     </g>\r\n     <g id=\"text_1\">\r\n      <!-- 0 -->\r\n      <g transform=\"translate(50.519744 239.238437)scale(0.1 -0.1)\">\r\n       <defs>\r\n        <path d=\"M 31.78125 66.40625 \r\nQ 24.171875 66.40625 20.328125 58.90625 \r\nQ 16.5 51.421875 16.5 36.375 \r\nQ 16.5 21.390625 20.328125 13.890625 \r\nQ 24.171875 6.390625 31.78125 6.390625 \r\nQ 39.453125 6.390625 43.28125 13.890625 \r\nQ 47.125 21.390625 47.125 36.375 \r\nQ 47.125 51.421875 43.28125 58.90625 \r\nQ 39.453125 66.40625 31.78125 66.40625 \r\nz\r\nM 31.78125 74.21875 \r\nQ 44.046875 74.21875 50.515625 64.515625 \r\nQ 56.984375 54.828125 56.984375 36.375 \r\nQ 56.984375 17.96875 50.515625 8.265625 \r\nQ 44.046875 -1.421875 31.78125 -1.421875 \r\nQ 19.53125 -1.421875 13.0625 8.265625 \r\nQ 6.59375 17.96875 6.59375 36.375 \r\nQ 6.59375 54.828125 13.0625 64.515625 \r\nQ 19.53125 74.21875 31.78125 74.21875 \r\nz\r\n\" id=\"DejaVuSans-48\"/>\r\n       </defs>\r\n       <use xlink:href=\"#DejaVuSans-48\"/>\r\n      </g>\r\n     </g>\r\n    </g>\r\n    <g id=\"xtick_2\">\r\n     <g id=\"line2d_2\">\r\n      <g>\r\n       <use style=\"stroke:#000000;stroke-width:0.8;\" x=\"91.746449\" xlink:href=\"#mee33636331\" y=\"224.64\"/>\r\n      </g>\r\n     </g>\r\n     <g id=\"text_2\">\r\n      <!-- 1 -->\r\n      <g transform=\"translate(88.565199 239.238437)scale(0.1 -0.1)\">\r\n       <defs>\r\n        <path d=\"M 12.40625 8.296875 \r\nL 28.515625 8.296875 \r\nL 28.515625 63.921875 \r\nL 10.984375 60.40625 \r\nL 10.984375 69.390625 \r\nL 28.421875 72.90625 \r\nL 38.28125 72.90625 \r\nL 38.28125 8.296875 \r\nL 54.390625 8.296875 \r\nL 54.390625 0 \r\nL 12.40625 0 \r\nz\r\n\" id=\"DejaVuSans-49\"/>\r\n       </defs>\r\n       <use xlink:href=\"#DejaVuSans-49\"/>\r\n      </g>\r\n     </g>\r\n    </g>\r\n    <g id=\"xtick_3\">\r\n     <g id=\"line2d_3\">\r\n      <g>\r\n       <use style=\"stroke:#000000;stroke-width:0.8;\" x=\"129.791903\" xlink:href=\"#mee33636331\" y=\"224.64\"/>\r\n      </g>\r\n     </g>\r\n     <g id=\"text_3\">\r\n      <!-- 2 -->\r\n      <g transform=\"translate(126.610653 239.238437)scale(0.1 -0.1)\">\r\n       <defs>\r\n        <path d=\"M 19.1875 8.296875 \r\nL 53.609375 8.296875 \r\nL 53.609375 0 \r\nL 7.328125 0 \r\nL 7.328125 8.296875 \r\nQ 12.9375 14.109375 22.625 23.890625 \r\nQ 32.328125 33.6875 34.8125 36.53125 \r\nQ 39.546875 41.84375 41.421875 45.53125 \r\nQ 43.3125 49.21875 43.3125 52.78125 \r\nQ 43.3125 58.59375 39.234375 62.25 \r\nQ 35.15625 65.921875 28.609375 65.921875 \r\nQ 23.96875 65.921875 18.8125 64.3125 \r\nQ 13.671875 62.703125 7.8125 59.421875 \r\nL 7.8125 69.390625 \r\nQ 13.765625 71.78125 18.9375 73 \r\nQ 24.125 74.21875 28.421875 74.21875 \r\nQ 39.75 74.21875 46.484375 68.546875 \r\nQ 53.21875 62.890625 53.21875 53.421875 \r\nQ 53.21875 48.921875 51.53125 44.890625 \r\nQ 49.859375 40.875 45.40625 35.40625 \r\nQ 44.1875 33.984375 37.640625 27.21875 \r\nQ 31.109375 20.453125 19.1875 8.296875 \r\nz\r\n\" id=\"DejaVuSans-50\"/>\r\n       </defs>\r\n       <use xlink:href=\"#DejaVuSans-50\"/>\r\n      </g>\r\n     </g>\r\n    </g>\r\n    <g id=\"xtick_4\">\r\n     <g id=\"line2d_4\">\r\n      <g>\r\n       <use style=\"stroke:#000000;stroke-width:0.8;\" x=\"167.837358\" xlink:href=\"#mee33636331\" y=\"224.64\"/>\r\n      </g>\r\n     </g>\r\n     <g id=\"text_4\">\r\n      <!-- 3 -->\r\n      <g transform=\"translate(164.656108 239.238437)scale(0.1 -0.1)\">\r\n       <defs>\r\n        <path d=\"M 40.578125 39.3125 \r\nQ 47.65625 37.796875 51.625 33 \r\nQ 55.609375 28.21875 55.609375 21.1875 \r\nQ 55.609375 10.40625 48.1875 4.484375 \r\nQ 40.765625 -1.421875 27.09375 -1.421875 \r\nQ 22.515625 -1.421875 17.65625 -0.515625 \r\nQ 12.796875 0.390625 7.625 2.203125 \r\nL 7.625 11.71875 \r\nQ 11.71875 9.328125 16.59375 8.109375 \r\nQ 21.484375 6.890625 26.8125 6.890625 \r\nQ 36.078125 6.890625 40.9375 10.546875 \r\nQ 45.796875 14.203125 45.796875 21.1875 \r\nQ 45.796875 27.640625 41.28125 31.265625 \r\nQ 36.765625 34.90625 28.71875 34.90625 \r\nL 20.21875 34.90625 \r\nL 20.21875 43.015625 \r\nL 29.109375 43.015625 \r\nQ 36.375 43.015625 40.234375 45.921875 \r\nQ 44.09375 48.828125 44.09375 54.296875 \r\nQ 44.09375 59.90625 40.109375 62.90625 \r\nQ 36.140625 65.921875 28.71875 65.921875 \r\nQ 24.65625 65.921875 20.015625 65.03125 \r\nQ 15.375 64.15625 9.8125 62.3125 \r\nL 9.8125 71.09375 \r\nQ 15.4375 72.65625 20.34375 73.4375 \r\nQ 25.25 74.21875 29.59375 74.21875 \r\nQ 40.828125 74.21875 47.359375 69.109375 \r\nQ 53.90625 64.015625 53.90625 55.328125 \r\nQ 53.90625 49.265625 50.4375 45.09375 \r\nQ 46.96875 40.921875 40.578125 39.3125 \r\nz\r\n\" id=\"DejaVuSans-51\"/>\r\n       </defs>\r\n       <use xlink:href=\"#DejaVuSans-51\"/>\r\n      </g>\r\n     </g>\r\n    </g>\r\n    <g id=\"xtick_5\">\r\n     <g id=\"line2d_5\">\r\n      <g>\r\n       <use style=\"stroke:#000000;stroke-width:0.8;\" x=\"205.882812\" xlink:href=\"#mee33636331\" y=\"224.64\"/>\r\n      </g>\r\n     </g>\r\n     <g id=\"text_5\">\r\n      <!-- 4 -->\r\n      <g transform=\"translate(202.701562 239.238437)scale(0.1 -0.1)\">\r\n       <defs>\r\n        <path d=\"M 37.796875 64.3125 \r\nL 12.890625 25.390625 \r\nL 37.796875 25.390625 \r\nz\r\nM 35.203125 72.90625 \r\nL 47.609375 72.90625 \r\nL 47.609375 25.390625 \r\nL 58.015625 25.390625 \r\nL 58.015625 17.1875 \r\nL 47.609375 17.1875 \r\nL 47.609375 0 \r\nL 37.796875 0 \r\nL 37.796875 17.1875 \r\nL 4.890625 17.1875 \r\nL 4.890625 26.703125 \r\nz\r\n\" id=\"DejaVuSans-52\"/>\r\n       </defs>\r\n       <use xlink:href=\"#DejaVuSans-52\"/>\r\n      </g>\r\n     </g>\r\n    </g>\r\n    <g id=\"xtick_6\">\r\n     <g id=\"line2d_6\">\r\n      <g>\r\n       <use style=\"stroke:#000000;stroke-width:0.8;\" x=\"243.928267\" xlink:href=\"#mee33636331\" y=\"224.64\"/>\r\n      </g>\r\n     </g>\r\n     <g id=\"text_6\">\r\n      <!-- 5 -->\r\n      <g transform=\"translate(240.747017 239.238437)scale(0.1 -0.1)\">\r\n       <defs>\r\n        <path d=\"M 10.796875 72.90625 \r\nL 49.515625 72.90625 \r\nL 49.515625 64.59375 \r\nL 19.828125 64.59375 \r\nL 19.828125 46.734375 \r\nQ 21.96875 47.46875 24.109375 47.828125 \r\nQ 26.265625 48.1875 28.421875 48.1875 \r\nQ 40.625 48.1875 47.75 41.5 \r\nQ 54.890625 34.8125 54.890625 23.390625 \r\nQ 54.890625 11.625 47.5625 5.09375 \r\nQ 40.234375 -1.421875 26.90625 -1.421875 \r\nQ 22.3125 -1.421875 17.546875 -0.640625 \r\nQ 12.796875 0.140625 7.71875 1.703125 \r\nL 7.71875 11.625 \r\nQ 12.109375 9.234375 16.796875 8.0625 \r\nQ 21.484375 6.890625 26.703125 6.890625 \r\nQ 35.15625 6.890625 40.078125 11.328125 \r\nQ 45.015625 15.765625 45.015625 23.390625 \r\nQ 45.015625 31 40.078125 35.4375 \r\nQ 35.15625 39.890625 26.703125 39.890625 \r\nQ 22.75 39.890625 18.8125 39.015625 \r\nQ 14.890625 38.140625 10.796875 36.28125 \r\nz\r\n\" id=\"DejaVuSans-53\"/>\r\n       </defs>\r\n       <use xlink:href=\"#DejaVuSans-53\"/>\r\n      </g>\r\n     </g>\r\n    </g>\r\n    <g id=\"xtick_7\">\r\n     <g id=\"line2d_7\">\r\n      <g>\r\n       <use style=\"stroke:#000000;stroke-width:0.8;\" x=\"281.973722\" xlink:href=\"#mee33636331\" y=\"224.64\"/>\r\n      </g>\r\n     </g>\r\n     <g id=\"text_7\">\r\n      <!-- 6 -->\r\n      <g transform=\"translate(278.792472 239.238437)scale(0.1 -0.1)\">\r\n       <defs>\r\n        <path d=\"M 33.015625 40.375 \r\nQ 26.375 40.375 22.484375 35.828125 \r\nQ 18.609375 31.296875 18.609375 23.390625 \r\nQ 18.609375 15.53125 22.484375 10.953125 \r\nQ 26.375 6.390625 33.015625 6.390625 \r\nQ 39.65625 6.390625 43.53125 10.953125 \r\nQ 47.40625 15.53125 47.40625 23.390625 \r\nQ 47.40625 31.296875 43.53125 35.828125 \r\nQ 39.65625 40.375 33.015625 40.375 \r\nz\r\nM 52.59375 71.296875 \r\nL 52.59375 62.3125 \r\nQ 48.875 64.0625 45.09375 64.984375 \r\nQ 41.3125 65.921875 37.59375 65.921875 \r\nQ 27.828125 65.921875 22.671875 59.328125 \r\nQ 17.53125 52.734375 16.796875 39.40625 \r\nQ 19.671875 43.65625 24.015625 45.921875 \r\nQ 28.375 48.1875 33.59375 48.1875 \r\nQ 44.578125 48.1875 50.953125 41.515625 \r\nQ 57.328125 34.859375 57.328125 23.390625 \r\nQ 57.328125 12.15625 50.6875 5.359375 \r\nQ 44.046875 -1.421875 33.015625 -1.421875 \r\nQ 20.359375 -1.421875 13.671875 8.265625 \r\nQ 6.984375 17.96875 6.984375 36.375 \r\nQ 6.984375 53.65625 15.1875 63.9375 \r\nQ 23.390625 74.21875 37.203125 74.21875 \r\nQ 40.921875 74.21875 44.703125 73.484375 \r\nQ 48.484375 72.75 52.59375 71.296875 \r\nz\r\n\" id=\"DejaVuSans-54\"/>\r\n       </defs>\r\n       <use xlink:href=\"#DejaVuSans-54\"/>\r\n      </g>\r\n     </g>\r\n    </g>\r\n    <g id=\"xtick_8\">\r\n     <g id=\"line2d_8\">\r\n      <g>\r\n       <use style=\"stroke:#000000;stroke-width:0.8;\" x=\"320.019176\" xlink:href=\"#mee33636331\" y=\"224.64\"/>\r\n      </g>\r\n     </g>\r\n     <g id=\"text_8\">\r\n      <!-- 7 -->\r\n      <g transform=\"translate(316.837926 239.238437)scale(0.1 -0.1)\">\r\n       <defs>\r\n        <path d=\"M 8.203125 72.90625 \r\nL 55.078125 72.90625 \r\nL 55.078125 68.703125 \r\nL 28.609375 0 \r\nL 18.3125 0 \r\nL 43.21875 64.59375 \r\nL 8.203125 64.59375 \r\nz\r\n\" id=\"DejaVuSans-55\"/>\r\n       </defs>\r\n       <use xlink:href=\"#DejaVuSans-55\"/>\r\n      </g>\r\n     </g>\r\n    </g>\r\n    <g id=\"xtick_9\">\r\n     <g id=\"line2d_9\">\r\n      <g>\r\n       <use style=\"stroke:#000000;stroke-width:0.8;\" x=\"358.064631\" xlink:href=\"#mee33636331\" y=\"224.64\"/>\r\n      </g>\r\n     </g>\r\n     <g id=\"text_9\">\r\n      <!-- 8 -->\r\n      <g transform=\"translate(354.883381 239.238437)scale(0.1 -0.1)\">\r\n       <defs>\r\n        <path d=\"M 31.78125 34.625 \r\nQ 24.75 34.625 20.71875 30.859375 \r\nQ 16.703125 27.09375 16.703125 20.515625 \r\nQ 16.703125 13.921875 20.71875 10.15625 \r\nQ 24.75 6.390625 31.78125 6.390625 \r\nQ 38.8125 6.390625 42.859375 10.171875 \r\nQ 46.921875 13.96875 46.921875 20.515625 \r\nQ 46.921875 27.09375 42.890625 30.859375 \r\nQ 38.875 34.625 31.78125 34.625 \r\nz\r\nM 21.921875 38.8125 \r\nQ 15.578125 40.375 12.03125 44.71875 \r\nQ 8.5 49.078125 8.5 55.328125 \r\nQ 8.5 64.0625 14.71875 69.140625 \r\nQ 20.953125 74.21875 31.78125 74.21875 \r\nQ 42.671875 74.21875 48.875 69.140625 \r\nQ 55.078125 64.0625 55.078125 55.328125 \r\nQ 55.078125 49.078125 51.53125 44.71875 \r\nQ 48 40.375 41.703125 38.8125 \r\nQ 48.828125 37.15625 52.796875 32.3125 \r\nQ 56.78125 27.484375 56.78125 20.515625 \r\nQ 56.78125 9.90625 50.3125 4.234375 \r\nQ 43.84375 -1.421875 31.78125 -1.421875 \r\nQ 19.734375 -1.421875 13.25 4.234375 \r\nQ 6.78125 9.90625 6.78125 20.515625 \r\nQ 6.78125 27.484375 10.78125 32.3125 \r\nQ 14.796875 37.15625 21.921875 38.8125 \r\nz\r\nM 18.3125 54.390625 \r\nQ 18.3125 48.734375 21.84375 45.5625 \r\nQ 25.390625 42.390625 31.78125 42.390625 \r\nQ 38.140625 42.390625 41.71875 45.5625 \r\nQ 45.3125 48.734375 45.3125 54.390625 \r\nQ 45.3125 60.0625 41.71875 63.234375 \r\nQ 38.140625 66.40625 31.78125 66.40625 \r\nQ 25.390625 66.40625 21.84375 63.234375 \r\nQ 18.3125 60.0625 18.3125 54.390625 \r\nz\r\n\" id=\"DejaVuSans-56\"/>\r\n       </defs>\r\n       <use xlink:href=\"#DejaVuSans-56\"/>\r\n      </g>\r\n     </g>\r\n    </g>\r\n   </g>\r\n   <g id=\"matplotlib.axis_2\">\r\n    <g id=\"ytick_1\">\r\n     <g id=\"line2d_10\">\r\n      <defs>\r\n       <path d=\"M 0 0 \r\nL -3.5 0 \r\n\" id=\"m2700d24351\" style=\"stroke:#000000;stroke-width:0.8;\"/>\r\n      </defs>\r\n      <g>\r\n       <use style=\"stroke:#000000;stroke-width:0.8;\" x=\"38.482813\" xlink:href=\"#m2700d24351\" y=\"194.107495\"/>\r\n      </g>\r\n     </g>\r\n     <g id=\"text_10\">\r\n      <!-- −0.4 -->\r\n      <g transform=\"translate(7.2 197.906714)scale(0.1 -0.1)\">\r\n       <defs>\r\n        <path d=\"M 10.59375 35.5 \r\nL 73.1875 35.5 \r\nL 73.1875 27.203125 \r\nL 10.59375 27.203125 \r\nz\r\n\" id=\"DejaVuSans-8722\"/>\r\n        <path d=\"M 10.6875 12.40625 \r\nL 21 12.40625 \r\nL 21 0 \r\nL 10.6875 0 \r\nz\r\n\" id=\"DejaVuSans-46\"/>\r\n       </defs>\r\n       <use xlink:href=\"#DejaVuSans-8722\"/>\r\n       <use x=\"83.789062\" xlink:href=\"#DejaVuSans-48\"/>\r\n       <use x=\"147.412109\" xlink:href=\"#DejaVuSans-46\"/>\r\n       <use x=\"179.199219\" xlink:href=\"#DejaVuSans-52\"/>\r\n      </g>\r\n     </g>\r\n    </g>\r\n    <g id=\"ytick_2\">\r\n     <g id=\"line2d_11\">\r\n      <g>\r\n       <use style=\"stroke:#000000;stroke-width:0.8;\" x=\"38.482813\" xlink:href=\"#m2700d24351\" y=\"162.280796\"/>\r\n      </g>\r\n     </g>\r\n     <g id=\"text_11\">\r\n      <!-- −0.2 -->\r\n      <g transform=\"translate(7.2 166.080015)scale(0.1 -0.1)\">\r\n       <use xlink:href=\"#DejaVuSans-8722\"/>\r\n       <use x=\"83.789062\" xlink:href=\"#DejaVuSans-48\"/>\r\n       <use x=\"147.412109\" xlink:href=\"#DejaVuSans-46\"/>\r\n       <use x=\"179.199219\" xlink:href=\"#DejaVuSans-50\"/>\r\n      </g>\r\n     </g>\r\n    </g>\r\n    <g id=\"ytick_3\">\r\n     <g id=\"line2d_12\">\r\n      <g>\r\n       <use style=\"stroke:#000000;stroke-width:0.8;\" x=\"38.482813\" xlink:href=\"#m2700d24351\" y=\"130.454097\"/>\r\n      </g>\r\n     </g>\r\n     <g id=\"text_12\">\r\n      <!-- 0.0 -->\r\n      <g transform=\"translate(15.579688 134.253315)scale(0.1 -0.1)\">\r\n       <use xlink:href=\"#DejaVuSans-48\"/>\r\n       <use x=\"63.623047\" xlink:href=\"#DejaVuSans-46\"/>\r\n       <use x=\"95.410156\" xlink:href=\"#DejaVuSans-48\"/>\r\n      </g>\r\n     </g>\r\n    </g>\r\n    <g id=\"ytick_4\">\r\n     <g id=\"line2d_13\">\r\n      <g>\r\n       <use style=\"stroke:#000000;stroke-width:0.8;\" x=\"38.482813\" xlink:href=\"#m2700d24351\" y=\"98.627397\"/>\r\n      </g>\r\n     </g>\r\n     <g id=\"text_13\">\r\n      <!-- 0.2 -->\r\n      <g transform=\"translate(15.579688 102.426616)scale(0.1 -0.1)\">\r\n       <use xlink:href=\"#DejaVuSans-48\"/>\r\n       <use x=\"63.623047\" xlink:href=\"#DejaVuSans-46\"/>\r\n       <use x=\"95.410156\" xlink:href=\"#DejaVuSans-50\"/>\r\n      </g>\r\n     </g>\r\n    </g>\r\n    <g id=\"ytick_5\">\r\n     <g id=\"line2d_14\">\r\n      <g>\r\n       <use style=\"stroke:#000000;stroke-width:0.8;\" x=\"38.482813\" xlink:href=\"#m2700d24351\" y=\"66.800698\"/>\r\n      </g>\r\n     </g>\r\n     <g id=\"text_14\">\r\n      <!-- 0.4 -->\r\n      <g transform=\"translate(15.579688 70.599917)scale(0.1 -0.1)\">\r\n       <use xlink:href=\"#DejaVuSans-48\"/>\r\n       <use x=\"63.623047\" xlink:href=\"#DejaVuSans-46\"/>\r\n       <use x=\"95.410156\" xlink:href=\"#DejaVuSans-52\"/>\r\n      </g>\r\n     </g>\r\n    </g>\r\n    <g id=\"ytick_6\">\r\n     <g id=\"line2d_15\">\r\n      <g>\r\n       <use style=\"stroke:#000000;stroke-width:0.8;\" x=\"38.482813\" xlink:href=\"#m2700d24351\" y=\"34.973998\"/>\r\n      </g>\r\n     </g>\r\n     <g id=\"text_15\">\r\n      <!-- 0.6 -->\r\n      <g transform=\"translate(15.579688 38.773217)scale(0.1 -0.1)\">\r\n       <use xlink:href=\"#DejaVuSans-48\"/>\r\n       <use x=\"63.623047\" xlink:href=\"#DejaVuSans-46\"/>\r\n       <use x=\"95.410156\" xlink:href=\"#DejaVuSans-54\"/>\r\n      </g>\r\n     </g>\r\n    </g>\r\n   </g>\r\n   <g id=\"line2d_16\">\r\n    <path clip-path=\"url(#p88a115648f)\" d=\"M 53.700994 78.31516 \r\nL 56.135903 68.302024 \r\nL 58.266449 60.427283 \r\nL 60.092631 54.528241 \r\nL 61.614449 50.31323 \r\nL 63.136267 46.804149 \r\nL 64.353722 44.540658 \r\nL 65.571176 42.78359 \r\nL 66.484267 41.807715 \r\nL 67.397358 41.13013 \r\nL 68.310449 40.753609 \r\nL 69.22354 40.679142 \r\nL 70.136631 40.905937 \r\nL 71.049722 41.431435 \r\nL 71.962812 42.251332 \r\nL 72.875903 43.359616 \r\nL 74.093358 45.272439 \r\nL 75.310812 47.661543 \r\nL 76.528267 50.499597 \r\nL 78.050085 54.629788 \r\nL 79.876267 60.346249 \r\nL 82.006812 67.888724 \r\nL 84.441722 77.365639 \r\nL 88.702813 95.046393 \r\nL 92.963903 112.420038 \r\nL 95.703176 122.615923 \r\nL 97.833722 129.745343 \r\nL 99.659903 135.201979 \r\nL 101.486085 140.007003 \r\nL 103.312267 144.140219 \r\nL 104.834085 147.072626 \r\nL 106.355903 149.552585 \r\nL 107.877722 151.601598 \r\nL 109.39954 153.248663 \r\nL 110.921358 154.528729 \r\nL 112.443176 155.481055 \r\nL 113.964994 156.14753 \r\nL 115.486813 156.571044 \r\nL 117.312994 156.818074 \r\nL 119.44354 156.833252 \r\nL 121.878449 156.609687 \r\nL 125.835176 155.982348 \r\nL 133.444267 154.752509 \r\nL 139.835903 153.983614 \r\nL 147.444994 153.281542 \r\nL 153.227903 152.958565 \r\nL 160.836994 152.805845 \r\nL 165.706813 152.600771 \r\nL 169.054812 152.248476 \r\nL 172.402813 151.662346 \r\nL 176.055176 150.779934 \r\nL 183.359903 148.933948 \r\nL 185.794813 148.616044 \r\nL 187.620994 148.584938 \r\nL 189.447176 148.77994 \r\nL 190.968994 149.143073 \r\nL 192.490813 149.708442 \r\nL 194.012631 150.490034 \r\nL 195.534449 151.496658 \r\nL 197.360631 153.005492 \r\nL 199.186813 154.835829 \r\nL 201.012994 156.967691 \r\nL 203.14354 159.790691 \r\nL 205.882812 163.832401 \r\nL 214.709358 177.311872 \r\nL 216.53554 179.58473 \r\nL 218.057358 181.191713 \r\nL 219.579176 182.484743 \r\nL 220.796631 183.261671 \r\nL 222.014085 183.785643 \r\nL 223.23154 184.036436 \r\nL 224.144631 184.034309 \r\nL 225.057722 183.86159 \r\nL 225.970813 183.512386 \r\nL 227.188267 182.763723 \r\nL 228.405722 181.68325 \r\nL 229.623176 180.264846 \r\nL 230.840631 178.505696 \r\nL 232.058085 176.406402 \r\nL 233.579903 173.310564 \r\nL 235.101722 169.705784 \r\nL 236.927903 164.743356 \r\nL 238.754085 159.142237 \r\nL 240.884631 151.901473 \r\nL 243.623903 141.702592 \r\nL 247.580631 125.915482 \r\nL 252.754813 105.317901 \r\nL 255.494085 95.34928 \r\nL 257.624631 88.394004 \r\nL 259.450813 83.131515 \r\nL 260.972631 79.310782 \r\nL 262.494449 76.05227 \r\nL 263.711903 73.875546 \r\nL 264.929358 72.097597 \r\nL 266.146813 70.7296 \r\nL 267.059903 69.977143 \r\nL 267.972994 69.461015 \r\nL 268.886085 69.181498 \r\nL 269.799176 69.137576 \r\nL 270.712267 69.326929 \r\nL 271.625358 69.745941 \r\nL 272.538449 70.389708 \r\nL 273.755903 71.586832 \r\nL 274.973358 73.154335 \r\nL 276.190812 75.070352 \r\nL 277.712631 77.916316 \r\nL 279.538813 81.916325 \r\nL 281.669358 87.24521 \r\nL 284.408631 94.831311 \r\nL 292.017722 116.434788 \r\nL 294.148267 121.621666 \r\nL 295.974449 125.477612 \r\nL 297.496267 128.198043 \r\nL 299.018085 130.420286 \r\nL 300.23554 131.815153 \r\nL 301.452994 132.855489 \r\nL 302.366085 133.398222 \r\nL 303.279176 133.735659 \r\nL 304.192267 133.868 \r\nL 305.105358 133.797029 \r\nL 306.018449 133.526082 \r\nL 306.93154 133.059993 \r\nL 308.148994 132.146013 \r\nL 309.366449 130.914952 \r\nL 310.583903 129.38921 \r\nL 312.105722 127.107187 \r\nL 313.931903 123.894291 \r\nL 316.062449 119.627912 \r\nL 318.801722 113.60074 \r\nL 326.106449 97.228626 \r\nL 328.541358 92.426438 \r\nL 330.671903 88.707633 \r\nL 332.498085 85.931622 \r\nL 334.324267 83.563914 \r\nL 335.846085 81.913831 \r\nL 337.367903 80.561383 \r\nL 338.889722 79.506296 \r\nL 340.41154 78.745318 \r\nL 341.933358 78.272977 \r\nL 343.455176 78.082263 \r\nL 344.976994 78.165189 \r\nL 346.498812 78.513228 \r\nL 348.020631 79.117619 \r\nL 349.542449 79.969545 \r\nL 351.064267 81.060202 \r\nL 352.890449 82.671698 \r\nL 354.716631 84.598851 \r\nL 356.542813 86.825783 \r\nL 358.064631 88.898605 \r\nL 358.064631 88.898605 \r\n\" style=\"fill:none;stroke:#1f77b4;stroke-linecap:square;stroke-width:1.5;\"/>\r\n   </g>\r\n   <g id=\"line2d_17\">\r\n    <path clip-path=\"url(#p88a115648f)\" d=\"M 53.700994 78.31516 \r\nL 56.135903 68.302025 \r\nL 58.266449 60.427328 \r\nL 60.092631 54.52853 \r\nL 61.614449 50.314126 \r\nL 63.136267 46.80637 \r\nL 64.353722 44.544787 \r\nL 65.571176 42.790747 \r\nL 66.484267 41.818145 \r\nL 67.397358 41.144954 \r\nL 68.310449 40.774231 \r\nL 69.22354 40.707312 \r\nL 70.136631 40.943815 \r\nL 71.049722 41.481665 \r\nL 71.962812 42.317127 \r\nL 72.875903 43.444851 \r\nL 74.093358 45.390949 \r\nL 75.310812 47.823673 \r\nL 76.528267 50.718118 \r\nL 78.050085 54.941 \r\nL 79.876267 60.809315 \r\nL 81.702449 67.431971 \r\nL 84.137358 77.19549 \r\nL 87.180994 90.403582 \r\nL 94.790085 123.879562 \r\nL 97.224994 133.474486 \r\nL 99.35554 141.026858 \r\nL 101.181722 146.753006 \r\nL 103.007903 151.709585 \r\nL 104.529722 155.211976 \r\nL 106.05154 158.120957 \r\nL 107.268994 160.013958 \r\nL 108.486449 161.520806 \r\nL 109.703903 162.646167 \r\nL 110.616994 163.245228 \r\nL 111.530085 163.640386 \r\nL 112.443176 163.838624 \r\nL 113.356267 163.848289 \r\nL 114.269358 163.679052 \r\nL 115.486813 163.194157 \r\nL 116.704267 162.439873 \r\nL 118.226085 161.167898 \r\nL 119.747903 159.595449 \r\nL 121.878449 157.032588 \r\nL 129.183176 147.84749 \r\nL 131.009358 146.104219 \r\nL 132.531176 144.972239 \r\nL 133.748631 144.304769 \r\nL 134.966085 143.863877 \r\nL 136.18354 143.657371 \r\nL 137.400994 143.687271 \r\nL 138.618449 143.949784 \r\nL 139.835903 144.435414 \r\nL 141.357722 145.332932 \r\nL 142.87954 146.515081 \r\nL 144.705722 148.236851 \r\nL 147.140631 150.872467 \r\nL 152.010449 156.246551 \r\nL 153.836631 157.932528 \r\nL 155.358449 159.078979 \r\nL 156.880267 159.939197 \r\nL 158.097722 160.396458 \r\nL 159.315176 160.634135 \r\nL 160.532631 160.644717 \r\nL 161.750085 160.426205 \r\nL 162.96754 159.982105 \r\nL 164.184994 159.321278 \r\nL 165.706813 158.212149 \r\nL 167.228631 156.823846 \r\nL 169.054812 154.856354 \r\nL 171.489722 151.881865 \r\nL 177.272631 144.645919 \r\nL 179.098813 142.728886 \r\nL 180.620631 141.39033 \r\nL 182.142449 140.33533 \r\nL 183.359903 139.720323 \r\nL 184.577358 139.324992 \r\nL 185.794813 139.1603 \r\nL 187.012267 139.233517 \r\nL 188.229722 139.54829 \r\nL 189.447176 140.104785 \r\nL 190.664631 140.89988 \r\nL 191.882085 141.927398 \r\nL 193.403903 143.524727 \r\nL 194.925722 145.448042 \r\nL 196.751903 148.146216 \r\nL 198.882449 151.758996 \r\nL 201.317358 156.373542 \r\nL 204.665358 163.260027 \r\nL 210.752631 175.905998 \r\nL 213.18754 180.44434 \r\nL 215.318085 183.928121 \r\nL 217.144267 186.445023 \r\nL 218.666085 188.149088 \r\nL 219.88354 189.222559 \r\nL 221.100994 190.015222 \r\nL 222.318449 190.507395 \r\nL 223.23154 190.668608 \r\nL 224.144631 190.644186 \r\nL 225.057722 190.428329 \r\nL 225.970813 190.016125 \r\nL 226.883903 189.403626 \r\nL 228.101358 188.270491 \r\nL 229.318812 186.772309 \r\nL 230.536267 184.908836 \r\nL 231.753722 182.68365 \r\nL 233.27554 179.405334 \r\nL 234.797358 175.597303 \r\nL 236.62354 170.375701 \r\nL 238.754085 163.481497 \r\nL 241.188994 154.730074 \r\nL 244.232631 142.88054 \r\nL 252.146085 111.590768 \r\nL 254.580994 103.100873 \r\nL 256.407176 97.417796 \r\nL 258.233358 92.441021 \r\nL 259.755176 88.89937 \r\nL 261.276994 85.954913 \r\nL 262.494449 84.052447 \r\nL 263.711903 82.566895 \r\nL 264.624994 81.731659 \r\nL 265.538085 81.13788 \r\nL 266.451176 80.78618 \r\nL 267.364267 80.675766 \r\nL 268.277358 80.804421 \r\nL 269.190449 81.168499 \r\nL 270.10354 81.762933 \r\nL 271.016631 82.581244 \r\nL 272.234085 84.006778 \r\nL 273.45154 85.793757 \r\nL 274.973358 88.494934 \r\nL 276.495176 91.658658 \r\nL 278.321358 95.967712 \r\nL 280.756267 102.360091 \r\nL 289.278449 125.534272 \r\nL 291.104631 129.627691 \r\nL 292.626449 132.568184 \r\nL 294.148267 135.010812 \r\nL 295.365722 136.569779 \r\nL 296.583176 137.753419 \r\nL 297.496267 138.384738 \r\nL 298.409358 138.790748 \r\nL 299.322449 138.968483 \r\nL 300.23554 138.916858 \r\nL 301.148631 138.636668 \r\nL 302.061722 138.130572 \r\nL 302.974813 137.403051 \r\nL 304.192267 136.099634 \r\nL 305.409722 134.433332 \r\nL 306.93154 131.877725 \r\nL 308.453358 128.850755 \r\nL 310.27954 124.690022 \r\nL 312.410085 119.26971 \r\nL 315.758085 110.025812 \r\nL 320.627903 96.552142 \r\nL 323.062813 90.442382 \r\nL 325.193358 85.687128 \r\nL 327.01954 82.14008 \r\nL 328.541358 79.595773 \r\nL 330.063176 77.445759 \r\nL 331.584994 75.699949 \r\nL 332.802449 74.595951 \r\nL 334.019903 73.749852 \r\nL 335.237358 73.156811 \r\nL 336.454813 72.80969 \r\nL 337.672267 72.699358 \r\nL 338.889722 72.814982 \r\nL 340.107176 73.144309 \r\nL 341.324631 73.673922 \r\nL 342.846449 74.595648 \r\nL 344.368267 75.778239 \r\nL 346.194449 77.498154 \r\nL 348.324994 79.849921 \r\nL 350.759903 82.884122 \r\nL 354.412267 87.848847 \r\nL 358.064631 92.924426 \r\nL 358.064631 92.924426 \r\n\" style=\"fill:none;stroke:#ff7f0e;stroke-linecap:square;stroke-width:1.5;\"/>\r\n   </g>\r\n   <g id=\"line2d_18\">\r\n    <path clip-path=\"url(#p88a115648f)\" d=\"M 53.700994 78.31516 \r\nL 54.005358 78.31516 \r\nL 56.440267 68.408869 \r\nL 58.570813 60.624812 \r\nL 60.396994 54.801718 \r\nL 61.918813 50.649136 \r\nL 63.440631 47.202151 \r\nL 64.658085 44.988437 \r\nL 65.87554 43.281543 \r\nL 66.788631 42.343741 \r\nL 67.701722 41.704752 \r\nL 68.614812 41.367476 \r\nL 69.527903 41.333028 \r\nL 70.440994 41.600735 \r\nL 71.354085 42.168149 \r\nL 72.267176 43.031066 \r\nL 73.180267 44.183564 \r\nL 74.397722 46.157322 \r\nL 75.615176 48.609752 \r\nL 77.136994 52.306485 \r\nL 78.658813 56.645377 \r\nL 80.484994 62.597182 \r\nL 82.61554 70.389838 \r\nL 85.354813 81.37548 \r\nL 95.094449 121.529459 \r\nL 97.529358 130.133903 \r\nL 99.659903 136.801515 \r\nL 101.486085 141.808415 \r\nL 103.312267 146.132964 \r\nL 104.834085 149.212646 \r\nL 106.355903 151.825538 \r\nL 107.877722 153.990368 \r\nL 109.39954 155.733733 \r\nL 110.921358 157.088593 \r\nL 112.443176 158.092677 \r\nL 113.964994 158.786905 \r\nL 115.486813 159.213719 \r\nL 117.008631 159.415596 \r\nL 118.834812 159.418704 \r\nL 120.965358 159.175505 \r\nL 123.704631 158.61102 \r\nL 128.878813 157.241231 \r\nL 134.966085 155.70019 \r\nL 140.444631 154.549783 \r\nL 146.22754 153.563403 \r\nL 151.706085 152.856496 \r\nL 158.706449 152.213251 \r\nL 163.880631 151.655716 \r\nL 167.228631 151.078929 \r\nL 170.272267 150.32634 \r\nL 173.315903 149.334375 \r\nL 176.968267 147.879562 \r\nL 183.664267 145.120299 \r\nL 186.099176 144.402 \r\nL 187.925358 144.074662 \r\nL 189.75154 143.980943 \r\nL 191.273358 144.112138 \r\nL 192.795176 144.456111 \r\nL 194.316994 145.029495 \r\nL 195.838813 145.843794 \r\nL 197.360631 146.904796 \r\nL 198.882449 148.212025 \r\nL 200.708631 150.095268 \r\nL 202.534812 152.297623 \r\nL 204.665358 155.217851 \r\nL 207.404631 159.394455 \r\nL 215.622449 172.333796 \r\nL 217.448631 174.719306 \r\nL 218.970449 176.41941 \r\nL 220.492267 177.802001 \r\nL 221.709722 178.646334 \r\nL 222.927176 179.232638 \r\nL 224.144631 179.539567 \r\nL 225.057722 179.57492 \r\nL 225.970813 179.435329 \r\nL 226.883903 179.114602 \r\nL 227.796994 178.607511 \r\nL 229.014449 177.634301 \r\nL 230.231903 176.315198 \r\nL 231.449358 174.646551 \r\nL 232.666812 172.628325 \r\nL 234.188631 169.61977 \r\nL 235.710449 166.086358 \r\nL 237.536631 161.188557 \r\nL 239.362812 155.630154 \r\nL 241.493358 148.414262 \r\nL 243.928267 139.389892 \r\nL 247.580631 124.869268 \r\nL 253.36354 101.783305 \r\nL 255.798449 92.91817 \r\nL 257.928994 85.939021 \r\nL 259.755176 80.682986 \r\nL 261.276994 76.893734 \r\nL 262.798813 73.696002 \r\nL 264.016267 71.592186 \r\nL 265.233722 69.911103 \r\nL 266.451176 68.665931 \r\nL 267.364267 68.023555 \r\nL 268.277358 67.633544 \r\nL 269.190449 67.496608 \r\nL 270.10354 67.612021 \r\nL 271.016631 67.977626 \r\nL 271.929722 68.589842 \r\nL 272.842813 69.44368 \r\nL 274.060267 70.946645 \r\nL 275.277722 72.848497 \r\nL 276.495176 75.126003 \r\nL 278.016994 78.45923 \r\nL 279.843176 83.090131 \r\nL 281.973722 89.207396 \r\nL 284.712994 97.865001 \r\nL 292.322085 122.489286 \r\nL 294.452631 128.459108 \r\nL 296.278813 132.943715 \r\nL 297.800631 136.15275 \r\nL 299.322449 138.827863 \r\nL 300.539903 140.55738 \r\nL 301.757358 141.90647 \r\nL 302.974813 142.866344 \r\nL 303.887903 143.32853 \r\nL 304.800994 143.57016 \r\nL 305.714085 143.593318 \r\nL 306.627176 143.401679 \r\nL 307.540267 143.000456 \r\nL 308.453358 142.396319 \r\nL 309.670813 141.289229 \r\nL 310.888267 139.858391 \r\nL 312.410085 137.654647 \r\nL 313.931903 135.043615 \r\nL 315.758085 131.462136 \r\nL 318.192994 126.118404 \r\nL 322.149722 116.729564 \r\nL 326.106449 107.46721 \r\nL 328.541358 102.25588 \r\nL 330.671903 98.171347 \r\nL 332.498085 95.092926 \r\nL 334.324267 92.446072 \r\nL 335.846085 90.589025 \r\nL 337.367903 89.058581 \r\nL 338.889722 87.858567 \r\nL 340.41154 86.988608 \r\nL 341.628994 86.527749 \r\nL 342.846449 86.272322 \r\nL 344.063903 86.217993 \r\nL 345.281358 86.359644 \r\nL 346.498812 86.691548 \r\nL 348.020631 87.364422 \r\nL 349.542449 88.311815 \r\nL 351.064267 89.520098 \r\nL 352.890449 91.294544 \r\nL 354.716631 93.399436 \r\nL 356.847176 96.238896 \r\nL 358.064631 98.032218 \r\nL 358.064631 98.032218 \r\n\" style=\"fill:none;stroke:#2ca02c;stroke-linecap:square;stroke-width:1.5;\"/>\r\n   </g>\r\n   <g id=\"line2d_19\">\r\n    <path clip-path=\"url(#p88a115648f)\" d=\"M 53.700994 78.31516 \r\nL 54.005358 78.31516 \r\nL 56.440267 68.408872 \r\nL 58.570813 60.624897 \r\nL 60.396994 54.80217 \r\nL 61.918813 50.650425 \r\nL 63.440631 47.205186 \r\nL 64.658085 44.993913 \r\nL 65.87554 43.290823 \r\nL 66.788631 42.357079 \r\nL 67.701722 41.723483 \r\nL 68.614812 41.393264 \r\nL 69.527903 41.36793 \r\nL 70.440994 41.647274 \r\nL 71.354085 42.229393 \r\nL 72.267176 43.110717 \r\nL 73.180267 44.286056 \r\nL 74.397722 46.298624 \r\nL 75.615176 48.801517 \r\nL 76.832631 51.770098 \r\nL 78.354449 56.09153 \r\nL 80.180631 62.087016 \r\nL 82.006812 68.846539 \r\nL 84.441722 78.806675 \r\nL 87.485358 92.279063 \r\nL 95.094449 126.436945 \r\nL 97.529358 136.227621 \r\nL 99.659903 143.930308 \r\nL 101.486085 149.765195 \r\nL 103.312267 154.80867 \r\nL 104.834085 158.364887 \r\nL 106.355903 161.309568 \r\nL 107.573358 163.21753 \r\nL 108.790813 164.726988 \r\nL 110.008267 165.842519 \r\nL 110.921358 166.426083 \r\nL 111.834449 166.798875 \r\nL 112.74754 166.968004 \r\nL 113.660631 166.941969 \r\nL 114.573722 166.730654 \r\nL 115.791176 166.18017 \r\nL 117.008631 165.350022 \r\nL 118.530449 163.969863 \r\nL 120.052267 162.275787 \r\nL 122.182813 159.522998 \r\nL 129.791903 149.213316 \r\nL 131.618085 147.322567 \r\nL 133.139903 146.074212 \r\nL 134.357358 145.316618 \r\nL 135.574813 144.787094 \r\nL 136.792267 144.492331 \r\nL 138.009722 144.433182 \r\nL 139.227176 144.604706 \r\nL 140.444631 144.996332 \r\nL 141.662085 145.592119 \r\nL 143.183903 146.591667 \r\nL 145.010085 148.097104 \r\nL 147.444994 150.450961 \r\nL 152.314813 155.293494 \r\nL 154.140994 156.792854 \r\nL 155.662813 157.788897 \r\nL 157.184631 158.502722 \r\nL 158.402085 158.845089 \r\nL 159.61954 158.969111 \r\nL 160.836994 158.866442 \r\nL 162.054449 158.534094 \r\nL 163.271903 157.974456 \r\nL 164.489358 157.195171 \r\nL 166.011176 155.931891 \r\nL 167.532994 154.38024 \r\nL 169.359176 152.200945 \r\nL 171.794085 148.910518 \r\nL 178.490085 139.56313 \r\nL 180.316267 137.43826 \r\nL 181.838085 135.939121 \r\nL 183.359903 134.732713 \r\nL 184.577358 134.001922 \r\nL 185.794813 133.4947 \r\nL 187.012267 133.221425 \r\nL 188.229722 133.188988 \r\nL 189.447176 133.400831 \r\nL 190.664631 133.857084 \r\nL 191.882085 134.554811 \r\nL 193.09954 135.488083 \r\nL 194.621358 136.972541 \r\nL 196.143176 138.789206 \r\nL 197.969358 141.368655 \r\nL 199.79554 144.330422 \r\nL 202.230449 148.762103 \r\nL 205.274085 154.834798 \r\nL 212.578812 169.65801 \r\nL 214.709358 173.442896 \r\nL 216.53554 176.292212 \r\nL 218.057358 178.320595 \r\nL 219.579176 179.982034 \r\nL 220.796631 181.015892 \r\nL 222.014085 181.763427 \r\nL 223.23154 182.204638 \r\nL 224.144631 182.323766 \r\nL 225.057722 182.253983 \r\nL 225.970813 181.989552 \r\nL 226.883903 181.525752 \r\nL 227.796994 180.858902 \r\nL 229.014449 179.649493 \r\nL 230.231903 178.071446 \r\nL 231.449358 176.125513 \r\nL 232.971176 173.18325 \r\nL 234.492994 169.691751 \r\nL 236.014813 165.678944 \r\nL 237.840994 160.22914 \r\nL 239.97154 153.102938 \r\nL 242.406449 144.146572 \r\nL 246.058813 129.702989 \r\nL 251.537358 107.98491 \r\nL 253.972267 99.199152 \r\nL 256.102813 92.319459 \r\nL 257.928994 87.177776 \r\nL 259.450813 83.507355 \r\nL 260.972631 80.451261 \r\nL 262.190085 78.47756 \r\nL 263.40754 76.941421 \r\nL 264.320631 76.084187 \r\nL 265.233722 75.483833 \r\nL 266.146813 75.142449 \r\nL 267.059903 75.060577 \r\nL 267.972994 75.23722 \r\nL 268.886085 75.669805 \r\nL 269.799176 76.354177 \r\nL 270.712267 77.284636 \r\nL 271.929722 78.895269 \r\nL 273.147176 80.908878 \r\nL 274.668994 83.95241 \r\nL 276.190812 87.523869 \r\nL 278.016994 92.406389 \r\nL 280.14754 98.748427 \r\nL 283.49554 109.543819 \r\nL 288.060994 124.215359 \r\nL 290.19154 130.377448 \r\nL 292.017722 135.048513 \r\nL 293.53954 138.407155 \r\nL 295.061358 141.209732 \r\nL 296.278813 143.015051 \r\nL 297.496267 144.408804 \r\nL 298.409358 145.174573 \r\nL 299.322449 145.695842 \r\nL 300.23554 145.970317 \r\nL 301.148631 145.997678 \r\nL 302.061722 145.779544 \r\nL 302.974813 145.319466 \r\nL 303.887903 144.622872 \r\nL 305.105358 143.338914 \r\nL 306.322813 141.66942 \r\nL 307.540267 139.641293 \r\nL 309.062085 136.65004 \r\nL 310.888267 132.484823 \r\nL 313.018813 127.003071 \r\nL 316.062449 118.450762 \r\nL 321.540994 102.930184 \r\nL 323.975903 96.760662 \r\nL 325.802085 92.658935 \r\nL 327.628267 89.100018 \r\nL 329.150085 86.594038 \r\nL 330.671903 84.533245 \r\nL 331.889358 83.215899 \r\nL 333.106812 82.197316 \r\nL 334.324267 81.477685 \r\nL 335.541722 81.0539 \r\nL 336.759176 80.919718 \r\nL 337.976631 81.066112 \r\nL 339.194085 81.481514 \r\nL 340.41154 82.152074 \r\nL 341.628994 83.061902 \r\nL 343.150813 84.508724 \r\nL 344.672631 86.26421 \r\nL 346.498812 88.721109 \r\nL 348.629358 91.97657 \r\nL 351.368631 96.589121 \r\nL 358.064631 108.343155 \r\nL 358.064631 108.343155 \r\n\" style=\"fill:none;stroke:#d62728;stroke-linecap:square;stroke-width:1.5;\"/>\r\n   </g>\r\n   <g id=\"line2d_20\">\r\n    <path clip-path=\"url(#p88a115648f)\" d=\"M 53.700994 78.31516 \r\nL 54.005358 78.31516 \r\nL 56.440267 68.408869 \r\nL 58.570813 60.624812 \r\nL 60.396994 54.801718 \r\nL 61.918813 50.649136 \r\nL 63.440631 47.202151 \r\nL 64.658085 44.988437 \r\nL 65.87554 43.281543 \r\nL 66.788631 42.343741 \r\nL 67.701722 41.704752 \r\nL 68.614812 41.367476 \r\nL 69.527903 41.333027 \r\nL 70.440994 41.600735 \r\nL 71.354085 42.168148 \r\nL 72.267176 43.031065 \r\nL 73.180267 44.183562 \r\nL 74.397722 46.157318 \r\nL 75.615176 48.609748 \r\nL 77.136994 52.30648 \r\nL 78.658813 56.645371 \r\nL 80.484994 62.597174 \r\nL 82.61554 70.389829 \r\nL 85.354813 81.375474 \r\nL 95.094449 121.529473 \r\nL 97.529358 130.133925 \r\nL 99.659903 136.801544 \r\nL 101.486085 141.80845 \r\nL 103.312267 146.133005 \r\nL 104.834085 149.212693 \r\nL 106.355903 151.825588 \r\nL 107.877722 153.990422 \r\nL 109.39954 155.73378 \r\nL 110.921358 157.088626 \r\nL 112.443176 158.092708 \r\nL 113.964994 158.786933 \r\nL 115.486813 159.21375 \r\nL 117.008631 159.415639 \r\nL 118.834812 159.418755 \r\nL 120.965358 159.175532 \r\nL 123.704631 158.611074 \r\nL 128.878813 157.241291 \r\nL 134.966085 155.700263 \r\nL 140.444631 154.549848 \r\nL 146.22754 153.563459 \r\nL 151.706085 152.856548 \r\nL 158.706449 152.213303 \r\nL 163.880631 151.655765 \r\nL 167.228631 151.078981 \r\nL 170.272267 150.326395 \r\nL 173.315903 149.334434 \r\nL 176.968267 147.879637 \r\nL 183.664267 145.120396 \r\nL 186.099176 144.402114 \r\nL 187.925358 144.074772 \r\nL 189.75154 143.981066 \r\nL 191.273358 144.112267 \r\nL 192.795176 144.456247 \r\nL 194.316994 145.029629 \r\nL 195.838813 145.843939 \r\nL 197.360631 146.904947 \r\nL 198.882449 148.212174 \r\nL 200.708631 150.095449 \r\nL 202.534812 152.297799 \r\nL 204.665358 155.218034 \r\nL 207.404631 159.394649 \r\nL 215.622449 172.333964 \r\nL 217.448631 174.719481 \r\nL 218.970449 176.419566 \r\nL 220.492267 177.802156 \r\nL 221.709722 178.64648 \r\nL 222.927176 179.232761 \r\nL 224.144631 179.539687 \r\nL 225.057722 179.575031 \r\nL 225.970813 179.435427 \r\nL 226.883903 179.114692 \r\nL 227.796994 178.607587 \r\nL 229.014449 177.634359 \r\nL 230.231903 176.315249 \r\nL 231.449358 174.646592 \r\nL 232.666812 172.62833 \r\nL 234.188631 169.619787 \r\nL 235.710449 166.08634 \r\nL 237.536631 161.188521 \r\nL 239.362812 155.630093 \r\nL 241.493358 148.414173 \r\nL 243.928267 139.389777 \r\nL 247.580631 124.869116 \r\nL 253.36354 101.783097 \r\nL 255.798449 92.917955 \r\nL 257.928994 85.938817 \r\nL 259.755176 80.682763 \r\nL 261.276994 76.893517 \r\nL 262.798813 73.695762 \r\nL 264.016267 71.591941 \r\nL 265.233722 69.910887 \r\nL 266.451176 68.665698 \r\nL 267.364267 68.023331 \r\nL 268.277358 67.633327 \r\nL 269.190449 67.496394 \r\nL 270.10354 67.611813 \r\nL 271.016631 67.977433 \r\nL 271.929722 68.589666 \r\nL 272.842813 69.443499 \r\nL 274.060267 70.946464 \r\nL 275.277722 72.848329 \r\nL 276.495176 75.125843 \r\nL 278.016994 78.459081 \r\nL 279.843176 83.089985 \r\nL 281.973722 89.207271 \r\nL 284.712994 97.864894 \r\nL 292.322085 122.489219 \r\nL 294.452631 128.459049 \r\nL 296.278813 132.943665 \r\nL 297.800631 136.152698 \r\nL 299.322449 138.827815 \r\nL 300.539903 140.557331 \r\nL 301.757358 141.906413 \r\nL 302.974813 142.866289 \r\nL 303.887903 143.328472 \r\nL 304.800994 143.570099 \r\nL 305.714085 143.593256 \r\nL 306.627176 143.401618 \r\nL 307.540267 143.000392 \r\nL 308.453358 142.396246 \r\nL 309.670813 141.289153 \r\nL 310.888267 139.858307 \r\nL 312.410085 137.654555 \r\nL 313.931903 135.043514 \r\nL 315.758085 131.462022 \r\nL 318.192994 126.118276 \r\nL 322.149722 116.729407 \r\nL 326.106449 107.46704 \r\nL 328.541358 102.255701 \r\nL 330.671903 98.171165 \r\nL 332.498085 95.092737 \r\nL 334.324267 92.445882 \r\nL 335.846085 90.588832 \r\nL 337.367903 89.05838 \r\nL 338.889722 87.858368 \r\nL 340.41154 86.98841 \r\nL 341.628994 86.527551 \r\nL 342.846449 86.272119 \r\nL 344.063903 86.217789 \r\nL 345.281358 86.359446 \r\nL 346.498812 86.69135 \r\nL 348.020631 87.364229 \r\nL 349.542449 88.311626 \r\nL 351.064267 89.51991 \r\nL 352.890449 91.294363 \r\nL 354.716631 93.399258 \r\nL 356.847176 96.238746 \r\nL 358.064631 98.032066 \r\nL 358.064631 98.032066 \r\n\" style=\"fill:none;stroke:#9467bd;stroke-linecap:square;stroke-width:1.5;\"/>\r\n   </g>\r\n   <g id=\"line2d_21\">\r\n    <path clip-path=\"url(#p88a115648f)\" d=\"M 53.700994 78.31516 \r\nL 54.005358 78.31516 \r\nL 56.440267 68.408872 \r\nL 58.570813 60.624897 \r\nL 60.396994 54.80217 \r\nL 61.918813 50.650425 \r\nL 63.440631 47.205186 \r\nL 64.658085 44.993913 \r\nL 65.87554 43.290823 \r\nL 66.788631 42.357079 \r\nL 67.701722 41.723483 \r\nL 68.614812 41.393264 \r\nL 69.527903 41.36793 \r\nL 70.440994 41.647274 \r\nL 71.354085 42.229392 \r\nL 72.267176 43.110717 \r\nL 73.180267 44.286056 \r\nL 74.397722 46.298623 \r\nL 75.615176 48.801515 \r\nL 76.832631 51.770096 \r\nL 78.354449 56.091527 \r\nL 80.180631 62.087011 \r\nL 82.006812 68.846531 \r\nL 84.441722 78.806663 \r\nL 87.485358 92.279049 \r\nL 95.094449 126.436921 \r\nL 97.529358 136.227611 \r\nL 99.659903 143.930297 \r\nL 101.486085 149.765195 \r\nL 103.312267 154.808666 \r\nL 104.834085 158.364888 \r\nL 106.355903 161.309569 \r\nL 107.573358 163.217531 \r\nL 108.790813 164.726986 \r\nL 110.008267 165.842519 \r\nL 110.921358 166.426085 \r\nL 111.834449 166.798875 \r\nL 112.74754 166.967997 \r\nL 113.660631 166.941968 \r\nL 114.573722 166.730661 \r\nL 115.791176 166.180171 \r\nL 117.008631 165.350025 \r\nL 118.530449 163.969868 \r\nL 120.052267 162.275794 \r\nL 122.182813 159.523014 \r\nL 129.791903 149.213322 \r\nL 131.618085 147.322575 \r\nL 133.139903 146.074218 \r\nL 134.357358 145.316621 \r\nL 135.574813 144.787102 \r\nL 136.792267 144.492337 \r\nL 138.009722 144.433188 \r\nL 139.227176 144.604719 \r\nL 140.444631 144.996349 \r\nL 141.662085 145.592133 \r\nL 143.183903 146.591686 \r\nL 145.010085 148.097122 \r\nL 147.444994 150.450981 \r\nL 152.314813 155.293513 \r\nL 154.140994 156.792873 \r\nL 155.662813 157.788927 \r\nL 157.184631 158.502751 \r\nL 158.402085 158.84512 \r\nL 159.61954 158.969148 \r\nL 160.836994 158.86648 \r\nL 162.054449 158.534131 \r\nL 163.271903 157.974495 \r\nL 164.489358 157.195211 \r\nL 166.011176 155.931931 \r\nL 167.532994 154.380278 \r\nL 169.359176 152.200985 \r\nL 171.794085 148.910556 \r\nL 178.490085 139.563173 \r\nL 180.316267 137.438305 \r\nL 181.838085 135.939174 \r\nL 183.359903 134.73277 \r\nL 184.577358 134.001981 \r\nL 185.794813 133.494765 \r\nL 187.012267 133.2215 \r\nL 188.229722 133.189063 \r\nL 189.447176 133.400907 \r\nL 190.664631 133.857183 \r\nL 191.882085 134.554912 \r\nL 193.09954 135.488187 \r\nL 194.621358 136.972655 \r\nL 196.143176 138.789329 \r\nL 197.969358 141.368785 \r\nL 199.79554 144.330554 \r\nL 202.230449 148.762254 \r\nL 205.274085 154.83494 \r\nL 212.578812 169.658165 \r\nL 214.709358 173.443076 \r\nL 216.53554 176.29239 \r\nL 218.057358 178.320768 \r\nL 219.579176 179.982205 \r\nL 220.796631 181.016054 \r\nL 222.014085 181.763591 \r\nL 223.23154 182.204815 \r\nL 224.144631 182.323928 \r\nL 225.057722 182.254114 \r\nL 225.970813 181.98968 \r\nL 226.883903 181.52589 \r\nL 227.796994 180.859027 \r\nL 229.014449 179.649601 \r\nL 230.231903 178.071548 \r\nL 231.449358 176.125601 \r\nL 232.971176 173.18332 \r\nL 234.492994 169.691808 \r\nL 236.014813 165.678982 \r\nL 237.840994 160.229174 \r\nL 239.97154 153.102949 \r\nL 242.406449 144.146576 \r\nL 246.058813 129.702961 \r\nL 251.537358 107.984834 \r\nL 253.972267 99.199056 \r\nL 256.102813 92.31934 \r\nL 257.928994 87.17764 \r\nL 259.450813 83.507202 \r\nL 260.972631 80.45109 \r\nL 262.190085 78.477382 \r\nL 263.40754 76.941229 \r\nL 264.320631 76.083991 \r\nL 265.233722 75.483633 \r\nL 266.146813 75.142243 \r\nL 267.059903 75.060371 \r\nL 267.972994 75.237012 \r\nL 268.886085 75.669594 \r\nL 269.799176 76.35397 \r\nL 270.712267 77.28443 \r\nL 271.929722 78.895067 \r\nL 273.147176 80.908681 \r\nL 274.668994 83.952221 \r\nL 276.190812 87.523687 \r\nL 278.016994 92.406221 \r\nL 280.14754 98.748272 \r\nL 283.49554 109.543679 \r\nL 288.060994 124.215222 \r\nL 290.19154 130.3773 \r\nL 292.017722 135.048348 \r\nL 293.53954 138.406971 \r\nL 295.061358 141.209526 \r\nL 296.278813 143.014822 \r\nL 297.496267 144.408551 \r\nL 298.409358 145.1743 \r\nL 299.322449 145.695546 \r\nL 300.23554 145.970001 \r\nL 301.148631 145.997337 \r\nL 302.061722 145.779179 \r\nL 302.974813 145.319076 \r\nL 303.887903 144.622454 \r\nL 305.105358 143.338465 \r\nL 306.322813 141.668942 \r\nL 307.540267 139.64079 \r\nL 309.062085 136.649507 \r\nL 310.888267 132.484259 \r\nL 313.018813 127.002472 \r\nL 316.062449 118.450129 \r\nL 321.540994 102.929517 \r\nL 323.975903 96.759991 \r\nL 325.802085 92.658261 \r\nL 327.628267 89.099358 \r\nL 329.150085 86.593381 \r\nL 330.671903 84.532597 \r\nL 331.889358 83.21525 \r\nL 333.106812 82.196671 \r\nL 334.324267 81.477053 \r\nL 335.541722 81.053264 \r\nL 336.759176 80.91909 \r\nL 337.976631 81.0655 \r\nL 339.194085 81.480913 \r\nL 340.41154 82.151472 \r\nL 341.628994 83.061314 \r\nL 343.150813 84.508143 \r\nL 344.672631 86.26365 \r\nL 346.498812 88.720555 \r\nL 348.629358 91.976027 \r\nL 351.368631 96.588609 \r\nL 358.064631 108.342743 \r\nL 358.064631 108.342743 \r\n\" style=\"fill:none;stroke:#8c564b;stroke-linecap:square;stroke-width:1.5;\"/>\r\n   </g>\r\n   <g id=\"line2d_22\">\r\n    <path clip-path=\"url(#p88a115648f)\" d=\"M 53.700994 56.024313 \r\nL 56.135903 44.500019 \r\nL 57.962085 36.846227 \r\nL 59.483903 31.265777 \r\nL 61.005722 26.510749 \r\nL 62.223176 23.35528 \r\nL 63.440631 20.813782 \r\nL 64.353722 19.327535 \r\nL 65.266813 18.21165 \r\nL 66.179903 17.473176 \r\nL 66.788631 17.193006 \r\nL 67.397358 17.083636 \r\nL 68.006085 17.145491 \r\nL 68.614812 17.378545 \r\nL 69.527903 18.047979 \r\nL 70.440994 19.097993 \r\nL 71.354085 20.52291 \r\nL 72.267176 22.314879 \r\nL 73.484631 25.25762 \r\nL 74.702085 28.805716 \r\nL 76.223903 34.037803 \r\nL 77.745722 40.079034 \r\nL 79.571903 48.264465 \r\nL 81.702449 58.874496 \r\nL 84.441722 73.706377 \r\nL 93.268267 122.553164 \r\nL 95.703176 134.22959 \r\nL 97.529358 142.017826 \r\nL 99.35554 148.846005 \r\nL 100.877358 153.74049 \r\nL 102.399176 157.875653 \r\nL 103.616631 160.624534 \r\nL 104.834085 162.873499 \r\nL 106.05154 164.626432 \r\nL 106.964631 165.621291 \r\nL 107.877722 166.348773 \r\nL 108.790813 166.816847 \r\nL 109.703903 167.035122 \r\nL 110.616994 167.014751 \r\nL 111.530085 166.768327 \r\nL 112.443176 166.309766 \r\nL 113.660631 165.394646 \r\nL 114.878085 164.168118 \r\nL 116.399903 162.260514 \r\nL 118.226085 159.535908 \r\nL 120.660994 155.418056 \r\nL 126.443903 145.421855 \r\nL 128.270085 142.741753 \r\nL 129.791903 140.835629 \r\nL 131.313722 139.284282 \r\nL 132.531176 138.327557 \r\nL 133.748631 137.641805 \r\nL 134.966085 137.238729 \r\nL 136.18354 137.125137 \r\nL 137.400994 137.302939 \r\nL 138.618449 137.769209 \r\nL 139.835903 138.516321 \r\nL 141.053358 139.532149 \r\nL 142.575176 141.154515 \r\nL 144.096994 143.130449 \r\nL 145.923176 145.899034 \r\nL 148.053722 149.552609 \r\nL 151.401722 155.811364 \r\nL 155.358449 163.155602 \r\nL 157.488994 166.709307 \r\nL 159.315176 169.375528 \r\nL 160.836994 171.266375 \r\nL 162.358812 172.815341 \r\nL 163.576267 173.788791 \r\nL 164.793722 174.514892 \r\nL 166.011176 174.987906 \r\nL 167.228631 175.206499 \r\nL 168.446085 175.173762 \r\nL 169.66354 174.897183 \r\nL 170.880994 174.388538 \r\nL 172.098449 173.663722 \r\nL 173.620267 172.48419 \r\nL 175.446449 170.729955 \r\nL 177.576994 168.337182 \r\nL 185.186085 159.405691 \r\nL 186.707903 158.057943 \r\nL 188.229722 157.009237 \r\nL 189.447176 156.42329 \r\nL 190.664631 156.0896 \r\nL 191.882085 156.029592 \r\nL 193.09954 156.260669 \r\nL 194.316994 156.795862 \r\nL 195.534449 157.643533 \r\nL 196.751903 158.807148 \r\nL 197.969358 160.285116 \r\nL 199.186813 162.070694 \r\nL 200.708631 164.716602 \r\nL 202.230449 167.789672 \r\nL 204.056631 171.974839 \r\nL 206.187176 177.412266 \r\nL 209.535176 186.692947 \r\nL 213.796267 198.48609 \r\nL 215.926813 203.767349 \r\nL 217.752994 207.690887 \r\nL 219.274813 210.410468 \r\nL 220.492267 212.162458 \r\nL 221.709722 213.492764 \r\nL 222.622813 214.190972 \r\nL 223.535903 214.616438 \r\nL 224.448994 214.756364 \r\nL 225.362085 214.599558 \r\nL 226.275176 214.136539 \r\nL 227.188267 213.359623 \r\nL 228.101358 212.262999 \r\nL 229.014449 210.842802 \r\nL 230.231903 208.442922 \r\nL 231.449358 205.465889 \r\nL 232.666812 201.919397 \r\nL 234.188631 196.707752 \r\nL 235.710449 190.670905 \r\nL 237.536631 182.418897 \r\nL 239.667176 171.564268 \r\nL 242.102085 157.846221 \r\nL 245.450085 137.479125 \r\nL 251.841722 98.172886 \r\nL 254.276631 84.628021 \r\nL 256.407176 74.025568 \r\nL 258.233358 66.09038 \r\nL 259.755176 60.40616 \r\nL 261.276994 55.642624 \r\nL 262.494449 52.532772 \r\nL 263.711903 50.069346 \r\nL 264.624994 48.654788 \r\nL 265.538085 47.615326 \r\nL 266.451176 46.952047 \r\nL 267.059903 46.718355 \r\nL 267.668631 46.650455 \r\nL 268.277358 46.746985 \r\nL 268.886085 47.006138 \r\nL 269.799176 47.694766 \r\nL 270.712267 48.734776 \r\nL 271.625358 50.114681 \r\nL 272.842813 52.459616 \r\nL 274.060267 55.347139 \r\nL 275.582085 59.653398 \r\nL 277.103903 64.644318 \r\nL 278.930085 71.386873 \r\nL 281.364994 81.323776 \r\nL 290.495903 119.805142 \r\nL 292.322085 126.181763 \r\nL 293.843903 130.838067 \r\nL 295.365722 134.808402 \r\nL 296.583176 137.444433 \r\nL 297.800631 139.569407 \r\nL 298.713722 140.814464 \r\nL 299.626813 141.752997 \r\nL 300.539903 142.380405 \r\nL 301.452994 142.694219 \r\nL 302.366085 142.694106 \r\nL 303.279176 142.381848 \r\nL 304.192267 141.761318 \r\nL 305.105358 140.838435 \r\nL 306.018449 139.621106 \r\nL 307.235903 137.557216 \r\nL 308.453358 135.015853 \r\nL 309.975176 131.219496 \r\nL 311.496994 126.806509 \r\nL 313.323176 120.819734 \r\nL 315.758085 111.939447 \r\nL 319.410449 97.568745 \r\nL 323.67154 80.990841 \r\nL 326.106449 72.427097 \r\nL 327.932631 66.720864 \r\nL 329.758813 61.771511 \r\nL 331.280631 58.300191 \r\nL 332.498085 55.984526 \r\nL 333.71554 54.098175 \r\nL 334.932994 52.65298 \r\nL 335.846085 51.862576 \r\nL 336.759176 51.324563 \r\nL 337.672267 51.037811 \r\nL 338.585358 50.999493 \r\nL 339.498449 51.205138 \r\nL 340.41154 51.648689 \r\nL 341.324631 52.322576 \r\nL 342.542085 53.563645 \r\nL 343.75954 55.173064 \r\nL 344.976994 57.122063 \r\nL 346.498812 59.986713 \r\nL 348.324994 63.961281 \r\nL 350.45554 69.176163 \r\nL 353.499176 77.299742 \r\nL 358.064631 89.745316 \r\nL 358.064631 89.745316 \r\n\" style=\"fill:none;stroke:#e377c2;stroke-linecap:square;stroke-width:1.5;\"/>\r\n   </g>\r\n   <g id=\"patch_3\">\r\n    <path d=\"M 38.482813 224.64 \r\nL 38.482813 7.2 \r\n\" style=\"fill:none;stroke:#000000;stroke-linecap:square;stroke-linejoin:miter;stroke-width:0.8;\"/>\r\n   </g>\r\n   <g id=\"patch_4\">\r\n    <path d=\"M 373.282813 224.64 \r\nL 373.282813 7.2 \r\n\" style=\"fill:none;stroke:#000000;stroke-linecap:square;stroke-linejoin:miter;stroke-width:0.8;\"/>\r\n   </g>\r\n   <g id=\"patch_5\">\r\n    <path d=\"M 38.482813 224.64 \r\nL 373.282813 224.64 \r\n\" style=\"fill:none;stroke:#000000;stroke-linecap:square;stroke-linejoin:miter;stroke-width:0.8;\"/>\r\n   </g>\r\n   <g id=\"patch_6\">\r\n    <path d=\"M 38.482813 7.2 \r\nL 373.282813 7.2 \r\n\" style=\"fill:none;stroke:#000000;stroke-linecap:square;stroke-linejoin:miter;stroke-width:0.8;\"/>\r\n   </g>\r\n   <g id=\"legend_1\">\r\n    <g id=\"patch_7\">\r\n     <path d=\"M 164.464844 117.946875 \r\nL 247.300781 117.946875 \r\nQ 249.300781 117.946875 249.300781 115.946875 \r\nL 249.300781 14.2 \r\nQ 249.300781 12.2 247.300781 12.2 \r\nL 164.464844 12.2 \r\nQ 162.464844 12.2 162.464844 14.2 \r\nL 162.464844 115.946875 \r\nQ 162.464844 117.946875 164.464844 117.946875 \r\nz\r\n\" style=\"fill:#ffffff;opacity:0.8;stroke:#cccccc;stroke-linejoin:miter;\"/>\r\n    </g>\r\n    <g id=\"line2d_23\">\r\n     <path d=\"M 166.464844 20.298437 \r\nL 186.464844 20.298437 \r\n\" style=\"fill:none;stroke:#1f77b4;stroke-linecap:square;stroke-width:1.5;\"/>\r\n    </g>\r\n    <g id=\"line2d_24\"/>\r\n    <g id=\"text_16\">\r\n     <!-- TTQS K=3 -->\r\n     <g transform=\"translate(194.464844 23.798437)scale(0.1 -0.1)\">\r\n      <defs>\r\n       <path d=\"M -0.296875 72.90625 \r\nL 61.375 72.90625 \r\nL 61.375 64.59375 \r\nL 35.5 64.59375 \r\nL 35.5 0 \r\nL 25.59375 0 \r\nL 25.59375 64.59375 \r\nL -0.296875 64.59375 \r\nz\r\n\" id=\"DejaVuSans-84\"/>\r\n       <path d=\"M 39.40625 66.21875 \r\nQ 28.65625 66.21875 22.328125 58.203125 \r\nQ 16.015625 50.203125 16.015625 36.375 \r\nQ 16.015625 22.609375 22.328125 14.59375 \r\nQ 28.65625 6.59375 39.40625 6.59375 \r\nQ 50.140625 6.59375 56.421875 14.59375 \r\nQ 62.703125 22.609375 62.703125 36.375 \r\nQ 62.703125 50.203125 56.421875 58.203125 \r\nQ 50.140625 66.21875 39.40625 66.21875 \r\nz\r\nM 53.21875 1.3125 \r\nL 66.21875 -12.890625 \r\nL 54.296875 -12.890625 \r\nL 43.5 -1.21875 \r\nQ 41.890625 -1.3125 41.03125 -1.359375 \r\nQ 40.1875 -1.421875 39.40625 -1.421875 \r\nQ 24.03125 -1.421875 14.8125 8.859375 \r\nQ 5.609375 19.140625 5.609375 36.375 \r\nQ 5.609375 53.65625 14.8125 63.9375 \r\nQ 24.03125 74.21875 39.40625 74.21875 \r\nQ 54.734375 74.21875 63.90625 63.9375 \r\nQ 73.09375 53.65625 73.09375 36.375 \r\nQ 73.09375 23.6875 67.984375 14.640625 \r\nQ 62.890625 5.609375 53.21875 1.3125 \r\nz\r\n\" id=\"DejaVuSans-81\"/>\r\n       <path d=\"M 53.515625 70.515625 \r\nL 53.515625 60.890625 \r\nQ 47.90625 63.578125 42.921875 64.890625 \r\nQ 37.9375 66.21875 33.296875 66.21875 \r\nQ 25.25 66.21875 20.875 63.09375 \r\nQ 16.5 59.96875 16.5 54.203125 \r\nQ 16.5 49.359375 19.40625 46.890625 \r\nQ 22.3125 44.4375 30.421875 42.921875 \r\nL 36.375 41.703125 \r\nQ 47.40625 39.59375 52.65625 34.296875 \r\nQ 57.90625 29 57.90625 20.125 \r\nQ 57.90625 9.515625 50.796875 4.046875 \r\nQ 43.703125 -1.421875 29.984375 -1.421875 \r\nQ 24.8125 -1.421875 18.96875 -0.25 \r\nQ 13.140625 0.921875 6.890625 3.21875 \r\nL 6.890625 13.375 \r\nQ 12.890625 10.015625 18.65625 8.296875 \r\nQ 24.421875 6.59375 29.984375 6.59375 \r\nQ 38.421875 6.59375 43.015625 9.90625 \r\nQ 47.609375 13.234375 47.609375 19.390625 \r\nQ 47.609375 24.75 44.3125 27.78125 \r\nQ 41.015625 30.8125 33.5 32.328125 \r\nL 27.484375 33.5 \r\nQ 16.453125 35.6875 11.515625 40.375 \r\nQ 6.59375 45.0625 6.59375 53.421875 \r\nQ 6.59375 63.09375 13.40625 68.65625 \r\nQ 20.21875 74.21875 32.171875 74.21875 \r\nQ 37.3125 74.21875 42.625 73.28125 \r\nQ 47.953125 72.359375 53.515625 70.515625 \r\nz\r\n\" id=\"DejaVuSans-83\"/>\r\n       <path id=\"DejaVuSans-32\"/>\r\n       <path d=\"M 9.8125 72.90625 \r\nL 19.671875 72.90625 \r\nL 19.671875 42.09375 \r\nL 52.390625 72.90625 \r\nL 65.09375 72.90625 \r\nL 28.90625 38.921875 \r\nL 67.671875 0 \r\nL 54.6875 0 \r\nL 19.671875 35.109375 \r\nL 19.671875 0 \r\nL 9.8125 0 \r\nz\r\n\" id=\"DejaVuSans-75\"/>\r\n       <path d=\"M 10.59375 45.40625 \r\nL 73.1875 45.40625 \r\nL 73.1875 37.203125 \r\nL 10.59375 37.203125 \r\nz\r\nM 10.59375 25.484375 \r\nL 73.1875 25.484375 \r\nL 73.1875 17.1875 \r\nL 10.59375 17.1875 \r\nz\r\n\" id=\"DejaVuSans-61\"/>\r\n      </defs>\r\n      <use xlink:href=\"#DejaVuSans-84\"/>\r\n      <use x=\"59.333984\" xlink:href=\"#DejaVuSans-84\"/>\r\n      <use x=\"120.417969\" xlink:href=\"#DejaVuSans-81\"/>\r\n      <use x=\"199.128906\" xlink:href=\"#DejaVuSans-83\"/>\r\n      <use x=\"262.605469\" xlink:href=\"#DejaVuSans-32\"/>\r\n      <use x=\"294.392578\" xlink:href=\"#DejaVuSans-75\"/>\r\n      <use x=\"359.96875\" xlink:href=\"#DejaVuSans-61\"/>\r\n      <use x=\"443.757812\" xlink:href=\"#DejaVuSans-51\"/>\r\n     </g>\r\n    </g>\r\n    <g id=\"line2d_25\">\r\n     <path d=\"M 166.464844 34.976562 \r\nL 186.464844 34.976562 \r\n\" style=\"fill:none;stroke:#ff7f0e;stroke-linecap:square;stroke-width:1.5;\"/>\r\n    </g>\r\n    <g id=\"line2d_26\"/>\r\n    <g id=\"text_17\">\r\n     <!-- TTQS K=4 -->\r\n     <g transform=\"translate(194.464844 38.476562)scale(0.1 -0.1)\">\r\n      <use xlink:href=\"#DejaVuSans-84\"/>\r\n      <use x=\"59.333984\" xlink:href=\"#DejaVuSans-84\"/>\r\n      <use x=\"120.417969\" xlink:href=\"#DejaVuSans-81\"/>\r\n      <use x=\"199.128906\" xlink:href=\"#DejaVuSans-83\"/>\r\n      <use x=\"262.605469\" xlink:href=\"#DejaVuSans-32\"/>\r\n      <use x=\"294.392578\" xlink:href=\"#DejaVuSans-75\"/>\r\n      <use x=\"359.96875\" xlink:href=\"#DejaVuSans-61\"/>\r\n      <use x=\"443.757812\" xlink:href=\"#DejaVuSans-52\"/>\r\n     </g>\r\n    </g>\r\n    <g id=\"line2d_27\">\r\n     <path d=\"M 166.464844 49.654687 \r\nL 186.464844 49.654687 \r\n\" style=\"fill:none;stroke:#2ca02c;stroke-linecap:square;stroke-width:1.5;\"/>\r\n    </g>\r\n    <g id=\"line2d_28\"/>\r\n    <g id=\"text_18\">\r\n     <!-- QAS K=3 -->\r\n     <g transform=\"translate(194.464844 53.154687)scale(0.1 -0.1)\">\r\n      <defs>\r\n       <path d=\"M 34.1875 63.1875 \r\nL 20.796875 26.90625 \r\nL 47.609375 26.90625 \r\nz\r\nM 28.609375 72.90625 \r\nL 39.796875 72.90625 \r\nL 67.578125 0 \r\nL 57.328125 0 \r\nL 50.6875 18.703125 \r\nL 17.828125 18.703125 \r\nL 11.1875 0 \r\nL 0.78125 0 \r\nz\r\n\" id=\"DejaVuSans-65\"/>\r\n      </defs>\r\n      <use xlink:href=\"#DejaVuSans-81\"/>\r\n      <use x=\"78.710938\" xlink:href=\"#DejaVuSans-65\"/>\r\n      <use x=\"147.119141\" xlink:href=\"#DejaVuSans-83\"/>\r\n      <use x=\"210.595703\" xlink:href=\"#DejaVuSans-32\"/>\r\n      <use x=\"242.382812\" xlink:href=\"#DejaVuSans-75\"/>\r\n      <use x=\"307.958984\" xlink:href=\"#DejaVuSans-61\"/>\r\n      <use x=\"391.748047\" xlink:href=\"#DejaVuSans-51\"/>\r\n     </g>\r\n    </g>\r\n    <g id=\"line2d_29\">\r\n     <path d=\"M 166.464844 64.332812 \r\nL 186.464844 64.332812 \r\n\" style=\"fill:none;stroke:#d62728;stroke-linecap:square;stroke-width:1.5;\"/>\r\n    </g>\r\n    <g id=\"line2d_30\"/>\r\n    <g id=\"text_19\">\r\n     <!-- QAS K=4 -->\r\n     <g transform=\"translate(194.464844 67.832812)scale(0.1 -0.1)\">\r\n      <use xlink:href=\"#DejaVuSans-81\"/>\r\n      <use x=\"78.710938\" xlink:href=\"#DejaVuSans-65\"/>\r\n      <use x=\"147.119141\" xlink:href=\"#DejaVuSans-83\"/>\r\n      <use x=\"210.595703\" xlink:href=\"#DejaVuSans-32\"/>\r\n      <use x=\"242.382812\" xlink:href=\"#DejaVuSans-75\"/>\r\n      <use x=\"307.958984\" xlink:href=\"#DejaVuSans-61\"/>\r\n      <use x=\"391.748047\" xlink:href=\"#DejaVuSans-52\"/>\r\n     </g>\r\n    </g>\r\n    <g id=\"line2d_31\">\r\n     <path d=\"M 166.464844 79.010937 \r\nL 186.464844 79.010937 \r\n\" style=\"fill:none;stroke:#9467bd;stroke-linecap:square;stroke-width:1.5;\"/>\r\n    </g>\r\n    <g id=\"line2d_32\"/>\r\n    <g id=\"text_20\">\r\n     <!-- CQFF K=3 -->\r\n     <g transform=\"translate(194.464844 82.510937)scale(0.1 -0.1)\">\r\n      <defs>\r\n       <path d=\"M 64.40625 67.28125 \r\nL 64.40625 56.890625 \r\nQ 59.421875 61.53125 53.78125 63.8125 \r\nQ 48.140625 66.109375 41.796875 66.109375 \r\nQ 29.296875 66.109375 22.65625 58.46875 \r\nQ 16.015625 50.828125 16.015625 36.375 \r\nQ 16.015625 21.96875 22.65625 14.328125 \r\nQ 29.296875 6.6875 41.796875 6.6875 \r\nQ 48.140625 6.6875 53.78125 8.984375 \r\nQ 59.421875 11.28125 64.40625 15.921875 \r\nL 64.40625 5.609375 \r\nQ 59.234375 2.09375 53.4375 0.328125 \r\nQ 47.65625 -1.421875 41.21875 -1.421875 \r\nQ 24.65625 -1.421875 15.125 8.703125 \r\nQ 5.609375 18.84375 5.609375 36.375 \r\nQ 5.609375 53.953125 15.125 64.078125 \r\nQ 24.65625 74.21875 41.21875 74.21875 \r\nQ 47.75 74.21875 53.53125 72.484375 \r\nQ 59.328125 70.75 64.40625 67.28125 \r\nz\r\n\" id=\"DejaVuSans-67\"/>\r\n       <path d=\"M 9.8125 72.90625 \r\nL 51.703125 72.90625 \r\nL 51.703125 64.59375 \r\nL 19.671875 64.59375 \r\nL 19.671875 43.109375 \r\nL 48.578125 43.109375 \r\nL 48.578125 34.8125 \r\nL 19.671875 34.8125 \r\nL 19.671875 0 \r\nL 9.8125 0 \r\nz\r\n\" id=\"DejaVuSans-70\"/>\r\n      </defs>\r\n      <use xlink:href=\"#DejaVuSans-67\"/>\r\n      <use x=\"69.824219\" xlink:href=\"#DejaVuSans-81\"/>\r\n      <use x=\"148.535156\" xlink:href=\"#DejaVuSans-70\"/>\r\n      <use x=\"206.054688\" xlink:href=\"#DejaVuSans-70\"/>\r\n      <use x=\"263.574219\" xlink:href=\"#DejaVuSans-32\"/>\r\n      <use x=\"295.361328\" xlink:href=\"#DejaVuSans-75\"/>\r\n      <use x=\"360.9375\" xlink:href=\"#DejaVuSans-61\"/>\r\n      <use x=\"444.726562\" xlink:href=\"#DejaVuSans-51\"/>\r\n     </g>\r\n    </g>\r\n    <g id=\"line2d_33\">\r\n     <path d=\"M 166.464844 93.689062 \r\nL 186.464844 93.689062 \r\n\" style=\"fill:none;stroke:#8c564b;stroke-linecap:square;stroke-width:1.5;\"/>\r\n    </g>\r\n    <g id=\"line2d_34\"/>\r\n    <g id=\"text_21\">\r\n     <!-- CQFF K=4 -->\r\n     <g transform=\"translate(194.464844 97.189062)scale(0.1 -0.1)\">\r\n      <use xlink:href=\"#DejaVuSans-67\"/>\r\n      <use x=\"69.824219\" xlink:href=\"#DejaVuSans-81\"/>\r\n      <use x=\"148.535156\" xlink:href=\"#DejaVuSans-70\"/>\r\n      <use x=\"206.054688\" xlink:href=\"#DejaVuSans-70\"/>\r\n      <use x=\"263.574219\" xlink:href=\"#DejaVuSans-32\"/>\r\n      <use x=\"295.361328\" xlink:href=\"#DejaVuSans-75\"/>\r\n      <use x=\"360.9375\" xlink:href=\"#DejaVuSans-61\"/>\r\n      <use x=\"444.726562\" xlink:href=\"#DejaVuSans-52\"/>\r\n     </g>\r\n    </g>\r\n    <g id=\"line2d_35\">\r\n     <path d=\"M 166.464844 108.367187 \r\nL 186.464844 108.367187 \r\n\" style=\"fill:none;stroke:#e377c2;stroke-linecap:square;stroke-width:1.5;\"/>\r\n    </g>\r\n    <g id=\"line2d_36\"/>\r\n    <g id=\"text_22\">\r\n     <!-- Classical -->\r\n     <g transform=\"translate(194.464844 111.867187)scale(0.1 -0.1)\">\r\n      <defs>\r\n       <path d=\"M 9.421875 75.984375 \r\nL 18.40625 75.984375 \r\nL 18.40625 0 \r\nL 9.421875 0 \r\nz\r\n\" id=\"DejaVuSans-108\"/>\r\n       <path d=\"M 34.28125 27.484375 \r\nQ 23.390625 27.484375 19.1875 25 \r\nQ 14.984375 22.515625 14.984375 16.5 \r\nQ 14.984375 11.71875 18.140625 8.90625 \r\nQ 21.296875 6.109375 26.703125 6.109375 \r\nQ 34.1875 6.109375 38.703125 11.40625 \r\nQ 43.21875 16.703125 43.21875 25.484375 \r\nL 43.21875 27.484375 \r\nz\r\nM 52.203125 31.203125 \r\nL 52.203125 0 \r\nL 43.21875 0 \r\nL 43.21875 8.296875 \r\nQ 40.140625 3.328125 35.546875 0.953125 \r\nQ 30.953125 -1.421875 24.3125 -1.421875 \r\nQ 15.921875 -1.421875 10.953125 3.296875 \r\nQ 6 8.015625 6 15.921875 \r\nQ 6 25.140625 12.171875 29.828125 \r\nQ 18.359375 34.515625 30.609375 34.515625 \r\nL 43.21875 34.515625 \r\nL 43.21875 35.40625 \r\nQ 43.21875 41.609375 39.140625 45 \r\nQ 35.0625 48.390625 27.6875 48.390625 \r\nQ 23 48.390625 18.546875 47.265625 \r\nQ 14.109375 46.140625 10.015625 43.890625 \r\nL 10.015625 52.203125 \r\nQ 14.9375 54.109375 19.578125 55.046875 \r\nQ 24.21875 56 28.609375 56 \r\nQ 40.484375 56 46.34375 49.84375 \r\nQ 52.203125 43.703125 52.203125 31.203125 \r\nz\r\n\" id=\"DejaVuSans-97\"/>\r\n       <path d=\"M 44.28125 53.078125 \r\nL 44.28125 44.578125 \r\nQ 40.484375 46.53125 36.375 47.5 \r\nQ 32.28125 48.484375 27.875 48.484375 \r\nQ 21.1875 48.484375 17.84375 46.4375 \r\nQ 14.5 44.390625 14.5 40.28125 \r\nQ 14.5 37.15625 16.890625 35.375 \r\nQ 19.28125 33.59375 26.515625 31.984375 \r\nL 29.59375 31.296875 \r\nQ 39.15625 29.25 43.1875 25.515625 \r\nQ 47.21875 21.78125 47.21875 15.09375 \r\nQ 47.21875 7.46875 41.1875 3.015625 \r\nQ 35.15625 -1.421875 24.609375 -1.421875 \r\nQ 20.21875 -1.421875 15.453125 -0.5625 \r\nQ 10.6875 0.296875 5.421875 2 \r\nL 5.421875 11.28125 \r\nQ 10.40625 8.6875 15.234375 7.390625 \r\nQ 20.0625 6.109375 24.8125 6.109375 \r\nQ 31.15625 6.109375 34.5625 8.28125 \r\nQ 37.984375 10.453125 37.984375 14.40625 \r\nQ 37.984375 18.0625 35.515625 20.015625 \r\nQ 33.0625 21.96875 24.703125 23.78125 \r\nL 21.578125 24.515625 \r\nQ 13.234375 26.265625 9.515625 29.90625 \r\nQ 5.8125 33.546875 5.8125 39.890625 \r\nQ 5.8125 47.609375 11.28125 51.796875 \r\nQ 16.75 56 26.8125 56 \r\nQ 31.78125 56 36.171875 55.265625 \r\nQ 40.578125 54.546875 44.28125 53.078125 \r\nz\r\n\" id=\"DejaVuSans-115\"/>\r\n       <path d=\"M 9.421875 54.6875 \r\nL 18.40625 54.6875 \r\nL 18.40625 0 \r\nL 9.421875 0 \r\nz\r\nM 9.421875 75.984375 \r\nL 18.40625 75.984375 \r\nL 18.40625 64.59375 \r\nL 9.421875 64.59375 \r\nz\r\n\" id=\"DejaVuSans-105\"/>\r\n       <path d=\"M 48.78125 52.59375 \r\nL 48.78125 44.1875 \r\nQ 44.96875 46.296875 41.140625 47.34375 \r\nQ 37.3125 48.390625 33.40625 48.390625 \r\nQ 24.65625 48.390625 19.8125 42.84375 \r\nQ 14.984375 37.3125 14.984375 27.296875 \r\nQ 14.984375 17.28125 19.8125 11.734375 \r\nQ 24.65625 6.203125 33.40625 6.203125 \r\nQ 37.3125 6.203125 41.140625 7.25 \r\nQ 44.96875 8.296875 48.78125 10.40625 \r\nL 48.78125 2.09375 \r\nQ 45.015625 0.34375 40.984375 -0.53125 \r\nQ 36.96875 -1.421875 32.421875 -1.421875 \r\nQ 20.0625 -1.421875 12.78125 6.34375 \r\nQ 5.515625 14.109375 5.515625 27.296875 \r\nQ 5.515625 40.671875 12.859375 48.328125 \r\nQ 20.21875 56 33.015625 56 \r\nQ 37.15625 56 41.109375 55.140625 \r\nQ 45.0625 54.296875 48.78125 52.59375 \r\nz\r\n\" id=\"DejaVuSans-99\"/>\r\n      </defs>\r\n      <use xlink:href=\"#DejaVuSans-67\"/>\r\n      <use x=\"69.824219\" xlink:href=\"#DejaVuSans-108\"/>\r\n      <use x=\"97.607422\" xlink:href=\"#DejaVuSans-97\"/>\r\n      <use x=\"158.886719\" xlink:href=\"#DejaVuSans-115\"/>\r\n      <use x=\"210.986328\" xlink:href=\"#DejaVuSans-115\"/>\r\n      <use x=\"263.085938\" xlink:href=\"#DejaVuSans-105\"/>\r\n      <use x=\"290.869141\" xlink:href=\"#DejaVuSans-99\"/>\r\n      <use x=\"345.849609\" xlink:href=\"#DejaVuSans-97\"/>\r\n      <use x=\"407.128906\" xlink:href=\"#DejaVuSans-108\"/>\r\n     </g>\r\n    </g>\r\n   </g>\r\n  </g>\r\n </g>\r\n <defs>\r\n  <clipPath id=\"p88a115648f\">\r\n   <rect height=\"217.44\" width=\"334.8\" x=\"38.482813\" y=\"7.2\"/>\r\n  </clipPath>\r\n </defs>\r\n</svg>\r\n",
      "image/png": "[encoded data removed]"
     },
     "metadata": {
      "needs_background": "light"
     }
    }
   ],
   "source": [
    "#What Ks we want to plot\n",
    "whatK = [3,4]\n",
    "\n",
    "#Here, we can either evaluate the O matrix classically, or with qiskit circuits\n",
    "\n",
    "#Plotting results for TTQS\n",
    "# plotp.QS_plotter_forobservable(num_qubits,finalresultsTTQS,times,whatK,'TTQS',observable,initial_state, evalmethod = \"matrix_multiplication\")\n",
    "plotp.QS_plotter_forobservable(num_qubits,finalresultsTTQS,times,whatK,'TTQS',observable,initial_state, evalmethod = \"qiskit_circuits\", expectation_calculator = expectation_calculator)\n",
    "\n",
    "#Plotting results for QAS\n",
    "# plotp.QS_plotter_forobservable(num_qubits,finalresultsQAS,times,whatK,'QAS',observable,initial_state, evalmethod = \"matrix_multiplication\")\n",
    "plotp.QS_plotter_forobservable(num_qubits,finalresultsQAS,times,whatK,'QAS',observable,initial_state, evalmethod = \"qiskit_circuits\", expectation_calculator = expectation_calculator)\n",
    "\n",
    "#Plotting results for CQFF\n",
    "# plotp.QS_plotter_forobservable(num_qubits,finalresultsCQFF,times,whatK,'CQFF',observable,initial_state, evalmethod = \"matrix_multiplication\")\n",
    "plotp.QS_plotter_forobservable(num_qubits,finalresultsCQFF,times,whatK,'CQFF',observable,initial_state, evalmethod = \"qiskit_circuits\", expectation_calculator = expectation_calculator)\n",
    "\n",
    "#Plotting classical result\n",
    "observablematrix = observable.to_matrixform()\n",
    "classicalresult = cS_instance.get_expectations_observables(observablematrix)\n",
    "plotp.CS_plotter_forobservable(times,classicalresult)\n",
    "\n",
    "#Show plot\n",
    "plotp.show_plot()"
   ]
  },
  {
   "source": [
    "### Saving calculated expectation values for future use\n",
    "\n",
    "After all of the computation on the QM com, we can store the computed expectation values on the QM com like this:\n",
    "\n",
    "Just uncomment the commented out lines in the cell below to try"
   ],
   "cell_type": "markdown",
   "metadata": {}
  },
  {
   "cell_type": "code",
   "execution_count": 11,
   "metadata": {},
   "outputs": [],
   "source": [
    "import os \n",
    "from datetime import datetime\n",
    "import pickle\n",
    "\n",
    "#%% General helpful functions\n",
    "if not os.path.exists('obj'):\n",
    "    os.mkdir('obj')\n",
    "\n",
    "def save_obj(obj, name):\n",
    "    #name is a string\n",
    "    with open('obj/'+ name + '.pkl', 'wb') as f:\n",
    "        pickle.dump(obj, f, pickle.HIGHEST_PROTOCOL)\n",
    "\n",
    "def load_obj(name):\n",
    "    #name is a string\n",
    "    with open('obj/' + name + '.pkl', 'rb') as f:\n",
    "        return pickle.load(f)\n",
    "\n",
    "#Uncomment the chunk of code below to try the saving\n",
    "# now = datetime.now() # datetime object containing current date and time\n",
    "# dt_string = now.strftime(\"%d-%m-%Y %H_%M_%S\")\n",
    "# save_obj(expectation_calculator, \"expectation_calculator_\" + dt_string) #feel free to use a different filename."
   ]
  },
  {
   "source": [
    "We can also load the expectation_calculator by using the load_obj function. An example is shown below:"
   ],
   "cell_type": "markdown",
   "metadata": {}
  },
  {
   "source": [
    "# expectation_calculator = load_obj(FILENAME_WITHOUT_pkl_EXTENSION)"
   ],
   "cell_type": "code",
   "metadata": {},
   "execution_count": 12,
   "outputs": []
  }
 ],
 "metadata": {
  "kernelspec": {
   "name": "python386jvsc74a57bd08557eb2d945500c3fe1ea6bd9d8b4e53c2488d2239ec048fbb749f12145f17d1",
   "display_name": "Python 3.8.6 64-bit"
  },
  "language_info": {
   "codemirror_mode": {
    "name": "ipython",
    "version": 3
   },
   "file_extension": ".py",
   "mimetype": "text/x-python",
   "name": "python",
   "nbconvert_exporter": "python",
   "pygments_lexer": "ipython3",
   "version": "3.8.6"
  }
 },
 "nbformat": 4,
 "nbformat_minor": 5
}