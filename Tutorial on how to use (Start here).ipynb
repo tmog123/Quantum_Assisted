{
 "cells": [
  {
   "cell_type": "markdown",
   "id": "conventional-testing",
   "metadata": {},
   "source": [
    "# Basic tutorial on how to use the quantum simulators\n",
    "\n",
    "### This tutorial shows the basic idea of how to use the quantum assisted package to carry out Quantum Assisted Simulator (QAS), Truncated Taylor Quantum Simulator (TTQS) and the Classical Quantum Fast-Forwarding (CQFF)\n",
    "\n",
    "Quantum Assisted Simulator: https://arxiv.org/abs/2011.06911, https://arxiv.org/abs/2011.14737, https://arxiv.org/abs/2101.07677\n",
    "\n",
    "Truncated Taylor Quantum Simulator: https://arxiv.org/abs/2103.05500\n",
    "\n",
    "Classical Quantum Fast-Forwarding: https://arxiv.org/abs/2104.01931\n",
    "\n",
    "First, we describe how to use the quantum simulators without Qiskit, then we describe how we can use Qiskit to do the quantum simulation directly on the IBMQ computer."
   ]
  },
  {
   "cell_type": "markdown",
   "id": "documented-joint",
   "metadata": {},
   "source": [
    "### Import Packages"
   ]
  },
  {
   "cell_type": "code",
   "execution_count": 1,
   "id": "boxed-poster",
   "metadata": {},
   "outputs": [
    {
     "output_type": "stream",
     "name": "stderr",
     "text": [
      "C:\\Users\\Kian Hwee\\AppData\\Local\\Programs\\Python\\Python38\\lib\\site-packages\\qiskit\\providers\\ibmq\\ibmqfactory.py:192: UserWarning: Timestamps in IBMQ backend properties, jobs, and job results are all now in local time instead of UTC.\n  warnings.warn('Timestamps in IBMQ backend properties, jobs, and job results '\n"
     ]
    }
   ],
   "source": [
    "import numpy as np \n",
    "import ansatz_class_package as acp \n",
    "import pauli_class_package as pcp \n",
    "import hamiltonian_class_package as hcp \n",
    "import matrix_class_package as mcp \n",
    "import post_processing as pp\n",
    "import plotting_package as plotp\n",
    "import warnings\n",
    "warnings.filterwarnings(\"ignore\", category=DeprecationWarning) "
   ]
  },
  {
   "cell_type": "markdown",
   "id": "atomic-waters",
   "metadata": {},
   "source": [
    "### Set parameters for the evaluation"
   ]
  },
  {
   "cell_type": "code",
   "execution_count": 2,
   "id": "parliamentary-assurance",
   "metadata": {},
   "outputs": [],
   "source": [
    "uptowhatK = 4\n",
    "num_qubits = 3\n",
    "endtime = 8\n",
    "num_steps = 1001"
   ]
  },
  {
   "cell_type": "markdown",
   "id": "speaking-florida",
   "metadata": {},
   "source": [
    "### Create the initial state (starting quantum state that will be used in QAS, TTQS and CQFF). Also define Hamiltonian here.\n",
    "\n",
    "This initial state is basically $|\\psi>$ in Definition 1 in https://arxiv.org/abs/2011.06911"
   ]
  },
  {
   "cell_type": "code",
   "execution_count": 3,
   "id": "spiritual-literature",
   "metadata": {},
   "outputs": [],
   "source": [
    "#create initial state\n",
    "initial_state = acp.Initialstate(num_qubits, \"efficient_SU2\", 123, 5)\n",
    "#define Hamiltonian\n",
    "hamiltonian = hcp.transverse_ising_model_1d(num_qubits)\n",
    "# hamiltonian = hcp.heisenberg_xyz_model(num_qubits)\n",
    "\n",
    "#We can define arbitrary Hamiltonians\n",
    "#EXAMPLE: If we have a 4 qubit system and I want to implement the hamiltonian H = 0.6*(XXII) + 0.4*(XZIY), the hamiltonian will be generated with this:   \n",
    "#hcp.generate_arbitrary_hamiltonian(4,[0.6,0.4],[\"1100\",\"1302\"])"
   ]
  },
  {
   "source": [
    "### Define the variables needed for computation on the quantum computer\n",
    "\n",
    "Note that when importing Qiskit_helperfunctions, one's IBMQ account is automatically loaded. If an error is raised, you need to load your IMBQ account first."
   ],
   "cell_type": "markdown",
   "metadata": {}
  },
  {
   "cell_type": "code",
   "execution_count": 4,
   "metadata": {},
   "outputs": [
    {
     "output_type": "stream",
     "name": "stdout",
     "text": [
      "Calibrating POVM Matrix\n",
      "Provider backend:  qasm_simulator\n"
     ]
    }
   ],
   "source": [
    "import Qiskit_helperfunctions as qhf #IBMQ account is loaded here in this import\n",
    "hub, group, project = \"ibm-q-nus\", \"default\", \"reservations\"\n",
    "quantum_com = \"ibmq_rome\" \n",
    "\n",
    "#Other parameters for running on the quantum computer. Choose 1 to uncomment.\n",
    "# sim = \"noiseless_qasm\"\n",
    "# num_shots = 30000 #max is 1000000\n",
    "\n",
    "sim = \"noisy_qasm\"\n",
    "num_shots = 8192 #max is 8192\n",
    "\n",
    "# sim = \"real\"\n",
    "# num_shots = 8192 #max is 8192\n",
    "\n",
    "quantum_computer_choice_results = qhf.choose_quantum_computer(hub, group, project, quantum_com)\n",
    "\n",
    "mitigate_meas_error = True \n",
    "meas_filter = qhf.measurement_error_mitigator(num_qubits, sim, quantum_computer_choice_results, shots = num_shots)\n",
    "\n",
    "# mitigate_meas_error = False\n",
    "# meas_filter = None\n",
    "\n",
    "#expectation calculator here is an object that has a method that takes in a paulistring object P, and returns a <psi|P|psi>.\n",
    "#This expectation calculator also stores previously calculated expectation values, so one doesn't need to compute the same expectation value twice.\n",
    "expectation_calculator = qhf.expectation_calculator(initial_state, sim, quantum_computer_choice_results, meas_error_mitigate = mitigate_meas_error, meas_filter = meas_filter)"
   ]
  },
  {
   "cell_type": "markdown",
   "id": "subtle-cholesterol",
   "metadata": {},
   "source": [
    "### How to run TTQS\n",
    "\n",
    "This following segment shows how the code is meant to work.\n",
    "\n",
    "1. Create initial Ansatz for K = 0\n",
    "2. We need to iterate up to whatever K we want to go up to\n",
    "3. At the start of each iteration, we use the Ansatz for the previous round to generate the new Ansatz. Typically done by the method described in QAS, by generating the new moments and adding them to the existing Ansatz (cumulative K-moment states)\n",
    "4. Use the Ansatz to generate the E and D matrices, and set the initial alphas (the actual starting state we wish to perform time evolution on)\n",
    "5. Specify parameters for the TTQS instance and evaluate\n",
    "6. Update the Ansatz with the new alphas (basically the results of the evaluation)"
   ]
  },
  {
   "cell_type": "code",
   "execution_count": 5,
   "id": "assumed-incident",
   "metadata": {
    "jupyter": {
     "source_hidden": true
    },
    "tags": []
   },
   "outputs": [
    {
     "output_type": "stream",
     "name": "stdout",
     "text": [
      "Currently at K = 1\n",
      "there are 6 states in CSk\n",
      "Setting initial alphas\n",
      "Evaluating matrix with Qiskit Circuits\n",
      "Finished shots\n",
      "Finished shots\n",
      "Finished shots\n",
      "Finished shots\n",
      "Finished shots\n",
      "Finished shots\n",
      "Finished shots\n",
      "Finished shots\n",
      "Finished shots\n",
      "Finished shots\n",
      "Finished shots\n",
      "Finished shots\n",
      "Finished shots\n",
      "Finished shots\n",
      "Finished shots\n",
      "Finished shots\n",
      "Evaluating matrix with Qiskit Circuits\n",
      "Finished shots\n",
      "Finished shots\n",
      "Finished shots\n",
      "Finished shots\n",
      "Finished shots\n",
      "Finished shots\n",
      "Finished shots\n",
      "Finished shots\n",
      "Finished shots\n",
      "Finished shots\n",
      "Ensuring E and D matrices are Hermitian by adding cc\n",
      "Currently at K = 2\n",
      "there are 16 states in CSk\n",
      "Setting initial alphas\n",
      "Evaluating matrix with Qiskit Circuits\n",
      "Finished shots\n",
      "Finished shots\n",
      "Finished shots\n",
      "Finished shots\n",
      "Finished shots\n",
      "Evaluating matrix with Qiskit Circuits\n",
      "Finished shots\n",
      "Ensuring E and D matrices are Hermitian by adding cc\n",
      "Currently at K = 3\n",
      "there are 26 states in CSk\n",
      "Setting initial alphas\n",
      "Evaluating matrix with Qiskit Circuits\n",
      "Evaluating matrix with Qiskit Circuits\n",
      "Ensuring E and D matrices are Hermitian by adding cc\n",
      "Currently at K = 4\n",
      "there are 31 states in CSk\n",
      "Setting initial alphas\n",
      "Evaluating matrix with Qiskit Circuits\n",
      "Evaluating matrix with Qiskit Circuits\n",
      "Ensuring E and D matrices are Hermitian by adding cc\n"
     ]
    }
   ],
   "source": [
    "#Run TTQS\n",
    "\n",
    "#Some extra parameters for TTQS\n",
    "optimizer = 'eigh'\n",
    "inv_cond = 10**(-6)\n",
    "\n",
    "#create Initial Ansatz for K = 0\n",
    "ansatz = acp.initial_ansatz(num_qubits)\n",
    "#finalresults\n",
    "finalresults = []\n",
    "finalresults.append(ansatz)\n",
    "\n",
    "for k in range(1,uptowhatK+1):\n",
    "    print('Currently at K = ' + str(k))\n",
    "    #Generate Ansatz for this round\n",
    "    ansatz = acp.gen_next_ansatz(ansatz, hamiltonian, num_qubits) #By default, there is no processing when generating next Ansatz\n",
    "    \n",
    "    #Set initial alphas for Ansatz\n",
    "    #Only 'start_with_initial_state' has been implemented thus far. \n",
    "    #This basically sets the state we want to evolve as the random, initial state we are using to generate the E and D matrices, for convenience\n",
    "    acp.set_initial_alphas(num_qubits,ansatz,'start_with_initial_state')\n",
    "    E_mat_uneval = mcp.unevaluatedmatrix(num_qubits, ansatz, hamiltonian, \"E\")\n",
    "    D_mat_uneval = mcp.unevaluatedmatrix(num_qubits, ansatz, hamiltonian, \"D\")\n",
    "    \n",
    "    #Here, we can specify how to evaluate the matrices. We can either evaluate the matrices by matrix multiplication,\n",
    "    # or by using the quantum computer specified above\n",
    "\n",
    "    # E_mat_evaluated =  E_mat_uneval.evaluate_matrix_by_matrix_multiplicaton(initial_state)\n",
    "    # D_mat_evaluated = D_mat_uneval.evaluate_matrix_by_matrix_multiplicaton(initial_state)\n",
    "\n",
    "    E_mat_evaluated =  E_mat_uneval.evaluate_matrix_with_qiskit_circuits(expectation_calculator)\n",
    "    D_mat_evaluated = D_mat_uneval.evaluate_matrix_with_qiskit_circuits(expectation_calculator)\n",
    "    \n",
    "    #Get starting alphas\n",
    "    startingstrings,startingalphas = ansatz.get_alphas()\n",
    "    \n",
    "    #Initialize TTQS instance and specify parameters\n",
    "    TTQS_instance = pp.TTQS(num_qubits,D_mat_evaluated,E_mat_evaluated,startingalphas)\n",
    "    TTQS_instance.numberstep(num_steps)\n",
    "    TTQS_instance.define_endtime(endtime)\n",
    "    TTQS_instance.define_optimizer(optimizer)\n",
    "    TTQS_instance.define_invcond(inv_cond)\n",
    "    \n",
    "    #Run TTQS instance\n",
    "    TTQS_instance.evaluate()\n",
    "\n",
    "    #Get results\n",
    "    result = TTQS_instance.get_results()\n",
    "\n",
    "    #Update ansatz with the new alphas\n",
    "    ansatz.update_alphas(result)\n",
    "\n",
    "    #Update final results with this\n",
    "    finalresults.append(ansatz)\n",
    "finalresultsTTQS = finalresults"
   ]
  },
  {
   "cell_type": "markdown",
   "id": "peripheral-pearl",
   "metadata": {},
   "source": [
    "Now, finalresultsTTQS is a list of Ansatzes, each Ansatz basically stores the results for that run.\n",
    "\n",
    "Example, Final results might look like this [Ansatz_0,Ansatz_1,Ansatz_2,Ansatz_3].\n",
    "\n",
    "Where Ansatz_1 is an Ansatz class, which was used for the K=1 run, and contains the final results for that run"
   ]
  },
  {
   "cell_type": "markdown",
   "id": "happy-carolina",
   "metadata": {},
   "source": [
    "### How to run QAS\n",
    "\n",
    "This following segment shows how the code is meant to work. Very similar to TTQS\n",
    "\n",
    "1. Create initial Ansatz for K = 0\n",
    "2. We need to iterate up to whatever K we want to go up to\n",
    "3. At the start of each iteration, we use the Ansatz for the previous round to generate the new Ansatz. Typically done by the method described in QAS, by generating the new moments and adding them to the existing Ansatz (cumulative K-moment states)\n",
    "4. Use the Ansatz to generate the E and D matrices, and set the initial alphas (the actual starting state we wish to perform time evolution on)\n",
    "5. Specify parameters for the QAS instance and evaluate\n",
    "6. Update the Ansatz with the new alphas (basically the results of the evaluation)"
   ]
  },
  {
   "cell_type": "code",
   "execution_count": 6,
   "id": "increased-rotation",
   "metadata": {},
   "outputs": [
    {
     "output_type": "stream",
     "name": "stdout",
     "text": [
      "1\n",
      "there are 6 states in CSk\n",
      "Setting initial alphas\n",
      "Evaluating matrix with Qiskit Circuits\n",
      "Evaluating matrix with Qiskit Circuits\n",
      "Ensuring E and D matrices are Hermitian by adding cc\n",
      "2\n",
      "there are 16 states in CSk\n",
      "Setting initial alphas\n",
      "Evaluating matrix with Qiskit Circuits\n",
      "Evaluating matrix with Qiskit Circuits\n",
      "Ensuring E and D matrices are Hermitian by adding cc\n",
      "3\n",
      "there are 26 states in CSk\n",
      "Setting initial alphas\n",
      "Evaluating matrix with Qiskit Circuits\n",
      "Evaluating matrix with Qiskit Circuits\n",
      "Ensuring E and D matrices are Hermitian by adding cc\n",
      "4\n",
      "there are 31 states in CSk\n",
      "Setting initial alphas\n",
      "Evaluating matrix with Qiskit Circuits\n",
      "Evaluating matrix with Qiskit Circuits\n",
      "Ensuring E and D matrices are Hermitian by adding cc\n"
     ]
    }
   ],
   "source": [
    "#Run QAS\n",
    "\n",
    "#Some extra parameters for QAS\n",
    "p_invcond = 10**(-6)\n",
    "optimizer = 'zvode'\n",
    "\n",
    "#create Initial Ansatz for K = 0\n",
    "ansatz = acp.initial_ansatz(num_qubits)\n",
    "#finalresults\n",
    "finalresults = []\n",
    "finalresults.append(ansatz)\n",
    "\n",
    "for k in range(1,uptowhatK+1):\n",
    "    print(k)\n",
    "\n",
    "    #Generate Ansatz for this round\n",
    "    ansatz = acp.gen_next_ansatz(ansatz, hamiltonian, num_qubits)\n",
    "\n",
    "    #Set initial alphas for Ansatz\n",
    "    acp.set_initial_alphas(num_qubits,ansatz,'start_with_initial_state')\n",
    "\n",
    "    E_mat_uneval = mcp.unevaluatedmatrix(num_qubits, ansatz, hamiltonian, \"E\")\n",
    "    D_mat_uneval = mcp.unevaluatedmatrix(num_qubits, ansatz, hamiltonian, \"D\")\n",
    "\n",
    "    #Here, we can specify how to evaluate the matrices. We can either evaluate the matrices by matrix multiplication,\n",
    "    # or by using the quantum computer specified above\n",
    "    \n",
    "    # E_mat_evaluated =  E_mat_uneval.evaluate_matrix_by_matrix_multiplicaton(initial_state)\n",
    "    # D_mat_evaluated = D_mat_uneval.evaluate_matrix_by_matrix_multiplicaton(initial_state)\n",
    "\n",
    "    E_mat_evaluated =  E_mat_uneval.evaluate_matrix_with_qiskit_circuits(expectation_calculator)\n",
    "    D_mat_evaluated = D_mat_uneval.evaluate_matrix_with_qiskit_circuits(expectation_calculator)\n",
    "\n",
    "    #Get starting alphas\n",
    "    startingstrings,startingalphas = ansatz.get_alphas()\n",
    "\n",
    "    #initialize QAS instance\n",
    "    QAS_instance = pp.QAS(num_qubits, D_mat_evaluated, E_mat_evaluated, startingalphas)\n",
    "    QAS_instance.numberstep(num_steps)\n",
    "    QAS_instance.define_endtime(endtime)\n",
    "    QAS_instance.define_optimizer(optimizer)\n",
    "    QAS_instance.define_p_invcond(p_invcond)\n",
    "\n",
    "    #Run QAS instance\n",
    "    QAS_instance.evaluate()\n",
    "\n",
    "    #Get results\n",
    "    result = QAS_instance.get_results()\n",
    "\n",
    "    #Update ansatz with the new alphas\n",
    "    ansatz.update_alphas(result)\n",
    "\n",
    "    #Update final results with this\n",
    "    finalresults.append(ansatz)\n",
    "finalresultsQAS = finalresults"
   ]
  },
  {
   "source": [
    "### How to run CQFF\n",
    "\n",
    "This following segment shows how the code is meant to work. Very similar to TTQS\n",
    "\n",
    "1. Create initial Ansatz for K = 0\n",
    "2. We need to iterate up to whatever K we want to go up to\n",
    "3. At the start of each iteration, we use the Ansatz for the previous round to generate the new Ansatz. Typically done by the method described in QAS, by generating the new moments and adding them to the existing Ansatz (cumulative K-moment states)\n",
    "4. Use the Ansatz to generate the E and D matrices, and set the initial alphas (the actual starting state we wish to perform time evolution on)\n",
    "5. Specify parameters for the QAS instance and evaluate\n",
    "6. Update the Ansatz with the new alphas (basically the results of the evaluation)"
   ],
   "cell_type": "markdown",
   "metadata": {}
  },
  {
   "cell_type": "code",
   "execution_count": 7,
   "metadata": {},
   "outputs": [
    {
     "output_type": "stream",
     "name": "stdout",
     "text": [
      "1\n",
      "there are 6 states in CSk\n",
      "Setting initial alphas\n",
      "Evaluating matrix with Qiskit Circuits\n",
      "Evaluating matrix with Qiskit Circuits\n",
      "Ensuring E and D matrices are Hermitian by adding cc\n",
      "2\n",
      "there are 16 states in CSk\n",
      "Setting initial alphas\n",
      "Evaluating matrix with Qiskit Circuits\n",
      "Evaluating matrix with Qiskit Circuits\n",
      "Ensuring E and D matrices are Hermitian by adding cc\n",
      "3\n",
      "there are 26 states in CSk\n",
      "Setting initial alphas\n",
      "Evaluating matrix with Qiskit Circuits\n",
      "Evaluating matrix with Qiskit Circuits\n",
      "Ensuring E and D matrices are Hermitian by adding cc\n",
      "4\n",
      "there are 31 states in CSk\n",
      "Setting initial alphas\n",
      "Evaluating matrix with Qiskit Circuits\n",
      "Evaluating matrix with Qiskit Circuits\n",
      "Ensuring E and D matrices are Hermitian by adding cc\n"
     ]
    }
   ],
   "source": [
    "#Some extra parameters for CQFF\n",
    "optimizer = 'eigh'\n",
    "eigh_inv_cond = 10**(-12)\n",
    "\n",
    "#create Initial Ansatz for K = 0\n",
    "ansatz = acp.initial_ansatz(num_qubits)\n",
    "#finalresults\n",
    "finalresults = []\n",
    "finalresults.append(ansatz)\n",
    "\n",
    "#Run CQFF\n",
    "for k in range(1,uptowhatK+1):\n",
    "    print(k)\n",
    "\n",
    "    #Generate Ansatz for this round\n",
    "    ansatz = acp.gen_next_ansatz(ansatz, hamiltonian, num_qubits)\n",
    "\n",
    "    #Set initial alphas for Ansatz\n",
    "    acp.set_initial_alphas(num_qubits,ansatz,'start_with_initial_state')\n",
    "\n",
    "    E_mat_uneval = mcp.unevaluatedmatrix(num_qubits, ansatz, hamiltonian, \"E\")\n",
    "    D_mat_uneval = mcp.unevaluatedmatrix(num_qubits, ansatz, hamiltonian, \"D\")\n",
    "\n",
    "    #Here, we can specify how to evaluate the matrices. We can either evaluate the matrices by matrix multiplication,\n",
    "    # or by using the quantum computer specified above\n",
    "    \n",
    "    # E_mat_evaluated =  E_mat_uneval.evaluate_matrix_by_matrix_multiplicaton(initial_state)\n",
    "    # D_mat_evaluated = D_mat_uneval.evaluate_matrix_by_matrix_multiplicaton(initial_state)\n",
    "\n",
    "    E_mat_evaluated =  E_mat_uneval.evaluate_matrix_with_qiskit_circuits(expectation_calculator)\n",
    "    D_mat_evaluated = D_mat_uneval.evaluate_matrix_with_qiskit_circuits(expectation_calculator)\n",
    "\n",
    "    #Get starting alphas\n",
    "    startingstrings,startingalphas = ansatz.get_alphas()\n",
    "\n",
    "    #initialize CQFF instance\n",
    "    CQFF_instance = pp.CQFF(num_qubits, D_mat_evaluated, E_mat_evaluated, startingalphas)\n",
    "    CQFF_instance.numberstep(num_steps)\n",
    "    CQFF_instance.define_endtime(endtime)\n",
    "    CQFF_instance.define_optimizer(optimizer)\n",
    "    CQFF_instance.define_eigh_invcond(eigh_inv_cond)\n",
    "\n",
    "    #Run CQFF instance\n",
    "    CQFF_instance.evaluate()\n",
    "\n",
    "    #Get results\n",
    "    result = CQFF_instance.get_results()\n",
    "\n",
    "    #Update ansatz with the new alphas\n",
    "    ansatz.update_alphas(result)\n",
    "\n",
    "    #Update final results with this\n",
    "    finalresults.append(ansatz)\n",
    "finalresultsCQFF = finalresults"
   ]
  },
  {
   "cell_type": "markdown",
   "id": "average-snake",
   "metadata": {},
   "source": [
    "### Classical results (to compare)\n",
    "\n",
    "Need to run classical calculations using matrix multiplication"
   ]
  },
  {
   "cell_type": "code",
   "execution_count": 8,
   "id": "continuing-tower",
   "metadata": {},
   "outputs": [],
   "source": [
    "#Run Classical Calculations\n",
    "\n",
    "#Initialize classicalSimulator\n",
    "cS_instance = pp.classicalSimulator(num_qubits,initial_state,hamiltonian)\n",
    "cS_instance.define_endtime(endtime)\n",
    "cS_instance.numberstep(num_steps)\n",
    "\n",
    "#Run classicalSimulator\n",
    "cS_instance.evaluate()\n",
    "\n"
   ]
  },
  {
   "source": [
    "### Set Observable to plot"
   ],
   "cell_type": "markdown",
   "metadata": {}
  },
  {
   "cell_type": "code",
   "execution_count": 9,
   "metadata": {},
   "outputs": [],
   "source": [
    "#Observable we want to plot\n",
    "times = QAS_instance.get_times()\n",
    "observable = hcp.generate_arbitary_observable(num_qubits, [1], [\"3\" + (num_qubits - 1) * \"0\"]) "
   ]
  },
  {
   "cell_type": "markdown",
   "id": "lightweight-roulette",
   "metadata": {},
   "source": [
    "### Show Results"
   ]
  },
  {
   "cell_type": "code",
   "execution_count": 10,
   "id": "billion-madness",
   "metadata": {},
   "outputs": [
    {
     "output_type": "stream",
     "name": "stdout",
     "text": [
      "Preparing observable for plotting for K = 3\n",
      "Evaluating Observable Matrix with Qiskit circuits\n",
      "Evaluating matrix with Qiskit Circuits\n",
      "Finished shots\n",
      "Finished shots\n",
      "Finished shots\n",
      "Finished shots\n",
      "Finished shots\n",
      "Finished shots\n",
      "Finished shots\n",
      "Finished shots\n",
      "Finished shots\n",
      "Finished shots\n",
      "Finished shots\n",
      "Finished shots\n",
      "Finished shots\n",
      "Finished shots\n",
      "Finished shots\n",
      "Finished shots\n",
      "Finished shots\n",
      "Finished shots\n",
      "Finished shots\n",
      "Finished shots\n",
      "Finished shots\n",
      "Finished shots\n",
      "Finished shots\n",
      "Finished shots\n",
      "Finished shots\n",
      "Finished shots\n",
      "Finished shots\n",
      "Finished shots\n",
      "Finished shots\n",
      "Finished shots\n",
      "Finished shots\n",
      "Finished shots\n",
      "Preparing observable for plotting for K = 4\n",
      "Evaluating Observable Matrix with Qiskit circuits\n",
      "Evaluating matrix with Qiskit Circuits\n",
      "Preparing observable for plotting for K = 3\n",
      "Evaluating Observable Matrix with Qiskit circuits\n",
      "Evaluating matrix with Qiskit Circuits\n",
      "Preparing observable for plotting for K = 4\n",
      "Evaluating Observable Matrix with Qiskit circuits\n",
      "Evaluating matrix with Qiskit Circuits\n",
      "Preparing observable for plotting for K = 3\n",
      "Evaluating Observable Matrix with Qiskit circuits\n",
      "Evaluating matrix with Qiskit Circuits\n",
      "Preparing observable for plotting for K = 4\n",
      "Evaluating Observable Matrix with Qiskit circuits\n",
      "Evaluating matrix with Qiskit Circuits\n",
      "C:\\Users\\Kian Hwee\\AppData\\Local\\Programs\\Python\\Python38\\lib\\site-packages\\numpy\\core\\_asarray.py:83: ComplexWarning: Casting complex values to real discards the imaginary part\n",
      "  return array(a, dtype, copy=False, order=order)\n"
     ]
    },
    {
     "output_type": "display_data",
     "data": {
      "text/plain": "<Figure size 432x288 with 1 Axes>",
      "image/svg+xml": "<?xml version=\"1.0\" encoding=\"utf-8\" standalone=\"no\"?>\r\n<!DOCTYPE svg PUBLIC \"-//W3C//DTD SVG 1.1//EN\"\r\n  \"http://www.w3.org/Graphics/SVG/1.1/DTD/svg11.dtd\">\r\n<!-- Created with matplotlib (https://matplotlib.org/) -->\r\n<svg height=\"248.518125pt\" version=\"1.1\" viewBox=\"0 0 380.482813 248.518125\" width=\"380.482813pt\" xmlns=\"http://www.w3.org/2000/svg\" xmlns:xlink=\"http://www.w3.org/1999/xlink\">\r\n <metadata>\r\n  <rdf:RDF xmlns:cc=\"http://creativecommons.org/ns#\" xmlns:dc=\"http://purl.org/dc/elements/1.1/\" xmlns:rdf=\"http://www.w3.org/1999/02/22-rdf-syntax-ns#\">\r\n   <cc:Work>\r\n    <dc:type rdf:resource=\"http://purl.org/dc/dcmitype/StillImage\"/>\r\n    <dc:date>2021-04-27T20:15:11.050917</dc:date>\r\n    <dc:format>image/svg+xml</dc:format>\r\n    <dc:creator>\r\n     <cc:Agent>\r\n      <dc:title>Matplotlib v3.3.4, https://matplotlib.org/</dc:title>\r\n     </cc:Agent>\r\n    </dc:creator>\r\n   </cc:Work>\r\n  </rdf:RDF>\r\n </metadata>\r\n <defs>\r\n  <style type=\"text/css\">*{stroke-linecap:butt;stroke-linejoin:round;}</style>\r\n </defs>\r\n <g id=\"figure_1\">\r\n  <g id=\"patch_1\">\r\n   <path d=\"M -0 248.518125 \r\nL 380.482813 248.518125 \r\nL 380.482813 0 \r\nL -0 0 \r\nz\r\n\" style=\"fill:none;\"/>\r\n  </g>\r\n  <g id=\"axes_1\">\r\n   <g id=\"patch_2\">\r\n    <path d=\"M 38.482813 224.64 \r\nL 373.282813 224.64 \r\nL 373.282813 7.2 \r\nL 38.482813 7.2 \r\nz\r\n\" style=\"fill:#ffffff;\"/>\r\n   </g>\r\n   <g id=\"matplotlib.axis_1\">\r\n    <g id=\"xtick_1\">\r\n     <g id=\"line2d_1\">\r\n      <defs>\r\n       <path d=\"M 0 0 \r\nL 0 3.5 \r\n\" id=\"mc723eace70\" style=\"stroke:#000000;stroke-width:0.8;\"/>\r\n      </defs>\r\n      <g>\r\n       <use style=\"stroke:#000000;stroke-width:0.8;\" x=\"53.700994\" xlink:href=\"#mc723eace70\" y=\"224.64\"/>\r\n      </g>\r\n     </g>\r\n     <g id=\"text_1\">\r\n      <!-- 0 -->\r\n      <g transform=\"translate(50.519744 239.238437)scale(0.1 -0.1)\">\r\n       <defs>\r\n        <path d=\"M 31.78125 66.40625 \r\nQ 24.171875 66.40625 20.328125 58.90625 \r\nQ 16.5 51.421875 16.5 36.375 \r\nQ 16.5 21.390625 20.328125 13.890625 \r\nQ 24.171875 6.390625 31.78125 6.390625 \r\nQ 39.453125 6.390625 43.28125 13.890625 \r\nQ 47.125 21.390625 47.125 36.375 \r\nQ 47.125 51.421875 43.28125 58.90625 \r\nQ 39.453125 66.40625 31.78125 66.40625 \r\nz\r\nM 31.78125 74.21875 \r\nQ 44.046875 74.21875 50.515625 64.515625 \r\nQ 56.984375 54.828125 56.984375 36.375 \r\nQ 56.984375 17.96875 50.515625 8.265625 \r\nQ 44.046875 -1.421875 31.78125 -1.421875 \r\nQ 19.53125 -1.421875 13.0625 8.265625 \r\nQ 6.59375 17.96875 6.59375 36.375 \r\nQ 6.59375 54.828125 13.0625 64.515625 \r\nQ 19.53125 74.21875 31.78125 74.21875 \r\nz\r\n\" id=\"DejaVuSans-48\"/>\r\n       </defs>\r\n       <use xlink:href=\"#DejaVuSans-48\"/>\r\n      </g>\r\n     </g>\r\n    </g>\r\n    <g id=\"xtick_2\">\r\n     <g id=\"line2d_2\">\r\n      <g>\r\n       <use style=\"stroke:#000000;stroke-width:0.8;\" x=\"91.746449\" xlink:href=\"#mc723eace70\" y=\"224.64\"/>\r\n      </g>\r\n     </g>\r\n     <g id=\"text_2\">\r\n      <!-- 1 -->\r\n      <g transform=\"translate(88.565199 239.238437)scale(0.1 -0.1)\">\r\n       <defs>\r\n        <path d=\"M 12.40625 8.296875 \r\nL 28.515625 8.296875 \r\nL 28.515625 63.921875 \r\nL 10.984375 60.40625 \r\nL 10.984375 69.390625 \r\nL 28.421875 72.90625 \r\nL 38.28125 72.90625 \r\nL 38.28125 8.296875 \r\nL 54.390625 8.296875 \r\nL 54.390625 0 \r\nL 12.40625 0 \r\nz\r\n\" id=\"DejaVuSans-49\"/>\r\n       </defs>\r\n       <use xlink:href=\"#DejaVuSans-49\"/>\r\n      </g>\r\n     </g>\r\n    </g>\r\n    <g id=\"xtick_3\">\r\n     <g id=\"line2d_3\">\r\n      <g>\r\n       <use style=\"stroke:#000000;stroke-width:0.8;\" x=\"129.791903\" xlink:href=\"#mc723eace70\" y=\"224.64\"/>\r\n      </g>\r\n     </g>\r\n     <g id=\"text_3\">\r\n      <!-- 2 -->\r\n      <g transform=\"translate(126.610653 239.238437)scale(0.1 -0.1)\">\r\n       <defs>\r\n        <path d=\"M 19.1875 8.296875 \r\nL 53.609375 8.296875 \r\nL 53.609375 0 \r\nL 7.328125 0 \r\nL 7.328125 8.296875 \r\nQ 12.9375 14.109375 22.625 23.890625 \r\nQ 32.328125 33.6875 34.8125 36.53125 \r\nQ 39.546875 41.84375 41.421875 45.53125 \r\nQ 43.3125 49.21875 43.3125 52.78125 \r\nQ 43.3125 58.59375 39.234375 62.25 \r\nQ 35.15625 65.921875 28.609375 65.921875 \r\nQ 23.96875 65.921875 18.8125 64.3125 \r\nQ 13.671875 62.703125 7.8125 59.421875 \r\nL 7.8125 69.390625 \r\nQ 13.765625 71.78125 18.9375 73 \r\nQ 24.125 74.21875 28.421875 74.21875 \r\nQ 39.75 74.21875 46.484375 68.546875 \r\nQ 53.21875 62.890625 53.21875 53.421875 \r\nQ 53.21875 48.921875 51.53125 44.890625 \r\nQ 49.859375 40.875 45.40625 35.40625 \r\nQ 44.1875 33.984375 37.640625 27.21875 \r\nQ 31.109375 20.453125 19.1875 8.296875 \r\nz\r\n\" id=\"DejaVuSans-50\"/>\r\n       </defs>\r\n       <use xlink:href=\"#DejaVuSans-50\"/>\r\n      </g>\r\n     </g>\r\n    </g>\r\n    <g id=\"xtick_4\">\r\n     <g id=\"line2d_4\">\r\n      <g>\r\n       <use style=\"stroke:#000000;stroke-width:0.8;\" x=\"167.837358\" xlink:href=\"#mc723eace70\" y=\"224.64\"/>\r\n      </g>\r\n     </g>\r\n     <g id=\"text_4\">\r\n      <!-- 3 -->\r\n      <g transform=\"translate(164.656108 239.238437)scale(0.1 -0.1)\">\r\n       <defs>\r\n        <path d=\"M 40.578125 39.3125 \r\nQ 47.65625 37.796875 51.625 33 \r\nQ 55.609375 28.21875 55.609375 21.1875 \r\nQ 55.609375 10.40625 48.1875 4.484375 \r\nQ 40.765625 -1.421875 27.09375 -1.421875 \r\nQ 22.515625 -1.421875 17.65625 -0.515625 \r\nQ 12.796875 0.390625 7.625 2.203125 \r\nL 7.625 11.71875 \r\nQ 11.71875 9.328125 16.59375 8.109375 \r\nQ 21.484375 6.890625 26.8125 6.890625 \r\nQ 36.078125 6.890625 40.9375 10.546875 \r\nQ 45.796875 14.203125 45.796875 21.1875 \r\nQ 45.796875 27.640625 41.28125 31.265625 \r\nQ 36.765625 34.90625 28.71875 34.90625 \r\nL 20.21875 34.90625 \r\nL 20.21875 43.015625 \r\nL 29.109375 43.015625 \r\nQ 36.375 43.015625 40.234375 45.921875 \r\nQ 44.09375 48.828125 44.09375 54.296875 \r\nQ 44.09375 59.90625 40.109375 62.90625 \r\nQ 36.140625 65.921875 28.71875 65.921875 \r\nQ 24.65625 65.921875 20.015625 65.03125 \r\nQ 15.375 64.15625 9.8125 62.3125 \r\nL 9.8125 71.09375 \r\nQ 15.4375 72.65625 20.34375 73.4375 \r\nQ 25.25 74.21875 29.59375 74.21875 \r\nQ 40.828125 74.21875 47.359375 69.109375 \r\nQ 53.90625 64.015625 53.90625 55.328125 \r\nQ 53.90625 49.265625 50.4375 45.09375 \r\nQ 46.96875 40.921875 40.578125 39.3125 \r\nz\r\n\" id=\"DejaVuSans-51\"/>\r\n       </defs>\r\n       <use xlink:href=\"#DejaVuSans-51\"/>\r\n      </g>\r\n     </g>\r\n    </g>\r\n    <g id=\"xtick_5\">\r\n     <g id=\"line2d_5\">\r\n      <g>\r\n       <use style=\"stroke:#000000;stroke-width:0.8;\" x=\"205.882812\" xlink:href=\"#mc723eace70\" y=\"224.64\"/>\r\n      </g>\r\n     </g>\r\n     <g id=\"text_5\">\r\n      <!-- 4 -->\r\n      <g transform=\"translate(202.701562 239.238437)scale(0.1 -0.1)\">\r\n       <defs>\r\n        <path d=\"M 37.796875 64.3125 \r\nL 12.890625 25.390625 \r\nL 37.796875 25.390625 \r\nz\r\nM 35.203125 72.90625 \r\nL 47.609375 72.90625 \r\nL 47.609375 25.390625 \r\nL 58.015625 25.390625 \r\nL 58.015625 17.1875 \r\nL 47.609375 17.1875 \r\nL 47.609375 0 \r\nL 37.796875 0 \r\nL 37.796875 17.1875 \r\nL 4.890625 17.1875 \r\nL 4.890625 26.703125 \r\nz\r\n\" id=\"DejaVuSans-52\"/>\r\n       </defs>\r\n       <use xlink:href=\"#DejaVuSans-52\"/>\r\n      </g>\r\n     </g>\r\n    </g>\r\n    <g id=\"xtick_6\">\r\n     <g id=\"line2d_6\">\r\n      <g>\r\n       <use style=\"stroke:#000000;stroke-width:0.8;\" x=\"243.928267\" xlink:href=\"#mc723eace70\" y=\"224.64\"/>\r\n      </g>\r\n     </g>\r\n     <g id=\"text_6\">\r\n      <!-- 5 -->\r\n      <g transform=\"translate(240.747017 239.238437)scale(0.1 -0.1)\">\r\n       <defs>\r\n        <path d=\"M 10.796875 72.90625 \r\nL 49.515625 72.90625 \r\nL 49.515625 64.59375 \r\nL 19.828125 64.59375 \r\nL 19.828125 46.734375 \r\nQ 21.96875 47.46875 24.109375 47.828125 \r\nQ 26.265625 48.1875 28.421875 48.1875 \r\nQ 40.625 48.1875 47.75 41.5 \r\nQ 54.890625 34.8125 54.890625 23.390625 \r\nQ 54.890625 11.625 47.5625 5.09375 \r\nQ 40.234375 -1.421875 26.90625 -1.421875 \r\nQ 22.3125 -1.421875 17.546875 -0.640625 \r\nQ 12.796875 0.140625 7.71875 1.703125 \r\nL 7.71875 11.625 \r\nQ 12.109375 9.234375 16.796875 8.0625 \r\nQ 21.484375 6.890625 26.703125 6.890625 \r\nQ 35.15625 6.890625 40.078125 11.328125 \r\nQ 45.015625 15.765625 45.015625 23.390625 \r\nQ 45.015625 31 40.078125 35.4375 \r\nQ 35.15625 39.890625 26.703125 39.890625 \r\nQ 22.75 39.890625 18.8125 39.015625 \r\nQ 14.890625 38.140625 10.796875 36.28125 \r\nz\r\n\" id=\"DejaVuSans-53\"/>\r\n       </defs>\r\n       <use xlink:href=\"#DejaVuSans-53\"/>\r\n      </g>\r\n     </g>\r\n    </g>\r\n    <g id=\"xtick_7\">\r\n     <g id=\"line2d_7\">\r\n      <g>\r\n       <use style=\"stroke:#000000;stroke-width:0.8;\" x=\"281.973722\" xlink:href=\"#mc723eace70\" y=\"224.64\"/>\r\n      </g>\r\n     </g>\r\n     <g id=\"text_7\">\r\n      <!-- 6 -->\r\n      <g transform=\"translate(278.792472 239.238437)scale(0.1 -0.1)\">\r\n       <defs>\r\n        <path d=\"M 33.015625 40.375 \r\nQ 26.375 40.375 22.484375 35.828125 \r\nQ 18.609375 31.296875 18.609375 23.390625 \r\nQ 18.609375 15.53125 22.484375 10.953125 \r\nQ 26.375 6.390625 33.015625 6.390625 \r\nQ 39.65625 6.390625 43.53125 10.953125 \r\nQ 47.40625 15.53125 47.40625 23.390625 \r\nQ 47.40625 31.296875 43.53125 35.828125 \r\nQ 39.65625 40.375 33.015625 40.375 \r\nz\r\nM 52.59375 71.296875 \r\nL 52.59375 62.3125 \r\nQ 48.875 64.0625 45.09375 64.984375 \r\nQ 41.3125 65.921875 37.59375 65.921875 \r\nQ 27.828125 65.921875 22.671875 59.328125 \r\nQ 17.53125 52.734375 16.796875 39.40625 \r\nQ 19.671875 43.65625 24.015625 45.921875 \r\nQ 28.375 48.1875 33.59375 48.1875 \r\nQ 44.578125 48.1875 50.953125 41.515625 \r\nQ 57.328125 34.859375 57.328125 23.390625 \r\nQ 57.328125 12.15625 50.6875 5.359375 \r\nQ 44.046875 -1.421875 33.015625 -1.421875 \r\nQ 20.359375 -1.421875 13.671875 8.265625 \r\nQ 6.984375 17.96875 6.984375 36.375 \r\nQ 6.984375 53.65625 15.1875 63.9375 \r\nQ 23.390625 74.21875 37.203125 74.21875 \r\nQ 40.921875 74.21875 44.703125 73.484375 \r\nQ 48.484375 72.75 52.59375 71.296875 \r\nz\r\n\" id=\"DejaVuSans-54\"/>\r\n       </defs>\r\n       <use xlink:href=\"#DejaVuSans-54\"/>\r\n      </g>\r\n     </g>\r\n    </g>\r\n    <g id=\"xtick_8\">\r\n     <g id=\"line2d_8\">\r\n      <g>\r\n       <use style=\"stroke:#000000;stroke-width:0.8;\" x=\"320.019176\" xlink:href=\"#mc723eace70\" y=\"224.64\"/>\r\n      </g>\r\n     </g>\r\n     <g id=\"text_8\">\r\n      <!-- 7 -->\r\n      <g transform=\"translate(316.837926 239.238437)scale(0.1 -0.1)\">\r\n       <defs>\r\n        <path d=\"M 8.203125 72.90625 \r\nL 55.078125 72.90625 \r\nL 55.078125 68.703125 \r\nL 28.609375 0 \r\nL 18.3125 0 \r\nL 43.21875 64.59375 \r\nL 8.203125 64.59375 \r\nz\r\n\" id=\"DejaVuSans-55\"/>\r\n       </defs>\r\n       <use xlink:href=\"#DejaVuSans-55\"/>\r\n      </g>\r\n     </g>\r\n    </g>\r\n    <g id=\"xtick_9\">\r\n     <g id=\"line2d_9\">\r\n      <g>\r\n       <use style=\"stroke:#000000;stroke-width:0.8;\" x=\"358.064631\" xlink:href=\"#mc723eace70\" y=\"224.64\"/>\r\n      </g>\r\n     </g>\r\n     <g id=\"text_9\">\r\n      <!-- 8 -->\r\n      <g transform=\"translate(354.883381 239.238437)scale(0.1 -0.1)\">\r\n       <defs>\r\n        <path d=\"M 31.78125 34.625 \r\nQ 24.75 34.625 20.71875 30.859375 \r\nQ 16.703125 27.09375 16.703125 20.515625 \r\nQ 16.703125 13.921875 20.71875 10.15625 \r\nQ 24.75 6.390625 31.78125 6.390625 \r\nQ 38.8125 6.390625 42.859375 10.171875 \r\nQ 46.921875 13.96875 46.921875 20.515625 \r\nQ 46.921875 27.09375 42.890625 30.859375 \r\nQ 38.875 34.625 31.78125 34.625 \r\nz\r\nM 21.921875 38.8125 \r\nQ 15.578125 40.375 12.03125 44.71875 \r\nQ 8.5 49.078125 8.5 55.328125 \r\nQ 8.5 64.0625 14.71875 69.140625 \r\nQ 20.953125 74.21875 31.78125 74.21875 \r\nQ 42.671875 74.21875 48.875 69.140625 \r\nQ 55.078125 64.0625 55.078125 55.328125 \r\nQ 55.078125 49.078125 51.53125 44.71875 \r\nQ 48 40.375 41.703125 38.8125 \r\nQ 48.828125 37.15625 52.796875 32.3125 \r\nQ 56.78125 27.484375 56.78125 20.515625 \r\nQ 56.78125 9.90625 50.3125 4.234375 \r\nQ 43.84375 -1.421875 31.78125 -1.421875 \r\nQ 19.734375 -1.421875 13.25 4.234375 \r\nQ 6.78125 9.90625 6.78125 20.515625 \r\nQ 6.78125 27.484375 10.78125 32.3125 \r\nQ 14.796875 37.15625 21.921875 38.8125 \r\nz\r\nM 18.3125 54.390625 \r\nQ 18.3125 48.734375 21.84375 45.5625 \r\nQ 25.390625 42.390625 31.78125 42.390625 \r\nQ 38.140625 42.390625 41.71875 45.5625 \r\nQ 45.3125 48.734375 45.3125 54.390625 \r\nQ 45.3125 60.0625 41.71875 63.234375 \r\nQ 38.140625 66.40625 31.78125 66.40625 \r\nQ 25.390625 66.40625 21.84375 63.234375 \r\nQ 18.3125 60.0625 18.3125 54.390625 \r\nz\r\n\" id=\"DejaVuSans-56\"/>\r\n       </defs>\r\n       <use xlink:href=\"#DejaVuSans-56\"/>\r\n      </g>\r\n     </g>\r\n    </g>\r\n   </g>\r\n   <g id=\"matplotlib.axis_2\">\r\n    <g id=\"ytick_1\">\r\n     <g id=\"line2d_10\">\r\n      <defs>\r\n       <path d=\"M 0 0 \r\nL -3.5 0 \r\n\" id=\"m6ccd1cddb2\" style=\"stroke:#000000;stroke-width:0.8;\"/>\r\n      </defs>\r\n      <g>\r\n       <use style=\"stroke:#000000;stroke-width:0.8;\" x=\"38.482813\" xlink:href=\"#m6ccd1cddb2\" y=\"194.107495\"/>\r\n      </g>\r\n     </g>\r\n     <g id=\"text_10\">\r\n      <!-- −0.4 -->\r\n      <g transform=\"translate(7.2 197.906714)scale(0.1 -0.1)\">\r\n       <defs>\r\n        <path d=\"M 10.59375 35.5 \r\nL 73.1875 35.5 \r\nL 73.1875 27.203125 \r\nL 10.59375 27.203125 \r\nz\r\n\" id=\"DejaVuSans-8722\"/>\r\n        <path d=\"M 10.6875 12.40625 \r\nL 21 12.40625 \r\nL 21 0 \r\nL 10.6875 0 \r\nz\r\n\" id=\"DejaVuSans-46\"/>\r\n       </defs>\r\n       <use xlink:href=\"#DejaVuSans-8722\"/>\r\n       <use x=\"83.789062\" xlink:href=\"#DejaVuSans-48\"/>\r\n       <use x=\"147.412109\" xlink:href=\"#DejaVuSans-46\"/>\r\n       <use x=\"179.199219\" xlink:href=\"#DejaVuSans-52\"/>\r\n      </g>\r\n     </g>\r\n    </g>\r\n    <g id=\"ytick_2\">\r\n     <g id=\"line2d_11\">\r\n      <g>\r\n       <use style=\"stroke:#000000;stroke-width:0.8;\" x=\"38.482813\" xlink:href=\"#m6ccd1cddb2\" y=\"162.280796\"/>\r\n      </g>\r\n     </g>\r\n     <g id=\"text_11\">\r\n      <!-- −0.2 -->\r\n      <g transform=\"translate(7.2 166.080015)scale(0.1 -0.1)\">\r\n       <use xlink:href=\"#DejaVuSans-8722\"/>\r\n       <use x=\"83.789062\" xlink:href=\"#DejaVuSans-48\"/>\r\n       <use x=\"147.412109\" xlink:href=\"#DejaVuSans-46\"/>\r\n       <use x=\"179.199219\" xlink:href=\"#DejaVuSans-50\"/>\r\n      </g>\r\n     </g>\r\n    </g>\r\n    <g id=\"ytick_3\">\r\n     <g id=\"line2d_12\">\r\n      <g>\r\n       <use style=\"stroke:#000000;stroke-width:0.8;\" x=\"38.482813\" xlink:href=\"#m6ccd1cddb2\" y=\"130.454097\"/>\r\n      </g>\r\n     </g>\r\n     <g id=\"text_12\">\r\n      <!-- 0.0 -->\r\n      <g transform=\"translate(15.579688 134.253315)scale(0.1 -0.1)\">\r\n       <use xlink:href=\"#DejaVuSans-48\"/>\r\n       <use x=\"63.623047\" xlink:href=\"#DejaVuSans-46\"/>\r\n       <use x=\"95.410156\" xlink:href=\"#DejaVuSans-48\"/>\r\n      </g>\r\n     </g>\r\n    </g>\r\n    <g id=\"ytick_4\">\r\n     <g id=\"line2d_13\">\r\n      <g>\r\n       <use style=\"stroke:#000000;stroke-width:0.8;\" x=\"38.482813\" xlink:href=\"#m6ccd1cddb2\" y=\"98.627397\"/>\r\n      </g>\r\n     </g>\r\n     <g id=\"text_13\">\r\n      <!-- 0.2 -->\r\n      <g transform=\"translate(15.579688 102.426616)scale(0.1 -0.1)\">\r\n       <use xlink:href=\"#DejaVuSans-48\"/>\r\n       <use x=\"63.623047\" xlink:href=\"#DejaVuSans-46\"/>\r\n       <use x=\"95.410156\" xlink:href=\"#DejaVuSans-50\"/>\r\n      </g>\r\n     </g>\r\n    </g>\r\n    <g id=\"ytick_5\">\r\n     <g id=\"line2d_14\">\r\n      <g>\r\n       <use style=\"stroke:#000000;stroke-width:0.8;\" x=\"38.482813\" xlink:href=\"#m6ccd1cddb2\" y=\"66.800698\"/>\r\n      </g>\r\n     </g>\r\n     <g id=\"text_14\">\r\n      <!-- 0.4 -->\r\n      <g transform=\"translate(15.579688 70.599917)scale(0.1 -0.1)\">\r\n       <use xlink:href=\"#DejaVuSans-48\"/>\r\n       <use x=\"63.623047\" xlink:href=\"#DejaVuSans-46\"/>\r\n       <use x=\"95.410156\" xlink:href=\"#DejaVuSans-52\"/>\r\n      </g>\r\n     </g>\r\n    </g>\r\n    <g id=\"ytick_6\">\r\n     <g id=\"line2d_15\">\r\n      <g>\r\n       <use style=\"stroke:#000000;stroke-width:0.8;\" x=\"38.482813\" xlink:href=\"#m6ccd1cddb2\" y=\"34.973998\"/>\r\n      </g>\r\n     </g>\r\n     <g id=\"text_15\">\r\n      <!-- 0.6 -->\r\n      <g transform=\"translate(15.579688 38.773217)scale(0.1 -0.1)\">\r\n       <use xlink:href=\"#DejaVuSans-48\"/>\r\n       <use x=\"63.623047\" xlink:href=\"#DejaVuSans-46\"/>\r\n       <use x=\"95.410156\" xlink:href=\"#DejaVuSans-54\"/>\r\n      </g>\r\n     </g>\r\n    </g>\r\n   </g>\r\n   <g id=\"line2d_16\">\r\n    <path clip-path=\"url(#p83df820ab1)\" d=\"M 53.700994 78.781204 \r\nL 56.135903 68.782117 \r\nL 58.266449 60.958266 \r\nL 60.092631 55.132667 \r\nL 61.614449 50.99866 \r\nL 62.831903 48.208397 \r\nL 64.049358 45.905813 \r\nL 65.266813 44.111107 \r\nL 66.179903 43.107354 \r\nL 67.092994 42.401653 \r\nL 68.006085 41.996259 \r\nL 68.919176 41.891647 \r\nL 69.832267 42.086542 \r\nL 70.745358 42.577954 \r\nL 71.658449 43.361234 \r\nL 72.57154 44.430135 \r\nL 73.788994 46.285991 \r\nL 75.006449 48.613247 \r\nL 76.223903 51.385323 \r\nL 77.745722 55.429367 \r\nL 79.571903 61.042565 \r\nL 81.702449 68.477311 \r\nL 84.137358 77.872588 \r\nL 87.789722 93.035747 \r\nL 93.572631 117.155562 \r\nL 96.311903 127.65005 \r\nL 98.746813 136.101274 \r\nL 100.877358 142.684264 \r\nL 102.70354 147.664925 \r\nL 104.529722 152.006687 \r\nL 106.05154 155.129833 \r\nL 107.573358 157.805696 \r\nL 109.095176 160.043616 \r\nL 110.616994 161.858431 \r\nL 112.138813 163.269462 \r\nL 113.356267 164.12278 \r\nL 114.573722 164.745057 \r\nL 115.791176 165.149853 \r\nL 117.008631 165.351181 \r\nL 118.226085 165.363273 \r\nL 119.747903 165.134019 \r\nL 121.269722 164.659058 \r\nL 122.79154 163.965627 \r\nL 124.617722 162.882782 \r\nL 126.748267 161.331332 \r\nL 129.183176 159.266813 \r\nL 132.83554 155.821469 \r\nL 138.009722 150.931815 \r\nL 140.444631 148.930819 \r\nL 142.575176 147.473194 \r\nL 144.401358 146.499827 \r\nL 145.923176 145.911855 \r\nL 147.444994 145.543258 \r\nL 148.966813 145.402573 \r\nL 150.488631 145.490793 \r\nL 152.010449 145.800731 \r\nL 153.532267 146.316727 \r\nL 155.358449 147.173532 \r\nL 157.488994 148.428133 \r\nL 161.445722 151.103737 \r\nL 164.184994 152.851897 \r\nL 166.31554 153.948808 \r\nL 168.141722 154.616157 \r\nL 169.66354 154.942315 \r\nL 171.185358 155.041747 \r\nL 172.707176 154.910271 \r\nL 174.228994 154.55622 \r\nL 176.055176 153.867879 \r\nL 178.185722 152.778359 \r\nL 182.142449 150.390246 \r\nL 184.577358 149.068853 \r\nL 186.40354 148.347726 \r\nL 187.925358 148.00823 \r\nL 189.142812 147.946092 \r\nL 190.360267 148.094768 \r\nL 191.577722 148.472108 \r\nL 192.795176 149.090797 \r\nL 194.012631 149.957975 \r\nL 195.230085 151.07502 \r\nL 196.751903 152.815389 \r\nL 198.273722 154.917673 \r\nL 200.099903 157.869167 \r\nL 202.230449 161.799196 \r\nL 204.969722 167.369149 \r\nL 210.752631 179.311338 \r\nL 212.883176 183.177008 \r\nL 214.709358 186.050869 \r\nL 216.231176 188.066757 \r\nL 217.752994 189.691117 \r\nL 218.970449 190.68404 \r\nL 220.187903 191.387691 \r\nL 221.405358 191.789559 \r\nL 222.318449 191.886866 \r\nL 223.23154 191.805518 \r\nL 224.144631 191.542942 \r\nL 225.057722 191.097222 \r\nL 226.275176 190.215862 \r\nL 227.492631 189.005123 \r\nL 228.710085 187.465137 \r\nL 229.92754 185.597615 \r\nL 231.449358 182.807721 \r\nL 232.971176 179.52107 \r\nL 234.492994 175.751577 \r\nL 236.319176 170.617142 \r\nL 238.449722 163.838289 \r\nL 240.580267 156.293802 \r\nL 243.015176 146.879396 \r\nL 246.363176 132.938658 \r\nL 254.580994 98.202615 \r\nL 257.015903 89.12621 \r\nL 259.146449 82.094239 \r\nL 260.972631 76.882545 \r\nL 262.494449 73.182681 \r\nL 264.016267 70.108537 \r\nL 265.233722 68.117151 \r\nL 266.451176 66.549555 \r\nL 267.668631 65.407263 \r\nL 268.581722 64.827565 \r\nL 269.494813 64.481579 \r\nL 270.407903 64.364266 \r\nL 271.320994 64.469133 \r\nL 272.234085 64.788334 \r\nL 273.147176 65.312794 \r\nL 274.364631 66.313621 \r\nL 275.582085 67.634383 \r\nL 277.103903 69.690556 \r\nL 278.625722 72.139881 \r\nL 280.451903 75.508283 \r\nL 282.886813 80.544591 \r\nL 286.539176 88.746329 \r\nL 291.713358 100.331513 \r\nL 294.452631 105.890138 \r\nL 296.583176 109.749358 \r\nL 298.409358 112.661505 \r\nL 300.23554 115.158187 \r\nL 301.757358 116.8914 \r\nL 303.279176 118.286649 \r\nL 304.496631 119.147694 \r\nL 305.714085 119.773963 \r\nL 306.93154 120.159838 \r\nL 308.148994 120.301538 \r\nL 309.366449 120.197308 \r\nL 310.583903 119.847614 \r\nL 311.801358 119.255327 \r\nL 313.018813 118.425877 \r\nL 314.540631 117.068164 \r\nL 316.062449 115.374644 \r\nL 317.888631 112.939933 \r\nL 319.714812 110.125068 \r\nL 322.149722 105.91032 \r\nL 325.802085 99.022017 \r\nL 330.063176 91.04773 \r\nL 332.498085 86.964448 \r\nL 334.324267 84.285261 \r\nL 336.150449 82.014922 \r\nL 337.672267 80.477639 \r\nL 339.194085 79.290823 \r\nL 340.41154 78.606473 \r\nL 341.628994 78.164634 \r\nL 342.846449 77.968484 \r\nL 344.063903 78.018342 \r\nL 345.281358 78.311798 \r\nL 346.498812 78.843901 \r\nL 347.716267 79.607359 \r\nL 349.238085 80.87251 \r\nL 350.759903 82.461884 \r\nL 352.281722 84.349204 \r\nL 354.107903 86.965738 \r\nL 356.238449 90.433191 \r\nL 358.064631 93.693852 \r\nL 358.064631 93.693852 \r\n\" style=\"fill:none;stroke:#1f77b4;stroke-linecap:square;stroke-width:1.5;\"/>\r\n   </g>\r\n   <g id=\"line2d_17\">\r\n    <path clip-path=\"url(#p83df820ab1)\" d=\"M 53.700994 78.781204 \r\nL 56.135903 68.782152 \r\nL 58.266449 60.95911 \r\nL 60.092631 55.136874 \r\nL 61.614449 51.010054 \r\nL 62.831903 48.230378 \r\nL 64.049358 45.944544 \r\nL 65.266813 44.174687 \r\nL 66.179903 43.196121 \r\nL 67.092994 42.522194 \r\nL 68.006085 42.15602 \r\nL 68.919176 42.098883 \r\nL 69.832267 42.350243 \r\nL 70.745358 42.907747 \r\nL 71.658449 43.767257 \r\nL 72.57154 44.922889 \r\nL 73.788994 46.911034 \r\nL 75.006449 49.389518 \r\nL 76.223903 52.331071 \r\nL 77.745722 56.610482 \r\nL 79.571903 62.534922 \r\nL 81.702449 70.359237 \r\nL 84.137358 80.208026 \r\nL 88.094085 97.318584 \r\nL 92.65954 116.880992 \r\nL 95.398813 127.619784 \r\nL 97.529358 135.129584 \r\nL 99.35554 140.857408 \r\nL 101.181722 145.859485 \r\nL 102.70354 149.441145 \r\nL 104.225358 152.474686 \r\nL 105.747176 154.957792 \r\nL 106.964631 156.553188 \r\nL 108.182085 157.810336 \r\nL 109.39954 158.742069 \r\nL 110.616994 159.36487 \r\nL 111.834449 159.698564 \r\nL 113.051903 159.765982 \r\nL 114.269358 159.592586 \r\nL 115.486813 159.206074 \r\nL 117.008631 158.468334 \r\nL 118.834812 157.289879 \r\nL 121.269722 155.398938 \r\nL 126.443903 151.249381 \r\nL 128.270085 150.062906 \r\nL 130.096267 149.152045 \r\nL 131.618085 148.647438 \r\nL 133.139903 148.402096 \r\nL 134.357358 148.404181 \r\nL 135.574813 148.587647 \r\nL 137.096631 149.072609 \r\nL 138.618449 149.834456 \r\nL 140.140267 150.856925 \r\nL 141.966449 152.392331 \r\nL 144.096994 154.534257 \r\nL 146.836267 157.661601 \r\nL 152.314813 164.045734 \r\nL 154.445358 166.144784 \r\nL 156.27154 167.607971 \r\nL 157.793358 168.533017 \r\nL 159.010813 169.054312 \r\nL 160.228267 169.365116 \r\nL 161.445722 169.45436 \r\nL 162.663176 169.314768 \r\nL 163.880631 168.943039 \r\nL 165.098085 168.339959 \r\nL 166.31554 167.510447 \r\nL 167.837358 166.169264 \r\nL 169.359176 164.515046 \r\nL 171.185358 162.167502 \r\nL 173.315903 159.028378 \r\nL 176.35954 154.083327 \r\nL 180.924994 146.667221 \r\nL 183.05554 143.64594 \r\nL 184.881722 141.466064 \r\nL 186.40354 140.014245 \r\nL 187.620994 139.127794 \r\nL 188.838449 138.509604 \r\nL 190.055903 138.177781 \r\nL 190.968994 138.125488 \r\nL 191.882085 138.246686 \r\nL 192.795176 138.544358 \r\nL 194.012631 139.218218 \r\nL 195.230085 140.20794 \r\nL 196.44754 141.508377 \r\nL 197.664994 143.10967 \r\nL 199.186813 145.511861 \r\nL 200.708631 148.323055 \r\nL 202.534812 152.167539 \r\nL 204.665358 157.172322 \r\nL 208.013358 165.720769 \r\nL 212.578812 177.347601 \r\nL 214.709358 182.191609 \r\nL 216.53554 185.811333 \r\nL 218.057358 188.354204 \r\nL 219.274813 190.030268 \r\nL 220.492267 191.355047 \r\nL 221.709722 192.302281 \r\nL 222.622813 192.751505 \r\nL 223.535903 192.968196 \r\nL 224.448994 192.946169 \r\nL 225.362085 192.680758 \r\nL 226.275176 192.168851 \r\nL 227.188267 191.40891 \r\nL 228.101358 190.400979 \r\nL 229.318812 188.674342 \r\nL 230.536267 186.518065 \r\nL 231.753722 183.945137 \r\nL 233.27554 180.170354 \r\nL 234.797358 175.8165 \r\nL 236.62354 169.904084 \r\nL 238.754085 162.198412 \r\nL 241.493358 151.324543 \r\nL 246.058813 132.013035 \r\nL 250.01554 115.628059 \r\nL 252.450449 106.383335 \r\nL 254.580994 99.113392 \r\nL 256.407176 93.631783 \r\nL 257.928994 89.664442 \r\nL 259.450813 86.290544 \r\nL 260.668267 84.042174 \r\nL 261.885722 82.208859 \r\nL 263.103176 80.79939 \r\nL 264.016267 80.023293 \r\nL 264.929358 79.488499 \r\nL 265.842449 79.193906 \r\nL 266.75554 79.137038 \r\nL 267.668631 79.314051 \r\nL 268.581722 79.719759 \r\nL 269.494813 80.347653 \r\nL 270.712267 81.516821 \r\nL 271.929722 83.045097 \r\nL 273.147176 84.906865 \r\nL 274.668994 87.658417 \r\nL 276.495176 91.497541 \r\nL 278.625722 96.560705 \r\nL 281.669358 104.47447 \r\nL 286.84354 118.017273 \r\nL 288.974085 122.988524 \r\nL 290.800267 126.725841 \r\nL 292.322085 129.381255 \r\nL 293.843903 131.556467 \r\nL 295.061358 132.917356 \r\nL 296.278813 133.918448 \r\nL 297.191903 134.423222 \r\nL 298.104994 134.711263 \r\nL 299.018085 134.778954 \r\nL 299.931176 134.624218 \r\nL 300.844267 134.24654 \r\nL 301.757358 133.646969 \r\nL 302.670449 132.828114 \r\nL 303.887903 131.402593 \r\nL 305.105358 129.608798 \r\nL 306.627176 126.877438 \r\nL 308.148994 123.645891 \r\nL 309.975176 119.186598 \r\nL 312.105722 113.325563 \r\nL 314.844994 105.062003 \r\nL 322.454085 81.60814 \r\nL 324.584631 75.891277 \r\nL 326.410813 71.563823 \r\nL 327.932631 68.432588 \r\nL 329.454449 65.778606 \r\nL 330.671903 64.020501 \r\nL 331.889358 62.599029 \r\nL 333.106812 61.520394 \r\nL 334.324267 60.786098 \r\nL 335.237358 60.459639 \r\nL 336.150449 60.322224 \r\nL 337.06354 60.369501 \r\nL 337.976631 60.595807 \r\nL 339.194085 61.163957 \r\nL 340.41154 62.018513 \r\nL 341.628994 63.136772 \r\nL 343.150813 64.866401 \r\nL 344.976994 67.355904 \r\nL 347.10754 70.702108 \r\nL 350.151176 75.989139 \r\nL 355.934085 86.147738 \r\nL 358.064631 89.504066 \r\nL 358.064631 89.504066 \r\n\" style=\"fill:none;stroke:#ff7f0e;stroke-linecap:square;stroke-width:1.5;\"/>\r\n   </g>\r\n   <g id=\"line2d_18\">\r\n    <path clip-path=\"url(#p83df820ab1)\" d=\"M 53.700994 78.781204 \r\nL 54.005358 78.781204 \r\nL 56.440267 68.900252 \r\nL 58.570813 61.17895 \r\nL 60.396994 55.440576 \r\nL 61.918813 51.378927 \r\nL 63.136267 48.646501 \r\nL 64.353722 46.401892 \r\nL 65.571176 44.665506 \r\nL 66.484267 43.705864 \r\nL 67.397358 43.044712 \r\nL 68.310449 42.684423 \r\nL 69.22354 42.625591 \r\nL 70.136631 42.86706 \r\nL 71.049722 43.405959 \r\nL 71.962812 44.237753 \r\nL 72.875903 45.356302 \r\nL 74.093358 47.280286 \r\nL 75.310812 49.678055 \r\nL 76.528267 52.523178 \r\nL 78.050085 56.662231 \r\nL 79.876267 62.394916 \r\nL 82.006812 69.97627 \r\nL 84.441722 79.547392 \r\nL 88.094085 94.985404 \r\nL 93.876994 119.539385 \r\nL 96.616267 130.223889 \r\nL 99.051176 138.827411 \r\nL 101.181722 145.526504 \r\nL 103.007903 150.591076 \r\nL 104.834085 155.000037 \r\nL 106.355903 158.164849 \r\nL 107.877722 160.868112 \r\nL 109.39954 163.118073 \r\nL 110.921358 164.92865 \r\nL 112.138813 166.073147 \r\nL 113.356267 166.959456 \r\nL 114.573722 167.600058 \r\nL 115.791176 168.008345 \r\nL 117.008631 168.198283 \r\nL 118.226085 168.184318 \r\nL 119.44354 167.981124 \r\nL 120.965358 167.483561 \r\nL 122.487176 166.7423 \r\nL 124.313358 165.571659 \r\nL 126.13954 164.141172 \r\nL 128.574449 161.91586 \r\nL 131.618085 158.792907 \r\nL 138.618449 151.46308 \r\nL 141.053358 149.301952 \r\nL 142.87954 147.939807 \r\nL 144.705722 146.848316 \r\nL 146.22754 146.170119 \r\nL 147.749358 145.716533 \r\nL 149.271176 145.493621 \r\nL 150.792994 145.499716 \r\nL 152.314813 145.724944 \r\nL 154.140994 146.258188 \r\nL 155.967176 147.033432 \r\nL 158.402085 148.334782 \r\nL 164.489358 151.771496 \r\nL 166.31554 152.517781 \r\nL 168.141722 153.005755 \r\nL 169.66354 153.179773 \r\nL 171.185358 153.12396 \r\nL 172.707176 152.833154 \r\nL 174.228994 152.314363 \r\nL 176.055176 151.418949 \r\nL 178.185722 150.070933 \r\nL 181.533722 147.595118 \r\nL 184.577358 145.430872 \r\nL 186.40354 144.393805 \r\nL 187.925358 143.774715 \r\nL 189.142812 143.479652 \r\nL 190.360267 143.388722 \r\nL 191.577722 143.521747 \r\nL 192.795176 143.893852 \r\nL 194.012631 144.514851 \r\nL 195.230085 145.389263 \r\nL 196.44754 146.516042 \r\nL 197.969358 148.268858 \r\nL 199.491176 150.380917 \r\nL 201.317358 153.337548 \r\nL 203.447903 157.262382 \r\nL 206.187176 162.810021 \r\nL 211.970085 174.690141 \r\nL 214.100631 178.544899 \r\nL 215.926813 181.418563 \r\nL 217.448631 183.440582 \r\nL 218.970449 185.075442 \r\nL 220.187903 186.078575 \r\nL 221.405358 186.792474 \r\nL 222.622813 187.202995 \r\nL 223.535903 187.304667 \r\nL 224.448994 187.224973 \r\nL 225.362085 186.960554 \r\nL 226.275176 186.508739 \r\nL 227.492631 185.611448 \r\nL 228.710085 184.374576 \r\nL 229.92754 182.797154 \r\nL 231.144994 180.880256 \r\nL 232.666812 178.011677 \r\nL 234.188631 174.628405 \r\nL 235.710449 170.74676 \r\nL 237.536631 165.462506 \r\nL 239.667176 158.499349 \r\nL 241.797722 150.777269 \r\nL 244.536994 139.950082 \r\nL 248.493722 123.208041 \r\nL 253.667903 101.330531 \r\nL 256.407176 90.750754 \r\nL 258.537722 83.394848 \r\nL 260.363903 77.858507 \r\nL 261.885722 73.864905 \r\nL 263.40754 70.48568 \r\nL 264.624994 68.248822 \r\nL 265.842449 66.440537 \r\nL 267.059903 65.068136 \r\nL 267.972994 64.326348 \r\nL 268.886085 63.83003 \r\nL 269.799176 63.576595 \r\nL 270.712267 63.561942 \r\nL 271.625358 63.780486 \r\nL 272.538449 64.225259 \r\nL 273.45154 64.888083 \r\nL 274.668994 66.094757 \r\nL 275.886449 67.647284 \r\nL 277.408267 70.03172 \r\nL 278.930085 72.853867 \r\nL 280.756267 76.72938 \r\nL 282.886813 81.781943 \r\nL 285.930449 89.648664 \r\nL 293.53954 109.6377 \r\nL 295.974449 115.316268 \r\nL 298.104994 119.748893 \r\nL 299.931176 123.071356 \r\nL 301.757358 125.897443 \r\nL 303.279176 127.841138 \r\nL 304.800994 129.388481 \r\nL 306.018449 130.330056 \r\nL 307.235903 131.001872 \r\nL 308.453358 131.400409 \r\nL 309.670813 131.5246 \r\nL 310.888267 131.375953 \r\nL 312.105722 130.95865 \r\nL 313.323176 130.279662 \r\nL 314.540631 129.348809 \r\nL 316.062449 127.850666 \r\nL 317.584267 126.0099 \r\nL 319.410449 123.40209 \r\nL 321.540994 119.907387 \r\nL 324.280267 114.916251 \r\nL 331.584994 101.316436 \r\nL 333.71554 97.94365 \r\nL 335.541722 95.466326 \r\nL 337.06354 93.748173 \r\nL 338.585358 92.380692 \r\nL 339.802813 91.556829 \r\nL 341.020267 90.983766 \r\nL 342.237722 90.667978 \r\nL 343.455176 90.612734 \r\nL 344.672631 90.818075 \r\nL 345.890085 91.28104 \r\nL 347.10754 91.995749 \r\nL 348.324994 92.953604 \r\nL 349.846812 94.475603 \r\nL 351.368631 96.333153 \r\nL 353.194813 98.960381 \r\nL 355.325358 102.495306 \r\nL 357.760267 107.020757 \r\nL 358.064631 107.614808 \r\nL 358.064631 107.614808 \r\n\" style=\"fill:none;stroke:#2ca02c;stroke-linecap:square;stroke-width:1.5;\"/>\r\n   </g>\r\n   <g id=\"line2d_19\">\r\n    <path clip-path=\"url(#p83df820ab1)\" d=\"M 53.700994 78.781204 \r\nL 54.005358 78.781204 \r\nL 56.440267 68.900339 \r\nL 58.570813 61.180264 \r\nL 60.396994 55.446311 \r\nL 61.918813 51.393536 \r\nL 63.136267 48.673751 \r\nL 64.353722 46.448709 \r\nL 65.571176 44.740869 \r\nL 66.484267 43.809828 \r\nL 67.397358 43.184461 \r\nL 68.310449 42.868032 \r\nL 69.22354 42.861979 \r\nL 70.136631 43.165906 \r\nL 71.049722 43.777602 \r\nL 71.962812 44.693063 \r\nL 72.875903 45.906527 \r\nL 74.093358 47.974892 \r\nL 75.310812 50.537347 \r\nL 76.832631 54.393491 \r\nL 78.354449 58.91619 \r\nL 80.180631 65.120637 \r\nL 82.311176 73.251527 \r\nL 85.050449 84.737645 \r\nL 90.833358 110.43483 \r\nL 94.181358 124.620782 \r\nL 96.616267 133.990251 \r\nL 98.746813 141.299204 \r\nL 100.572994 146.796627 \r\nL 102.094813 150.790536 \r\nL 103.616631 154.226935 \r\nL 105.138449 157.095442 \r\nL 106.355903 158.98147 \r\nL 107.573358 160.509591 \r\nL 108.790813 161.689337 \r\nL 110.008267 162.534213 \r\nL 111.225722 163.061418 \r\nL 112.443176 163.291595 \r\nL 113.660631 163.248438 \r\nL 114.878085 162.958258 \r\nL 116.09554 162.449748 \r\nL 117.617358 161.553578 \r\nL 119.44354 160.178825 \r\nL 121.878449 158.020835 \r\nL 127.052631 153.312658 \r\nL 129.183176 151.736195 \r\nL 130.704994 150.849496 \r\nL 132.226812 150.202127 \r\nL 133.748631 149.819899 \r\nL 134.966085 149.716476 \r\nL 136.18354 149.79776 \r\nL 137.400994 150.063889 \r\nL 138.922813 150.650489 \r\nL 140.444631 151.504174 \r\nL 141.966449 152.600364 \r\nL 143.792631 154.189208 \r\nL 146.22754 156.653535 \r\nL 153.836631 164.686729 \r\nL 155.662813 166.156193 \r\nL 157.184631 167.109056 \r\nL 158.706449 167.770141 \r\nL 159.923903 168.065554 \r\nL 161.141358 168.138246 \r\nL 162.358812 167.978134 \r\nL 163.576267 167.579112 \r\nL 164.793722 166.939161 \r\nL 166.011176 166.060506 \r\nL 167.532994 164.636731 \r\nL 169.054812 162.872146 \r\nL 170.880994 160.349908 \r\nL 173.01154 156.94191 \r\nL 175.750813 152.047202 \r\nL 182.142449 140.374255 \r\nL 184.272994 137.068939 \r\nL 185.794813 135.061749 \r\nL 187.316631 133.414811 \r\nL 188.534085 132.390501 \r\nL 189.75154 131.650643 \r\nL 190.968994 131.21308 \r\nL 191.882085 131.091676 \r\nL 192.795176 131.152231 \r\nL 193.708267 131.397399 \r\nL 194.621358 131.828333 \r\nL 195.838813 132.691042 \r\nL 197.056267 133.878108 \r\nL 198.273722 135.379441 \r\nL 199.79554 137.675195 \r\nL 201.317358 140.399619 \r\nL 203.14354 144.164198 \r\nL 205.274085 149.105555 \r\nL 208.317722 156.814482 \r\nL 213.18754 169.229396 \r\nL 215.318085 174.077875 \r\nL 217.144267 177.69684 \r\nL 218.666085 180.232439 \r\nL 219.88354 181.896681 \r\nL 221.100994 183.202979 \r\nL 222.014085 183.931278 \r\nL 222.927176 184.432891 \r\nL 223.840267 184.699314 \r\nL 224.753358 184.723563 \r\nL 225.666449 184.500198 \r\nL 226.57954 184.025366 \r\nL 227.492631 183.296828 \r\nL 228.405722 182.314011 \r\nL 229.623176 180.610087 \r\nL 230.840631 178.463125 \r\nL 232.058085 175.885193 \r\nL 233.579903 172.083016 \r\nL 235.101722 167.677601 \r\nL 236.927903 161.671613 \r\nL 239.058449 153.815045 \r\nL 241.493358 143.969602 \r\nL 245.450085 126.868166 \r\nL 250.01554 107.277763 \r\nL 252.450449 97.690272 \r\nL 254.580994 90.141822 \r\nL 256.407176 84.454441 \r\nL 257.928994 80.348959 \r\nL 259.450813 76.875078 \r\nL 260.668267 74.578808 \r\nL 261.885722 72.729634 \r\nL 263.103176 71.33926 \r\nL 264.016267 70.60197 \r\nL 264.929358 70.128071 \r\nL 265.842449 69.917269 \r\nL 266.75554 69.967753 \r\nL 267.668631 70.276256 \r\nL 268.581722 70.837992 \r\nL 269.494813 71.646711 \r\nL 270.712267 73.09573 \r\nL 271.929722 74.947989 \r\nL 273.147176 77.177244 \r\nL 274.668994 80.447648 \r\nL 276.495176 84.992411 \r\nL 278.625722 90.983729 \r\nL 281.364994 99.421453 \r\nL 288.060994 120.371487 \r\nL 290.19154 126.196211 \r\nL 292.017722 130.561049 \r\nL 293.53954 133.662563 \r\nL 295.061358 136.212828 \r\nL 296.278813 137.822765 \r\nL 297.496267 139.028378 \r\nL 298.409358 139.658102 \r\nL 299.322449 140.047536 \r\nL 300.23554 140.193984 \r\nL 301.148631 140.09644 \r\nL 302.061722 139.755615 \r\nL 302.974813 139.173916 \r\nL 303.887903 138.35545 \r\nL 305.105358 136.906059 \r\nL 306.322813 135.064315 \r\nL 307.540267 132.853215 \r\nL 309.062085 129.612415 \r\nL 310.888267 125.108539 \r\nL 313.018813 119.166937 \r\nL 315.758085 110.790034 \r\nL 322.454085 89.923706 \r\nL 324.584631 84.076721 \r\nL 326.410813 79.654762 \r\nL 327.932631 76.468455 \r\nL 329.454449 73.789753 \r\nL 330.671903 72.038815 \r\nL 331.889358 70.652236 \r\nL 333.106812 69.63927 \r\nL 334.019903 69.127389 \r\nL 334.932994 68.827912 \r\nL 335.846085 68.739079 \r\nL 336.759176 68.857561 \r\nL 337.672267 69.17852 \r\nL 338.585358 69.695662 \r\nL 339.802813 70.676962 \r\nL 341.020267 71.971676 \r\nL 342.542085 73.992049 \r\nL 344.063903 76.406409 \r\nL 345.890085 79.735855 \r\nL 348.324994 84.718008 \r\nL 352.586085 94.132054 \r\nL 356.238449 101.973736 \r\nL 358.064631 105.553944 \r\nL 358.064631 105.553944 \r\n\" style=\"fill:none;stroke:#d62728;stroke-linecap:square;stroke-width:1.5;\"/>\r\n   </g>\r\n   <g id=\"line2d_20\">\r\n    <path clip-path=\"url(#p83df820ab1)\" d=\"M 53.700994 78.781204 \r\nL 54.005358 78.781204 \r\nL 56.440267 68.900252 \r\nL 58.570813 61.17895 \r\nL 60.396994 55.440576 \r\nL 61.918813 51.378927 \r\nL 63.136267 48.646501 \r\nL 64.353722 46.401892 \r\nL 65.571176 44.665506 \r\nL 66.484267 43.705864 \r\nL 67.397358 43.044712 \r\nL 68.310449 42.684423 \r\nL 69.22354 42.625591 \r\nL 70.136631 42.86706 \r\nL 71.049722 43.405959 \r\nL 71.962812 44.237753 \r\nL 72.875903 45.356302 \r\nL 74.093358 47.280286 \r\nL 75.310812 49.678055 \r\nL 76.528267 52.523178 \r\nL 78.050085 56.662233 \r\nL 79.876267 62.394914 \r\nL 82.006812 69.976274 \r\nL 84.441722 79.547388 \r\nL 88.094085 94.985412 \r\nL 93.876994 119.539402 \r\nL 96.616267 130.223905 \r\nL 99.051176 138.827434 \r\nL 101.181722 145.526523 \r\nL 103.007903 150.591105 \r\nL 104.834085 155.00006 \r\nL 106.355903 158.164876 \r\nL 107.877722 160.868136 \r\nL 109.39954 163.118113 \r\nL 110.921358 164.928707 \r\nL 112.138813 166.07317 \r\nL 113.356267 166.959487 \r\nL 114.573722 167.600105 \r\nL 115.791176 168.008379 \r\nL 117.008631 168.198318 \r\nL 118.226085 168.184353 \r\nL 119.44354 167.981162 \r\nL 120.965358 167.483593 \r\nL 122.487176 166.742337 \r\nL 124.313358 165.57169 \r\nL 126.13954 164.141204 \r\nL 128.574449 161.915878 \r\nL 131.618085 158.792956 \r\nL 138.618449 151.463112 \r\nL 141.053358 149.301972 \r\nL 142.87954 147.939845 \r\nL 144.705722 146.848339 \r\nL 146.22754 146.17015 \r\nL 147.749358 145.716562 \r\nL 149.271176 145.493647 \r\nL 150.792994 145.499744 \r\nL 152.314813 145.724969 \r\nL 154.140994 146.258215 \r\nL 155.967176 147.033451 \r\nL 158.402085 148.334812 \r\nL 164.489358 151.77152 \r\nL 166.31554 152.517804 \r\nL 168.141722 153.005779 \r\nL 169.66354 153.179796 \r\nL 171.185358 153.123985 \r\nL 172.707176 152.833178 \r\nL 174.228994 152.314393 \r\nL 176.055176 151.418978 \r\nL 178.185722 150.070944 \r\nL 181.533722 147.595131 \r\nL 184.577358 145.430888 \r\nL 186.40354 144.393836 \r\nL 187.925358 143.774758 \r\nL 189.142812 143.47966 \r\nL 190.360267 143.388735 \r\nL 191.577722 143.521783 \r\nL 192.795176 143.89386 \r\nL 194.012631 144.514867 \r\nL 195.230085 145.389284 \r\nL 196.44754 146.516051 \r\nL 197.969358 148.268874 \r\nL 199.491176 150.380921 \r\nL 201.317358 153.337522 \r\nL 203.447903 157.262409 \r\nL 206.187176 162.810023 \r\nL 211.970085 174.690104 \r\nL 214.100631 178.544834 \r\nL 215.926813 181.418511 \r\nL 217.448631 183.440509 \r\nL 218.970449 185.075385 \r\nL 220.187903 186.078503 \r\nL 221.405358 186.792407 \r\nL 222.622813 187.202931 \r\nL 223.535903 187.304594 \r\nL 224.448994 187.224896 \r\nL 225.362085 186.960477 \r\nL 226.275176 186.508666 \r\nL 227.492631 185.61138 \r\nL 228.710085 184.374503 \r\nL 229.92754 182.797086 \r\nL 231.144994 180.880195 \r\nL 232.666812 178.011627 \r\nL 234.188631 174.628388 \r\nL 235.710449 170.746731 \r\nL 237.536631 165.46249 \r\nL 239.667176 158.499343 \r\nL 241.797722 150.777268 \r\nL 244.536994 139.950101 \r\nL 248.493722 123.208077 \r\nL 253.667903 101.330585 \r\nL 256.407176 90.750726 \r\nL 258.537722 83.3949 \r\nL 260.363903 77.858521 \r\nL 261.885722 73.864945 \r\nL 263.40754 70.485713 \r\nL 264.624994 68.248861 \r\nL 265.842449 66.440578 \r\nL 267.059903 65.068177 \r\nL 267.972994 64.326389 \r\nL 268.886085 63.830072 \r\nL 269.799176 63.576635 \r\nL 270.712267 63.561964 \r\nL 271.625358 63.78049 \r\nL 272.538449 64.225279 \r\nL 273.45154 64.888125 \r\nL 274.668994 66.094785 \r\nL 275.886449 67.647308 \r\nL 277.408267 70.031752 \r\nL 278.930085 72.853897 \r\nL 280.756267 76.729409 \r\nL 282.886813 81.781971 \r\nL 285.930449 89.648685 \r\nL 293.53954 109.637725 \r\nL 295.974449 115.316286 \r\nL 298.104994 119.748914 \r\nL 299.931176 123.071369 \r\nL 301.757358 125.897461 \r\nL 303.279176 127.841161 \r\nL 304.800994 129.388493 \r\nL 306.018449 130.330078 \r\nL 307.235903 131.001888 \r\nL 308.453358 131.400424 \r\nL 309.670813 131.524618 \r\nL 310.888267 131.375969 \r\nL 312.105722 130.958667 \r\nL 313.323176 130.279687 \r\nL 314.540631 129.348842 \r\nL 316.062449 127.850679 \r\nL 317.584267 126.009927 \r\nL 319.410449 123.402112 \r\nL 321.540994 119.907417 \r\nL 324.280267 114.916283 \r\nL 331.584994 101.316481 \r\nL 333.71554 97.943711 \r\nL 335.541722 95.466385 \r\nL 337.06354 93.748235 \r\nL 338.585358 92.380758 \r\nL 339.802813 91.556898 \r\nL 341.020267 90.983849 \r\nL 342.237722 90.66807 \r\nL 343.455176 90.612807 \r\nL 344.672631 90.818145 \r\nL 345.890085 91.281115 \r\nL 347.10754 91.995833 \r\nL 348.324994 92.95368 \r\nL 349.846812 94.475684 \r\nL 351.368631 96.333238 \r\nL 353.194813 98.960467 \r\nL 355.325358 102.495393 \r\nL 357.760267 107.020862 \r\nL 358.064631 107.614915 \r\nL 358.064631 107.614915 \r\n\" style=\"fill:none;stroke:#9467bd;stroke-linecap:square;stroke-width:1.5;\"/>\r\n   </g>\r\n   <g id=\"line2d_21\">\r\n    <path clip-path=\"url(#p83df820ab1)\" d=\"M 53.700994 78.781204 \r\nL 54.005358 78.781204 \r\nL 56.440267 68.900339 \r\nL 58.570813 61.180264 \r\nL 60.396994 55.446311 \r\nL 61.918813 51.393536 \r\nL 63.136267 48.673751 \r\nL 64.353722 46.448708 \r\nL 65.571176 44.740869 \r\nL 66.484267 43.809828 \r\nL 67.397358 43.184461 \r\nL 68.310449 42.868032 \r\nL 69.22354 42.861978 \r\nL 70.136631 43.165905 \r\nL 71.049722 43.777602 \r\nL 71.962812 44.693062 \r\nL 72.875903 45.906526 \r\nL 74.093358 47.974889 \r\nL 75.310812 50.537344 \r\nL 76.832631 54.393486 \r\nL 78.354449 58.916184 \r\nL 80.180631 65.120629 \r\nL 82.311176 73.251517 \r\nL 85.050449 84.737635 \r\nL 90.833358 110.434819 \r\nL 94.181358 124.620772 \r\nL 96.616267 133.990237 \r\nL 98.746813 141.299202 \r\nL 100.572994 146.796625 \r\nL 102.094813 150.79054 \r\nL 103.616631 154.226937 \r\nL 105.138449 157.095445 \r\nL 106.355903 158.981475 \r\nL 107.573358 160.509604 \r\nL 108.790813 161.689351 \r\nL 110.008267 162.53422 \r\nL 111.225722 163.061431 \r\nL 112.443176 163.29161 \r\nL 113.660631 163.24844 \r\nL 114.878085 162.958281 \r\nL 116.09554 162.449763 \r\nL 117.617358 161.553598 \r\nL 119.44354 160.178835 \r\nL 121.878449 158.020853 \r\nL 127.052631 153.312679 \r\nL 129.183176 151.736224 \r\nL 130.704994 150.84953 \r\nL 132.226812 150.202165 \r\nL 133.748631 149.819926 \r\nL 134.966085 149.716527 \r\nL 136.18354 149.797791 \r\nL 137.400994 150.063924 \r\nL 138.922813 150.650525 \r\nL 140.444631 151.504211 \r\nL 141.966449 152.600398 \r\nL 143.792631 154.189239 \r\nL 146.22754 156.653565 \r\nL 153.836631 164.68676 \r\nL 155.662813 166.156228 \r\nL 157.184631 167.109088 \r\nL 158.706449 167.770175 \r\nL 159.923903 168.06558 \r\nL 161.141358 168.138268 \r\nL 162.358812 167.978161 \r\nL 163.576267 167.579135 \r\nL 164.793722 166.939186 \r\nL 166.011176 166.06053 \r\nL 167.532994 164.636757 \r\nL 169.054812 162.87217 \r\nL 170.880994 160.349929 \r\nL 173.01154 156.941931 \r\nL 175.750813 152.047224 \r\nL 182.142449 140.374284 \r\nL 184.272994 137.06896 \r\nL 185.794813 135.061773 \r\nL 187.316631 133.414837 \r\nL 188.534085 132.390533 \r\nL 189.75154 131.650672 \r\nL 190.968994 131.213112 \r\nL 191.882085 131.091714 \r\nL 192.795176 131.152265 \r\nL 193.708267 131.397429 \r\nL 194.621358 131.828371 \r\nL 195.838813 132.691091 \r\nL 197.056267 133.878124 \r\nL 198.273722 135.379478 \r\nL 199.79554 137.675223 \r\nL 201.317358 140.399652 \r\nL 203.14354 144.164221 \r\nL 205.274085 149.105587 \r\nL 208.317722 156.814518 \r\nL 213.18754 169.229405 \r\nL 215.318085 174.077887 \r\nL 217.144267 177.696842 \r\nL 218.666085 180.232457 \r\nL 219.88354 181.896662 \r\nL 221.100994 183.202974 \r\nL 222.014085 183.931268 \r\nL 222.927176 184.432874 \r\nL 223.840267 184.699297 \r\nL 224.753358 184.723543 \r\nL 225.666449 184.500171 \r\nL 226.57954 184.025333 \r\nL 227.492631 183.2968 \r\nL 228.405722 182.313982 \r\nL 229.623176 180.61005 \r\nL 230.840631 178.463093 \r\nL 232.058085 175.885161 \r\nL 233.579903 172.082968 \r\nL 235.101722 167.677574 \r\nL 236.927903 161.671555 \r\nL 239.058449 153.814992 \r\nL 241.493358 143.969546 \r\nL 245.450085 126.868104 \r\nL 250.01554 107.277707 \r\nL 252.450449 97.690215 \r\nL 254.580994 90.141785 \r\nL 256.407176 84.454397 \r\nL 257.928994 80.348924 \r\nL 259.450813 76.875045 \r\nL 260.668267 74.578781 \r\nL 261.885722 72.729605 \r\nL 263.103176 71.339228 \r\nL 264.016267 70.601954 \r\nL 264.929358 70.12805 \r\nL 265.842449 69.917238 \r\nL 266.75554 69.96773 \r\nL 267.668631 70.276234 \r\nL 268.581722 70.837969 \r\nL 269.494813 71.64669 \r\nL 270.712267 73.09571 \r\nL 271.929722 74.947965 \r\nL 273.147176 77.177222 \r\nL 274.668994 80.447629 \r\nL 276.495176 84.99239 \r\nL 278.625722 90.98371 \r\nL 281.364994 99.421436 \r\nL 288.060994 120.371472 \r\nL 290.19154 126.196189 \r\nL 292.017722 130.561026 \r\nL 293.53954 133.662536 \r\nL 295.061358 136.212796 \r\nL 296.278813 137.822727 \r\nL 297.496267 139.028337 \r\nL 298.409358 139.658057 \r\nL 299.322449 140.047487 \r\nL 300.23554 140.19393 \r\nL 301.148631 140.096382 \r\nL 302.061722 139.755552 \r\nL 302.974813 139.173851 \r\nL 303.887903 138.355383 \r\nL 305.105358 136.905986 \r\nL 306.322813 135.06423 \r\nL 307.540267 132.853131 \r\nL 309.062085 129.61233 \r\nL 310.888267 125.108425 \r\nL 313.018813 119.1668 \r\nL 315.758085 110.789878 \r\nL 322.454085 89.923503 \r\nL 324.584631 84.076507 \r\nL 326.410813 79.654542 \r\nL 327.932631 76.46823 \r\nL 329.454449 73.789524 \r\nL 330.671903 72.038585 \r\nL 331.889358 70.652005 \r\nL 333.106812 69.639039 \r\nL 334.019903 69.127159 \r\nL 334.932994 68.827683 \r\nL 335.846085 68.738845 \r\nL 336.759176 68.85732 \r\nL 337.672267 69.17827 \r\nL 338.585358 69.695414 \r\nL 339.802813 70.676722 \r\nL 341.020267 71.971445 \r\nL 342.542085 73.991824 \r\nL 344.063903 76.406178 \r\nL 345.890085 79.735637 \r\nL 348.324994 84.71779 \r\nL 352.586085 94.131849 \r\nL 356.238449 101.973531 \r\nL 358.064631 105.553746 \r\nL 358.064631 105.553746 \r\n\" style=\"fill:none;stroke:#8c564b;stroke-linecap:square;stroke-width:1.5;\"/>\r\n   </g>\r\n   <g id=\"line2d_22\">\r\n    <path clip-path=\"url(#p83df820ab1)\" d=\"M 53.700994 56.024313 \r\nL 56.135903 44.500019 \r\nL 57.962085 36.846227 \r\nL 59.483903 31.265777 \r\nL 61.005722 26.510749 \r\nL 62.223176 23.35528 \r\nL 63.440631 20.813782 \r\nL 64.353722 19.327535 \r\nL 65.266813 18.21165 \r\nL 66.179903 17.473176 \r\nL 66.788631 17.193006 \r\nL 67.397358 17.083636 \r\nL 68.006085 17.145491 \r\nL 68.614812 17.378545 \r\nL 69.527903 18.047979 \r\nL 70.440994 19.097993 \r\nL 71.354085 20.52291 \r\nL 72.267176 22.314879 \r\nL 73.484631 25.25762 \r\nL 74.702085 28.805716 \r\nL 76.223903 34.037803 \r\nL 77.745722 40.079034 \r\nL 79.571903 48.264465 \r\nL 81.702449 58.874496 \r\nL 84.441722 73.706377 \r\nL 93.268267 122.553164 \r\nL 95.703176 134.22959 \r\nL 97.529358 142.017826 \r\nL 99.35554 148.846005 \r\nL 100.877358 153.74049 \r\nL 102.399176 157.875653 \r\nL 103.616631 160.624534 \r\nL 104.834085 162.873499 \r\nL 106.05154 164.626432 \r\nL 106.964631 165.621291 \r\nL 107.877722 166.348773 \r\nL 108.790813 166.816847 \r\nL 109.703903 167.035122 \r\nL 110.616994 167.014751 \r\nL 111.530085 166.768327 \r\nL 112.443176 166.309766 \r\nL 113.660631 165.394646 \r\nL 114.878085 164.168118 \r\nL 116.399903 162.260514 \r\nL 118.226085 159.535908 \r\nL 120.660994 155.418056 \r\nL 126.443903 145.421855 \r\nL 128.270085 142.741753 \r\nL 129.791903 140.835629 \r\nL 131.313722 139.284282 \r\nL 132.531176 138.327557 \r\nL 133.748631 137.641805 \r\nL 134.966085 137.238729 \r\nL 136.18354 137.125137 \r\nL 137.400994 137.302939 \r\nL 138.618449 137.769209 \r\nL 139.835903 138.516321 \r\nL 141.053358 139.532149 \r\nL 142.575176 141.154515 \r\nL 144.096994 143.130449 \r\nL 145.923176 145.899034 \r\nL 148.053722 149.552609 \r\nL 151.401722 155.811364 \r\nL 155.358449 163.155602 \r\nL 157.488994 166.709307 \r\nL 159.315176 169.375528 \r\nL 160.836994 171.266375 \r\nL 162.358812 172.815341 \r\nL 163.576267 173.788791 \r\nL 164.793722 174.514892 \r\nL 166.011176 174.987906 \r\nL 167.228631 175.206499 \r\nL 168.446085 175.173762 \r\nL 169.66354 174.897183 \r\nL 170.880994 174.388538 \r\nL 172.098449 173.663722 \r\nL 173.620267 172.48419 \r\nL 175.446449 170.729955 \r\nL 177.576994 168.337182 \r\nL 185.186085 159.405691 \r\nL 186.707903 158.057943 \r\nL 188.229722 157.009237 \r\nL 189.447176 156.42329 \r\nL 190.664631 156.0896 \r\nL 191.882085 156.029592 \r\nL 193.09954 156.260669 \r\nL 194.316994 156.795862 \r\nL 195.534449 157.643533 \r\nL 196.751903 158.807148 \r\nL 197.969358 160.285116 \r\nL 199.186813 162.070694 \r\nL 200.708631 164.716602 \r\nL 202.230449 167.789672 \r\nL 204.056631 171.974839 \r\nL 206.187176 177.412266 \r\nL 209.535176 186.692947 \r\nL 213.796267 198.48609 \r\nL 215.926813 203.767349 \r\nL 217.752994 207.690887 \r\nL 219.274813 210.410468 \r\nL 220.492267 212.162458 \r\nL 221.709722 213.492764 \r\nL 222.622813 214.190972 \r\nL 223.535903 214.616438 \r\nL 224.448994 214.756364 \r\nL 225.362085 214.599558 \r\nL 226.275176 214.136539 \r\nL 227.188267 213.359623 \r\nL 228.101358 212.262999 \r\nL 229.014449 210.842802 \r\nL 230.231903 208.442922 \r\nL 231.449358 205.465889 \r\nL 232.666812 201.919397 \r\nL 234.188631 196.707752 \r\nL 235.710449 190.670905 \r\nL 237.536631 182.418897 \r\nL 239.667176 171.564268 \r\nL 242.102085 157.846221 \r\nL 245.450085 137.479125 \r\nL 251.841722 98.172886 \r\nL 254.276631 84.628021 \r\nL 256.407176 74.025568 \r\nL 258.233358 66.09038 \r\nL 259.755176 60.40616 \r\nL 261.276994 55.642624 \r\nL 262.494449 52.532772 \r\nL 263.711903 50.069346 \r\nL 264.624994 48.654788 \r\nL 265.538085 47.615326 \r\nL 266.451176 46.952047 \r\nL 267.059903 46.718355 \r\nL 267.668631 46.650455 \r\nL 268.277358 46.746985 \r\nL 268.886085 47.006138 \r\nL 269.799176 47.694766 \r\nL 270.712267 48.734776 \r\nL 271.625358 50.114681 \r\nL 272.842813 52.459616 \r\nL 274.060267 55.347139 \r\nL 275.582085 59.653398 \r\nL 277.103903 64.644318 \r\nL 278.930085 71.386873 \r\nL 281.364994 81.323776 \r\nL 290.495903 119.805142 \r\nL 292.322085 126.181763 \r\nL 293.843903 130.838067 \r\nL 295.365722 134.808402 \r\nL 296.583176 137.444433 \r\nL 297.800631 139.569407 \r\nL 298.713722 140.814464 \r\nL 299.626813 141.752997 \r\nL 300.539903 142.380405 \r\nL 301.452994 142.694219 \r\nL 302.366085 142.694106 \r\nL 303.279176 142.381848 \r\nL 304.192267 141.761318 \r\nL 305.105358 140.838435 \r\nL 306.018449 139.621106 \r\nL 307.235903 137.557216 \r\nL 308.453358 135.015853 \r\nL 309.975176 131.219496 \r\nL 311.496994 126.806509 \r\nL 313.323176 120.819734 \r\nL 315.758085 111.939447 \r\nL 319.410449 97.568745 \r\nL 323.67154 80.990841 \r\nL 326.106449 72.427097 \r\nL 327.932631 66.720864 \r\nL 329.758813 61.771511 \r\nL 331.280631 58.300191 \r\nL 332.498085 55.984526 \r\nL 333.71554 54.098175 \r\nL 334.932994 52.65298 \r\nL 335.846085 51.862576 \r\nL 336.759176 51.324563 \r\nL 337.672267 51.037811 \r\nL 338.585358 50.999493 \r\nL 339.498449 51.205138 \r\nL 340.41154 51.648689 \r\nL 341.324631 52.322576 \r\nL 342.542085 53.563645 \r\nL 343.75954 55.173064 \r\nL 344.976994 57.122063 \r\nL 346.498812 59.986713 \r\nL 348.324994 63.961281 \r\nL 350.45554 69.176163 \r\nL 353.499176 77.299742 \r\nL 358.064631 89.745316 \r\nL 358.064631 89.745316 \r\n\" style=\"fill:none;stroke:#e377c2;stroke-linecap:square;stroke-width:1.5;\"/>\r\n   </g>\r\n   <g id=\"patch_3\">\r\n    <path d=\"M 38.482813 224.64 \r\nL 38.482813 7.2 \r\n\" style=\"fill:none;stroke:#000000;stroke-linecap:square;stroke-linejoin:miter;stroke-width:0.8;\"/>\r\n   </g>\r\n   <g id=\"patch_4\">\r\n    <path d=\"M 373.282813 224.64 \r\nL 373.282813 7.2 \r\n\" style=\"fill:none;stroke:#000000;stroke-linecap:square;stroke-linejoin:miter;stroke-width:0.8;\"/>\r\n   </g>\r\n   <g id=\"patch_5\">\r\n    <path d=\"M 38.482813 224.64 \r\nL 373.282813 224.64 \r\n\" style=\"fill:none;stroke:#000000;stroke-linecap:square;stroke-linejoin:miter;stroke-width:0.8;\"/>\r\n   </g>\r\n   <g id=\"patch_6\">\r\n    <path d=\"M 38.482813 7.2 \r\nL 373.282813 7.2 \r\n\" style=\"fill:none;stroke:#000000;stroke-linecap:square;stroke-linejoin:miter;stroke-width:0.8;\"/>\r\n   </g>\r\n   <g id=\"legend_1\">\r\n    <g id=\"patch_7\">\r\n     <path d=\"M 164.464844 117.946875 \r\nL 247.300781 117.946875 \r\nQ 249.300781 117.946875 249.300781 115.946875 \r\nL 249.300781 14.2 \r\nQ 249.300781 12.2 247.300781 12.2 \r\nL 164.464844 12.2 \r\nQ 162.464844 12.2 162.464844 14.2 \r\nL 162.464844 115.946875 \r\nQ 162.464844 117.946875 164.464844 117.946875 \r\nz\r\n\" style=\"fill:#ffffff;opacity:0.8;stroke:#cccccc;stroke-linejoin:miter;\"/>\r\n    </g>\r\n    <g id=\"line2d_23\">\r\n     <path d=\"M 166.464844 20.298437 \r\nL 186.464844 20.298437 \r\n\" style=\"fill:none;stroke:#1f77b4;stroke-linecap:square;stroke-width:1.5;\"/>\r\n    </g>\r\n    <g id=\"line2d_24\"/>\r\n    <g id=\"text_16\">\r\n     <!-- TTQS K=3 -->\r\n     <g transform=\"translate(194.464844 23.798437)scale(0.1 -0.1)\">\r\n      <defs>\r\n       <path d=\"M -0.296875 72.90625 \r\nL 61.375 72.90625 \r\nL 61.375 64.59375 \r\nL 35.5 64.59375 \r\nL 35.5 0 \r\nL 25.59375 0 \r\nL 25.59375 64.59375 \r\nL -0.296875 64.59375 \r\nz\r\n\" id=\"DejaVuSans-84\"/>\r\n       <path d=\"M 39.40625 66.21875 \r\nQ 28.65625 66.21875 22.328125 58.203125 \r\nQ 16.015625 50.203125 16.015625 36.375 \r\nQ 16.015625 22.609375 22.328125 14.59375 \r\nQ 28.65625 6.59375 39.40625 6.59375 \r\nQ 50.140625 6.59375 56.421875 14.59375 \r\nQ 62.703125 22.609375 62.703125 36.375 \r\nQ 62.703125 50.203125 56.421875 58.203125 \r\nQ 50.140625 66.21875 39.40625 66.21875 \r\nz\r\nM 53.21875 1.3125 \r\nL 66.21875 -12.890625 \r\nL 54.296875 -12.890625 \r\nL 43.5 -1.21875 \r\nQ 41.890625 -1.3125 41.03125 -1.359375 \r\nQ 40.1875 -1.421875 39.40625 -1.421875 \r\nQ 24.03125 -1.421875 14.8125 8.859375 \r\nQ 5.609375 19.140625 5.609375 36.375 \r\nQ 5.609375 53.65625 14.8125 63.9375 \r\nQ 24.03125 74.21875 39.40625 74.21875 \r\nQ 54.734375 74.21875 63.90625 63.9375 \r\nQ 73.09375 53.65625 73.09375 36.375 \r\nQ 73.09375 23.6875 67.984375 14.640625 \r\nQ 62.890625 5.609375 53.21875 1.3125 \r\nz\r\n\" id=\"DejaVuSans-81\"/>\r\n       <path d=\"M 53.515625 70.515625 \r\nL 53.515625 60.890625 \r\nQ 47.90625 63.578125 42.921875 64.890625 \r\nQ 37.9375 66.21875 33.296875 66.21875 \r\nQ 25.25 66.21875 20.875 63.09375 \r\nQ 16.5 59.96875 16.5 54.203125 \r\nQ 16.5 49.359375 19.40625 46.890625 \r\nQ 22.3125 44.4375 30.421875 42.921875 \r\nL 36.375 41.703125 \r\nQ 47.40625 39.59375 52.65625 34.296875 \r\nQ 57.90625 29 57.90625 20.125 \r\nQ 57.90625 9.515625 50.796875 4.046875 \r\nQ 43.703125 -1.421875 29.984375 -1.421875 \r\nQ 24.8125 -1.421875 18.96875 -0.25 \r\nQ 13.140625 0.921875 6.890625 3.21875 \r\nL 6.890625 13.375 \r\nQ 12.890625 10.015625 18.65625 8.296875 \r\nQ 24.421875 6.59375 29.984375 6.59375 \r\nQ 38.421875 6.59375 43.015625 9.90625 \r\nQ 47.609375 13.234375 47.609375 19.390625 \r\nQ 47.609375 24.75 44.3125 27.78125 \r\nQ 41.015625 30.8125 33.5 32.328125 \r\nL 27.484375 33.5 \r\nQ 16.453125 35.6875 11.515625 40.375 \r\nQ 6.59375 45.0625 6.59375 53.421875 \r\nQ 6.59375 63.09375 13.40625 68.65625 \r\nQ 20.21875 74.21875 32.171875 74.21875 \r\nQ 37.3125 74.21875 42.625 73.28125 \r\nQ 47.953125 72.359375 53.515625 70.515625 \r\nz\r\n\" id=\"DejaVuSans-83\"/>\r\n       <path id=\"DejaVuSans-32\"/>\r\n       <path d=\"M 9.8125 72.90625 \r\nL 19.671875 72.90625 \r\nL 19.671875 42.09375 \r\nL 52.390625 72.90625 \r\nL 65.09375 72.90625 \r\nL 28.90625 38.921875 \r\nL 67.671875 0 \r\nL 54.6875 0 \r\nL 19.671875 35.109375 \r\nL 19.671875 0 \r\nL 9.8125 0 \r\nz\r\n\" id=\"DejaVuSans-75\"/>\r\n       <path d=\"M 10.59375 45.40625 \r\nL 73.1875 45.40625 \r\nL 73.1875 37.203125 \r\nL 10.59375 37.203125 \r\nz\r\nM 10.59375 25.484375 \r\nL 73.1875 25.484375 \r\nL 73.1875 17.1875 \r\nL 10.59375 17.1875 \r\nz\r\n\" id=\"DejaVuSans-61\"/>\r\n      </defs>\r\n      <use xlink:href=\"#DejaVuSans-84\"/>\r\n      <use x=\"59.333984\" xlink:href=\"#DejaVuSans-84\"/>\r\n      <use x=\"120.417969\" xlink:href=\"#DejaVuSans-81\"/>\r\n      <use x=\"199.128906\" xlink:href=\"#DejaVuSans-83\"/>\r\n      <use x=\"262.605469\" xlink:href=\"#DejaVuSans-32\"/>\r\n      <use x=\"294.392578\" xlink:href=\"#DejaVuSans-75\"/>\r\n      <use x=\"359.96875\" xlink:href=\"#DejaVuSans-61\"/>\r\n      <use x=\"443.757812\" xlink:href=\"#DejaVuSans-51\"/>\r\n     </g>\r\n    </g>\r\n    <g id=\"line2d_25\">\r\n     <path d=\"M 166.464844 34.976562 \r\nL 186.464844 34.976562 \r\n\" style=\"fill:none;stroke:#ff7f0e;stroke-linecap:square;stroke-width:1.5;\"/>\r\n    </g>\r\n    <g id=\"line2d_26\"/>\r\n    <g id=\"text_17\">\r\n     <!-- TTQS K=4 -->\r\n     <g transform=\"translate(194.464844 38.476562)scale(0.1 -0.1)\">\r\n      <use xlink:href=\"#DejaVuSans-84\"/>\r\n      <use x=\"59.333984\" xlink:href=\"#DejaVuSans-84\"/>\r\n      <use x=\"120.417969\" xlink:href=\"#DejaVuSans-81\"/>\r\n      <use x=\"199.128906\" xlink:href=\"#DejaVuSans-83\"/>\r\n      <use x=\"262.605469\" xlink:href=\"#DejaVuSans-32\"/>\r\n      <use x=\"294.392578\" xlink:href=\"#DejaVuSans-75\"/>\r\n      <use x=\"359.96875\" xlink:href=\"#DejaVuSans-61\"/>\r\n      <use x=\"443.757812\" xlink:href=\"#DejaVuSans-52\"/>\r\n     </g>\r\n    </g>\r\n    <g id=\"line2d_27\">\r\n     <path d=\"M 166.464844 49.654687 \r\nL 186.464844 49.654687 \r\n\" style=\"fill:none;stroke:#2ca02c;stroke-linecap:square;stroke-width:1.5;\"/>\r\n    </g>\r\n    <g id=\"line2d_28\"/>\r\n    <g id=\"text_18\">\r\n     <!-- QAS K=3 -->\r\n     <g transform=\"translate(194.464844 53.154687)scale(0.1 -0.1)\">\r\n      <defs>\r\n       <path d=\"M 34.1875 63.1875 \r\nL 20.796875 26.90625 \r\nL 47.609375 26.90625 \r\nz\r\nM 28.609375 72.90625 \r\nL 39.796875 72.90625 \r\nL 67.578125 0 \r\nL 57.328125 0 \r\nL 50.6875 18.703125 \r\nL 17.828125 18.703125 \r\nL 11.1875 0 \r\nL 0.78125 0 \r\nz\r\n\" id=\"DejaVuSans-65\"/>\r\n      </defs>\r\n      <use xlink:href=\"#DejaVuSans-81\"/>\r\n      <use x=\"78.710938\" xlink:href=\"#DejaVuSans-65\"/>\r\n      <use x=\"147.119141\" xlink:href=\"#DejaVuSans-83\"/>\r\n      <use x=\"210.595703\" xlink:href=\"#DejaVuSans-32\"/>\r\n      <use x=\"242.382812\" xlink:href=\"#DejaVuSans-75\"/>\r\n      <use x=\"307.958984\" xlink:href=\"#DejaVuSans-61\"/>\r\n      <use x=\"391.748047\" xlink:href=\"#DejaVuSans-51\"/>\r\n     </g>\r\n    </g>\r\n    <g id=\"line2d_29\">\r\n     <path d=\"M 166.464844 64.332812 \r\nL 186.464844 64.332812 \r\n\" style=\"fill:none;stroke:#d62728;stroke-linecap:square;stroke-width:1.5;\"/>\r\n    </g>\r\n    <g id=\"line2d_30\"/>\r\n    <g id=\"text_19\">\r\n     <!-- QAS K=4 -->\r\n     <g transform=\"translate(194.464844 67.832812)scale(0.1 -0.1)\">\r\n      <use xlink:href=\"#DejaVuSans-81\"/>\r\n      <use x=\"78.710938\" xlink:href=\"#DejaVuSans-65\"/>\r\n      <use x=\"147.119141\" xlink:href=\"#DejaVuSans-83\"/>\r\n      <use x=\"210.595703\" xlink:href=\"#DejaVuSans-32\"/>\r\n      <use x=\"242.382812\" xlink:href=\"#DejaVuSans-75\"/>\r\n      <use x=\"307.958984\" xlink:href=\"#DejaVuSans-61\"/>\r\n      <use x=\"391.748047\" xlink:href=\"#DejaVuSans-52\"/>\r\n     </g>\r\n    </g>\r\n    <g id=\"line2d_31\">\r\n     <path d=\"M 166.464844 79.010937 \r\nL 186.464844 79.010937 \r\n\" style=\"fill:none;stroke:#9467bd;stroke-linecap:square;stroke-width:1.5;\"/>\r\n    </g>\r\n    <g id=\"line2d_32\"/>\r\n    <g id=\"text_20\">\r\n     <!-- CQFF K=3 -->\r\n     <g transform=\"translate(194.464844 82.510937)scale(0.1 -0.1)\">\r\n      <defs>\r\n       <path d=\"M 64.40625 67.28125 \r\nL 64.40625 56.890625 \r\nQ 59.421875 61.53125 53.78125 63.8125 \r\nQ 48.140625 66.109375 41.796875 66.109375 \r\nQ 29.296875 66.109375 22.65625 58.46875 \r\nQ 16.015625 50.828125 16.015625 36.375 \r\nQ 16.015625 21.96875 22.65625 14.328125 \r\nQ 29.296875 6.6875 41.796875 6.6875 \r\nQ 48.140625 6.6875 53.78125 8.984375 \r\nQ 59.421875 11.28125 64.40625 15.921875 \r\nL 64.40625 5.609375 \r\nQ 59.234375 2.09375 53.4375 0.328125 \r\nQ 47.65625 -1.421875 41.21875 -1.421875 \r\nQ 24.65625 -1.421875 15.125 8.703125 \r\nQ 5.609375 18.84375 5.609375 36.375 \r\nQ 5.609375 53.953125 15.125 64.078125 \r\nQ 24.65625 74.21875 41.21875 74.21875 \r\nQ 47.75 74.21875 53.53125 72.484375 \r\nQ 59.328125 70.75 64.40625 67.28125 \r\nz\r\n\" id=\"DejaVuSans-67\"/>\r\n       <path d=\"M 9.8125 72.90625 \r\nL 51.703125 72.90625 \r\nL 51.703125 64.59375 \r\nL 19.671875 64.59375 \r\nL 19.671875 43.109375 \r\nL 48.578125 43.109375 \r\nL 48.578125 34.8125 \r\nL 19.671875 34.8125 \r\nL 19.671875 0 \r\nL 9.8125 0 \r\nz\r\n\" id=\"DejaVuSans-70\"/>\r\n      </defs>\r\n      <use xlink:href=\"#DejaVuSans-67\"/>\r\n      <use x=\"69.824219\" xlink:href=\"#DejaVuSans-81\"/>\r\n      <use x=\"148.535156\" xlink:href=\"#DejaVuSans-70\"/>\r\n      <use x=\"206.054688\" xlink:href=\"#DejaVuSans-70\"/>\r\n      <use x=\"263.574219\" xlink:href=\"#DejaVuSans-32\"/>\r\n      <use x=\"295.361328\" xlink:href=\"#DejaVuSans-75\"/>\r\n      <use x=\"360.9375\" xlink:href=\"#DejaVuSans-61\"/>\r\n      <use x=\"444.726562\" xlink:href=\"#DejaVuSans-51\"/>\r\n     </g>\r\n    </g>\r\n    <g id=\"line2d_33\">\r\n     <path d=\"M 166.464844 93.689062 \r\nL 186.464844 93.689062 \r\n\" style=\"fill:none;stroke:#8c564b;stroke-linecap:square;stroke-width:1.5;\"/>\r\n    </g>\r\n    <g id=\"line2d_34\"/>\r\n    <g id=\"text_21\">\r\n     <!-- CQFF K=4 -->\r\n     <g transform=\"translate(194.464844 97.189062)scale(0.1 -0.1)\">\r\n      <use xlink:href=\"#DejaVuSans-67\"/>\r\n      <use x=\"69.824219\" xlink:href=\"#DejaVuSans-81\"/>\r\n      <use x=\"148.535156\" xlink:href=\"#DejaVuSans-70\"/>\r\n      <use x=\"206.054688\" xlink:href=\"#DejaVuSans-70\"/>\r\n      <use x=\"263.574219\" xlink:href=\"#DejaVuSans-32\"/>\r\n      <use x=\"295.361328\" xlink:href=\"#DejaVuSans-75\"/>\r\n      <use x=\"360.9375\" xlink:href=\"#DejaVuSans-61\"/>\r\n      <use x=\"444.726562\" xlink:href=\"#DejaVuSans-52\"/>\r\n     </g>\r\n    </g>\r\n    <g id=\"line2d_35\">\r\n     <path d=\"M 166.464844 108.367187 \r\nL 186.464844 108.367187 \r\n\" style=\"fill:none;stroke:#e377c2;stroke-linecap:square;stroke-width:1.5;\"/>\r\n    </g>\r\n    <g id=\"line2d_36\"/>\r\n    <g id=\"text_22\">\r\n     <!-- Classical -->\r\n     <g transform=\"translate(194.464844 111.867187)scale(0.1 -0.1)\">\r\n      <defs>\r\n       <path d=\"M 9.421875 75.984375 \r\nL 18.40625 75.984375 \r\nL 18.40625 0 \r\nL 9.421875 0 \r\nz\r\n\" id=\"DejaVuSans-108\"/>\r\n       <path d=\"M 34.28125 27.484375 \r\nQ 23.390625 27.484375 19.1875 25 \r\nQ 14.984375 22.515625 14.984375 16.5 \r\nQ 14.984375 11.71875 18.140625 8.90625 \r\nQ 21.296875 6.109375 26.703125 6.109375 \r\nQ 34.1875 6.109375 38.703125 11.40625 \r\nQ 43.21875 16.703125 43.21875 25.484375 \r\nL 43.21875 27.484375 \r\nz\r\nM 52.203125 31.203125 \r\nL 52.203125 0 \r\nL 43.21875 0 \r\nL 43.21875 8.296875 \r\nQ 40.140625 3.328125 35.546875 0.953125 \r\nQ 30.953125 -1.421875 24.3125 -1.421875 \r\nQ 15.921875 -1.421875 10.953125 3.296875 \r\nQ 6 8.015625 6 15.921875 \r\nQ 6 25.140625 12.171875 29.828125 \r\nQ 18.359375 34.515625 30.609375 34.515625 \r\nL 43.21875 34.515625 \r\nL 43.21875 35.40625 \r\nQ 43.21875 41.609375 39.140625 45 \r\nQ 35.0625 48.390625 27.6875 48.390625 \r\nQ 23 48.390625 18.546875 47.265625 \r\nQ 14.109375 46.140625 10.015625 43.890625 \r\nL 10.015625 52.203125 \r\nQ 14.9375 54.109375 19.578125 55.046875 \r\nQ 24.21875 56 28.609375 56 \r\nQ 40.484375 56 46.34375 49.84375 \r\nQ 52.203125 43.703125 52.203125 31.203125 \r\nz\r\n\" id=\"DejaVuSans-97\"/>\r\n       <path d=\"M 44.28125 53.078125 \r\nL 44.28125 44.578125 \r\nQ 40.484375 46.53125 36.375 47.5 \r\nQ 32.28125 48.484375 27.875 48.484375 \r\nQ 21.1875 48.484375 17.84375 46.4375 \r\nQ 14.5 44.390625 14.5 40.28125 \r\nQ 14.5 37.15625 16.890625 35.375 \r\nQ 19.28125 33.59375 26.515625 31.984375 \r\nL 29.59375 31.296875 \r\nQ 39.15625 29.25 43.1875 25.515625 \r\nQ 47.21875 21.78125 47.21875 15.09375 \r\nQ 47.21875 7.46875 41.1875 3.015625 \r\nQ 35.15625 -1.421875 24.609375 -1.421875 \r\nQ 20.21875 -1.421875 15.453125 -0.5625 \r\nQ 10.6875 0.296875 5.421875 2 \r\nL 5.421875 11.28125 \r\nQ 10.40625 8.6875 15.234375 7.390625 \r\nQ 20.0625 6.109375 24.8125 6.109375 \r\nQ 31.15625 6.109375 34.5625 8.28125 \r\nQ 37.984375 10.453125 37.984375 14.40625 \r\nQ 37.984375 18.0625 35.515625 20.015625 \r\nQ 33.0625 21.96875 24.703125 23.78125 \r\nL 21.578125 24.515625 \r\nQ 13.234375 26.265625 9.515625 29.90625 \r\nQ 5.8125 33.546875 5.8125 39.890625 \r\nQ 5.8125 47.609375 11.28125 51.796875 \r\nQ 16.75 56 26.8125 56 \r\nQ 31.78125 56 36.171875 55.265625 \r\nQ 40.578125 54.546875 44.28125 53.078125 \r\nz\r\n\" id=\"DejaVuSans-115\"/>\r\n       <path d=\"M 9.421875 54.6875 \r\nL 18.40625 54.6875 \r\nL 18.40625 0 \r\nL 9.421875 0 \r\nz\r\nM 9.421875 75.984375 \r\nL 18.40625 75.984375 \r\nL 18.40625 64.59375 \r\nL 9.421875 64.59375 \r\nz\r\n\" id=\"DejaVuSans-105\"/>\r\n       <path d=\"M 48.78125 52.59375 \r\nL 48.78125 44.1875 \r\nQ 44.96875 46.296875 41.140625 47.34375 \r\nQ 37.3125 48.390625 33.40625 48.390625 \r\nQ 24.65625 48.390625 19.8125 42.84375 \r\nQ 14.984375 37.3125 14.984375 27.296875 \r\nQ 14.984375 17.28125 19.8125 11.734375 \r\nQ 24.65625 6.203125 33.40625 6.203125 \r\nQ 37.3125 6.203125 41.140625 7.25 \r\nQ 44.96875 8.296875 48.78125 10.40625 \r\nL 48.78125 2.09375 \r\nQ 45.015625 0.34375 40.984375 -0.53125 \r\nQ 36.96875 -1.421875 32.421875 -1.421875 \r\nQ 20.0625 -1.421875 12.78125 6.34375 \r\nQ 5.515625 14.109375 5.515625 27.296875 \r\nQ 5.515625 40.671875 12.859375 48.328125 \r\nQ 20.21875 56 33.015625 56 \r\nQ 37.15625 56 41.109375 55.140625 \r\nQ 45.0625 54.296875 48.78125 52.59375 \r\nz\r\n\" id=\"DejaVuSans-99\"/>\r\n      </defs>\r\n      <use xlink:href=\"#DejaVuSans-67\"/>\r\n      <use x=\"69.824219\" xlink:href=\"#DejaVuSans-108\"/>\r\n      <use x=\"97.607422\" xlink:href=\"#DejaVuSans-97\"/>\r\n      <use x=\"158.886719\" xlink:href=\"#DejaVuSans-115\"/>\r\n      <use x=\"210.986328\" xlink:href=\"#DejaVuSans-115\"/>\r\n      <use x=\"263.085938\" xlink:href=\"#DejaVuSans-105\"/>\r\n      <use x=\"290.869141\" xlink:href=\"#DejaVuSans-99\"/>\r\n      <use x=\"345.849609\" xlink:href=\"#DejaVuSans-97\"/>\r\n      <use x=\"407.128906\" xlink:href=\"#DejaVuSans-108\"/>\r\n     </g>\r\n    </g>\r\n   </g>\r\n  </g>\r\n </g>\r\n <defs>\r\n  <clipPath id=\"p83df820ab1\">\r\n   <rect height=\"217.44\" width=\"334.8\" x=\"38.482813\" y=\"7.2\"/>\r\n  </clipPath>\r\n </defs>\r\n</svg>\r\n",
      "image/png": "[encoded data removed]"
     },
     "metadata": {
      "needs_background": "light"
     }
    }
   ],
   "source": [
    "#What Ks we want to plot\n",
    "whatK = [3,4]\n",
    "\n",
    "#Here, we can either evaluate the O matrix classically, or with qiskit circuits\n",
    "\n",
    "#Plotting results for TTQS\n",
    "# plotp.QS_plotter_forobservable(num_qubits,finalresultsTTQS,times,whatK,'TTQS',observable,initial_state, evalmethod = \"matrix_multiplication\")\n",
    "plotp.QS_plotter_forobservable(num_qubits,finalresultsTTQS,times,whatK,'TTQS',observable,initial_state, evalmethod = \"qiskit_circuits\", expectation_calculator = expectation_calculator)\n",
    "\n",
    "#Plotting results for QAS\n",
    "# plotp.QS_plotter_forobservable(num_qubits,finalresultsQAS,times,whatK,'QAS',observable,initial_state, evalmethod = \"matrix_multiplication\")\n",
    "plotp.QS_plotter_forobservable(num_qubits,finalresultsQAS,times,whatK,'QAS',observable,initial_state, evalmethod = \"qiskit_circuits\", expectation_calculator = expectation_calculator)\n",
    "\n",
    "#Plotting results for CQFF\n",
    "# plotp.QS_plotter_forobservable(num_qubits,finalresultsCQFF,times,whatK,'CQFF',observable,initial_state, evalmethod = \"matrix_multiplication\")\n",
    "plotp.QS_plotter_forobservable(num_qubits,finalresultsCQFF,times,whatK,'CQFF',observable,initial_state, evalmethod = \"qiskit_circuits\", expectation_calculator = expectation_calculator)\n",
    "\n",
    "#Plotting classical result\n",
    "observablematrix = observable.to_matrixform()\n",
    "classicalresult = cS_instance.get_expectations_observables(observablematrix)\n",
    "plotp.CS_plotter_forobservable(times,classicalresult)\n",
    "\n",
    "#Show plot\n",
    "plotp.show_plot()"
   ]
  },
  {
   "source": [
    "### Saving calculated expectation values for future use\n",
    "\n",
    "After all of the computation on the QM com, we can store the computed expectation values on the QM com like this:\n",
    "\n",
    "Just uncomment the commented out lines in the cell below to try"
   ],
   "cell_type": "markdown",
   "metadata": {}
  },
  {
   "cell_type": "code",
   "execution_count": 11,
   "metadata": {},
   "outputs": [],
   "source": [
    "import os \n",
    "from datetime import datetime\n",
    "import pickle\n",
    "\n",
    "#%% General helpful functions\n",
    "if not os.path.exists('obj'):\n",
    "    os.mkdir('obj')\n",
    "\n",
    "def save_obj(obj, name):\n",
    "    #name is a string\n",
    "    with open('obj/'+ name + '.pkl', 'wb') as f:\n",
    "        pickle.dump(obj, f, pickle.HIGHEST_PROTOCOL)\n",
    "\n",
    "def load_obj(name):\n",
    "    #name is a string\n",
    "    with open('obj/' + name + '.pkl', 'rb') as f:\n",
    "        return pickle.load(f)\n",
    "\n",
    "#Uncomment the chunk of code below to try the saving\n",
    "# now = datetime.now() # datetime object containing current date and time\n",
    "# dt_string = now.strftime(\"%d-%m-%Y %H_%M_%S\")\n",
    "# save_obj(expectation_calculator, \"expectation_calculator_\" + dt_string) #feel free to use a different filename."
   ]
  },
  {
   "source": [
    "We can also load the expectation_calculator by using the load_obj function. An example is shown below:"
   ],
   "cell_type": "markdown",
   "metadata": {}
  },
  {
   "source": [
    "expectation_calculator = load_obj(\"expectation_calculator_27-04-2021 18_07_44\")"
   ],
   "cell_type": "code",
   "metadata": {},
   "execution_count": 12,
   "outputs": []
  }
 ],
 "metadata": {
  "kernelspec": {
   "name": "python386jvsc74a57bd08557eb2d945500c3fe1ea6bd9d8b4e53c2488d2239ec048fbb749f12145f17d1",
   "display_name": "Python 3.8.6 64-bit"
  },
  "language_info": {
   "codemirror_mode": {
    "name": "ipython",
    "version": 3
   },
   "file_extension": ".py",
   "mimetype": "text/x-python",
   "name": "python",
   "nbconvert_exporter": "python",
   "pygments_lexer": "ipython3",
   "version": "3.8.6"
  }
 },
 "nbformat": 4,
 "nbformat_minor": 5
}