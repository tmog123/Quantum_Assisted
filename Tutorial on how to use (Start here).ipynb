{
 "cells": [
  {
   "cell_type": "markdown",
   "id": "conventional-testing",
   "metadata": {},
   "source": [
    "# Basic tutorial on how to use the quantum simulators\n",
    "\n",
    "### This tutorial shows the basic idea of how to use the quantum assisted package to carry out Quantum Assisted Simulator (QAS), Truncated Taylor Quantum Simulator (TTQS) and the Classical Quantum Fast-Forwarding (CQFF)\n",
    "\n",
    "Quantum Assisted Simulator: https://arxiv.org/abs/2011.06911, https://arxiv.org/abs/2011.14737, https://arxiv.org/abs/2101.07677\n",
    "\n",
    "Truncated Taylor Quantum Simulator: https://arxiv.org/abs/2103.05500\n",
    "\n",
    "Classical Quantum Fast-Forwarding: https://arxiv.org/abs/2104.01931\n",
    "\n",
    "First, we describe how to use the quantum simulators without Qiskit, then we describe how we can use Qiskit to do the quantum simulation directly on the IBMQ computer."
   ]
  },
  {
   "cell_type": "markdown",
   "id": "documented-joint",
   "metadata": {},
   "source": [
    "### Import Packages"
   ]
  },
  {
   "cell_type": "code",
   "execution_count": 1,
   "id": "boxed-poster",
   "metadata": {},
   "outputs": [
    {
     "output_type": "stream",
     "name": "stderr",
     "text": [
      "C:\\Users\\Kian Hwee\\AppData\\Local\\Programs\\Python\\Python38\\lib\\site-packages\\qiskit\\providers\\ibmq\\ibmqfactory.py:192: UserWarning: Timestamps in IBMQ backend properties, jobs, and job results are all now in local time instead of UTC.\n  warnings.warn('Timestamps in IBMQ backend properties, jobs, and job results '\n"
     ]
    }
   ],
   "source": [
    "import numpy as np \n",
    "import ansatz_class_package as acp \n",
    "import pauli_class_package as pcp \n",
    "import hamiltonian_class_package as hcp \n",
    "import matrix_class_package as mcp \n",
    "import post_processing as pp\n",
    "import plotting_package as plotp\n",
    "import warnings\n",
    "warnings.filterwarnings(\"ignore\", category=DeprecationWarning) "
   ]
  },
  {
   "cell_type": "markdown",
   "id": "atomic-waters",
   "metadata": {},
   "source": [
    "### Set parameters for the evaluation"
   ]
  },
  {
   "cell_type": "code",
   "execution_count": 2,
   "id": "parliamentary-assurance",
   "metadata": {},
   "outputs": [],
   "source": [
    "uptowhatK = 4\n",
    "num_qubits = 3\n",
    "endtime = 8\n",
    "num_steps = 1001"
   ]
  },
  {
   "cell_type": "markdown",
   "id": "speaking-florida",
   "metadata": {},
   "source": [
    "### Create the initial state (starting quantum state that will be used in QAS, TTQS and CQFF). Also define Hamiltonian here.\n",
    "\n",
    "This initial state is basically $|\\psi>$ in Definition 1 in https://arxiv.org/abs/2011.06911"
   ]
  },
  {
   "cell_type": "code",
   "execution_count": 3,
   "id": "spiritual-literature",
   "metadata": {},
   "outputs": [],
   "source": [
    "#create initial state\n",
    "initial_state = acp.Initialstate(num_qubits, \"efficient_SU2\", 123, 5)\n",
    "#define Hamiltonian\n",
    "hamiltonian = hcp.transverse_ising_model_1d(num_qubits)\n",
    "# hamiltonian = hcp.heisenberg_xyz_model(num_qubits)\n",
    "\n",
    "#We can define arbitrary Hamiltonians\n",
    "#EXAMPLE: If we have a 4 qubit system and I want to implement the hamiltonian H = 0.6*(XXII) + 0.4*(XZIY), the hamiltonian will be generated with this:   \n",
    "#hcp.generate_arbitrary_hamiltonian(4,[0.6,0.4],[\"1100\",\"1302\"])"
   ]
  },
  {
   "source": [
    "### Define the variables needed for computation on the quantum computer\n",
    "\n",
    "Note that when importing Qiskit_helperfunctions, one's IBMQ account is automatically loaded. If an error is raised, you need to load your IMBQ account first."
   ],
   "cell_type": "markdown",
   "metadata": {}
  },
  {
   "cell_type": "code",
   "execution_count": 4,
   "metadata": {},
   "outputs": [
    {
     "output_type": "stream",
     "name": "stdout",
     "text": [
      "Calibrating POVM Matrix\n",
      "Provider backend:  qasm_simulator\n"
     ]
    }
   ],
   "source": [
    "import Qiskit_helperfunctions as qhf #IBMQ account is loaded here in this import\n",
    "hub, group, project = \"ibm-q-nus\", \"default\", \"reservations\"\n",
    "quantum_com = \"ibmq_rome\" \n",
    "\n",
    "#Other parameters for running on the quantum computer. Choose 1 to uncomment.\n",
    "# sim = \"noiseless_qasm\"\n",
    "# num_shots = 30000 #max is 1000000\n",
    "\n",
    "sim = \"noisy_qasm\"\n",
    "num_shots = 8192 #max is 8192\n",
    "\n",
    "# sim = \"real\"\n",
    "# num_shots = 8192 #max is 8192\n",
    "\n",
    "quantum_computer_choice_results = qhf.choose_quantum_computer(hub, group, project, quantum_com)\n",
    "\n",
    "mitigate_meas_error = True \n",
    "meas_filter = qhf.measurement_error_mitigator(num_qubits, sim, quantum_computer_choice_results, shots = num_shots)\n",
    "\n",
    "# mitigate_meas_error = False\n",
    "# meas_filter = None\n",
    "\n",
    "#expectation calculator here is an object that has a method that takes in a paulistring object P, and returns a <psi|P|psi>.\n",
    "#This expectation calculator also stores previously calculated expectation values, so one doesn't need to compute the same expectation value twice.\n",
    "expectation_calculator = qhf.expectation_calculator(initial_state, sim, quantum_computer_choice_results, meas_error_mitigate = mitigate_meas_error, meas_filter = meas_filter)"
   ]
  },
  {
   "cell_type": "markdown",
   "id": "subtle-cholesterol",
   "metadata": {},
   "source": [
    "### How to run TTQS\n",
    "\n",
    "This following segment shows how the code is meant to work.\n",
    "\n",
    "1. Create initial Ansatz for K = 0\n",
    "2. We need to iterate up to whatever K we want to go up to\n",
    "3. At the start of each iteration, we use the Ansatz for the previous round to generate the new Ansatz. Typically done by the method described in QAS, by generating the new moments and adding them to the existing Ansatz (cumulative K-moment states)\n",
    "4. Use the Ansatz to generate the E and D matrices, and set the initial alphas (the actual starting state we wish to perform time evolution on)\n",
    "5. Specify parameters for the TTQS instance and evaluate\n",
    "6. Update the Ansatz with the new alphas (basically the results of the evaluation)"
   ]
  },
  {
   "cell_type": "code",
   "execution_count": 5,
   "id": "assumed-incident",
   "metadata": {
    "jupyter": {
     "source_hidden": true
    },
    "tags": []
   },
   "outputs": [
    {
     "output_type": "stream",
     "name": "stdout",
     "text": [
      "Currently at K = 1\n",
      "there are 6 states in CSk\n",
      "Setting initial alphas\n",
      "Evaluating matrix with Qiskit Circuits\n",
      "Finished shots\n",
      "Finished shots\n",
      "Finished shots\n",
      "Finished shots\n",
      "Finished shots\n",
      "Finished shots\n",
      "Finished shots\n",
      "Finished shots\n",
      "Finished shots\n",
      "Finished shots\n",
      "Finished shots\n",
      "Finished shots\n",
      "Finished shots\n",
      "Finished shots\n",
      "Finished shots\n",
      "Finished shots\n",
      "Evaluating matrix with Qiskit Circuits\n",
      "Finished shots\n",
      "Finished shots\n",
      "Finished shots\n",
      "Finished shots\n",
      "Finished shots\n",
      "Finished shots\n",
      "Finished shots\n",
      "Finished shots\n",
      "Finished shots\n",
      "Finished shots\n",
      "Ensuring E and D matrices are Hermitian by adding cc\n",
      "Currently at K = 2\n",
      "there are 16 states in CSk\n",
      "Setting initial alphas\n",
      "Evaluating matrix with Qiskit Circuits\n",
      "Finished shots\n",
      "Finished shots\n",
      "Finished shots\n",
      "Finished shots\n",
      "Finished shots\n",
      "Evaluating matrix with Qiskit Circuits\n",
      "Finished shots\n",
      "Ensuring E and D matrices are Hermitian by adding cc\n",
      "Currently at K = 3\n",
      "there are 26 states in CSk\n",
      "Setting initial alphas\n",
      "Evaluating matrix with Qiskit Circuits\n",
      "Evaluating matrix with Qiskit Circuits\n",
      "Ensuring E and D matrices are Hermitian by adding cc\n",
      "Currently at K = 4\n",
      "there are 31 states in CSk\n",
      "Setting initial alphas\n",
      "Evaluating matrix with Qiskit Circuits\n",
      "Evaluating matrix with Qiskit Circuits\n",
      "Ensuring E and D matrices are Hermitian by adding cc\n"
     ]
    }
   ],
   "source": [
    "#Run TTQS\n",
    "\n",
    "#Some extra parameters for TTQS\n",
    "optimizer = 'eigh'\n",
    "inv_cond = 10**(-6)\n",
    "\n",
    "#create Initial Ansatz for K = 0\n",
    "ansatz = acp.initial_ansatz(num_qubits)\n",
    "#finalresults\n",
    "finalresults = []\n",
    "finalresults.append(ansatz)\n",
    "\n",
    "for k in range(1,uptowhatK+1):\n",
    "    print('Currently at K = ' + str(k))\n",
    "    #Generate Ansatz for this round\n",
    "    ansatz = acp.gen_next_ansatz(ansatz, hamiltonian, num_qubits) #By default, there is no processing when generating next Ansatz\n",
    "    \n",
    "    #Set initial alphas for Ansatz\n",
    "    #Only 'start_with_initial_state' has been implemented thus far. \n",
    "    #This basically sets the state we want to evolve as the random, initial state we are using to generate the E and D matrices, for convenience\n",
    "    acp.set_initial_alphas(num_qubits,ansatz,'start_with_initial_state')\n",
    "    E_mat_uneval = mcp.unevaluatedmatrix(num_qubits, ansatz, hamiltonian, \"E\")\n",
    "    D_mat_uneval = mcp.unevaluatedmatrix(num_qubits, ansatz, hamiltonian, \"D\")\n",
    "    \n",
    "    #Here, we can specify how to evaluate the matrices. We can either evaluate the matrices by matrix multiplication,\n",
    "    # or by using the quantum computer specified above\n",
    "\n",
    "    # E_mat_evaluated =  E_mat_uneval.evaluate_matrix_by_matrix_multiplicaton(initial_state)\n",
    "    # D_mat_evaluated = D_mat_uneval.evaluate_matrix_by_matrix_multiplicaton(initial_state)\n",
    "\n",
    "    E_mat_evaluated =  E_mat_uneval.evaluate_matrix_with_qiskit_circuits(expectation_calculator)\n",
    "    D_mat_evaluated = D_mat_uneval.evaluate_matrix_with_qiskit_circuits(expectation_calculator)\n",
    "    \n",
    "    #Get starting alphas\n",
    "    startingstrings,startingalphas = ansatz.get_alphas()\n",
    "    \n",
    "    #Initialize TTQS instance and specify parameters\n",
    "    TTQS_instance = pp.TTQS(num_qubits,D_mat_evaluated,E_mat_evaluated,startingalphas)\n",
    "    TTQS_instance.numberstep(num_steps)\n",
    "    TTQS_instance.define_endtime(endtime)\n",
    "    TTQS_instance.define_optimizer(optimizer)\n",
    "    TTQS_instance.define_invcond(inv_cond)\n",
    "    \n",
    "    #Run TTQS instance\n",
    "    TTQS_instance.evaluate()\n",
    "\n",
    "    #Get results\n",
    "    result = TTQS_instance.get_results()\n",
    "\n",
    "    #Update ansatz with the new alphas\n",
    "    ansatz.update_alphas(result)\n",
    "\n",
    "    #Update final results with this\n",
    "    finalresults.append(ansatz)\n",
    "finalresultsTTQS = finalresults"
   ]
  },
  {
   "cell_type": "markdown",
   "id": "peripheral-pearl",
   "metadata": {},
   "source": [
    "Now, finalresultsTTQS is a list of Ansatzes, each Ansatz basically stores the results for that run.\n",
    "\n",
    "Example, Final results might look like this [Ansatz_0,Ansatz_1,Ansatz_2,Ansatz_3].\n",
    "\n",
    "Where Ansatz_1 is an Ansatz class, which was used for the K=1 run, and contains the final results for that run"
   ]
  },
  {
   "cell_type": "markdown",
   "id": "happy-carolina",
   "metadata": {},
   "source": [
    "### How to run QAS\n",
    "\n",
    "This following segment shows how the code is meant to work. Very similar to TTQS\n",
    "\n",
    "1. Create initial Ansatz for K = 0\n",
    "2. We need to iterate up to whatever K we want to go up to\n",
    "3. At the start of each iteration, we use the Ansatz for the previous round to generate the new Ansatz. Typically done by the method described in QAS, by generating the new moments and adding them to the existing Ansatz (cumulative K-moment states)\n",
    "4. Use the Ansatz to generate the E and D matrices, and set the initial alphas (the actual starting state we wish to perform time evolution on)\n",
    "5. Specify parameters for the QAS instance and evaluate\n",
    "6. Update the Ansatz with the new alphas (basically the results of the evaluation)"
   ]
  },
  {
   "cell_type": "code",
   "execution_count": 6,
   "id": "increased-rotation",
   "metadata": {},
   "outputs": [
    {
     "output_type": "stream",
     "name": "stdout",
     "text": [
      "1\n",
      "there are 6 states in CSk\n",
      "Setting initial alphas\n",
      "Evaluating matrix with Qiskit Circuits\n",
      "Evaluating matrix with Qiskit Circuits\n",
      "Ensuring E and D matrices are Hermitian by adding cc\n",
      "2\n",
      "there are 16 states in CSk\n",
      "Setting initial alphas\n",
      "Evaluating matrix with Qiskit Circuits\n",
      "Evaluating matrix with Qiskit Circuits\n",
      "Ensuring E and D matrices are Hermitian by adding cc\n",
      "3\n",
      "there are 26 states in CSk\n",
      "Setting initial alphas\n",
      "Evaluating matrix with Qiskit Circuits\n",
      "Evaluating matrix with Qiskit Circuits\n",
      "Ensuring E and D matrices are Hermitian by adding cc\n",
      "4\n",
      "there are 31 states in CSk\n",
      "Setting initial alphas\n",
      "Evaluating matrix with Qiskit Circuits\n",
      "Evaluating matrix with Qiskit Circuits\n",
      "Ensuring E and D matrices are Hermitian by adding cc\n"
     ]
    }
   ],
   "source": [
    "#Run QAS\n",
    "\n",
    "#Some extra parameters for QAS\n",
    "p_invcond = 10**(-6)\n",
    "optimizer = 'zvode'\n",
    "\n",
    "#create Initial Ansatz for K = 0\n",
    "ansatz = acp.initial_ansatz(num_qubits)\n",
    "#finalresults\n",
    "finalresults = []\n",
    "finalresults.append(ansatz)\n",
    "\n",
    "for k in range(1,uptowhatK+1):\n",
    "    print(k)\n",
    "\n",
    "    #Generate Ansatz for this round\n",
    "    ansatz = acp.gen_next_ansatz(ansatz, hamiltonian, num_qubits)\n",
    "\n",
    "    #Set initial alphas for Ansatz\n",
    "    acp.set_initial_alphas(num_qubits,ansatz,'start_with_initial_state')\n",
    "\n",
    "    E_mat_uneval = mcp.unevaluatedmatrix(num_qubits, ansatz, hamiltonian, \"E\")\n",
    "    D_mat_uneval = mcp.unevaluatedmatrix(num_qubits, ansatz, hamiltonian, \"D\")\n",
    "\n",
    "    #Here, we can specify how to evaluate the matrices. We can either evaluate the matrices by matrix multiplication,\n",
    "    # or by using the quantum computer specified above\n",
    "    \n",
    "    # E_mat_evaluated =  E_mat_uneval.evaluate_matrix_by_matrix_multiplicaton(initial_state)\n",
    "    # D_mat_evaluated = D_mat_uneval.evaluate_matrix_by_matrix_multiplicaton(initial_state)\n",
    "\n",
    "    E_mat_evaluated =  E_mat_uneval.evaluate_matrix_with_qiskit_circuits(expectation_calculator)\n",
    "    D_mat_evaluated = D_mat_uneval.evaluate_matrix_with_qiskit_circuits(expectation_calculator)\n",
    "\n",
    "    #Get starting alphas\n",
    "    startingstrings,startingalphas = ansatz.get_alphas()\n",
    "\n",
    "    #initialize QAS instance\n",
    "    QAS_instance = pp.QAS(num_qubits, D_mat_evaluated, E_mat_evaluated, startingalphas)\n",
    "    QAS_instance.numberstep(num_steps)\n",
    "    QAS_instance.define_endtime(endtime)\n",
    "    QAS_instance.define_optimizer(optimizer)\n",
    "    QAS_instance.define_p_invcond(p_invcond)\n",
    "\n",
    "    #Run QAS instance\n",
    "    QAS_instance.evaluate()\n",
    "\n",
    "    #Get results\n",
    "    result = QAS_instance.get_results()\n",
    "\n",
    "    #Update ansatz with the new alphas\n",
    "    ansatz.update_alphas(result)\n",
    "\n",
    "    #Update final results with this\n",
    "    finalresults.append(ansatz)\n",
    "finalresultsQAS = finalresults"
   ]
  },
  {
   "source": [
    "### How to run CQFF\n",
    "\n",
    "This following segment shows how the code is meant to work. Very similar to TTQS\n",
    "\n",
    "1. Create initial Ansatz for K = 0\n",
    "2. We need to iterate up to whatever K we want to go up to\n",
    "3. At the start of each iteration, we use the Ansatz for the previous round to generate the new Ansatz. Typically done by the method described in QAS, by generating the new moments and adding them to the existing Ansatz (cumulative K-moment states)\n",
    "4. Use the Ansatz to generate the E and D matrices, and set the initial alphas (the actual starting state we wish to perform time evolution on)\n",
    "5. Specify parameters for the QAS instance and evaluate\n",
    "6. Update the Ansatz with the new alphas (basically the results of the evaluation)"
   ],
   "cell_type": "markdown",
   "metadata": {}
  },
  {
   "cell_type": "code",
   "execution_count": 7,
   "metadata": {},
   "outputs": [
    {
     "output_type": "stream",
     "name": "stdout",
     "text": [
      "1\n",
      "there are 6 states in CSk\n",
      "Setting initial alphas\n",
      "Evaluating matrix with Qiskit Circuits\n",
      "Evaluating matrix with Qiskit Circuits\n",
      "Ensuring E and D matrices are Hermitian by adding cc\n",
      "2\n",
      "there are 16 states in CSk\n",
      "Setting initial alphas\n",
      "Evaluating matrix with Qiskit Circuits\n",
      "Evaluating matrix with Qiskit Circuits\n",
      "Ensuring E and D matrices are Hermitian by adding cc\n",
      "3\n",
      "there are 26 states in CSk\n",
      "Setting initial alphas\n",
      "Evaluating matrix with Qiskit Circuits\n",
      "Evaluating matrix with Qiskit Circuits\n",
      "Ensuring E and D matrices are Hermitian by adding cc\n",
      "4\n",
      "there are 31 states in CSk\n",
      "Setting initial alphas\n",
      "Evaluating matrix with Qiskit Circuits\n",
      "Evaluating matrix with Qiskit Circuits\n",
      "Ensuring E and D matrices are Hermitian by adding cc\n"
     ]
    }
   ],
   "source": [
    "#Some extra parameters for CQFF\n",
    "optimizer = 'eigh'\n",
    "eigh_inv_cond = 10**(-12)\n",
    "\n",
    "#create Initial Ansatz for K = 0\n",
    "ansatz = acp.initial_ansatz(num_qubits)\n",
    "#finalresults\n",
    "finalresults = []\n",
    "finalresults.append(ansatz)\n",
    "\n",
    "#Run CQFF\n",
    "for k in range(1,uptowhatK+1):\n",
    "    print(k)\n",
    "\n",
    "    #Generate Ansatz for this round\n",
    "    ansatz = acp.gen_next_ansatz(ansatz, hamiltonian, num_qubits)\n",
    "\n",
    "    #Set initial alphas for Ansatz\n",
    "    acp.set_initial_alphas(num_qubits,ansatz,'start_with_initial_state')\n",
    "\n",
    "    E_mat_uneval = mcp.unevaluatedmatrix(num_qubits, ansatz, hamiltonian, \"E\")\n",
    "    D_mat_uneval = mcp.unevaluatedmatrix(num_qubits, ansatz, hamiltonian, \"D\")\n",
    "\n",
    "    #Here, we can specify how to evaluate the matrices. We can either evaluate the matrices by matrix multiplication,\n",
    "    # or by using the quantum computer specified above\n",
    "    \n",
    "    # E_mat_evaluated =  E_mat_uneval.evaluate_matrix_by_matrix_multiplicaton(initial_state)\n",
    "    # D_mat_evaluated = D_mat_uneval.evaluate_matrix_by_matrix_multiplicaton(initial_state)\n",
    "\n",
    "    E_mat_evaluated =  E_mat_uneval.evaluate_matrix_with_qiskit_circuits(expectation_calculator)\n",
    "    D_mat_evaluated = D_mat_uneval.evaluate_matrix_with_qiskit_circuits(expectation_calculator)\n",
    "\n",
    "    #Get starting alphas\n",
    "    startingstrings,startingalphas = ansatz.get_alphas()\n",
    "\n",
    "    #initialize CQFF instance\n",
    "    CQFF_instance = pp.CQFF(num_qubits, D_mat_evaluated, E_mat_evaluated, startingalphas)\n",
    "    CQFF_instance.numberstep(num_steps)\n",
    "    CQFF_instance.define_endtime(endtime)\n",
    "    CQFF_instance.define_optimizer(optimizer)\n",
    "    CQFF_instance.define_eigh_invcond(eigh_inv_cond)\n",
    "\n",
    "    #Run CQFF instance\n",
    "    CQFF_instance.evaluate()\n",
    "\n",
    "    #Get results\n",
    "    result = CQFF_instance.get_results()\n",
    "\n",
    "    #Update ansatz with the new alphas\n",
    "    ansatz.update_alphas(result)\n",
    "\n",
    "    #Update final results with this\n",
    "    finalresults.append(ansatz)\n",
    "finalresultsCQFF = finalresults"
   ]
  },
  {
   "cell_type": "markdown",
   "id": "average-snake",
   "metadata": {},
   "source": [
    "### Classical results (to compare)\n",
    "\n",
    "Need to run classical calculations using matrix multiplication"
   ]
  },
  {
   "cell_type": "code",
   "execution_count": 8,
   "id": "continuing-tower",
   "metadata": {},
   "outputs": [],
   "source": [
    "#Run Classical Calculations\n",
    "\n",
    "#Initialize classicalSimulator\n",
    "cS_instance = pp.classicalSimulator(num_qubits,initial_state,hamiltonian)\n",
    "cS_instance.define_endtime(endtime)\n",
    "cS_instance.numberstep(num_steps)\n",
    "\n",
    "#Run classicalSimulator\n",
    "cS_instance.evaluate()\n",
    "\n"
   ]
  },
  {
   "source": [
    "### Set Observable to plot"
   ],
   "cell_type": "markdown",
   "metadata": {}
  },
  {
   "cell_type": "code",
   "execution_count": 9,
   "metadata": {},
   "outputs": [],
   "source": [
    "#Observable we want to plot\n",
    "times = QAS_instance.get_times()\n",
    "observable = hcp.generate_arbitary_observable(num_qubits, [1], [\"3\" + (num_qubits - 1) * \"0\"]) "
   ]
  },
  {
   "cell_type": "markdown",
   "id": "lightweight-roulette",
   "metadata": {},
   "source": [
    "### Show Results"
   ]
  },
  {
   "cell_type": "code",
   "execution_count": 10,
   "id": "billion-madness",
   "metadata": {},
   "outputs": [
    {
     "output_type": "stream",
     "name": "stdout",
     "text": [
      "Preparing observable for plotting for K = 3\n",
      "Evaluating Observable Matrix with Qiskit circuits\n",
      "Evaluating matrix with Qiskit Circuits\n",
      "Finished shots\n",
      "Finished shots\n",
      "Finished shots\n",
      "Finished shots\n",
      "Finished shots\n",
      "Finished shots\n",
      "Finished shots\n",
      "Finished shots\n",
      "Finished shots\n",
      "Finished shots\n",
      "Finished shots\n",
      "Finished shots\n",
      "Finished shots\n",
      "Finished shots\n",
      "Finished shots\n",
      "Finished shots\n",
      "Finished shots\n",
      "Finished shots\n",
      "Finished shots\n",
      "Finished shots\n",
      "Finished shots\n",
      "Finished shots\n",
      "Finished shots\n",
      "Finished shots\n",
      "Finished shots\n",
      "Finished shots\n",
      "Finished shots\n",
      "Finished shots\n",
      "Finished shots\n",
      "Finished shots\n",
      "Finished shots\n",
      "Finished shots\n",
      "Preparing observable for plotting for K = 4\n",
      "Evaluating Observable Matrix with Qiskit circuits\n",
      "Evaluating matrix with Qiskit Circuits\n",
      "Preparing observable for plotting for K = 3\n",
      "Evaluating Observable Matrix with Qiskit circuits\n",
      "Evaluating matrix with Qiskit Circuits\n",
      "Preparing observable for plotting for K = 4\n",
      "Evaluating Observable Matrix with Qiskit circuits\n",
      "Evaluating matrix with Qiskit Circuits\n",
      "Preparing observable for plotting for K = 3\n",
      "Evaluating Observable Matrix with Qiskit circuits\n",
      "Evaluating matrix with Qiskit Circuits\n",
      "Preparing observable for plotting for K = 4\n",
      "Evaluating Observable Matrix with Qiskit circuits\n",
      "Evaluating matrix with Qiskit Circuits\n",
      "C:\\Users\\Kian Hwee\\AppData\\Local\\Programs\\Python\\Python38\\lib\\site-packages\\numpy\\core\\_asarray.py:83: ComplexWarning: Casting complex values to real discards the imaginary part\n",
      "  return array(a, dtype, copy=False, order=order)\n"
     ]
    },
    {
     "output_type": "display_data",
     "data": {
      "text/plain": "<Figure size 432x288 with 1 Axes>",
      "image/svg+xml": "<?xml version=\"1.0\" encoding=\"utf-8\" standalone=\"no\"?>\r\n<!DOCTYPE svg PUBLIC \"-//W3C//DTD SVG 1.1//EN\"\r\n  \"http://www.w3.org/Graphics/SVG/1.1/DTD/svg11.dtd\">\r\n<!-- Created with matplotlib (https://matplotlib.org/) -->\r\n<svg height=\"248.518125pt\" version=\"1.1\" viewBox=\"0 0 380.482813 248.518125\" width=\"380.482813pt\" xmlns=\"http://www.w3.org/2000/svg\" xmlns:xlink=\"http://www.w3.org/1999/xlink\">\r\n <metadata>\r\n  <rdf:RDF xmlns:cc=\"http://creativecommons.org/ns#\" xmlns:dc=\"http://purl.org/dc/elements/1.1/\" xmlns:rdf=\"http://www.w3.org/1999/02/22-rdf-syntax-ns#\">\r\n   <cc:Work>\r\n    <dc:type rdf:resource=\"http://purl.org/dc/dcmitype/StillImage\"/>\r\n    <dc:date>2021-04-27T21:01:48.686689</dc:date>\r\n    <dc:format>image/svg+xml</dc:format>\r\n    <dc:creator>\r\n     <cc:Agent>\r\n      <dc:title>Matplotlib v3.3.4, https://matplotlib.org/</dc:title>\r\n     </cc:Agent>\r\n    </dc:creator>\r\n   </cc:Work>\r\n  </rdf:RDF>\r\n </metadata>\r\n <defs>\r\n  <style type=\"text/css\">*{stroke-linecap:butt;stroke-linejoin:round;}</style>\r\n </defs>\r\n <g id=\"figure_1\">\r\n  <g id=\"patch_1\">\r\n   <path d=\"M -0 248.518125 \r\nL 380.482813 248.518125 \r\nL 380.482813 0 \r\nL -0 0 \r\nz\r\n\" style=\"fill:none;\"/>\r\n  </g>\r\n  <g id=\"axes_1\">\r\n   <g id=\"patch_2\">\r\n    <path d=\"M 38.482813 224.64 \r\nL 373.282813 224.64 \r\nL 373.282813 7.2 \r\nL 38.482813 7.2 \r\nz\r\n\" style=\"fill:#ffffff;\"/>\r\n   </g>\r\n   <g id=\"matplotlib.axis_1\">\r\n    <g id=\"xtick_1\">\r\n     <g id=\"line2d_1\">\r\n      <defs>\r\n       <path d=\"M 0 0 \r\nL 0 3.5 \r\n\" id=\"meff352bdba\" style=\"stroke:#000000;stroke-width:0.8;\"/>\r\n      </defs>\r\n      <g>\r\n       <use style=\"stroke:#000000;stroke-width:0.8;\" x=\"53.700994\" xlink:href=\"#meff352bdba\" y=\"224.64\"/>\r\n      </g>\r\n     </g>\r\n     <g id=\"text_1\">\r\n      <!-- 0 -->\r\n      <g transform=\"translate(50.519744 239.238437)scale(0.1 -0.1)\">\r\n       <defs>\r\n        <path d=\"M 31.78125 66.40625 \r\nQ 24.171875 66.40625 20.328125 58.90625 \r\nQ 16.5 51.421875 16.5 36.375 \r\nQ 16.5 21.390625 20.328125 13.890625 \r\nQ 24.171875 6.390625 31.78125 6.390625 \r\nQ 39.453125 6.390625 43.28125 13.890625 \r\nQ 47.125 21.390625 47.125 36.375 \r\nQ 47.125 51.421875 43.28125 58.90625 \r\nQ 39.453125 66.40625 31.78125 66.40625 \r\nz\r\nM 31.78125 74.21875 \r\nQ 44.046875 74.21875 50.515625 64.515625 \r\nQ 56.984375 54.828125 56.984375 36.375 \r\nQ 56.984375 17.96875 50.515625 8.265625 \r\nQ 44.046875 -1.421875 31.78125 -1.421875 \r\nQ 19.53125 -1.421875 13.0625 8.265625 \r\nQ 6.59375 17.96875 6.59375 36.375 \r\nQ 6.59375 54.828125 13.0625 64.515625 \r\nQ 19.53125 74.21875 31.78125 74.21875 \r\nz\r\n\" id=\"DejaVuSans-48\"/>\r\n       </defs>\r\n       <use xlink:href=\"#DejaVuSans-48\"/>\r\n      </g>\r\n     </g>\r\n    </g>\r\n    <g id=\"xtick_2\">\r\n     <g id=\"line2d_2\">\r\n      <g>\r\n       <use style=\"stroke:#000000;stroke-width:0.8;\" x=\"91.746449\" xlink:href=\"#meff352bdba\" y=\"224.64\"/>\r\n      </g>\r\n     </g>\r\n     <g id=\"text_2\">\r\n      <!-- 1 -->\r\n      <g transform=\"translate(88.565199 239.238437)scale(0.1 -0.1)\">\r\n       <defs>\r\n        <path d=\"M 12.40625 8.296875 \r\nL 28.515625 8.296875 \r\nL 28.515625 63.921875 \r\nL 10.984375 60.40625 \r\nL 10.984375 69.390625 \r\nL 28.421875 72.90625 \r\nL 38.28125 72.90625 \r\nL 38.28125 8.296875 \r\nL 54.390625 8.296875 \r\nL 54.390625 0 \r\nL 12.40625 0 \r\nz\r\n\" id=\"DejaVuSans-49\"/>\r\n       </defs>\r\n       <use xlink:href=\"#DejaVuSans-49\"/>\r\n      </g>\r\n     </g>\r\n    </g>\r\n    <g id=\"xtick_3\">\r\n     <g id=\"line2d_3\">\r\n      <g>\r\n       <use style=\"stroke:#000000;stroke-width:0.8;\" x=\"129.791903\" xlink:href=\"#meff352bdba\" y=\"224.64\"/>\r\n      </g>\r\n     </g>\r\n     <g id=\"text_3\">\r\n      <!-- 2 -->\r\n      <g transform=\"translate(126.610653 239.238437)scale(0.1 -0.1)\">\r\n       <defs>\r\n        <path d=\"M 19.1875 8.296875 \r\nL 53.609375 8.296875 \r\nL 53.609375 0 \r\nL 7.328125 0 \r\nL 7.328125 8.296875 \r\nQ 12.9375 14.109375 22.625 23.890625 \r\nQ 32.328125 33.6875 34.8125 36.53125 \r\nQ 39.546875 41.84375 41.421875 45.53125 \r\nQ 43.3125 49.21875 43.3125 52.78125 \r\nQ 43.3125 58.59375 39.234375 62.25 \r\nQ 35.15625 65.921875 28.609375 65.921875 \r\nQ 23.96875 65.921875 18.8125 64.3125 \r\nQ 13.671875 62.703125 7.8125 59.421875 \r\nL 7.8125 69.390625 \r\nQ 13.765625 71.78125 18.9375 73 \r\nQ 24.125 74.21875 28.421875 74.21875 \r\nQ 39.75 74.21875 46.484375 68.546875 \r\nQ 53.21875 62.890625 53.21875 53.421875 \r\nQ 53.21875 48.921875 51.53125 44.890625 \r\nQ 49.859375 40.875 45.40625 35.40625 \r\nQ 44.1875 33.984375 37.640625 27.21875 \r\nQ 31.109375 20.453125 19.1875 8.296875 \r\nz\r\n\" id=\"DejaVuSans-50\"/>\r\n       </defs>\r\n       <use xlink:href=\"#DejaVuSans-50\"/>\r\n      </g>\r\n     </g>\r\n    </g>\r\n    <g id=\"xtick_4\">\r\n     <g id=\"line2d_4\">\r\n      <g>\r\n       <use style=\"stroke:#000000;stroke-width:0.8;\" x=\"167.837358\" xlink:href=\"#meff352bdba\" y=\"224.64\"/>\r\n      </g>\r\n     </g>\r\n     <g id=\"text_4\">\r\n      <!-- 3 -->\r\n      <g transform=\"translate(164.656108 239.238437)scale(0.1 -0.1)\">\r\n       <defs>\r\n        <path d=\"M 40.578125 39.3125 \r\nQ 47.65625 37.796875 51.625 33 \r\nQ 55.609375 28.21875 55.609375 21.1875 \r\nQ 55.609375 10.40625 48.1875 4.484375 \r\nQ 40.765625 -1.421875 27.09375 -1.421875 \r\nQ 22.515625 -1.421875 17.65625 -0.515625 \r\nQ 12.796875 0.390625 7.625 2.203125 \r\nL 7.625 11.71875 \r\nQ 11.71875 9.328125 16.59375 8.109375 \r\nQ 21.484375 6.890625 26.8125 6.890625 \r\nQ 36.078125 6.890625 40.9375 10.546875 \r\nQ 45.796875 14.203125 45.796875 21.1875 \r\nQ 45.796875 27.640625 41.28125 31.265625 \r\nQ 36.765625 34.90625 28.71875 34.90625 \r\nL 20.21875 34.90625 \r\nL 20.21875 43.015625 \r\nL 29.109375 43.015625 \r\nQ 36.375 43.015625 40.234375 45.921875 \r\nQ 44.09375 48.828125 44.09375 54.296875 \r\nQ 44.09375 59.90625 40.109375 62.90625 \r\nQ 36.140625 65.921875 28.71875 65.921875 \r\nQ 24.65625 65.921875 20.015625 65.03125 \r\nQ 15.375 64.15625 9.8125 62.3125 \r\nL 9.8125 71.09375 \r\nQ 15.4375 72.65625 20.34375 73.4375 \r\nQ 25.25 74.21875 29.59375 74.21875 \r\nQ 40.828125 74.21875 47.359375 69.109375 \r\nQ 53.90625 64.015625 53.90625 55.328125 \r\nQ 53.90625 49.265625 50.4375 45.09375 \r\nQ 46.96875 40.921875 40.578125 39.3125 \r\nz\r\n\" id=\"DejaVuSans-51\"/>\r\n       </defs>\r\n       <use xlink:href=\"#DejaVuSans-51\"/>\r\n      </g>\r\n     </g>\r\n    </g>\r\n    <g id=\"xtick_5\">\r\n     <g id=\"line2d_5\">\r\n      <g>\r\n       <use style=\"stroke:#000000;stroke-width:0.8;\" x=\"205.882812\" xlink:href=\"#meff352bdba\" y=\"224.64\"/>\r\n      </g>\r\n     </g>\r\n     <g id=\"text_5\">\r\n      <!-- 4 -->\r\n      <g transform=\"translate(202.701562 239.238437)scale(0.1 -0.1)\">\r\n       <defs>\r\n        <path d=\"M 37.796875 64.3125 \r\nL 12.890625 25.390625 \r\nL 37.796875 25.390625 \r\nz\r\nM 35.203125 72.90625 \r\nL 47.609375 72.90625 \r\nL 47.609375 25.390625 \r\nL 58.015625 25.390625 \r\nL 58.015625 17.1875 \r\nL 47.609375 17.1875 \r\nL 47.609375 0 \r\nL 37.796875 0 \r\nL 37.796875 17.1875 \r\nL 4.890625 17.1875 \r\nL 4.890625 26.703125 \r\nz\r\n\" id=\"DejaVuSans-52\"/>\r\n       </defs>\r\n       <use xlink:href=\"#DejaVuSans-52\"/>\r\n      </g>\r\n     </g>\r\n    </g>\r\n    <g id=\"xtick_6\">\r\n     <g id=\"line2d_6\">\r\n      <g>\r\n       <use style=\"stroke:#000000;stroke-width:0.8;\" x=\"243.928267\" xlink:href=\"#meff352bdba\" y=\"224.64\"/>\r\n      </g>\r\n     </g>\r\n     <g id=\"text_6\">\r\n      <!-- 5 -->\r\n      <g transform=\"translate(240.747017 239.238437)scale(0.1 -0.1)\">\r\n       <defs>\r\n        <path d=\"M 10.796875 72.90625 \r\nL 49.515625 72.90625 \r\nL 49.515625 64.59375 \r\nL 19.828125 64.59375 \r\nL 19.828125 46.734375 \r\nQ 21.96875 47.46875 24.109375 47.828125 \r\nQ 26.265625 48.1875 28.421875 48.1875 \r\nQ 40.625 48.1875 47.75 41.5 \r\nQ 54.890625 34.8125 54.890625 23.390625 \r\nQ 54.890625 11.625 47.5625 5.09375 \r\nQ 40.234375 -1.421875 26.90625 -1.421875 \r\nQ 22.3125 -1.421875 17.546875 -0.640625 \r\nQ 12.796875 0.140625 7.71875 1.703125 \r\nL 7.71875 11.625 \r\nQ 12.109375 9.234375 16.796875 8.0625 \r\nQ 21.484375 6.890625 26.703125 6.890625 \r\nQ 35.15625 6.890625 40.078125 11.328125 \r\nQ 45.015625 15.765625 45.015625 23.390625 \r\nQ 45.015625 31 40.078125 35.4375 \r\nQ 35.15625 39.890625 26.703125 39.890625 \r\nQ 22.75 39.890625 18.8125 39.015625 \r\nQ 14.890625 38.140625 10.796875 36.28125 \r\nz\r\n\" id=\"DejaVuSans-53\"/>\r\n       </defs>\r\n       <use xlink:href=\"#DejaVuSans-53\"/>\r\n      </g>\r\n     </g>\r\n    </g>\r\n    <g id=\"xtick_7\">\r\n     <g id=\"line2d_7\">\r\n      <g>\r\n       <use style=\"stroke:#000000;stroke-width:0.8;\" x=\"281.973722\" xlink:href=\"#meff352bdba\" y=\"224.64\"/>\r\n      </g>\r\n     </g>\r\n     <g id=\"text_7\">\r\n      <!-- 6 -->\r\n      <g transform=\"translate(278.792472 239.238437)scale(0.1 -0.1)\">\r\n       <defs>\r\n        <path d=\"M 33.015625 40.375 \r\nQ 26.375 40.375 22.484375 35.828125 \r\nQ 18.609375 31.296875 18.609375 23.390625 \r\nQ 18.609375 15.53125 22.484375 10.953125 \r\nQ 26.375 6.390625 33.015625 6.390625 \r\nQ 39.65625 6.390625 43.53125 10.953125 \r\nQ 47.40625 15.53125 47.40625 23.390625 \r\nQ 47.40625 31.296875 43.53125 35.828125 \r\nQ 39.65625 40.375 33.015625 40.375 \r\nz\r\nM 52.59375 71.296875 \r\nL 52.59375 62.3125 \r\nQ 48.875 64.0625 45.09375 64.984375 \r\nQ 41.3125 65.921875 37.59375 65.921875 \r\nQ 27.828125 65.921875 22.671875 59.328125 \r\nQ 17.53125 52.734375 16.796875 39.40625 \r\nQ 19.671875 43.65625 24.015625 45.921875 \r\nQ 28.375 48.1875 33.59375 48.1875 \r\nQ 44.578125 48.1875 50.953125 41.515625 \r\nQ 57.328125 34.859375 57.328125 23.390625 \r\nQ 57.328125 12.15625 50.6875 5.359375 \r\nQ 44.046875 -1.421875 33.015625 -1.421875 \r\nQ 20.359375 -1.421875 13.671875 8.265625 \r\nQ 6.984375 17.96875 6.984375 36.375 \r\nQ 6.984375 53.65625 15.1875 63.9375 \r\nQ 23.390625 74.21875 37.203125 74.21875 \r\nQ 40.921875 74.21875 44.703125 73.484375 \r\nQ 48.484375 72.75 52.59375 71.296875 \r\nz\r\n\" id=\"DejaVuSans-54\"/>\r\n       </defs>\r\n       <use xlink:href=\"#DejaVuSans-54\"/>\r\n      </g>\r\n     </g>\r\n    </g>\r\n    <g id=\"xtick_8\">\r\n     <g id=\"line2d_8\">\r\n      <g>\r\n       <use style=\"stroke:#000000;stroke-width:0.8;\" x=\"320.019176\" xlink:href=\"#meff352bdba\" y=\"224.64\"/>\r\n      </g>\r\n     </g>\r\n     <g id=\"text_8\">\r\n      <!-- 7 -->\r\n      <g transform=\"translate(316.837926 239.238437)scale(0.1 -0.1)\">\r\n       <defs>\r\n        <path d=\"M 8.203125 72.90625 \r\nL 55.078125 72.90625 \r\nL 55.078125 68.703125 \r\nL 28.609375 0 \r\nL 18.3125 0 \r\nL 43.21875 64.59375 \r\nL 8.203125 64.59375 \r\nz\r\n\" id=\"DejaVuSans-55\"/>\r\n       </defs>\r\n       <use xlink:href=\"#DejaVuSans-55\"/>\r\n      </g>\r\n     </g>\r\n    </g>\r\n    <g id=\"xtick_9\">\r\n     <g id=\"line2d_9\">\r\n      <g>\r\n       <use style=\"stroke:#000000;stroke-width:0.8;\" x=\"358.064631\" xlink:href=\"#meff352bdba\" y=\"224.64\"/>\r\n      </g>\r\n     </g>\r\n     <g id=\"text_9\">\r\n      <!-- 8 -->\r\n      <g transform=\"translate(354.883381 239.238437)scale(0.1 -0.1)\">\r\n       <defs>\r\n        <path d=\"M 31.78125 34.625 \r\nQ 24.75 34.625 20.71875 30.859375 \r\nQ 16.703125 27.09375 16.703125 20.515625 \r\nQ 16.703125 13.921875 20.71875 10.15625 \r\nQ 24.75 6.390625 31.78125 6.390625 \r\nQ 38.8125 6.390625 42.859375 10.171875 \r\nQ 46.921875 13.96875 46.921875 20.515625 \r\nQ 46.921875 27.09375 42.890625 30.859375 \r\nQ 38.875 34.625 31.78125 34.625 \r\nz\r\nM 21.921875 38.8125 \r\nQ 15.578125 40.375 12.03125 44.71875 \r\nQ 8.5 49.078125 8.5 55.328125 \r\nQ 8.5 64.0625 14.71875 69.140625 \r\nQ 20.953125 74.21875 31.78125 74.21875 \r\nQ 42.671875 74.21875 48.875 69.140625 \r\nQ 55.078125 64.0625 55.078125 55.328125 \r\nQ 55.078125 49.078125 51.53125 44.71875 \r\nQ 48 40.375 41.703125 38.8125 \r\nQ 48.828125 37.15625 52.796875 32.3125 \r\nQ 56.78125 27.484375 56.78125 20.515625 \r\nQ 56.78125 9.90625 50.3125 4.234375 \r\nQ 43.84375 -1.421875 31.78125 -1.421875 \r\nQ 19.734375 -1.421875 13.25 4.234375 \r\nQ 6.78125 9.90625 6.78125 20.515625 \r\nQ 6.78125 27.484375 10.78125 32.3125 \r\nQ 14.796875 37.15625 21.921875 38.8125 \r\nz\r\nM 18.3125 54.390625 \r\nQ 18.3125 48.734375 21.84375 45.5625 \r\nQ 25.390625 42.390625 31.78125 42.390625 \r\nQ 38.140625 42.390625 41.71875 45.5625 \r\nQ 45.3125 48.734375 45.3125 54.390625 \r\nQ 45.3125 60.0625 41.71875 63.234375 \r\nQ 38.140625 66.40625 31.78125 66.40625 \r\nQ 25.390625 66.40625 21.84375 63.234375 \r\nQ 18.3125 60.0625 18.3125 54.390625 \r\nz\r\n\" id=\"DejaVuSans-56\"/>\r\n       </defs>\r\n       <use xlink:href=\"#DejaVuSans-56\"/>\r\n      </g>\r\n     </g>\r\n    </g>\r\n   </g>\r\n   <g id=\"matplotlib.axis_2\">\r\n    <g id=\"ytick_1\">\r\n     <g id=\"line2d_10\">\r\n      <defs>\r\n       <path d=\"M 0 0 \r\nL -3.5 0 \r\n\" id=\"m786cc29730\" style=\"stroke:#000000;stroke-width:0.8;\"/>\r\n      </defs>\r\n      <g>\r\n       <use style=\"stroke:#000000;stroke-width:0.8;\" x=\"38.482813\" xlink:href=\"#m786cc29730\" y=\"194.107495\"/>\r\n      </g>\r\n     </g>\r\n     <g id=\"text_10\">\r\n      <!-- −0.4 -->\r\n      <g transform=\"translate(7.2 197.906714)scale(0.1 -0.1)\">\r\n       <defs>\r\n        <path d=\"M 10.59375 35.5 \r\nL 73.1875 35.5 \r\nL 73.1875 27.203125 \r\nL 10.59375 27.203125 \r\nz\r\n\" id=\"DejaVuSans-8722\"/>\r\n        <path d=\"M 10.6875 12.40625 \r\nL 21 12.40625 \r\nL 21 0 \r\nL 10.6875 0 \r\nz\r\n\" id=\"DejaVuSans-46\"/>\r\n       </defs>\r\n       <use xlink:href=\"#DejaVuSans-8722\"/>\r\n       <use x=\"83.789062\" xlink:href=\"#DejaVuSans-48\"/>\r\n       <use x=\"147.412109\" xlink:href=\"#DejaVuSans-46\"/>\r\n       <use x=\"179.199219\" xlink:href=\"#DejaVuSans-52\"/>\r\n      </g>\r\n     </g>\r\n    </g>\r\n    <g id=\"ytick_2\">\r\n     <g id=\"line2d_11\">\r\n      <g>\r\n       <use style=\"stroke:#000000;stroke-width:0.8;\" x=\"38.482813\" xlink:href=\"#m786cc29730\" y=\"162.280796\"/>\r\n      </g>\r\n     </g>\r\n     <g id=\"text_11\">\r\n      <!-- −0.2 -->\r\n      <g transform=\"translate(7.2 166.080015)scale(0.1 -0.1)\">\r\n       <use xlink:href=\"#DejaVuSans-8722\"/>\r\n       <use x=\"83.789062\" xlink:href=\"#DejaVuSans-48\"/>\r\n       <use x=\"147.412109\" xlink:href=\"#DejaVuSans-46\"/>\r\n       <use x=\"179.199219\" xlink:href=\"#DejaVuSans-50\"/>\r\n      </g>\r\n     </g>\r\n    </g>\r\n    <g id=\"ytick_3\">\r\n     <g id=\"line2d_12\">\r\n      <g>\r\n       <use style=\"stroke:#000000;stroke-width:0.8;\" x=\"38.482813\" xlink:href=\"#m786cc29730\" y=\"130.454097\"/>\r\n      </g>\r\n     </g>\r\n     <g id=\"text_12\">\r\n      <!-- 0.0 -->\r\n      <g transform=\"translate(15.579688 134.253315)scale(0.1 -0.1)\">\r\n       <use xlink:href=\"#DejaVuSans-48\"/>\r\n       <use x=\"63.623047\" xlink:href=\"#DejaVuSans-46\"/>\r\n       <use x=\"95.410156\" xlink:href=\"#DejaVuSans-48\"/>\r\n      </g>\r\n     </g>\r\n    </g>\r\n    <g id=\"ytick_4\">\r\n     <g id=\"line2d_13\">\r\n      <g>\r\n       <use style=\"stroke:#000000;stroke-width:0.8;\" x=\"38.482813\" xlink:href=\"#m786cc29730\" y=\"98.627397\"/>\r\n      </g>\r\n     </g>\r\n     <g id=\"text_13\">\r\n      <!-- 0.2 -->\r\n      <g transform=\"translate(15.579688 102.426616)scale(0.1 -0.1)\">\r\n       <use xlink:href=\"#DejaVuSans-48\"/>\r\n       <use x=\"63.623047\" xlink:href=\"#DejaVuSans-46\"/>\r\n       <use x=\"95.410156\" xlink:href=\"#DejaVuSans-50\"/>\r\n      </g>\r\n     </g>\r\n    </g>\r\n    <g id=\"ytick_5\">\r\n     <g id=\"line2d_14\">\r\n      <g>\r\n       <use style=\"stroke:#000000;stroke-width:0.8;\" x=\"38.482813\" xlink:href=\"#m786cc29730\" y=\"66.800698\"/>\r\n      </g>\r\n     </g>\r\n     <g id=\"text_14\">\r\n      <!-- 0.4 -->\r\n      <g transform=\"translate(15.579688 70.599917)scale(0.1 -0.1)\">\r\n       <use xlink:href=\"#DejaVuSans-48\"/>\r\n       <use x=\"63.623047\" xlink:href=\"#DejaVuSans-46\"/>\r\n       <use x=\"95.410156\" xlink:href=\"#DejaVuSans-52\"/>\r\n      </g>\r\n     </g>\r\n    </g>\r\n    <g id=\"ytick_6\">\r\n     <g id=\"line2d_15\">\r\n      <g>\r\n       <use style=\"stroke:#000000;stroke-width:0.8;\" x=\"38.482813\" xlink:href=\"#m786cc29730\" y=\"34.973998\"/>\r\n      </g>\r\n     </g>\r\n     <g id=\"text_15\">\r\n      <!-- 0.6 -->\r\n      <g transform=\"translate(15.579688 38.773217)scale(0.1 -0.1)\">\r\n       <use xlink:href=\"#DejaVuSans-48\"/>\r\n       <use x=\"63.623047\" xlink:href=\"#DejaVuSans-46\"/>\r\n       <use x=\"95.410156\" xlink:href=\"#DejaVuSans-54\"/>\r\n      </g>\r\n     </g>\r\n    </g>\r\n   </g>\r\n   <g id=\"line2d_16\">\r\n    <path clip-path=\"url(#p4e129ce374)\" d=\"M 53.700994 81.13063 \r\nL 56.440267 70.219814 \r\nL 58.570813 62.661897 \r\nL 60.396994 57.029707 \r\nL 61.918813 53.032081 \r\nL 63.136267 50.335316 \r\nL 64.353722 48.113399 \r\nL 65.571176 46.387917 \r\nL 66.484267 45.429602 \r\nL 67.397358 44.764691 \r\nL 68.310449 44.396325 \r\nL 69.22354 44.32589 \r\nL 70.136631 44.553027 \r\nL 71.049722 45.075637 \r\nL 71.962812 45.889905 \r\nL 72.875903 46.990337 \r\nL 74.093358 48.890166 \r\nL 75.310812 51.264615 \r\nL 76.528267 54.087717 \r\nL 78.050085 58.200894 \r\nL 79.876267 63.902849 \r\nL 82.006812 71.441827 \r\nL 84.441722 80.939178 \r\nL 88.398449 97.445168 \r\nL 92.963903 116.307947 \r\nL 95.703176 126.660179 \r\nL 97.833722 133.908134 \r\nL 99.659903 139.452753 \r\nL 101.486085 144.322941 \r\nL 103.007903 147.84368 \r\nL 104.529722 150.869332 \r\nL 106.05154 153.405146 \r\nL 107.573358 155.466049 \r\nL 108.790813 156.788382 \r\nL 110.008267 157.837153 \r\nL 111.225722 158.630371 \r\nL 112.443176 159.188098 \r\nL 113.660631 159.531956 \r\nL 115.182449 159.695664 \r\nL 116.704267 159.60623 \r\nL 118.530449 159.228963 \r\nL 120.660994 158.513079 \r\nL 123.400267 157.328883 \r\nL 130.096267 154.325317 \r\nL 132.83554 153.404173 \r\nL 135.270449 152.839293 \r\nL 137.400994 152.566239 \r\nL 139.53154 152.509939 \r\nL 141.662085 152.671293 \r\nL 143.792631 153.043019 \r\nL 146.22754 153.705078 \r\nL 148.966813 154.706746 \r\nL 152.314813 156.189582 \r\nL 159.010813 159.239299 \r\nL 161.445722 160.083002 \r\nL 163.576267 160.59046 \r\nL 165.402449 160.814641 \r\nL 167.228631 160.820627 \r\nL 169.054812 160.59655 \r\nL 170.880994 160.142365 \r\nL 172.707176 159.470941 \r\nL 174.837722 158.448686 \r\nL 177.576994 156.857889 \r\nL 183.968631 153.006522 \r\nL 185.794813 152.183691 \r\nL 187.620994 151.612772 \r\nL 189.142812 151.37399 \r\nL 190.664631 151.383065 \r\nL 191.882085 151.585139 \r\nL 193.09954 151.97041 \r\nL 194.621358 152.718374 \r\nL 196.143176 153.766001 \r\nL 197.664994 155.109351 \r\nL 199.186813 156.736151 \r\nL 201.012994 159.033211 \r\nL 203.14354 162.124227 \r\nL 205.578449 166.070367 \r\nL 214.709358 181.363671 \r\nL 216.53554 183.805064 \r\nL 218.057358 185.513685 \r\nL 219.579176 186.871355 \r\nL 220.796631 187.672923 \r\nL 222.014085 188.19751 \r\nL 223.23154 188.4252 \r\nL 224.144631 188.390475 \r\nL 225.057722 188.172356 \r\nL 225.970813 187.765237 \r\nL 226.883903 187.164415 \r\nL 228.101358 186.055647 \r\nL 229.318812 184.58976 \r\nL 230.536267 182.7638 \r\nL 231.753722 180.578162 \r\nL 233.27554 177.346494 \r\nL 234.797358 173.574271 \r\nL 236.62354 168.368198 \r\nL 238.449722 162.47581 \r\nL 240.580267 154.834162 \r\nL 243.015176 145.269812 \r\nL 246.363176 131.136667 \r\nL 253.667903 99.95197 \r\nL 256.102813 90.59403 \r\nL 258.233358 83.229532 \r\nL 260.05954 77.663954 \r\nL 261.581358 73.621704 \r\nL 263.103176 70.166626 \r\nL 264.320631 67.847955 \r\nL 265.538085 65.939106 \r\nL 266.75554 64.448671 \r\nL 267.668631 63.60831 \r\nL 268.581722 63.00636 \r\nL 269.494813 62.641969 \r\nL 270.407903 62.513036 \r\nL 271.320994 62.616231 \r\nL 272.234085 62.947034 \r\nL 273.147176 63.499769 \r\nL 274.060267 64.26765 \r\nL 275.277722 65.612451 \r\nL 276.495176 67.304303 \r\nL 278.016994 69.869879 \r\nL 279.538813 72.886296 \r\nL 281.364994 77.017809 \r\nL 283.49554 82.402861 \r\nL 286.539176 90.791187 \r\nL 293.235176 109.4944 \r\nL 295.670085 115.49038 \r\nL 297.496267 119.455139 \r\nL 299.322449 122.865931 \r\nL 300.844267 125.232544 \r\nL 302.061722 126.790069 \r\nL 303.279176 128.034821 \r\nL 304.496631 128.957464 \r\nL 305.714085 129.552419 \r\nL 306.627176 129.782383 \r\nL 307.540267 129.827612 \r\nL 308.453358 129.689967 \r\nL 309.366449 129.372486 \r\nL 310.583903 128.676836 \r\nL 311.801358 127.682042 \r\nL 313.018813 126.404408 \r\nL 314.540631 124.439407 \r\nL 316.062449 122.106821 \r\nL 317.888631 118.892787 \r\nL 320.019176 114.691301 \r\nL 323.062813 108.153677 \r\nL 329.150085 94.975932 \r\nL 331.584994 90.307057 \r\nL 333.411176 87.214955 \r\nL 335.237358 84.546699 \r\nL 336.759176 82.684871 \r\nL 338.280994 81.177038 \r\nL 339.498449 80.23728 \r\nL 340.715903 79.540924 \r\nL 341.933358 79.091353 \r\nL 343.150813 78.889577 \r\nL 344.368267 78.934356 \r\nL 345.585722 79.222334 \r\nL 346.803176 79.748205 \r\nL 348.020631 80.504879 \r\nL 349.542449 81.761929 \r\nL 351.064267 83.345975 \r\nL 352.586085 85.234264 \r\nL 354.412267 87.866647 \r\nL 356.542813 91.384939 \r\nL 358.064631 94.153423 \r\nL 358.064631 94.153423 \r\n\" style=\"fill:none;stroke:#1f77b4;stroke-linecap:square;stroke-width:1.5;\"/>\r\n   </g>\r\n   <g id=\"line2d_17\">\r\n    <path clip-path=\"url(#p4e129ce374)\" d=\"M 53.700994 81.13063 \r\nL 56.440267 70.21984 \r\nL 58.570813 62.662294 \r\nL 60.396994 57.031335 \r\nL 61.918813 53.035984 \r\nL 63.136267 50.342248 \r\nL 64.353722 48.124753 \r\nL 65.571176 46.405376 \r\nL 66.484267 45.452916 \r\nL 67.397358 44.795087 \r\nL 68.310449 44.435146 \r\nL 69.22354 44.374605 \r\nL 70.136631 44.613238 \r\nL 71.049722 45.149094 \r\nL 71.962812 45.978536 \r\nL 72.875903 47.096272 \r\nL 74.093358 49.022923 \r\nL 75.310812 51.429148 \r\nL 76.528267 54.289877 \r\nL 78.050085 58.460007 \r\nL 79.876267 64.248317 \r\nL 82.006812 71.919596 \r\nL 84.441722 81.62101 \r\nL 88.094085 97.277276 \r\nL 93.572631 120.778789 \r\nL 96.311903 131.462446 \r\nL 98.442449 138.904676 \r\nL 100.268631 144.542924 \r\nL 102.094813 149.4107 \r\nL 103.616631 152.834045 \r\nL 105.138449 155.656022 \r\nL 106.355903 157.471789 \r\nL 107.573358 158.893218 \r\nL 108.790813 159.923844 \r\nL 109.703903 160.445142 \r\nL 110.616994 160.756381 \r\nL 111.530085 160.864235 \r\nL 112.443176 160.776797 \r\nL 113.356267 160.503529 \r\nL 114.573722 159.868901 \r\nL 115.791176 158.952114 \r\nL 117.312994 157.459055 \r\nL 118.834812 155.646003 \r\nL 120.965358 152.71546 \r\nL 128.878813 141.329582 \r\nL 130.400631 139.646615 \r\nL 131.922449 138.277017 \r\nL 133.139903 137.435528 \r\nL 134.357358 136.837226 \r\nL 135.574813 136.492142 \r\nL 136.792267 136.404569 \r\nL 138.009722 136.573014 \r\nL 139.227176 136.990265 \r\nL 140.444631 137.643609 \r\nL 141.966449 138.764583 \r\nL 143.488267 140.18101 \r\nL 145.314449 142.192917 \r\nL 148.053722 145.618891 \r\nL 152.619176 151.420188 \r\nL 154.749722 153.742683 \r\nL 156.575903 155.375286 \r\nL 158.097722 156.429345 \r\nL 159.61954 157.175353 \r\nL 160.836994 157.540165 \r\nL 162.054449 157.696721 \r\nL 163.271903 157.64866 \r\nL 164.489358 157.404626 \r\nL 166.011176 156.844748 \r\nL 167.532994 156.035202 \r\nL 169.359176 154.797018 \r\nL 171.794085 152.842719 \r\nL 176.968267 148.564757 \r\nL 178.794449 147.344746 \r\nL 180.316267 146.549911 \r\nL 181.838085 146.001538 \r\nL 183.05554 145.763432 \r\nL 184.272994 145.718647 \r\nL 185.490449 145.877348 \r\nL 186.707903 146.246195 \r\nL 187.925358 146.828383 \r\nL 189.142812 147.62376 \r\nL 190.664631 148.912409 \r\nL 192.186449 150.515745 \r\nL 194.012631 152.827252 \r\nL 195.838813 155.519107 \r\nL 197.969358 159.067583 \r\nL 200.708631 164.120843 \r\nL 205.274085 173.157713 \r\nL 209.230813 180.815561 \r\nL 211.665722 185.079057 \r\nL 213.796267 188.350227 \r\nL 215.622449 190.716034 \r\nL 217.144267 192.322654 \r\nL 218.361722 193.340255 \r\nL 219.579176 194.099141 \r\nL 220.796631 194.58165 \r\nL 222.014085 194.771788 \r\nL 222.927176 194.71398 \r\nL 223.840267 194.478613 \r\nL 224.753358 194.061297 \r\nL 225.970813 193.215766 \r\nL 227.188267 192.034402 \r\nL 228.405722 190.514042 \r\nL 229.623176 188.654639 \r\nL 231.144994 185.858811 \r\nL 232.666812 182.552157 \r\nL 234.492994 177.941486 \r\nL 236.319176 172.681253 \r\nL 238.449722 165.81828 \r\nL 240.884631 157.189184 \r\nL 244.232631 144.397849 \r\nL 251.537358 116.171725 \r\nL 253.972267 107.744336 \r\nL 256.102813 101.148906 \r\nL 257.928994 96.202249 \r\nL 259.450813 92.644363 \r\nL 260.972631 89.643418 \r\nL 262.190085 87.665564 \r\nL 263.40754 86.077119 \r\nL 264.624994 84.886339 \r\nL 265.538085 84.256887 \r\nL 266.451176 83.85377 \r\nL 267.364267 83.675867 \r\nL 268.277358 83.720712 \r\nL 269.190449 83.984499 \r\nL 270.10354 84.462085 \r\nL 271.016631 85.147012 \r\nL 272.234085 86.369207 \r\nL 273.45154 87.924279 \r\nL 274.973358 90.296916 \r\nL 276.495176 93.091821 \r\nL 278.321358 96.91069 \r\nL 280.756267 102.583918 \r\nL 289.278449 123.106157 \r\nL 291.104631 126.720766 \r\nL 292.626449 129.318224 \r\nL 294.148267 131.479789 \r\nL 295.365722 132.864736 \r\nL 296.583176 133.923881 \r\nL 297.800631 134.643953 \r\nL 298.713722 134.956221 \r\nL 299.626813 135.071133 \r\nL 300.539903 134.988455 \r\nL 301.452994 134.709463 \r\nL 302.366085 134.236912 \r\nL 303.58354 133.313179 \r\nL 304.800994 132.066573 \r\nL 306.018449 130.514704 \r\nL 307.540267 128.178169 \r\nL 309.062085 125.446108 \r\nL 310.888267 121.722296 \r\nL 313.323176 116.170621 \r\nL 316.671176 107.878868 \r\nL 322.454085 93.519657 \r\nL 324.888994 88.045459 \r\nL 327.01954 83.736858 \r\nL 328.845722 80.470451 \r\nL 330.671903 77.641883 \r\nL 332.193722 75.64127 \r\nL 333.71554 73.97776 \r\nL 335.237358 72.658608 \r\nL 336.454813 71.853304 \r\nL 337.672267 71.2699 \r\nL 338.889722 70.906388 \r\nL 340.107176 70.759238 \r\nL 341.324631 70.823456 \r\nL 342.542085 71.092623 \r\nL 343.75954 71.558945 \r\nL 345.281358 72.405043 \r\nL 346.803176 73.524096 \r\nL 348.629358 75.193583 \r\nL 350.45554 77.175249 \r\nL 352.586085 79.812464 \r\nL 355.325358 83.579284 \r\nL 358.064631 87.582641 \r\nL 358.064631 87.582641 \r\n\" style=\"fill:none;stroke:#ff7f0e;stroke-linecap:square;stroke-width:1.5;\"/>\r\n   </g>\r\n   <g id=\"line2d_18\">\r\n    <path clip-path=\"url(#p4e129ce374)\" d=\"M 53.700994 81.13063 \r\nL 54.005358 81.13063 \r\nL 56.744631 70.347713 \r\nL 58.875176 62.887365 \r\nL 60.701358 57.337682 \r\nL 62.223176 53.408364 \r\nL 63.440631 50.766226 \r\nL 64.658085 48.599179 \r\nL 65.87554 46.929077 \r\nL 66.788631 46.012802 \r\nL 67.701722 45.390501 \r\nL 68.614812 45.065438 \r\nL 69.527903 45.039121 \r\nL 70.440994 45.311303 \r\nL 71.354085 45.879995 \r\nL 72.267176 46.741479 \r\nL 73.180267 47.890347 \r\nL 74.397722 49.856782 \r\nL 75.615176 52.300268 \r\nL 76.832631 55.194913 \r\nL 78.354449 59.401063 \r\nL 80.180631 65.219661 \r\nL 82.311176 72.901126 \r\nL 84.746085 82.568291 \r\nL 88.702813 99.35944 \r\nL 93.268267 118.548179 \r\nL 96.00754 129.083696 \r\nL 98.138085 136.462692 \r\nL 99.964267 142.10894 \r\nL 101.790449 147.068716 \r\nL 103.312267 150.653432 \r\nL 104.834085 153.73209 \r\nL 106.355903 156.308822 \r\nL 107.877722 158.397487 \r\nL 109.095176 159.731919 \r\nL 110.312631 160.783335 \r\nL 111.530085 161.569368 \r\nL 112.74754 162.10983 \r\nL 113.964994 162.426158 \r\nL 115.182449 162.540958 \r\nL 116.704267 162.436689 \r\nL 118.226085 162.100167 \r\nL 120.052267 161.453785 \r\nL 122.182813 160.460357 \r\nL 125.835176 158.456591 \r\nL 130.096267 156.156059 \r\nL 132.83554 154.931401 \r\nL 135.270449 154.100382 \r\nL 137.400994 153.605091 \r\nL 139.53154 153.341376 \r\nL 141.662085 153.312995 \r\nL 143.792631 153.513774 \r\nL 145.923176 153.927552 \r\nL 148.358085 154.62705 \r\nL 151.401722 155.757421 \r\nL 159.923903 159.121422 \r\nL 162.054449 159.658739 \r\nL 163.880631 159.923309 \r\nL 165.706813 159.973749 \r\nL 167.532994 159.787486 \r\nL 169.359176 159.352597 \r\nL 171.185358 158.669373 \r\nL 173.01154 157.751382 \r\nL 175.142085 156.420609 \r\nL 177.881358 154.403295 \r\nL 184.881722 149.051777 \r\nL 186.707903 147.978606 \r\nL 188.229722 147.291275 \r\nL 189.75154 146.831553 \r\nL 191.273358 146.631301 \r\nL 192.490813 146.675469 \r\nL 193.708267 146.912336 \r\nL 194.925722 147.348807 \r\nL 196.143176 147.988503 \r\nL 197.664994 149.073919 \r\nL 199.186813 150.469845 \r\nL 200.708631 152.160765 \r\nL 202.534812 154.545528 \r\nL 204.665358 157.746975 \r\nL 207.404631 162.351103 \r\nL 215.318085 176.04837 \r\nL 217.144267 178.677837 \r\nL 218.666085 180.556621 \r\nL 220.187903 182.092684 \r\nL 221.405358 183.040296 \r\nL 222.622813 183.71171 \r\nL 223.840267 184.085077 \r\nL 224.753358 184.157731 \r\nL 225.666449 184.044543 \r\nL 226.57954 183.739193 \r\nL 227.492631 183.236329 \r\nL 228.405722 182.531612 \r\nL 229.623176 181.272416 \r\nL 230.840631 179.643756 \r\nL 232.058085 177.644353 \r\nL 233.579903 174.627702 \r\nL 235.101722 171.048587 \r\nL 236.62354 166.929035 \r\nL 238.449722 161.316672 \r\nL 240.580267 153.937842 \r\nL 243.015176 144.585354 \r\nL 246.058813 131.897801 \r\nL 255.189722 93.078311 \r\nL 257.624631 84.105595 \r\nL 259.450813 78.128089 \r\nL 261.276994 72.914291 \r\nL 262.798813 69.218155 \r\nL 264.320631 66.157144 \r\nL 265.538085 64.187841 \r\nL 266.75554 62.658078 \r\nL 267.668631 61.804067 \r\nL 268.581722 61.203517 \r\nL 269.494813 60.856788 \r\nL 270.407903 60.762875 \r\nL 271.320994 60.91948 \r\nL 272.234085 61.322982 \r\nL 273.147176 61.968454 \r\nL 274.060267 62.849737 \r\nL 275.277722 64.378699 \r\nL 276.495176 66.293013 \r\nL 278.016994 69.190796 \r\nL 279.538813 72.598912 \r\nL 281.364994 77.276263 \r\nL 283.49554 83.395502 \r\nL 286.234813 92.000119 \r\nL 294.452631 118.424669 \r\nL 296.583176 124.38348 \r\nL 298.409358 128.916712 \r\nL 300.23554 132.8212 \r\nL 301.757358 135.539146 \r\nL 302.974813 137.337417 \r\nL 304.192267 138.786784 \r\nL 305.409722 139.878043 \r\nL 306.322813 140.458257 \r\nL 307.235903 140.833455 \r\nL 308.148994 141.004316 \r\nL 309.062085 140.972837 \r\nL 309.975176 140.742279 \r\nL 310.888267 140.317128 \r\nL 312.105722 139.45759 \r\nL 313.323176 138.279068 \r\nL 314.540631 136.801626 \r\nL 316.062449 134.570026 \r\nL 317.584267 131.959001 \r\nL 319.410449 128.405282 \r\nL 321.845358 123.129564 \r\nL 325.802085 113.891853 \r\nL 329.758813 104.835112 \r\nL 332.193722 99.812969 \r\nL 334.019903 96.479114 \r\nL 335.846085 93.597792 \r\nL 337.367903 91.585179 \r\nL 338.889722 89.954284 \r\nL 340.107176 88.937681 \r\nL 341.324631 88.184627 \r\nL 342.542085 87.69904 \r\nL 343.75954 87.482112 \r\nL 344.976994 87.532428 \r\nL 346.194449 87.846118 \r\nL 347.411903 88.417092 \r\nL 348.629358 89.237092 \r\nL 349.846812 90.296026 \r\nL 351.368631 91.937657 \r\nL 352.890449 93.90814 \r\nL 354.716631 96.666198 \r\nL 356.847176 100.358744 \r\nL 358.064631 102.666278 \r\nL 358.064631 102.666278 \r\n\" style=\"fill:none;stroke:#2ca02c;stroke-linecap:square;stroke-width:1.5;\"/>\r\n   </g>\r\n   <g id=\"line2d_19\">\r\n    <path clip-path=\"url(#p4e129ce374)\" d=\"M 53.700994 81.13063 \r\nL 54.005358 81.13063 \r\nL 56.744631 70.347772 \r\nL 58.875176 62.887979 \r\nL 60.701358 57.33992 \r\nL 62.223176 53.413446 \r\nL 63.440631 50.774992 \r\nL 64.658085 48.613233 \r\nL 65.87554 46.95035 \r\nL 66.788631 46.040955 \r\nL 67.701722 45.426945 \r\nL 68.614812 45.111727 \r\nL 69.527903 45.096959 \r\nL 70.440994 45.382563 \r\nL 71.354085 45.966732 \r\nL 72.267176 46.845967 \r\nL 73.180267 48.015106 \r\nL 74.397722 50.013002 \r\nL 75.615176 52.493786 \r\nL 76.832631 55.43258 \r\nL 78.354449 59.705406 \r\nL 80.180631 65.624538 \r\nL 82.311176 73.458531 \r\nL 84.746085 83.357591 \r\nL 88.398449 99.325882 \r\nL 93.876994 123.290568 \r\nL 96.616267 134.179621 \r\nL 98.746813 141.758818 \r\nL 100.572994 147.493954 \r\nL 102.094813 151.670646 \r\nL 103.616631 155.258623 \r\nL 105.138449 158.230815 \r\nL 106.355903 160.154225 \r\nL 107.573358 161.670551 \r\nL 108.790813 162.781975 \r\nL 109.703903 163.353897 \r\nL 110.616994 163.706719 \r\nL 111.530085 163.846729 \r\nL 112.443176 163.78169 \r\nL 113.356267 163.520793 \r\nL 114.573722 162.886706 \r\nL 115.791176 161.951928 \r\nL 117.008631 160.748742 \r\nL 118.530449 158.921744 \r\nL 120.356631 156.355757 \r\nL 123.095903 152.034637 \r\nL 127.661358 144.768995 \r\nL 129.791903 141.847891 \r\nL 131.313722 140.088053 \r\nL 132.83554 138.658349 \r\nL 134.052994 137.778118 \r\nL 135.270449 137.146898 \r\nL 136.487903 136.772284 \r\nL 137.705358 136.656085 \r\nL 138.922813 136.794325 \r\nL 140.140267 137.177419 \r\nL 141.357722 137.790433 \r\nL 142.87954 138.849246 \r\nL 144.401358 140.187388 \r\nL 146.22754 142.080558 \r\nL 148.966813 145.272723 \r\nL 152.92354 149.89166 \r\nL 155.054085 152.025677 \r\nL 156.880267 153.507087 \r\nL 158.402085 154.441105 \r\nL 159.61954 154.970255 \r\nL 160.836994 155.295442 \r\nL 162.054449 155.412731 \r\nL 163.271903 155.323294 \r\nL 164.489358 155.033246 \r\nL 166.011176 154.405528 \r\nL 167.532994 153.512326 \r\nL 169.359176 152.146822 \r\nL 171.489722 150.255251 \r\nL 179.098813 143.160679 \r\nL 180.924994 141.905214 \r\nL 182.446812 141.118061 \r\nL 183.968631 140.604201 \r\nL 185.186085 140.408523 \r\nL 186.40354 140.415691 \r\nL 187.620994 140.632659 \r\nL 188.838449 141.06308 \r\nL 190.055903 141.707406 \r\nL 191.577722 142.809375 \r\nL 193.09954 144.229865 \r\nL 194.621358 145.951041 \r\nL 196.44754 148.379877 \r\nL 198.578085 151.65025 \r\nL 201.012994 155.847098 \r\nL 204.360994 162.130101 \r\nL 210.448267 173.642897 \r\nL 212.883176 177.733125 \r\nL 214.709358 180.426831 \r\nL 216.53554 182.711353 \r\nL 218.057358 184.247621 \r\nL 219.274813 185.206171 \r\nL 220.492267 185.90291 \r\nL 221.709722 186.31978 \r\nL 222.622813 186.438947 \r\nL 223.535903 186.385421 \r\nL 224.448994 186.153823 \r\nL 225.362085 185.739607 \r\nL 226.57954 184.896948 \r\nL 227.796994 183.716744 \r\nL 229.014449 182.195685 \r\nL 230.231903 180.333687 \r\nL 231.753722 177.532025 \r\nL 233.27554 174.216948 \r\nL 234.797358 170.410998 \r\nL 236.62354 165.240278 \r\nL 238.754085 158.465175 \r\nL 241.188994 149.914484 \r\nL 244.536994 137.197214 \r\nL 251.841722 109.090042 \r\nL 254.276631 100.73658 \r\nL 256.407176 94.242746 \r\nL 258.233358 89.420565 \r\nL 259.755176 85.998655 \r\nL 261.276994 83.167365 \r\nL 262.494449 81.351967 \r\nL 263.711903 79.951538 \r\nL 264.624994 79.17946 \r\nL 265.538085 78.64871 \r\nL 266.451176 78.360309 \r\nL 267.364267 78.313832 \r\nL 268.277358 78.507393 \r\nL 269.190449 78.937648 \r\nL 270.10354 79.599793 \r\nL 271.320994 80.832395 \r\nL 272.538449 82.447364 \r\nL 273.755903 84.42171 \r\nL 275.277722 87.353392 \r\nL 277.103903 91.46967 \r\nL 279.234449 96.94186 \r\nL 281.973722 104.700768 \r\nL 288.669722 124.078261 \r\nL 290.800267 129.47351 \r\nL 292.626449 133.517277 \r\nL 294.148267 136.39342 \r\nL 295.670085 138.764815 \r\nL 296.88754 140.270653 \r\nL 298.104994 141.411542 \r\nL 299.018085 142.021195 \r\nL 299.931176 142.416982 \r\nL 300.844267 142.597945 \r\nL 301.757358 142.564716 \r\nL 302.670449 142.319489 \r\nL 303.58354 141.865976 \r\nL 304.496631 141.209349 \r\nL 305.714085 140.029424 \r\nL 306.93154 138.519353 \r\nL 308.453358 136.202653 \r\nL 309.975176 133.457891 \r\nL 311.801358 129.681694 \r\nL 313.931903 124.750998 \r\nL 316.97554 117.080186 \r\nL 323.367176 100.796091 \r\nL 325.802085 95.267029 \r\nL 327.932631 90.98745 \r\nL 329.758813 87.816578 \r\nL 331.280631 85.563761 \r\nL 332.802449 83.688584 \r\nL 334.324267 82.206326 \r\nL 335.541722 81.309705 \r\nL 336.759176 80.672279 \r\nL 337.976631 80.293443 \r\nL 339.194085 80.170235 \r\nL 340.41154 80.297454 \r\nL 341.628994 80.667724 \r\nL 342.846449 81.271558 \r\nL 344.063903 82.097496 \r\nL 345.585722 83.421746 \r\nL 347.10754 85.042146 \r\nL 348.933722 87.329717 \r\nL 351.064267 90.38914 \r\nL 353.80354 94.766708 \r\nL 358.064631 102.008114 \r\nL 358.064631 102.008114 \r\n\" style=\"fill:none;stroke:#d62728;stroke-linecap:square;stroke-width:1.5;\"/>\r\n   </g>\r\n   <g id=\"line2d_20\">\r\n    <path clip-path=\"url(#p4e129ce374)\" d=\"M 53.700994 81.13063 \r\nL 54.005358 81.13063 \r\nL 56.744631 70.347713 \r\nL 58.875176 62.887365 \r\nL 60.701358 57.337682 \r\nL 62.223176 53.408364 \r\nL 63.440631 50.766226 \r\nL 64.658085 48.599179 \r\nL 65.87554 46.929077 \r\nL 66.788631 46.012801 \r\nL 67.701722 45.390501 \r\nL 68.614812 45.065437 \r\nL 69.527903 45.039119 \r\nL 70.440994 45.311301 \r\nL 71.354085 45.879991 \r\nL 72.267176 46.741475 \r\nL 73.180267 47.890343 \r\nL 74.397722 49.856777 \r\nL 75.615176 52.30026 \r\nL 76.832631 55.194901 \r\nL 78.354449 59.401051 \r\nL 80.180631 65.219642 \r\nL 82.311176 72.901107 \r\nL 84.746085 82.568264 \r\nL 88.702813 99.359407 \r\nL 93.268267 118.548167 \r\nL 96.00754 129.083687 \r\nL 98.138085 136.462682 \r\nL 99.964267 142.10893 \r\nL 101.790449 147.068705 \r\nL 103.312267 150.653418 \r\nL 104.834085 153.732081 \r\nL 106.355903 156.308813 \r\nL 107.877722 158.397485 \r\nL 109.095176 159.731916 \r\nL 110.312631 160.783327 \r\nL 111.530085 161.569368 \r\nL 112.74754 162.109827 \r\nL 113.964994 162.426148 \r\nL 115.182449 162.540957 \r\nL 116.704267 162.436688 \r\nL 118.226085 162.10015 \r\nL 120.052267 161.453778 \r\nL 122.182813 160.460351 \r\nL 125.835176 158.456581 \r\nL 130.096267 156.156056 \r\nL 132.83554 154.931376 \r\nL 135.270449 154.10037 \r\nL 137.400994 153.605087 \r\nL 139.53154 153.34137 \r\nL 141.662085 153.312993 \r\nL 143.792631 153.51377 \r\nL 145.923176 153.927551 \r\nL 148.358085 154.627051 \r\nL 151.401722 155.757417 \r\nL 159.923903 159.121433 \r\nL 162.054449 159.65875 \r\nL 163.880631 159.923321 \r\nL 165.706813 159.973763 \r\nL 167.532994 159.787504 \r\nL 169.359176 159.352613 \r\nL 171.185358 158.669393 \r\nL 173.01154 157.751399 \r\nL 175.142085 156.420632 \r\nL 177.881358 154.403321 \r\nL 184.881722 149.051815 \r\nL 186.707903 147.978655 \r\nL 188.229722 147.291315 \r\nL 189.75154 146.831597 \r\nL 191.273358 146.631349 \r\nL 192.490813 146.675517 \r\nL 193.708267 146.912387 \r\nL 194.925722 147.348862 \r\nL 196.143176 147.988563 \r\nL 197.664994 149.073989 \r\nL 199.186813 150.469913 \r\nL 200.708631 152.16084 \r\nL 202.534812 154.54562 \r\nL 204.665358 157.747069 \r\nL 207.404631 162.3512 \r\nL 215.318085 176.048486 \r\nL 217.144267 178.677952 \r\nL 218.666085 180.556731 \r\nL 220.187903 182.092785 \r\nL 221.405358 183.040384 \r\nL 222.622813 183.711798 \r\nL 223.840267 184.085163 \r\nL 224.753358 184.157809 \r\nL 225.666449 184.044609 \r\nL 226.57954 183.739254 \r\nL 227.492631 183.23639 \r\nL 228.405722 182.531665 \r\nL 229.623176 181.272459 \r\nL 230.840631 179.643793 \r\nL 232.058085 177.644381 \r\nL 233.579903 174.627725 \r\nL 235.101722 171.048599 \r\nL 236.62354 166.929031 \r\nL 238.449722 161.316653 \r\nL 240.580267 153.937808 \r\nL 243.015176 144.5853 \r\nL 246.058813 131.897735 \r\nL 255.189722 93.078149 \r\nL 257.624631 84.105438 \r\nL 259.450813 78.127888 \r\nL 261.276994 72.914109 \r\nL 262.798813 69.217968 \r\nL 264.320631 66.156963 \r\nL 265.538085 64.187659 \r\nL 266.75554 62.657902 \r\nL 267.668631 61.803899 \r\nL 268.581722 61.203346 \r\nL 269.494813 60.856609 \r\nL 270.407903 60.762706 \r\nL 271.320994 60.919321 \r\nL 272.234085 61.322824 \r\nL 273.147176 61.968301 \r\nL 274.060267 62.849592 \r\nL 275.277722 64.378563 \r\nL 276.495176 66.292877 \r\nL 278.016994 69.190676 \r\nL 279.538813 72.598801 \r\nL 281.364994 77.276164 \r\nL 283.49554 83.395413 \r\nL 286.234813 92.000045 \r\nL 294.452631 118.424614 \r\nL 296.583176 124.383431 \r\nL 298.409358 128.916668 \r\nL 300.23554 132.821153 \r\nL 301.757358 135.5391 \r\nL 302.974813 137.337369 \r\nL 304.192267 138.786736 \r\nL 305.409722 139.877992 \r\nL 306.322813 140.458199 \r\nL 307.235903 140.833392 \r\nL 308.148994 141.004258 \r\nL 309.062085 140.972779 \r\nL 309.975176 140.742213 \r\nL 310.888267 140.317059 \r\nL 312.105722 139.457518 \r\nL 313.323176 138.27899 \r\nL 314.540631 136.801544 \r\nL 316.062449 134.569943 \r\nL 317.584267 131.958905 \r\nL 319.410449 128.40518 \r\nL 321.845358 123.129453 \r\nL 325.802085 113.891731 \r\nL 329.758813 104.834979 \r\nL 332.193722 99.812831 \r\nL 334.019903 96.478976 \r\nL 335.846085 93.597655 \r\nL 337.367903 91.585045 \r\nL 338.889722 89.954153 \r\nL 340.107176 88.937547 \r\nL 341.324631 88.184498 \r\nL 342.542085 87.698914 \r\nL 343.75954 87.481984 \r\nL 344.976994 87.532303 \r\nL 346.194449 87.846015 \r\nL 347.411903 88.416985 \r\nL 348.629358 89.236992 \r\nL 349.846812 90.295935 \r\nL 351.368631 91.937574 \r\nL 352.890449 93.908068 \r\nL 354.716631 96.666132 \r\nL 356.847176 100.358696 \r\nL 358.064631 102.66623 \r\nL 358.064631 102.66623 \r\n\" style=\"fill:none;stroke:#9467bd;stroke-linecap:square;stroke-width:1.5;\"/>\r\n   </g>\r\n   <g id=\"line2d_21\">\r\n    <path clip-path=\"url(#p4e129ce374)\" d=\"M 53.700994 81.13063 \r\nL 54.005358 81.13063 \r\nL 56.744631 70.347772 \r\nL 58.875176 62.887979 \r\nL 60.701358 57.33992 \r\nL 62.223176 53.413446 \r\nL 63.440631 50.774992 \r\nL 64.658085 48.613233 \r\nL 65.87554 46.95035 \r\nL 66.788631 46.040955 \r\nL 67.701722 45.426945 \r\nL 68.614812 45.111726 \r\nL 69.527903 45.096959 \r\nL 70.440994 45.382562 \r\nL 71.354085 45.966732 \r\nL 72.267176 46.845966 \r\nL 73.180267 48.015105 \r\nL 74.397722 50.013 \r\nL 75.615176 52.493784 \r\nL 76.832631 55.432577 \r\nL 78.354449 59.705403 \r\nL 80.180631 65.624535 \r\nL 82.311176 73.458528 \r\nL 84.746085 83.35759 \r\nL 88.398449 99.325885 \r\nL 93.876994 123.29058 \r\nL 96.616267 134.179623 \r\nL 98.746813 141.758826 \r\nL 100.572994 147.493965 \r\nL 102.094813 151.67066 \r\nL 103.616631 155.258637 \r\nL 105.138449 158.23083 \r\nL 106.355903 160.154244 \r\nL 107.573358 161.670571 \r\nL 108.790813 162.781996 \r\nL 109.703903 163.35392 \r\nL 110.616994 163.706744 \r\nL 111.530085 163.846754 \r\nL 112.443176 163.781716 \r\nL 113.356267 163.520821 \r\nL 114.573722 162.886737 \r\nL 115.791176 161.95196 \r\nL 117.008631 160.748776 \r\nL 118.530449 158.921776 \r\nL 120.356631 156.355788 \r\nL 123.095903 152.034673 \r\nL 127.661358 144.769028 \r\nL 129.791903 141.847918 \r\nL 131.313722 140.088091 \r\nL 132.83554 138.658386 \r\nL 134.052994 137.778158 \r\nL 135.270449 137.146941 \r\nL 136.487903 136.772331 \r\nL 137.705358 136.656135 \r\nL 138.922813 136.794387 \r\nL 140.140267 137.177492 \r\nL 141.357722 137.790503 \r\nL 142.87954 138.849319 \r\nL 144.401358 140.187466 \r\nL 146.22754 142.08064 \r\nL 148.966813 145.27281 \r\nL 152.92354 149.891749 \r\nL 155.054085 152.025762 \r\nL 156.880267 153.507175 \r\nL 158.402085 154.441193 \r\nL 159.61954 154.970342 \r\nL 160.836994 155.295528 \r\nL 162.054449 155.412816 \r\nL 163.271903 155.32337 \r\nL 164.489358 155.033318 \r\nL 166.011176 154.405605 \r\nL 167.532994 153.512399 \r\nL 169.359176 152.146897 \r\nL 171.489722 150.255335 \r\nL 179.098813 143.160775 \r\nL 180.924994 141.905316 \r\nL 182.446812 141.118173 \r\nL 183.968631 140.604324 \r\nL 185.186085 140.408654 \r\nL 186.40354 140.415829 \r\nL 187.620994 140.632805 \r\nL 188.838449 141.063239 \r\nL 190.055903 141.707582 \r\nL 191.577722 142.809558 \r\nL 193.09954 144.230063 \r\nL 194.621358 145.951269 \r\nL 196.44754 148.380113 \r\nL 198.578085 151.650493 \r\nL 201.012994 155.847361 \r\nL 204.360994 162.130392 \r\nL 210.448267 173.643214 \r\nL 212.883176 177.733466 \r\nL 214.709358 180.427162 \r\nL 216.53554 182.711684 \r\nL 218.057358 184.247943 \r\nL 219.274813 185.206492 \r\nL 220.492267 185.903243 \r\nL 221.709722 186.320123 \r\nL 222.622813 186.439274 \r\nL 223.535903 186.385736 \r\nL 224.448994 186.154149 \r\nL 225.362085 185.739939 \r\nL 226.57954 184.897257 \r\nL 227.796994 183.717034 \r\nL 229.014449 182.195962 \r\nL 230.231903 180.333945 \r\nL 231.753722 177.532259 \r\nL 233.27554 174.217156 \r\nL 234.797358 170.411181 \r\nL 236.62354 165.240436 \r\nL 238.754085 158.465317 \r\nL 241.188994 149.914577 \r\nL 244.536994 137.197238 \r\nL 251.841722 109.089929 \r\nL 254.276631 100.736427 \r\nL 256.407176 94.242572 \r\nL 258.233358 89.42038 \r\nL 259.755176 85.998447 \r\nL 261.276994 83.167151 \r\nL 262.494449 81.35176 \r\nL 263.711903 79.951317 \r\nL 264.624994 79.179234 \r\nL 265.538085 78.648486 \r\nL 266.451176 78.360087 \r\nL 267.364267 78.313607 \r\nL 268.277358 78.507164 \r\nL 269.190449 78.937414 \r\nL 270.10354 79.599562 \r\nL 271.320994 80.83218 \r\nL 272.538449 82.447148 \r\nL 273.755903 84.421494 \r\nL 275.277722 87.353191 \r\nL 277.103903 91.469481 \r\nL 279.234449 96.941687 \r\nL 281.973722 104.700616 \r\nL 288.669722 124.078141 \r\nL 290.800267 129.473397 \r\nL 292.626449 133.517159 \r\nL 294.148267 136.393297 \r\nL 295.670085 138.764689 \r\nL 296.88754 140.270518 \r\nL 298.104994 141.411399 \r\nL 299.018085 142.021045 \r\nL 299.931176 142.416824 \r\nL 300.844267 142.597778 \r\nL 301.757358 142.564539 \r\nL 302.670449 142.319303 \r\nL 303.58354 141.86578 \r\nL 304.496631 141.209142 \r\nL 305.714085 140.029199 \r\nL 306.93154 138.51911 \r\nL 308.453358 136.202397 \r\nL 309.975176 133.45761 \r\nL 311.801358 129.681388 \r\nL 313.931903 124.75066 \r\nL 316.97554 117.079803 \r\nL 323.367176 100.795625 \r\nL 325.802085 95.266539 \r\nL 327.932631 90.98694 \r\nL 329.758813 87.816051 \r\nL 331.280631 85.563216 \r\nL 332.802449 83.688018 \r\nL 334.324267 82.205749 \r\nL 335.541722 81.309119 \r\nL 336.759176 80.671677 \r\nL 337.976631 80.292822 \r\nL 339.194085 80.169606 \r\nL 340.41154 80.296821 \r\nL 341.628994 80.66708 \r\nL 342.846449 81.270907 \r\nL 344.063903 82.096838 \r\nL 345.585722 83.421084 \r\nL 347.10754 85.041478 \r\nL 348.933722 87.329045 \r\nL 351.064267 90.388443 \r\nL 353.80354 94.766014 \r\nL 358.064631 102.007467 \r\nL 358.064631 102.007467 \r\n\" style=\"fill:none;stroke:#8c564b;stroke-linecap:square;stroke-width:1.5;\"/>\r\n   </g>\r\n   <g id=\"line2d_22\">\r\n    <path clip-path=\"url(#p4e129ce374)\" d=\"M 53.700994 56.024313 \r\nL 56.135903 44.500019 \r\nL 57.962085 36.846227 \r\nL 59.483903 31.265777 \r\nL 61.005722 26.510749 \r\nL 62.223176 23.35528 \r\nL 63.440631 20.813782 \r\nL 64.353722 19.327535 \r\nL 65.266813 18.21165 \r\nL 66.179903 17.473176 \r\nL 66.788631 17.193006 \r\nL 67.397358 17.083636 \r\nL 68.006085 17.145491 \r\nL 68.614812 17.378545 \r\nL 69.527903 18.047979 \r\nL 70.440994 19.097993 \r\nL 71.354085 20.52291 \r\nL 72.267176 22.314879 \r\nL 73.484631 25.25762 \r\nL 74.702085 28.805716 \r\nL 76.223903 34.037803 \r\nL 77.745722 40.079034 \r\nL 79.571903 48.264465 \r\nL 81.702449 58.874496 \r\nL 84.441722 73.706377 \r\nL 93.268267 122.553164 \r\nL 95.703176 134.22959 \r\nL 97.529358 142.017826 \r\nL 99.35554 148.846005 \r\nL 100.877358 153.74049 \r\nL 102.399176 157.875653 \r\nL 103.616631 160.624534 \r\nL 104.834085 162.873499 \r\nL 106.05154 164.626432 \r\nL 106.964631 165.621291 \r\nL 107.877722 166.348773 \r\nL 108.790813 166.816847 \r\nL 109.703903 167.035122 \r\nL 110.616994 167.014751 \r\nL 111.530085 166.768327 \r\nL 112.443176 166.309766 \r\nL 113.660631 165.394646 \r\nL 114.878085 164.168118 \r\nL 116.399903 162.260514 \r\nL 118.226085 159.535908 \r\nL 120.660994 155.418056 \r\nL 126.443903 145.421855 \r\nL 128.270085 142.741753 \r\nL 129.791903 140.835629 \r\nL 131.313722 139.284282 \r\nL 132.531176 138.327557 \r\nL 133.748631 137.641805 \r\nL 134.966085 137.238729 \r\nL 136.18354 137.125137 \r\nL 137.400994 137.302939 \r\nL 138.618449 137.769209 \r\nL 139.835903 138.516321 \r\nL 141.053358 139.532149 \r\nL 142.575176 141.154515 \r\nL 144.096994 143.130449 \r\nL 145.923176 145.899034 \r\nL 148.053722 149.552609 \r\nL 151.401722 155.811364 \r\nL 155.358449 163.155602 \r\nL 157.488994 166.709307 \r\nL 159.315176 169.375528 \r\nL 160.836994 171.266375 \r\nL 162.358812 172.815341 \r\nL 163.576267 173.788791 \r\nL 164.793722 174.514892 \r\nL 166.011176 174.987906 \r\nL 167.228631 175.206499 \r\nL 168.446085 175.173762 \r\nL 169.66354 174.897183 \r\nL 170.880994 174.388538 \r\nL 172.098449 173.663722 \r\nL 173.620267 172.48419 \r\nL 175.446449 170.729955 \r\nL 177.576994 168.337182 \r\nL 185.186085 159.405691 \r\nL 186.707903 158.057943 \r\nL 188.229722 157.009237 \r\nL 189.447176 156.42329 \r\nL 190.664631 156.0896 \r\nL 191.882085 156.029592 \r\nL 193.09954 156.260669 \r\nL 194.316994 156.795862 \r\nL 195.534449 157.643533 \r\nL 196.751903 158.807148 \r\nL 197.969358 160.285116 \r\nL 199.186813 162.070694 \r\nL 200.708631 164.716602 \r\nL 202.230449 167.789672 \r\nL 204.056631 171.974839 \r\nL 206.187176 177.412266 \r\nL 209.535176 186.692947 \r\nL 213.796267 198.48609 \r\nL 215.926813 203.767349 \r\nL 217.752994 207.690887 \r\nL 219.274813 210.410468 \r\nL 220.492267 212.162458 \r\nL 221.709722 213.492764 \r\nL 222.622813 214.190972 \r\nL 223.535903 214.616438 \r\nL 224.448994 214.756364 \r\nL 225.362085 214.599558 \r\nL 226.275176 214.136539 \r\nL 227.188267 213.359623 \r\nL 228.101358 212.262999 \r\nL 229.014449 210.842802 \r\nL 230.231903 208.442922 \r\nL 231.449358 205.465889 \r\nL 232.666812 201.919397 \r\nL 234.188631 196.707752 \r\nL 235.710449 190.670905 \r\nL 237.536631 182.418897 \r\nL 239.667176 171.564268 \r\nL 242.102085 157.846221 \r\nL 245.450085 137.479125 \r\nL 251.841722 98.172886 \r\nL 254.276631 84.628021 \r\nL 256.407176 74.025568 \r\nL 258.233358 66.09038 \r\nL 259.755176 60.40616 \r\nL 261.276994 55.642624 \r\nL 262.494449 52.532772 \r\nL 263.711903 50.069346 \r\nL 264.624994 48.654788 \r\nL 265.538085 47.615326 \r\nL 266.451176 46.952047 \r\nL 267.059903 46.718355 \r\nL 267.668631 46.650455 \r\nL 268.277358 46.746985 \r\nL 268.886085 47.006138 \r\nL 269.799176 47.694766 \r\nL 270.712267 48.734776 \r\nL 271.625358 50.114681 \r\nL 272.842813 52.459616 \r\nL 274.060267 55.347139 \r\nL 275.582085 59.653398 \r\nL 277.103903 64.644318 \r\nL 278.930085 71.386873 \r\nL 281.364994 81.323776 \r\nL 290.495903 119.805142 \r\nL 292.322085 126.181763 \r\nL 293.843903 130.838067 \r\nL 295.365722 134.808402 \r\nL 296.583176 137.444433 \r\nL 297.800631 139.569407 \r\nL 298.713722 140.814464 \r\nL 299.626813 141.752997 \r\nL 300.539903 142.380405 \r\nL 301.452994 142.694219 \r\nL 302.366085 142.694106 \r\nL 303.279176 142.381848 \r\nL 304.192267 141.761318 \r\nL 305.105358 140.838435 \r\nL 306.018449 139.621106 \r\nL 307.235903 137.557216 \r\nL 308.453358 135.015853 \r\nL 309.975176 131.219496 \r\nL 311.496994 126.806509 \r\nL 313.323176 120.819734 \r\nL 315.758085 111.939447 \r\nL 319.410449 97.568745 \r\nL 323.67154 80.990841 \r\nL 326.106449 72.427097 \r\nL 327.932631 66.720864 \r\nL 329.758813 61.771511 \r\nL 331.280631 58.300191 \r\nL 332.498085 55.984526 \r\nL 333.71554 54.098175 \r\nL 334.932994 52.65298 \r\nL 335.846085 51.862576 \r\nL 336.759176 51.324563 \r\nL 337.672267 51.037811 \r\nL 338.585358 50.999493 \r\nL 339.498449 51.205138 \r\nL 340.41154 51.648689 \r\nL 341.324631 52.322576 \r\nL 342.542085 53.563645 \r\nL 343.75954 55.173064 \r\nL 344.976994 57.122063 \r\nL 346.498812 59.986713 \r\nL 348.324994 63.961281 \r\nL 350.45554 69.176163 \r\nL 353.499176 77.299742 \r\nL 358.064631 89.745316 \r\nL 358.064631 89.745316 \r\n\" style=\"fill:none;stroke:#e377c2;stroke-linecap:square;stroke-width:1.5;\"/>\r\n   </g>\r\n   <g id=\"patch_3\">\r\n    <path d=\"M 38.482813 224.64 \r\nL 38.482813 7.2 \r\n\" style=\"fill:none;stroke:#000000;stroke-linecap:square;stroke-linejoin:miter;stroke-width:0.8;\"/>\r\n   </g>\r\n   <g id=\"patch_4\">\r\n    <path d=\"M 373.282813 224.64 \r\nL 373.282813 7.2 \r\n\" style=\"fill:none;stroke:#000000;stroke-linecap:square;stroke-linejoin:miter;stroke-width:0.8;\"/>\r\n   </g>\r\n   <g id=\"patch_5\">\r\n    <path d=\"M 38.482813 224.64 \r\nL 373.282813 224.64 \r\n\" style=\"fill:none;stroke:#000000;stroke-linecap:square;stroke-linejoin:miter;stroke-width:0.8;\"/>\r\n   </g>\r\n   <g id=\"patch_6\">\r\n    <path d=\"M 38.482813 7.2 \r\nL 373.282813 7.2 \r\n\" style=\"fill:none;stroke:#000000;stroke-linecap:square;stroke-linejoin:miter;stroke-width:0.8;\"/>\r\n   </g>\r\n   <g id=\"legend_1\">\r\n    <g id=\"patch_7\">\r\n     <path d=\"M 164.464844 117.946875 \r\nL 247.300781 117.946875 \r\nQ 249.300781 117.946875 249.300781 115.946875 \r\nL 249.300781 14.2 \r\nQ 249.300781 12.2 247.300781 12.2 \r\nL 164.464844 12.2 \r\nQ 162.464844 12.2 162.464844 14.2 \r\nL 162.464844 115.946875 \r\nQ 162.464844 117.946875 164.464844 117.946875 \r\nz\r\n\" style=\"fill:#ffffff;opacity:0.8;stroke:#cccccc;stroke-linejoin:miter;\"/>\r\n    </g>\r\n    <g id=\"line2d_23\">\r\n     <path d=\"M 166.464844 20.298437 \r\nL 186.464844 20.298437 \r\n\" style=\"fill:none;stroke:#1f77b4;stroke-linecap:square;stroke-width:1.5;\"/>\r\n    </g>\r\n    <g id=\"line2d_24\"/>\r\n    <g id=\"text_16\">\r\n     <!-- TTQS K=3 -->\r\n     <g transform=\"translate(194.464844 23.798437)scale(0.1 -0.1)\">\r\n      <defs>\r\n       <path d=\"M -0.296875 72.90625 \r\nL 61.375 72.90625 \r\nL 61.375 64.59375 \r\nL 35.5 64.59375 \r\nL 35.5 0 \r\nL 25.59375 0 \r\nL 25.59375 64.59375 \r\nL -0.296875 64.59375 \r\nz\r\n\" id=\"DejaVuSans-84\"/>\r\n       <path d=\"M 39.40625 66.21875 \r\nQ 28.65625 66.21875 22.328125 58.203125 \r\nQ 16.015625 50.203125 16.015625 36.375 \r\nQ 16.015625 22.609375 22.328125 14.59375 \r\nQ 28.65625 6.59375 39.40625 6.59375 \r\nQ 50.140625 6.59375 56.421875 14.59375 \r\nQ 62.703125 22.609375 62.703125 36.375 \r\nQ 62.703125 50.203125 56.421875 58.203125 \r\nQ 50.140625 66.21875 39.40625 66.21875 \r\nz\r\nM 53.21875 1.3125 \r\nL 66.21875 -12.890625 \r\nL 54.296875 -12.890625 \r\nL 43.5 -1.21875 \r\nQ 41.890625 -1.3125 41.03125 -1.359375 \r\nQ 40.1875 -1.421875 39.40625 -1.421875 \r\nQ 24.03125 -1.421875 14.8125 8.859375 \r\nQ 5.609375 19.140625 5.609375 36.375 \r\nQ 5.609375 53.65625 14.8125 63.9375 \r\nQ 24.03125 74.21875 39.40625 74.21875 \r\nQ 54.734375 74.21875 63.90625 63.9375 \r\nQ 73.09375 53.65625 73.09375 36.375 \r\nQ 73.09375 23.6875 67.984375 14.640625 \r\nQ 62.890625 5.609375 53.21875 1.3125 \r\nz\r\n\" id=\"DejaVuSans-81\"/>\r\n       <path d=\"M 53.515625 70.515625 \r\nL 53.515625 60.890625 \r\nQ 47.90625 63.578125 42.921875 64.890625 \r\nQ 37.9375 66.21875 33.296875 66.21875 \r\nQ 25.25 66.21875 20.875 63.09375 \r\nQ 16.5 59.96875 16.5 54.203125 \r\nQ 16.5 49.359375 19.40625 46.890625 \r\nQ 22.3125 44.4375 30.421875 42.921875 \r\nL 36.375 41.703125 \r\nQ 47.40625 39.59375 52.65625 34.296875 \r\nQ 57.90625 29 57.90625 20.125 \r\nQ 57.90625 9.515625 50.796875 4.046875 \r\nQ 43.703125 -1.421875 29.984375 -1.421875 \r\nQ 24.8125 -1.421875 18.96875 -0.25 \r\nQ 13.140625 0.921875 6.890625 3.21875 \r\nL 6.890625 13.375 \r\nQ 12.890625 10.015625 18.65625 8.296875 \r\nQ 24.421875 6.59375 29.984375 6.59375 \r\nQ 38.421875 6.59375 43.015625 9.90625 \r\nQ 47.609375 13.234375 47.609375 19.390625 \r\nQ 47.609375 24.75 44.3125 27.78125 \r\nQ 41.015625 30.8125 33.5 32.328125 \r\nL 27.484375 33.5 \r\nQ 16.453125 35.6875 11.515625 40.375 \r\nQ 6.59375 45.0625 6.59375 53.421875 \r\nQ 6.59375 63.09375 13.40625 68.65625 \r\nQ 20.21875 74.21875 32.171875 74.21875 \r\nQ 37.3125 74.21875 42.625 73.28125 \r\nQ 47.953125 72.359375 53.515625 70.515625 \r\nz\r\n\" id=\"DejaVuSans-83\"/>\r\n       <path id=\"DejaVuSans-32\"/>\r\n       <path d=\"M 9.8125 72.90625 \r\nL 19.671875 72.90625 \r\nL 19.671875 42.09375 \r\nL 52.390625 72.90625 \r\nL 65.09375 72.90625 \r\nL 28.90625 38.921875 \r\nL 67.671875 0 \r\nL 54.6875 0 \r\nL 19.671875 35.109375 \r\nL 19.671875 0 \r\nL 9.8125 0 \r\nz\r\n\" id=\"DejaVuSans-75\"/>\r\n       <path d=\"M 10.59375 45.40625 \r\nL 73.1875 45.40625 \r\nL 73.1875 37.203125 \r\nL 10.59375 37.203125 \r\nz\r\nM 10.59375 25.484375 \r\nL 73.1875 25.484375 \r\nL 73.1875 17.1875 \r\nL 10.59375 17.1875 \r\nz\r\n\" id=\"DejaVuSans-61\"/>\r\n      </defs>\r\n      <use xlink:href=\"#DejaVuSans-84\"/>\r\n      <use x=\"59.333984\" xlink:href=\"#DejaVuSans-84\"/>\r\n      <use x=\"120.417969\" xlink:href=\"#DejaVuSans-81\"/>\r\n      <use x=\"199.128906\" xlink:href=\"#DejaVuSans-83\"/>\r\n      <use x=\"262.605469\" xlink:href=\"#DejaVuSans-32\"/>\r\n      <use x=\"294.392578\" xlink:href=\"#DejaVuSans-75\"/>\r\n      <use x=\"359.96875\" xlink:href=\"#DejaVuSans-61\"/>\r\n      <use x=\"443.757812\" xlink:href=\"#DejaVuSans-51\"/>\r\n     </g>\r\n    </g>\r\n    <g id=\"line2d_25\">\r\n     <path d=\"M 166.464844 34.976562 \r\nL 186.464844 34.976562 \r\n\" style=\"fill:none;stroke:#ff7f0e;stroke-linecap:square;stroke-width:1.5;\"/>\r\n    </g>\r\n    <g id=\"line2d_26\"/>\r\n    <g id=\"text_17\">\r\n     <!-- TTQS K=4 -->\r\n     <g transform=\"translate(194.464844 38.476562)scale(0.1 -0.1)\">\r\n      <use xlink:href=\"#DejaVuSans-84\"/>\r\n      <use x=\"59.333984\" xlink:href=\"#DejaVuSans-84\"/>\r\n      <use x=\"120.417969\" xlink:href=\"#DejaVuSans-81\"/>\r\n      <use x=\"199.128906\" xlink:href=\"#DejaVuSans-83\"/>\r\n      <use x=\"262.605469\" xlink:href=\"#DejaVuSans-32\"/>\r\n      <use x=\"294.392578\" xlink:href=\"#DejaVuSans-75\"/>\r\n      <use x=\"359.96875\" xlink:href=\"#DejaVuSans-61\"/>\r\n      <use x=\"443.757812\" xlink:href=\"#DejaVuSans-52\"/>\r\n     </g>\r\n    </g>\r\n    <g id=\"line2d_27\">\r\n     <path d=\"M 166.464844 49.654687 \r\nL 186.464844 49.654687 \r\n\" style=\"fill:none;stroke:#2ca02c;stroke-linecap:square;stroke-width:1.5;\"/>\r\n    </g>\r\n    <g id=\"line2d_28\"/>\r\n    <g id=\"text_18\">\r\n     <!-- QAS K=3 -->\r\n     <g transform=\"translate(194.464844 53.154687)scale(0.1 -0.1)\">\r\n      <defs>\r\n       <path d=\"M 34.1875 63.1875 \r\nL 20.796875 26.90625 \r\nL 47.609375 26.90625 \r\nz\r\nM 28.609375 72.90625 \r\nL 39.796875 72.90625 \r\nL 67.578125 0 \r\nL 57.328125 0 \r\nL 50.6875 18.703125 \r\nL 17.828125 18.703125 \r\nL 11.1875 0 \r\nL 0.78125 0 \r\nz\r\n\" id=\"DejaVuSans-65\"/>\r\n      </defs>\r\n      <use xlink:href=\"#DejaVuSans-81\"/>\r\n      <use x=\"78.710938\" xlink:href=\"#DejaVuSans-65\"/>\r\n      <use x=\"147.119141\" xlink:href=\"#DejaVuSans-83\"/>\r\n      <use x=\"210.595703\" xlink:href=\"#DejaVuSans-32\"/>\r\n      <use x=\"242.382812\" xlink:href=\"#DejaVuSans-75\"/>\r\n      <use x=\"307.958984\" xlink:href=\"#DejaVuSans-61\"/>\r\n      <use x=\"391.748047\" xlink:href=\"#DejaVuSans-51\"/>\r\n     </g>\r\n    </g>\r\n    <g id=\"line2d_29\">\r\n     <path d=\"M 166.464844 64.332812 \r\nL 186.464844 64.332812 \r\n\" style=\"fill:none;stroke:#d62728;stroke-linecap:square;stroke-width:1.5;\"/>\r\n    </g>\r\n    <g id=\"line2d_30\"/>\r\n    <g id=\"text_19\">\r\n     <!-- QAS K=4 -->\r\n     <g transform=\"translate(194.464844 67.832812)scale(0.1 -0.1)\">\r\n      <use xlink:href=\"#DejaVuSans-81\"/>\r\n      <use x=\"78.710938\" xlink:href=\"#DejaVuSans-65\"/>\r\n      <use x=\"147.119141\" xlink:href=\"#DejaVuSans-83\"/>\r\n      <use x=\"210.595703\" xlink:href=\"#DejaVuSans-32\"/>\r\n      <use x=\"242.382812\" xlink:href=\"#DejaVuSans-75\"/>\r\n      <use x=\"307.958984\" xlink:href=\"#DejaVuSans-61\"/>\r\n      <use x=\"391.748047\" xlink:href=\"#DejaVuSans-52\"/>\r\n     </g>\r\n    </g>\r\n    <g id=\"line2d_31\">\r\n     <path d=\"M 166.464844 79.010937 \r\nL 186.464844 79.010937 \r\n\" style=\"fill:none;stroke:#9467bd;stroke-linecap:square;stroke-width:1.5;\"/>\r\n    </g>\r\n    <g id=\"line2d_32\"/>\r\n    <g id=\"text_20\">\r\n     <!-- CQFF K=3 -->\r\n     <g transform=\"translate(194.464844 82.510937)scale(0.1 -0.1)\">\r\n      <defs>\r\n       <path d=\"M 64.40625 67.28125 \r\nL 64.40625 56.890625 \r\nQ 59.421875 61.53125 53.78125 63.8125 \r\nQ 48.140625 66.109375 41.796875 66.109375 \r\nQ 29.296875 66.109375 22.65625 58.46875 \r\nQ 16.015625 50.828125 16.015625 36.375 \r\nQ 16.015625 21.96875 22.65625 14.328125 \r\nQ 29.296875 6.6875 41.796875 6.6875 \r\nQ 48.140625 6.6875 53.78125 8.984375 \r\nQ 59.421875 11.28125 64.40625 15.921875 \r\nL 64.40625 5.609375 \r\nQ 59.234375 2.09375 53.4375 0.328125 \r\nQ 47.65625 -1.421875 41.21875 -1.421875 \r\nQ 24.65625 -1.421875 15.125 8.703125 \r\nQ 5.609375 18.84375 5.609375 36.375 \r\nQ 5.609375 53.953125 15.125 64.078125 \r\nQ 24.65625 74.21875 41.21875 74.21875 \r\nQ 47.75 74.21875 53.53125 72.484375 \r\nQ 59.328125 70.75 64.40625 67.28125 \r\nz\r\n\" id=\"DejaVuSans-67\"/>\r\n       <path d=\"M 9.8125 72.90625 \r\nL 51.703125 72.90625 \r\nL 51.703125 64.59375 \r\nL 19.671875 64.59375 \r\nL 19.671875 43.109375 \r\nL 48.578125 43.109375 \r\nL 48.578125 34.8125 \r\nL 19.671875 34.8125 \r\nL 19.671875 0 \r\nL 9.8125 0 \r\nz\r\n\" id=\"DejaVuSans-70\"/>\r\n      </defs>\r\n      <use xlink:href=\"#DejaVuSans-67\"/>\r\n      <use x=\"69.824219\" xlink:href=\"#DejaVuSans-81\"/>\r\n      <use x=\"148.535156\" xlink:href=\"#DejaVuSans-70\"/>\r\n      <use x=\"206.054688\" xlink:href=\"#DejaVuSans-70\"/>\r\n      <use x=\"263.574219\" xlink:href=\"#DejaVuSans-32\"/>\r\n      <use x=\"295.361328\" xlink:href=\"#DejaVuSans-75\"/>\r\n      <use x=\"360.9375\" xlink:href=\"#DejaVuSans-61\"/>\r\n      <use x=\"444.726562\" xlink:href=\"#DejaVuSans-51\"/>\r\n     </g>\r\n    </g>\r\n    <g id=\"line2d_33\">\r\n     <path d=\"M 166.464844 93.689062 \r\nL 186.464844 93.689062 \r\n\" style=\"fill:none;stroke:#8c564b;stroke-linecap:square;stroke-width:1.5;\"/>\r\n    </g>\r\n    <g id=\"line2d_34\"/>\r\n    <g id=\"text_21\">\r\n     <!-- CQFF K=4 -->\r\n     <g transform=\"translate(194.464844 97.189062)scale(0.1 -0.1)\">\r\n      <use xlink:href=\"#DejaVuSans-67\"/>\r\n      <use x=\"69.824219\" xlink:href=\"#DejaVuSans-81\"/>\r\n      <use x=\"148.535156\" xlink:href=\"#DejaVuSans-70\"/>\r\n      <use x=\"206.054688\" xlink:href=\"#DejaVuSans-70\"/>\r\n      <use x=\"263.574219\" xlink:href=\"#DejaVuSans-32\"/>\r\n      <use x=\"295.361328\" xlink:href=\"#DejaVuSans-75\"/>\r\n      <use x=\"360.9375\" xlink:href=\"#DejaVuSans-61\"/>\r\n      <use x=\"444.726562\" xlink:href=\"#DejaVuSans-52\"/>\r\n     </g>\r\n    </g>\r\n    <g id=\"line2d_35\">\r\n     <path d=\"M 166.464844 108.367187 \r\nL 186.464844 108.367187 \r\n\" style=\"fill:none;stroke:#e377c2;stroke-linecap:square;stroke-width:1.5;\"/>\r\n    </g>\r\n    <g id=\"line2d_36\"/>\r\n    <g id=\"text_22\">\r\n     <!-- Classical -->\r\n     <g transform=\"translate(194.464844 111.867187)scale(0.1 -0.1)\">\r\n      <defs>\r\n       <path d=\"M 9.421875 75.984375 \r\nL 18.40625 75.984375 \r\nL 18.40625 0 \r\nL 9.421875 0 \r\nz\r\n\" id=\"DejaVuSans-108\"/>\r\n       <path d=\"M 34.28125 27.484375 \r\nQ 23.390625 27.484375 19.1875 25 \r\nQ 14.984375 22.515625 14.984375 16.5 \r\nQ 14.984375 11.71875 18.140625 8.90625 \r\nQ 21.296875 6.109375 26.703125 6.109375 \r\nQ 34.1875 6.109375 38.703125 11.40625 \r\nQ 43.21875 16.703125 43.21875 25.484375 \r\nL 43.21875 27.484375 \r\nz\r\nM 52.203125 31.203125 \r\nL 52.203125 0 \r\nL 43.21875 0 \r\nL 43.21875 8.296875 \r\nQ 40.140625 3.328125 35.546875 0.953125 \r\nQ 30.953125 -1.421875 24.3125 -1.421875 \r\nQ 15.921875 -1.421875 10.953125 3.296875 \r\nQ 6 8.015625 6 15.921875 \r\nQ 6 25.140625 12.171875 29.828125 \r\nQ 18.359375 34.515625 30.609375 34.515625 \r\nL 43.21875 34.515625 \r\nL 43.21875 35.40625 \r\nQ 43.21875 41.609375 39.140625 45 \r\nQ 35.0625 48.390625 27.6875 48.390625 \r\nQ 23 48.390625 18.546875 47.265625 \r\nQ 14.109375 46.140625 10.015625 43.890625 \r\nL 10.015625 52.203125 \r\nQ 14.9375 54.109375 19.578125 55.046875 \r\nQ 24.21875 56 28.609375 56 \r\nQ 40.484375 56 46.34375 49.84375 \r\nQ 52.203125 43.703125 52.203125 31.203125 \r\nz\r\n\" id=\"DejaVuSans-97\"/>\r\n       <path d=\"M 44.28125 53.078125 \r\nL 44.28125 44.578125 \r\nQ 40.484375 46.53125 36.375 47.5 \r\nQ 32.28125 48.484375 27.875 48.484375 \r\nQ 21.1875 48.484375 17.84375 46.4375 \r\nQ 14.5 44.390625 14.5 40.28125 \r\nQ 14.5 37.15625 16.890625 35.375 \r\nQ 19.28125 33.59375 26.515625 31.984375 \r\nL 29.59375 31.296875 \r\nQ 39.15625 29.25 43.1875 25.515625 \r\nQ 47.21875 21.78125 47.21875 15.09375 \r\nQ 47.21875 7.46875 41.1875 3.015625 \r\nQ 35.15625 -1.421875 24.609375 -1.421875 \r\nQ 20.21875 -1.421875 15.453125 -0.5625 \r\nQ 10.6875 0.296875 5.421875 2 \r\nL 5.421875 11.28125 \r\nQ 10.40625 8.6875 15.234375 7.390625 \r\nQ 20.0625 6.109375 24.8125 6.109375 \r\nQ 31.15625 6.109375 34.5625 8.28125 \r\nQ 37.984375 10.453125 37.984375 14.40625 \r\nQ 37.984375 18.0625 35.515625 20.015625 \r\nQ 33.0625 21.96875 24.703125 23.78125 \r\nL 21.578125 24.515625 \r\nQ 13.234375 26.265625 9.515625 29.90625 \r\nQ 5.8125 33.546875 5.8125 39.890625 \r\nQ 5.8125 47.609375 11.28125 51.796875 \r\nQ 16.75 56 26.8125 56 \r\nQ 31.78125 56 36.171875 55.265625 \r\nQ 40.578125 54.546875 44.28125 53.078125 \r\nz\r\n\" id=\"DejaVuSans-115\"/>\r\n       <path d=\"M 9.421875 54.6875 \r\nL 18.40625 54.6875 \r\nL 18.40625 0 \r\nL 9.421875 0 \r\nz\r\nM 9.421875 75.984375 \r\nL 18.40625 75.984375 \r\nL 18.40625 64.59375 \r\nL 9.421875 64.59375 \r\nz\r\n\" id=\"DejaVuSans-105\"/>\r\n       <path d=\"M 48.78125 52.59375 \r\nL 48.78125 44.1875 \r\nQ 44.96875 46.296875 41.140625 47.34375 \r\nQ 37.3125 48.390625 33.40625 48.390625 \r\nQ 24.65625 48.390625 19.8125 42.84375 \r\nQ 14.984375 37.3125 14.984375 27.296875 \r\nQ 14.984375 17.28125 19.8125 11.734375 \r\nQ 24.65625 6.203125 33.40625 6.203125 \r\nQ 37.3125 6.203125 41.140625 7.25 \r\nQ 44.96875 8.296875 48.78125 10.40625 \r\nL 48.78125 2.09375 \r\nQ 45.015625 0.34375 40.984375 -0.53125 \r\nQ 36.96875 -1.421875 32.421875 -1.421875 \r\nQ 20.0625 -1.421875 12.78125 6.34375 \r\nQ 5.515625 14.109375 5.515625 27.296875 \r\nQ 5.515625 40.671875 12.859375 48.328125 \r\nQ 20.21875 56 33.015625 56 \r\nQ 37.15625 56 41.109375 55.140625 \r\nQ 45.0625 54.296875 48.78125 52.59375 \r\nz\r\n\" id=\"DejaVuSans-99\"/>\r\n      </defs>\r\n      <use xlink:href=\"#DejaVuSans-67\"/>\r\n      <use x=\"69.824219\" xlink:href=\"#DejaVuSans-108\"/>\r\n      <use x=\"97.607422\" xlink:href=\"#DejaVuSans-97\"/>\r\n      <use x=\"158.886719\" xlink:href=\"#DejaVuSans-115\"/>\r\n      <use x=\"210.986328\" xlink:href=\"#DejaVuSans-115\"/>\r\n      <use x=\"263.085938\" xlink:href=\"#DejaVuSans-105\"/>\r\n      <use x=\"290.869141\" xlink:href=\"#DejaVuSans-99\"/>\r\n      <use x=\"345.849609\" xlink:href=\"#DejaVuSans-97\"/>\r\n      <use x=\"407.128906\" xlink:href=\"#DejaVuSans-108\"/>\r\n     </g>\r\n    </g>\r\n   </g>\r\n  </g>\r\n </g>\r\n <defs>\r\n  <clipPath id=\"p4e129ce374\">\r\n   <rect height=\"217.44\" width=\"334.8\" x=\"38.482813\" y=\"7.2\"/>\r\n  </clipPath>\r\n </defs>\r\n</svg>\r\n",
      "image/png": "[encoded data removed]"
     },
     "metadata": {
      "needs_background": "light"
     }
    }
   ],
   "source": [
    "#What Ks we want to plot\n",
    "whatK = [3,4]\n",
    "\n",
    "#Here, we can either evaluate the O matrix classically, or with qiskit circuits\n",
    "\n",
    "#Plotting results for TTQS\n",
    "# plotp.QS_plotter_forobservable(num_qubits,finalresultsTTQS,times,whatK,'TTQS',observable,initial_state, evalmethod = \"matrix_multiplication\")\n",
    "plotp.QS_plotter_forobservable(num_qubits,finalresultsTTQS,times,whatK,'TTQS',observable,initial_state, evalmethod = \"qiskit_circuits\", expectation_calculator = expectation_calculator)\n",
    "\n",
    "#Plotting results for QAS\n",
    "# plotp.QS_plotter_forobservable(num_qubits,finalresultsQAS,times,whatK,'QAS',observable,initial_state, evalmethod = \"matrix_multiplication\")\n",
    "plotp.QS_plotter_forobservable(num_qubits,finalresultsQAS,times,whatK,'QAS',observable,initial_state, evalmethod = \"qiskit_circuits\", expectation_calculator = expectation_calculator)\n",
    "\n",
    "#Plotting results for CQFF\n",
    "# plotp.QS_plotter_forobservable(num_qubits,finalresultsCQFF,times,whatK,'CQFF',observable,initial_state, evalmethod = \"matrix_multiplication\")\n",
    "plotp.QS_plotter_forobservable(num_qubits,finalresultsCQFF,times,whatK,'CQFF',observable,initial_state, evalmethod = \"qiskit_circuits\", expectation_calculator = expectation_calculator)\n",
    "\n",
    "#Plotting classical result\n",
    "observablematrix = observable.to_matrixform()\n",
    "classicalresult = cS_instance.get_expectations_observables(observablematrix)\n",
    "plotp.CS_plotter_forobservable(times,classicalresult)\n",
    "\n",
    "#Show plot\n",
    "plotp.show_plot()"
   ]
  },
  {
   "source": [
    "### Saving calculated expectation values for future use\n",
    "\n",
    "After all of the computation on the QM com, we can store the computed expectation values on the QM com like this:\n",
    "\n",
    "Just uncomment the commented out lines in the cell below to try"
   ],
   "cell_type": "markdown",
   "metadata": {}
  },
  {
   "cell_type": "code",
   "execution_count": 11,
   "metadata": {},
   "outputs": [],
   "source": [
    "import os \n",
    "from datetime import datetime\n",
    "import pickle\n",
    "\n",
    "#%% General helpful functions\n",
    "if not os.path.exists('obj'):\n",
    "    os.mkdir('obj')\n",
    "\n",
    "def save_obj(obj, name):\n",
    "    #name is a string\n",
    "    with open('obj/'+ name + '.pkl', 'wb') as f:\n",
    "        pickle.dump(obj, f, pickle.HIGHEST_PROTOCOL)\n",
    "\n",
    "def load_obj(name):\n",
    "    #name is a string\n",
    "    with open('obj/' + name + '.pkl', 'rb') as f:\n",
    "        return pickle.load(f)\n",
    "\n",
    "#Uncomment the chunk of code below to try the saving\n",
    "# now = datetime.now() # datetime object containing current date and time\n",
    "# dt_string = now.strftime(\"%d-%m-%Y %H_%M_%S\")\n",
    "# save_obj(expectation_calculator, \"expectation_calculator_\" + dt_string) #feel free to use a different filename."
   ]
  },
  {
   "source": [
    "We can also load the expectation_calculator by using the load_obj function. An example is shown below:"
   ],
   "cell_type": "markdown",
   "metadata": {}
  },
  {
   "source": [
    "# expectation_calculator = load_obj(FILENAME_WITHOUT_pkl_EXTENSION)"
   ],
   "cell_type": "code",
   "metadata": {},
   "execution_count": 12,
   "outputs": []
  }
 ],
 "metadata": {
  "kernelspec": {
   "name": "python386jvsc74a57bd08557eb2d945500c3fe1ea6bd9d8b4e53c2488d2239ec048fbb749f12145f17d1",
   "display_name": "Python 3.8.6 64-bit"
  },
  "language_info": {
   "codemirror_mode": {
    "name": "ipython",
    "version": 3
   },
   "file_extension": ".py",
   "mimetype": "text/x-python",
   "name": "python",
   "nbconvert_exporter": "python",
   "pygments_lexer": "ipython3",
   "version": "3.8.6"
  }
 },
 "nbformat": 4,
 "nbformat_minor": 5
}